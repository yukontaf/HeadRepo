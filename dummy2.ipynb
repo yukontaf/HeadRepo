{
 "cells": [
  {
   "cell_type": "code",
   "execution_count": 1,
   "metadata": {},
   "outputs": [
    {
     "data": {
      "text/plain": [
       "'1-jNrmU_x4l0pIKwbVIkItfrHQM6Dyxld'"
      ]
     },
     "execution_count": 1,
     "metadata": {},
     "output_type": "execute_result"
    }
   ],
   "source": [
    "url = 'https://drive.google.com/drive/folders/1-jNrmU_x4l0pIKwbVIkItfrHQM6Dyxld?usp=sharing'\n",
    "url = url.replace('https://drive.google.com/drive/folders/','')\n",
    "url = url.replace('?usp=sharing', '')\n",
    "url = url.replace('https://drive.google.com/file/d/','')\n",
    "url = url.replace('/view?usp=sharing', '')\n",
    "url"
   ]
  },
  {
   "cell_type": "code",
   "execution_count": 2,
   "metadata": {},
   "outputs": [],
   "source": [
    "import os\n",
    "import shutil\n",
    "fname = '/Users/glebsokolov/Dropbox/Archive'\n",
    "foldername = os.path.basename(fname)\n"
   ]
  },
  {
   "cell_type": "code",
   "execution_count": 14,
   "metadata": {},
   "outputs": [
    {
     "ename": "KeyboardInterrupt",
     "evalue": "",
     "output_type": "error",
     "traceback": [
      "\u001b[0;31m---------------------------------------------------------------------------\u001b[0m",
      "\u001b[0;31mOSError\u001b[0m                                   Traceback (most recent call last)",
      "File \u001b[0;32m/opt/local/Library/Frameworks/Python.framework/Versions/3.10/lib/python3.10/shutil.py:815\u001b[0m, in \u001b[0;36mmove\u001b[0;34m(src, dst, copy_function)\u001b[0m\n\u001b[1;32m    814\u001b[0m \u001b[39mtry\u001b[39;00m:\n\u001b[0;32m--> 815\u001b[0m     os\u001b[39m.\u001b[39;49mrename(src, real_dst)\n\u001b[1;32m    816\u001b[0m \u001b[39mexcept\u001b[39;00m \u001b[39mOSError\u001b[39;00m:\n",
      "\u001b[0;31mOSError\u001b[0m: [Errno 18] Cross-device link: '/Users/glebsokolov/Archive' -> '/Volumes/GoogleDrive/My Drive/Archive'",
      "\nDuring handling of the above exception, another exception occurred:\n",
      "\u001b[0;31mKeyboardInterrupt\u001b[0m                         Traceback (most recent call last)",
      "\u001b[1;32m/Users/glebsokolov/HeadRepo/dummy2.ipynb Cell 3\u001b[0m in \u001b[0;36m<cell line: 5>\u001b[0;34m()\u001b[0m\n\u001b[1;32m      <a href='vscode-notebook-cell:/Users/glebsokolov/HeadRepo/dummy2.ipynb#W3sZmlsZQ%3D%3D?line=2'>3</a>\u001b[0m shutil\u001b[39m.\u001b[39mmove(fname, destination1)\n\u001b[1;32m      <a href='vscode-notebook-cell:/Users/glebsokolov/HeadRepo/dummy2.ipynb#W3sZmlsZQ%3D%3D?line=3'>4</a>\u001b[0m destination2 \u001b[39m=\u001b[39m \u001b[39m'\u001b[39m\u001b[39m/Volumes/GoogleDrive/My Drive\u001b[39m\u001b[39m'\u001b[39m\n\u001b[0;32m----> <a href='vscode-notebook-cell:/Users/glebsokolov/HeadRepo/dummy2.ipynb#W3sZmlsZQ%3D%3D?line=4'>5</a>\u001b[0m shutil\u001b[39m.\u001b[39;49mmove(destination1, destination2)\n",
      "File \u001b[0;32m/opt/local/Library/Frameworks/Python.framework/Versions/3.10/lib/python3.10/shutil.py:831\u001b[0m, in \u001b[0;36mmove\u001b[0;34m(src, dst, copy_function)\u001b[0m\n\u001b[1;32m    825\u001b[0m     \u001b[39mif\u001b[39;00m (_is_immutable(src)\n\u001b[1;32m    826\u001b[0m             \u001b[39mor\u001b[39;00m (\u001b[39mnot\u001b[39;00m os\u001b[39m.\u001b[39maccess(src, os\u001b[39m.\u001b[39mW_OK) \u001b[39mand\u001b[39;00m os\u001b[39m.\u001b[39mlistdir(src)\n\u001b[1;32m    827\u001b[0m                 \u001b[39mand\u001b[39;00m sys\u001b[39m.\u001b[39mplatform \u001b[39m==\u001b[39m \u001b[39m'\u001b[39m\u001b[39mdarwin\u001b[39m\u001b[39m'\u001b[39m)):\n\u001b[1;32m    828\u001b[0m         \u001b[39mraise\u001b[39;00m \u001b[39mPermissionError\u001b[39;00m(\u001b[39m\"\u001b[39m\u001b[39mCannot move the non-empty directory \u001b[39m\u001b[39m\"\u001b[39m\n\u001b[1;32m    829\u001b[0m                               \u001b[39m\"\u001b[39m\u001b[39m'\u001b[39m\u001b[39m%s\u001b[39;00m\u001b[39m'\u001b[39m\u001b[39m: Lacking write permission to \u001b[39m\u001b[39m'\u001b[39m\u001b[39m%s\u001b[39;00m\u001b[39m'\u001b[39m\u001b[39m.\u001b[39m\u001b[39m\"\u001b[39m\n\u001b[1;32m    830\u001b[0m                               \u001b[39m%\u001b[39m (src, src))\n\u001b[0;32m--> 831\u001b[0m     copytree(src, real_dst, copy_function\u001b[39m=\u001b[39;49mcopy_function,\n\u001b[1;32m    832\u001b[0m              symlinks\u001b[39m=\u001b[39;49m\u001b[39mTrue\u001b[39;49;00m)\n\u001b[1;32m    833\u001b[0m     rmtree(src)\n\u001b[1;32m    834\u001b[0m \u001b[39melse\u001b[39;00m:\n",
      "File \u001b[0;32m/opt/local/Library/Frameworks/Python.framework/Versions/3.10/lib/python3.10/shutil.py:558\u001b[0m, in \u001b[0;36mcopytree\u001b[0;34m(src, dst, symlinks, ignore, copy_function, ignore_dangling_symlinks, dirs_exist_ok)\u001b[0m\n\u001b[1;32m    556\u001b[0m \u001b[39mwith\u001b[39;00m os\u001b[39m.\u001b[39mscandir(src) \u001b[39mas\u001b[39;00m itr:\n\u001b[1;32m    557\u001b[0m     entries \u001b[39m=\u001b[39m \u001b[39mlist\u001b[39m(itr)\n\u001b[0;32m--> 558\u001b[0m \u001b[39mreturn\u001b[39;00m _copytree(entries\u001b[39m=\u001b[39;49mentries, src\u001b[39m=\u001b[39;49msrc, dst\u001b[39m=\u001b[39;49mdst, symlinks\u001b[39m=\u001b[39;49msymlinks,\n\u001b[1;32m    559\u001b[0m                  ignore\u001b[39m=\u001b[39;49mignore, copy_function\u001b[39m=\u001b[39;49mcopy_function,\n\u001b[1;32m    560\u001b[0m                  ignore_dangling_symlinks\u001b[39m=\u001b[39;49mignore_dangling_symlinks,\n\u001b[1;32m    561\u001b[0m                  dirs_exist_ok\u001b[39m=\u001b[39;49mdirs_exist_ok)\n",
      "File \u001b[0;32m/opt/local/Library/Frameworks/Python.framework/Versions/3.10/lib/python3.10/shutil.py:494\u001b[0m, in \u001b[0;36m_copytree\u001b[0;34m(entries, src, dst, symlinks, ignore, copy_function, ignore_dangling_symlinks, dirs_exist_ok)\u001b[0m\n\u001b[1;32m    492\u001b[0m             copy_function(srcobj, dstname)\n\u001b[1;32m    493\u001b[0m \u001b[39melif\u001b[39;00m srcentry\u001b[39m.\u001b[39mis_dir():\n\u001b[0;32m--> 494\u001b[0m     copytree(srcobj, dstname, symlinks, ignore, copy_function,\n\u001b[1;32m    495\u001b[0m              dirs_exist_ok\u001b[39m=\u001b[39;49mdirs_exist_ok)\n\u001b[1;32m    496\u001b[0m \u001b[39melse\u001b[39;00m:\n\u001b[1;32m    497\u001b[0m     \u001b[39m# Will raise a SpecialFileError for unsupported file types\u001b[39;00m\n\u001b[1;32m    498\u001b[0m     copy_function(srcobj, dstname)\n",
      "File \u001b[0;32m/opt/local/Library/Frameworks/Python.framework/Versions/3.10/lib/python3.10/shutil.py:558\u001b[0m, in \u001b[0;36mcopytree\u001b[0;34m(src, dst, symlinks, ignore, copy_function, ignore_dangling_symlinks, dirs_exist_ok)\u001b[0m\n\u001b[1;32m    556\u001b[0m \u001b[39mwith\u001b[39;00m os\u001b[39m.\u001b[39mscandir(src) \u001b[39mas\u001b[39;00m itr:\n\u001b[1;32m    557\u001b[0m     entries \u001b[39m=\u001b[39m \u001b[39mlist\u001b[39m(itr)\n\u001b[0;32m--> 558\u001b[0m \u001b[39mreturn\u001b[39;00m _copytree(entries\u001b[39m=\u001b[39;49mentries, src\u001b[39m=\u001b[39;49msrc, dst\u001b[39m=\u001b[39;49mdst, symlinks\u001b[39m=\u001b[39;49msymlinks,\n\u001b[1;32m    559\u001b[0m                  ignore\u001b[39m=\u001b[39;49mignore, copy_function\u001b[39m=\u001b[39;49mcopy_function,\n\u001b[1;32m    560\u001b[0m                  ignore_dangling_symlinks\u001b[39m=\u001b[39;49mignore_dangling_symlinks,\n\u001b[1;32m    561\u001b[0m                  dirs_exist_ok\u001b[39m=\u001b[39;49mdirs_exist_ok)\n",
      "File \u001b[0;32m/opt/local/Library/Frameworks/Python.framework/Versions/3.10/lib/python3.10/shutil.py:494\u001b[0m, in \u001b[0;36m_copytree\u001b[0;34m(entries, src, dst, symlinks, ignore, copy_function, ignore_dangling_symlinks, dirs_exist_ok)\u001b[0m\n\u001b[1;32m    492\u001b[0m             copy_function(srcobj, dstname)\n\u001b[1;32m    493\u001b[0m \u001b[39melif\u001b[39;00m srcentry\u001b[39m.\u001b[39mis_dir():\n\u001b[0;32m--> 494\u001b[0m     copytree(srcobj, dstname, symlinks, ignore, copy_function,\n\u001b[1;32m    495\u001b[0m              dirs_exist_ok\u001b[39m=\u001b[39;49mdirs_exist_ok)\n\u001b[1;32m    496\u001b[0m \u001b[39melse\u001b[39;00m:\n\u001b[1;32m    497\u001b[0m     \u001b[39m# Will raise a SpecialFileError for unsupported file types\u001b[39;00m\n\u001b[1;32m    498\u001b[0m     copy_function(srcobj, dstname)\n",
      "    \u001b[0;31m[... skipping similar frames: copytree at line 558 (4 times), _copytree at line 494 (3 times)]\u001b[0m\n",
      "File \u001b[0;32m/opt/local/Library/Frameworks/Python.framework/Versions/3.10/lib/python3.10/shutil.py:494\u001b[0m, in \u001b[0;36m_copytree\u001b[0;34m(entries, src, dst, symlinks, ignore, copy_function, ignore_dangling_symlinks, dirs_exist_ok)\u001b[0m\n\u001b[1;32m    492\u001b[0m             copy_function(srcobj, dstname)\n\u001b[1;32m    493\u001b[0m \u001b[39melif\u001b[39;00m srcentry\u001b[39m.\u001b[39mis_dir():\n\u001b[0;32m--> 494\u001b[0m     copytree(srcobj, dstname, symlinks, ignore, copy_function,\n\u001b[1;32m    495\u001b[0m              dirs_exist_ok\u001b[39m=\u001b[39;49mdirs_exist_ok)\n\u001b[1;32m    496\u001b[0m \u001b[39melse\u001b[39;00m:\n\u001b[1;32m    497\u001b[0m     \u001b[39m# Will raise a SpecialFileError for unsupported file types\u001b[39;00m\n\u001b[1;32m    498\u001b[0m     copy_function(srcobj, dstname)\n",
      "File \u001b[0;32m/opt/local/Library/Frameworks/Python.framework/Versions/3.10/lib/python3.10/shutil.py:558\u001b[0m, in \u001b[0;36mcopytree\u001b[0;34m(src, dst, symlinks, ignore, copy_function, ignore_dangling_symlinks, dirs_exist_ok)\u001b[0m\n\u001b[1;32m    556\u001b[0m \u001b[39mwith\u001b[39;00m os\u001b[39m.\u001b[39mscandir(src) \u001b[39mas\u001b[39;00m itr:\n\u001b[1;32m    557\u001b[0m     entries \u001b[39m=\u001b[39m \u001b[39mlist\u001b[39m(itr)\n\u001b[0;32m--> 558\u001b[0m \u001b[39mreturn\u001b[39;00m _copytree(entries\u001b[39m=\u001b[39;49mentries, src\u001b[39m=\u001b[39;49msrc, dst\u001b[39m=\u001b[39;49mdst, symlinks\u001b[39m=\u001b[39;49msymlinks,\n\u001b[1;32m    559\u001b[0m                  ignore\u001b[39m=\u001b[39;49mignore, copy_function\u001b[39m=\u001b[39;49mcopy_function,\n\u001b[1;32m    560\u001b[0m                  ignore_dangling_symlinks\u001b[39m=\u001b[39;49mignore_dangling_symlinks,\n\u001b[1;32m    561\u001b[0m                  dirs_exist_ok\u001b[39m=\u001b[39;49mdirs_exist_ok)\n",
      "File \u001b[0;32m/opt/local/Library/Frameworks/Python.framework/Versions/3.10/lib/python3.10/shutil.py:498\u001b[0m, in \u001b[0;36m_copytree\u001b[0;34m(entries, src, dst, symlinks, ignore, copy_function, ignore_dangling_symlinks, dirs_exist_ok)\u001b[0m\n\u001b[1;32m    494\u001b[0m         copytree(srcobj, dstname, symlinks, ignore, copy_function,\n\u001b[1;32m    495\u001b[0m                  dirs_exist_ok\u001b[39m=\u001b[39mdirs_exist_ok)\n\u001b[1;32m    496\u001b[0m     \u001b[39melse\u001b[39;00m:\n\u001b[1;32m    497\u001b[0m         \u001b[39m# Will raise a SpecialFileError for unsupported file types\u001b[39;00m\n\u001b[0;32m--> 498\u001b[0m         copy_function(srcobj, dstname)\n\u001b[1;32m    499\u001b[0m \u001b[39m# catch the Error from the recursive copytree so that we can\u001b[39;00m\n\u001b[1;32m    500\u001b[0m \u001b[39m# continue with other files\u001b[39;00m\n\u001b[1;32m    501\u001b[0m \u001b[39mexcept\u001b[39;00m Error \u001b[39mas\u001b[39;00m err:\n",
      "File \u001b[0;32m/opt/local/Library/Frameworks/Python.framework/Versions/3.10/lib/python3.10/shutil.py:434\u001b[0m, in \u001b[0;36mcopy2\u001b[0;34m(src, dst, follow_symlinks)\u001b[0m\n\u001b[1;32m    432\u001b[0m \u001b[39mif\u001b[39;00m os\u001b[39m.\u001b[39mpath\u001b[39m.\u001b[39misdir(dst):\n\u001b[1;32m    433\u001b[0m     dst \u001b[39m=\u001b[39m os\u001b[39m.\u001b[39mpath\u001b[39m.\u001b[39mjoin(dst, os\u001b[39m.\u001b[39mpath\u001b[39m.\u001b[39mbasename(src))\n\u001b[0;32m--> 434\u001b[0m copyfile(src, dst, follow_symlinks\u001b[39m=\u001b[39;49mfollow_symlinks)\n\u001b[1;32m    435\u001b[0m copystat(src, dst, follow_symlinks\u001b[39m=\u001b[39mfollow_symlinks)\n\u001b[1;32m    436\u001b[0m \u001b[39mreturn\u001b[39;00m dst\n",
      "File \u001b[0;32m/opt/local/Library/Frameworks/Python.framework/Versions/3.10/lib/python3.10/shutil.py:260\u001b[0m, in \u001b[0;36mcopyfile\u001b[0;34m(src, dst, follow_symlinks)\u001b[0m\n\u001b[1;32m    258\u001b[0m \u001b[39mif\u001b[39;00m _HAS_FCOPYFILE:\n\u001b[1;32m    259\u001b[0m     \u001b[39mtry\u001b[39;00m:\n\u001b[0;32m--> 260\u001b[0m         _fastcopy_fcopyfile(fsrc, fdst, posix\u001b[39m.\u001b[39;49m_COPYFILE_DATA)\n\u001b[1;32m    261\u001b[0m         \u001b[39mreturn\u001b[39;00m dst\n\u001b[1;32m    262\u001b[0m     \u001b[39mexcept\u001b[39;00m _GiveupOnFastCopy:\n",
      "File \u001b[0;32m/opt/local/Library/Frameworks/Python.framework/Versions/3.10/lib/python3.10/shutil.py:89\u001b[0m, in \u001b[0;36m_fastcopy_fcopyfile\u001b[0;34m(fsrc, fdst, flags)\u001b[0m\n\u001b[1;32m     85\u001b[0m \u001b[39m\"\"\"Copy a regular file content or metadata by using high-performance\u001b[39;00m\n\u001b[1;32m     86\u001b[0m \u001b[39mfcopyfile(3) syscall (macOS).\u001b[39;00m\n\u001b[1;32m     87\u001b[0m \u001b[39m\"\"\"\u001b[39;00m\n\u001b[1;32m     88\u001b[0m \u001b[39mtry\u001b[39;00m:\n\u001b[0;32m---> 89\u001b[0m     infd \u001b[39m=\u001b[39m fsrc\u001b[39m.\u001b[39;49mfileno()\n\u001b[1;32m     90\u001b[0m     outfd \u001b[39m=\u001b[39m fdst\u001b[39m.\u001b[39mfileno()\n\u001b[1;32m     91\u001b[0m \u001b[39mexcept\u001b[39;00m \u001b[39mException\u001b[39;00m \u001b[39mas\u001b[39;00m err:\n",
      "\u001b[0;31mKeyboardInterrupt\u001b[0m: "
     ]
    }
   ],
   "source": [
    "# os.mkdir(f'/Users/glebsokolov/{foldername}')\n",
    "destination1 = f'/Users/glebsokolov/{foldername}'\n",
    "shutil.move(fname, destination1)\n",
    "destination2 = '/Volumes/GoogleDrive/My Drive/Dropbox'\n",
    "shutil.move(destination1, destination2)"
   ]
  },
  {
   "cell_type": "code",
   "execution_count": null,
   "metadata": {},
   "outputs": [],
   "source": []
  }
 ],
 "metadata": {
  "kernelspec": {
   "display_name": "Python 3.8.13 ('defaultenv')",
   "language": "python",
   "name": "python3"
  },
  "language_info": {
   "codemirror_mode": {
    "name": "ipython",
    "version": 3
   },
   "file_extension": ".py",
   "mimetype": "text/x-python",
   "name": "python",
   "nbconvert_exporter": "python",
   "pygments_lexer": "ipython3",
   "version": "3.8.13"
  },
  "orig_nbformat": 4,
  "vscode": {
   "interpreter": {
    "hash": "c1d7054af77ba560f87b9c7884b1cfb54f44503b6d572a00787a3ee06861aa5a"
   }
  }
 },
 "nbformat": 4,
 "nbformat_minor": 2
}
