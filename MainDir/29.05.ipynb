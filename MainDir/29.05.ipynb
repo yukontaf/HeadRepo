{
 "cells": [
  {
   "cell_type": "markdown",
   "metadata": {},
   "source": [
    "1. целые числа int (integer)\n",
    "2. вещественные числа float\n",
    "3. строки str (string)\n",
    "4. списки list"
   ]
  },
  {
   "cell_type": "markdown",
   "metadata": {},
   "source": [
    "a = 10000000000 (int8) # ошибка"
   ]
  },
  {
   "cell_type": "markdown",
   "metadata": {},
   "source": [
    "в качестве имени переменной можно выбрать любую комбинацию цифр, латинских букв и нижних подчёркиваний.\n",
    "при этом, лучше не начинать название переменной с нижнего подчёркивания "
   ]
  },
  {
   "cell_type": "markdown",
   "metadata": {},
   "source": [
    "пусть пользователь вводит с клавиатуры число N, которе обозначает количество минут, прошедшее с начала суток. Необходимо по этому числу N определить какое время на циферблате ему соответствует. Например: числу 125 соответствует время 02:05, а числу 210 соответствует 03:30"
   ]
  },
  {
   "cell_type": "markdown",
   "metadata": {},
   "source": [
    "1. Поискать в своём списке установленных приложений приложение idlе "
   ]
  },
  {
   "cell_type": "code",
   "execution_count": 1,
   "metadata": {},
   "outputs": [
    {
     "data": {
      "text/plain": [
       "0"
      ]
     },
     "execution_count": 1,
     "metadata": {},
     "output_type": "execute_result"
    }
   ],
   "source": [
    "912%38"
   ]
  },
  {
   "cell_type": "code",
   "execution_count": null,
   "metadata": {},
   "outputs": [],
   "source": []
  },
  {
   "cell_type": "code",
   "execution_count": null,
   "metadata": {},
   "outputs": [],
   "source": [
    "a = 10\n"
   ]
  },
  {
   "cell_type": "code",
   "execution_count": 8,
   "metadata": {},
   "outputs": [],
   "source": [
    "a = int(input())"
   ]
  },
  {
   "cell_type": "code",
   "execution_count": 9,
   "metadata": {},
   "outputs": [
    {
     "data": {
      "text/plain": [
       "10"
      ]
     },
     "execution_count": 9,
     "metadata": {},
     "output_type": "execute_result"
    }
   ],
   "source": [
    "a"
   ]
  },
  {
   "cell_type": "code",
   "execution_count": 10,
   "metadata": {},
   "outputs": [],
   "source": [
    "b = int(input())"
   ]
  },
  {
   "cell_type": "code",
   "execution_count": 11,
   "metadata": {},
   "outputs": [
    {
     "data": {
      "text/plain": [
       "20"
      ]
     },
     "execution_count": 11,
     "metadata": {},
     "output_type": "execute_result"
    }
   ],
   "source": [
    "b"
   ]
  },
  {
   "cell_type": "code",
   "execution_count": 12,
   "metadata": {},
   "outputs": [
    {
     "data": {
      "text/plain": [
       "30"
      ]
     },
     "execution_count": 12,
     "metadata": {},
     "output_type": "execute_result"
    }
   ],
   "source": [
    "a + b"
   ]
  },
  {
   "cell_type": "markdown",
   "metadata": {},
   "source": [
    "1. сложение, вычитание\n",
    "2. умножение (*), деление (/)\n",
    "3. возведение в степень (**)\n",
    "4. взятие остатка от деления (%), целочисленное деление (//)"
   ]
  },
  {
   "cell_type": "markdown",
   "metadata": {},
   "source": [
    "время на циферблате состоит из двух частей: 1. количество часов, прошедшее с начала суток, 2. количество минут, прошедшее с начала часа"
   ]
  },
  {
   "cell_type": "code",
   "execution_count": null,
   "metadata": {},
   "outputs": [],
   "source": [
    "number_of_minutes = int(input())\n"
   ]
  }
 ],
 "metadata": {
  "kernelspec": {
   "display_name": "Python 3.10.0 ('defaultenv')",
   "language": "python",
   "name": "python3"
  },
  "language_info": {
   "codemirror_mode": {
    "name": "ipython",
    "version": 3
   },
   "file_extension": ".py",
   "mimetype": "text/x-python",
   "name": "python",
   "nbconvert_exporter": "python",
   "pygments_lexer": "ipython3",
   "version": "3.10.0"
  },
  "orig_nbformat": 4,
  "vscode": {
   "interpreter": {
    "hash": "c1d7054af77ba560f87b9c7884b1cfb54f44503b6d572a00787a3ee06861aa5a"
   }
  }
 },
 "nbformat": 4,
 "nbformat_minor": 2
}
