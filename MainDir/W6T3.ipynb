{
 "cells": [
  {
   "cell_type": "markdown",
   "metadata": {},
   "source": [
    "1. С помощью цикла найти сумму чисел от X1 до X2, где X1 и X2 - переменные, которые проставляются выше\n",
    "2. Пользователь вводит число. Если это число чётное - вывести \"ЧИСЛО ЧЁТНОЕ\", если нет - вывести \"ЧИСЛО НЕЧЁТНОЕ\"\n",
    "3. Пользователь задаёт три числа. Если среди них есть равные друг другу, то вывести YES, если нет вывести ERROR\n",
    "4. Пользователь задаёт три числа. Если все эти числа равны друг другу, то вывести YES, если нет вывести ERROR\n",
    "5. Импортируйте csv файл с таблицей skytaxi.order_list. Осмотрите датафрейм с помощью head & tail. Замените нуллы в колонках assign_time, arrive_to_client_time и order_finish_time на 01.01.3000\n",
    "6. Напишите функцию, которая будет делать анализ числа (аргумент - одно число):\n",
    "    - Если число = 0, то функция напишет \"введите ненулевое число\"\n",
    "    - Функция скажет, является ли число чётным\n",
    "    - Функция скажет, больше ли это число чем 10\n",
    "    - Функция напечатает квадрат и куб этого числа\n",
    "    - Функция скажет, является ли число отрицательным"
   ]
  },
  {
   "cell_type": "code",
   "execution_count": 12,
   "metadata": {},
   "outputs": [],
   "source": [
    "import pandas as pd"
   ]
  },
  {
   "cell_type": "code",
   "execution_count": 42,
   "metadata": {},
   "outputs": [],
   "source": [
    "# №1\n",
    "X1, X2 = int(input()), int(input())\n",
    "sum = 0\n",
    "for i in range(X1, X2+1):\n",
    "    sum += i"
   ]
  },
  {
   "cell_type": "code",
   "execution_count": 5,
   "metadata": {},
   "outputs": [
    {
     "name": "stdout",
     "output_type": "stream",
     "text": [
      "Even\n"
     ]
    }
   ],
   "source": [
    "# №2\n",
    "num = int(input())\n",
    "if num % 2 == 0: print('Even')\n",
    "else: print('Odd')"
   ]
  },
  {
   "cell_type": "code",
   "execution_count": 9,
   "metadata": {},
   "outputs": [
    {
     "name": "stdout",
     "output_type": "stream",
     "text": [
      "[1, 2, 3]\n",
      "ERROR\n"
     ]
    }
   ],
   "source": [
    "# №3\n",
    "nums = [int(input()) for i in range(3)]\n",
    "comparisons = []\n",
    "for i in range(len(nums)):\n",
    "    for j in range(len(nums)):\n",
    "        if i != j:\n",
    "            if nums[i] == nums[j]: comparisons.append(True)\n",
    "            else: comparisons.append(False)\n",
    "if True in comparisons: print('YES')\n",
    "else: print('ERROR')"
   ]
  },
  {
   "cell_type": "code",
   "execution_count": 11,
   "metadata": {},
   "outputs": [
    {
     "name": "stdout",
     "output_type": "stream",
     "text": [
      "ERROR\n"
     ]
    }
   ],
   "source": [
    "# №4\n",
    "nums = [int(input()) for i in range(3)]\n",
    "comparisons = []\n",
    "for i in range(len(nums)):\n",
    "    for j in range(len(nums)):\n",
    "        if i != j:\n",
    "            if nums[i] == nums[j]: comparisons.append(True)\n",
    "            else: comparisons.append(False)\n",
    "if False not in comparisons: print('YES')\n",
    "else: print('ERROR')"
   ]
  },
  {
   "cell_type": "code",
   "execution_count": 13,
   "metadata": {},
   "outputs": [
    {
     "data": {
      "text/html": [
       "<div>\n",
       "<style scoped>\n",
       "    .dataframe tbody tr th:only-of-type {\n",
       "        vertical-align: middle;\n",
       "    }\n",
       "\n",
       "    .dataframe tbody tr th {\n",
       "        vertical-align: top;\n",
       "    }\n",
       "\n",
       "    .dataframe thead th {\n",
       "        text-align: right;\n",
       "    }\n",
       "</style>\n",
       "<table border=\"1\" class=\"dataframe\">\n",
       "  <thead>\n",
       "    <tr style=\"text-align: right;\">\n",
       "      <th></th>\n",
       "      <th>id_order</th>\n",
       "      <th>id_driver</th>\n",
       "      <th>order_time</th>\n",
       "      <th>assign_time</th>\n",
       "      <th>arrive_to_client_time</th>\n",
       "      <th>order_finish_time</th>\n",
       "      <th>id_tariff</th>\n",
       "      <th>id_city</th>\n",
       "    </tr>\n",
       "  </thead>\n",
       "  <tbody>\n",
       "    <tr>\n",
       "      <th>0</th>\n",
       "      <td>113612</td>\n",
       "      <td>1644.0</td>\n",
       "      <td>2021-07-01T00:13:39</td>\n",
       "      <td>NaN</td>\n",
       "      <td>NaN</td>\n",
       "      <td>NaN</td>\n",
       "      <td>11.0</td>\n",
       "      <td>117</td>\n",
       "    </tr>\n",
       "    <tr>\n",
       "      <th>1</th>\n",
       "      <td>110195</td>\n",
       "      <td>280.0</td>\n",
       "      <td>2021-07-01T00:17:26</td>\n",
       "      <td>2021-07-01T00:23:26</td>\n",
       "      <td>2021-07-01T00:33:26</td>\n",
       "      <td>NaN</td>\n",
       "      <td>11.0</td>\n",
       "      <td>112</td>\n",
       "    </tr>\n",
       "    <tr>\n",
       "      <th>2</th>\n",
       "      <td>114560</td>\n",
       "      <td>2536.0</td>\n",
       "      <td>2021-07-01T00:36:00</td>\n",
       "      <td>2021-07-01T00:41:00</td>\n",
       "      <td>2021-07-01T00:44:00</td>\n",
       "      <td>2021-07-01T01:42:00</td>\n",
       "      <td>10.0</td>\n",
       "      <td>115</td>\n",
       "    </tr>\n",
       "    <tr>\n",
       "      <th>3</th>\n",
       "      <td>111284</td>\n",
       "      <td>NaN</td>\n",
       "      <td>2021-07-01T00:36:32</td>\n",
       "      <td>NaN</td>\n",
       "      <td>NaN</td>\n",
       "      <td>NaN</td>\n",
       "      <td>11.0</td>\n",
       "      <td>111</td>\n",
       "    </tr>\n",
       "    <tr>\n",
       "      <th>4</th>\n",
       "      <td>110131</td>\n",
       "      <td>3730.0</td>\n",
       "      <td>2021-07-01T00:36:34</td>\n",
       "      <td>2021-07-01T00:40:34</td>\n",
       "      <td>2021-07-01T00:50:34</td>\n",
       "      <td>NaN</td>\n",
       "      <td>10.0</td>\n",
       "      <td>118</td>\n",
       "    </tr>\n",
       "  </tbody>\n",
       "</table>\n",
       "</div>"
      ],
      "text/plain": [
       "   id_order  id_driver           order_time          assign_time  \\\n",
       "0    113612     1644.0  2021-07-01T00:13:39                  NaN   \n",
       "1    110195      280.0  2021-07-01T00:17:26  2021-07-01T00:23:26   \n",
       "2    114560     2536.0  2021-07-01T00:36:00  2021-07-01T00:41:00   \n",
       "3    111284        NaN  2021-07-01T00:36:32                  NaN   \n",
       "4    110131     3730.0  2021-07-01T00:36:34  2021-07-01T00:40:34   \n",
       "\n",
       "  arrive_to_client_time    order_finish_time  id_tariff  id_city  \n",
       "0                   NaN                  NaN       11.0      117  \n",
       "1   2021-07-01T00:33:26                  NaN       11.0      112  \n",
       "2   2021-07-01T00:44:00  2021-07-01T01:42:00       10.0      115  \n",
       "3                   NaN                  NaN       11.0      111  \n",
       "4   2021-07-01T00:50:34                  NaN       10.0      118  "
      ]
     },
     "execution_count": 13,
     "metadata": {},
     "output_type": "execute_result"
    }
   ],
   "source": [
    "# №5\n",
    "df = pd.read_csv('skytaxi_order_list.csv')\n",
    "df.head()"
   ]
  },
  {
   "cell_type": "code",
   "execution_count": 14,
   "metadata": {},
   "outputs": [
    {
     "data": {
      "text/html": [
       "<div>\n",
       "<style scoped>\n",
       "    .dataframe tbody tr th:only-of-type {\n",
       "        vertical-align: middle;\n",
       "    }\n",
       "\n",
       "    .dataframe tbody tr th {\n",
       "        vertical-align: top;\n",
       "    }\n",
       "\n",
       "    .dataframe thead th {\n",
       "        text-align: right;\n",
       "    }\n",
       "</style>\n",
       "<table border=\"1\" class=\"dataframe\">\n",
       "  <thead>\n",
       "    <tr style=\"text-align: right;\">\n",
       "      <th></th>\n",
       "      <th>id_order</th>\n",
       "      <th>id_driver</th>\n",
       "      <th>order_time</th>\n",
       "      <th>assign_time</th>\n",
       "      <th>arrive_to_client_time</th>\n",
       "      <th>order_finish_time</th>\n",
       "      <th>id_tariff</th>\n",
       "      <th>id_city</th>\n",
       "    </tr>\n",
       "  </thead>\n",
       "  <tbody>\n",
       "    <tr>\n",
       "      <th>4995</th>\n",
       "      <td>110175</td>\n",
       "      <td>3952.0</td>\n",
       "      <td>2021-07-31T22:23:06</td>\n",
       "      <td>2021-07-31T22:25:06</td>\n",
       "      <td>2021-07-31T22:33:06</td>\n",
       "      <td>2021-07-31T23:09:06</td>\n",
       "      <td>10.0</td>\n",
       "      <td>111</td>\n",
       "    </tr>\n",
       "    <tr>\n",
       "      <th>4996</th>\n",
       "      <td>112011</td>\n",
       "      <td>869.0</td>\n",
       "      <td>2021-07-31T22:33:22</td>\n",
       "      <td>NaN</td>\n",
       "      <td>NaN</td>\n",
       "      <td>NaN</td>\n",
       "      <td>10.0</td>\n",
       "      <td>116</td>\n",
       "    </tr>\n",
       "    <tr>\n",
       "      <th>4997</th>\n",
       "      <td>113759</td>\n",
       "      <td>2831.0</td>\n",
       "      <td>2021-07-31T22:38:43</td>\n",
       "      <td>2021-07-31T22:41:43</td>\n",
       "      <td>2021-07-31T22:52:43</td>\n",
       "      <td>2021-07-31T23:14:43</td>\n",
       "      <td>10.0</td>\n",
       "      <td>111</td>\n",
       "    </tr>\n",
       "    <tr>\n",
       "      <th>4998</th>\n",
       "      <td>113847</td>\n",
       "      <td>3443.0</td>\n",
       "      <td>2021-07-31T22:42:38</td>\n",
       "      <td>2021-07-31T22:46:38</td>\n",
       "      <td>NaN</td>\n",
       "      <td>NaN</td>\n",
       "      <td>1.0</td>\n",
       "      <td>113</td>\n",
       "    </tr>\n",
       "    <tr>\n",
       "      <th>4999</th>\n",
       "      <td>110907</td>\n",
       "      <td>1487.0</td>\n",
       "      <td>2021-07-31T23:09:15</td>\n",
       "      <td>2021-07-31T23:15:15</td>\n",
       "      <td>2021-07-31T23:27:15</td>\n",
       "      <td>2021-07-31T23:59:15</td>\n",
       "      <td>10.0</td>\n",
       "      <td>119</td>\n",
       "    </tr>\n",
       "  </tbody>\n",
       "</table>\n",
       "</div>"
      ],
      "text/plain": [
       "      id_order  id_driver           order_time          assign_time  \\\n",
       "4995    110175     3952.0  2021-07-31T22:23:06  2021-07-31T22:25:06   \n",
       "4996    112011      869.0  2021-07-31T22:33:22                  NaN   \n",
       "4997    113759     2831.0  2021-07-31T22:38:43  2021-07-31T22:41:43   \n",
       "4998    113847     3443.0  2021-07-31T22:42:38  2021-07-31T22:46:38   \n",
       "4999    110907     1487.0  2021-07-31T23:09:15  2021-07-31T23:15:15   \n",
       "\n",
       "     arrive_to_client_time    order_finish_time  id_tariff  id_city  \n",
       "4995   2021-07-31T22:33:06  2021-07-31T23:09:06       10.0      111  \n",
       "4996                   NaN                  NaN       10.0      116  \n",
       "4997   2021-07-31T22:52:43  2021-07-31T23:14:43       10.0      111  \n",
       "4998                   NaN                  NaN        1.0      113  \n",
       "4999   2021-07-31T23:27:15  2021-07-31T23:59:15       10.0      119  "
      ]
     },
     "execution_count": 14,
     "metadata": {},
     "output_type": "execute_result"
    }
   ],
   "source": [
    "df.tail()"
   ]
  },
  {
   "cell_type": "code",
   "execution_count": 17,
   "metadata": {},
   "outputs": [],
   "source": [
    "df[['assign_time', 'order_finish_time', 'arrive_to_client_time']] = \\\n",
    "                df[['assign_time', 'order_finish_time', 'arrive_to_client_time']].fillna('3000.01.01', axis=1)"
   ]
  },
  {
   "cell_type": "code",
   "execution_count": 36,
   "metadata": {},
   "outputs": [],
   "source": [
    "def analyse_number(num):\n",
    "    if num == 0: return print('Enter a non-zero number')\n",
    "    chars = []\n",
    "    chars.append('Even' if num%2==0 else 'Odd')\n",
    "    chars.append('num >= 10' if num>=10 else 'num < 10')\n",
    "    chars.extend(['num^2='+str(num**2), 'num^3='+str(num**3)])\n",
    "    chars.append('positive' if num>0 else 'negative')\n",
    "    return print(', '.join(chars))\n"
   ]
  },
  {
   "cell_type": "code",
   "execution_count": 38,
   "metadata": {},
   "outputs": [
    {
     "name": "stdout",
     "output_type": "stream",
     "text": [
      "Even, num >= 10, num^2=40000, num^3=8000000, positive\n"
     ]
    }
   ],
   "source": [
    "analyse_number(200)"
   ]
  },
  {
   "cell_type": "code",
   "execution_count": 39,
   "metadata": {},
   "outputs": [
    {
     "name": "stdout",
     "output_type": "stream",
     "text": [
      "Enter a non-zero number\n"
     ]
    }
   ],
   "source": [
    "analyse_number(0)"
   ]
  }
 ],
 "metadata": {
  "interpreter": {
   "hash": "1be9856963ee0560708bb2052661aa27357a5b7ae3c19a3b57a929c8d7be175e"
  },
  "kernelspec": {
   "display_name": "Python 3.8.11 64-bit ('base': conda)",
   "name": "python3"
  },
  "language_info": {
   "codemirror_mode": {
    "name": "ipython",
    "version": 3
   },
   "file_extension": ".py",
   "mimetype": "text/x-python",
   "name": "python",
   "nbconvert_exporter": "python",
   "pygments_lexer": "ipython3",
   "version": "3.8.11"
  },
  "orig_nbformat": 4
 },
 "nbformat": 4,
 "nbformat_minor": 2
}
