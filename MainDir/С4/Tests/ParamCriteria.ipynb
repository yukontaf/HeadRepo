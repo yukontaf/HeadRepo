{
 "cells": [
  {
   "cell_type": "markdown",
   "id": "d6888750-fbaa-4e69-bf27-4918de947725",
   "metadata": {},
   "source": [
    "В одном из выпусков программы \"Разрушители легенд\" проверялось, действительно ли заразительна зевота. В эксперименте участвовало 50 испытуемых, проходивших собеседование на программу. Каждый из них разговаривал с рекрутером; в конце 34 из 50 бесед рекрутер зевал. Затем испытуемых просили подождать решения рекрутера в соседней пустой комнате. \n",
    "\n",
    "Во время ожидания 10 из 34 испытуемых экспериментальной группы и 4 из 16 испытуемых контрольной начали зевать. Таким образом, разница в доле зевающих людей в этих двух группах составила примерно 4.4%. Ведущие заключили, что миф о заразительности зевоты подтверждён. \n",
    "\n",
    "Можно ли утверждать, что доли зевающих в контрольной и экспериментальной группах отличаются статистически значимо? Посчитайте достигаемый уровень значимости при альтернативе заразительности зевоты, округлите до четырёх знаков после десятичной точки."
   ]
  },
  {
   "cell_type": "code",
   "execution_count": 1,
   "id": "cadc8d84-e7b8-4c8d-b91d-8b7c1ecb8448",
   "metadata": {},
   "outputs": [],
   "source": [
    "import math\n",
    "\n",
    "import pandas as pd\n",
    "import scipy\n",
    "import scipy.stats as stats\n",
    "import snoop\n",
    "import statsmodels\n",
    "from sklearn.linear_model import LogisticRegression\n",
    "from sklearn.model_selection import train_test_split\n",
    "from statsmodels.stats.proportion import proportion_confint\n",
    "from statsmodels.stats.weightstats import *"
   ]
  },
  {
   "cell_type": "code",
   "execution_count": 2,
   "id": "b8134491-c5ae-48b2-a38a-7032e6e1f663",
   "metadata": {},
   "outputs": [
    {
     "name": "stdout",
     "output_type": "stream",
     "text": [
      "Populating the interactive namespace from numpy and matplotlib\n"
     ]
    }
   ],
   "source": [
    "%pylab inline"
   ]
  },
  {
   "cell_type": "code",
   "execution_count": 3,
   "id": "9e77e74a-dec9-4851-a6e0-31f8b763e988",
   "metadata": {},
   "outputs": [],
   "source": [
    "experiment, control = 10 * [1] + 24 * [0], 4 * [1] + 12 * [0]"
   ]
  },
  {
   "cell_type": "markdown",
   "id": "a7138e12-8542-4002-b74c-e70b9dbb4ad0",
   "metadata": {},
   "source": [
    "$$ \\hat{p}_1 = \\frac{a}{n_1}$$\n",
    "\n",
    "$$ \\hat{p}_2 = \\frac{b}{n_2}$$\n",
    "\n",
    "\n",
    "$$\\text{Доверительный интервал для }p_1 - p_2\\colon \\;\\; \\hat{p}_1 - \\hat{p}_2 \\pm z_{1-\\frac{\\alpha}{2}}\\sqrt{\\frac{\\hat{p}_1(1 - \\hat{p}_1)}{n_1} + \\frac{\\hat{p}_2(1 - \\hat{p}_2)}{n_2}}$$\n",
    "\n",
    "$$Z-статистика: Z({X_1, X_2}) =  \\frac{\\hat{p}_1 - \\hat{p}_2}{\\sqrt{P(1 - P)(\\frac{1}{n_1} + \\frac{1}{n_2})}}$$\n",
    "$$P = \\frac{\\hat{p}_1{n_1} + \\hat{p}_2{n_2}}{{n_1} + {n_2}} $$"
   ]
  },
  {
   "cell_type": "code",
   "execution_count": 4,
   "id": "128d3380-8ebc-42c5-a58d-afca03f495eb",
   "metadata": {},
   "outputs": [],
   "source": [
    "def proportions_diff_confint_ind(sample1, sample2, alpha=0.05):\n",
    "    z = scipy.stats.norm.ppf(1 - alpha / 2.0)\n",
    "\n",
    "    p1 = float(sum(sample1)) / len(sample1)\n",
    "    p2 = float(sum(sample2)) / len(sample2)\n",
    "\n",
    "    left_boundary = (p1 - p2) - z * np.sqrt(\n",
    "        p1 * (1 - p1) / len(sample1) + p2 * (1 - p2) / len(sample2)\n",
    "    )\n",
    "    right_boundary = (p1 - p2) + z * np.sqrt(\n",
    "        p1 * (1 - p1) / len(sample1) + p2 * (1 - p2) / len(sample2)\n",
    "    )\n",
    "\n",
    "    return (left_boundary, right_boundary)"
   ]
  },
  {
   "cell_type": "code",
   "execution_count": 5,
   "id": "b29f6941-f517-4297-a2fe-08f761a44cba",
   "metadata": {},
   "outputs": [
    {
     "data": {
      "text/plain": [
       "(-0.2175577216559601, 0.3057930157736072)"
      ]
     },
     "execution_count": 5,
     "metadata": {},
     "output_type": "execute_result"
    }
   ],
   "source": [
    "proportions_diff_confint_ind(experiment, control)"
   ]
  },
  {
   "cell_type": "code",
   "execution_count": 6,
   "id": "2998ac95-e16e-489c-b20d-665fc667cd16",
   "metadata": {},
   "outputs": [],
   "source": [
    "def proportions_diff_z_stat_ind(sample1, sample2):\n",
    "    n1 = len(sample1)\n",
    "    n2 = len(sample2)\n",
    "\n",
    "    p1 = float(sum(sample1)) / n1\n",
    "    p2 = float(sum(sample2)) / n2\n",
    "    P = float(p1 * n1 + p2 * n2) / (n1 + n2)\n",
    "\n",
    "    return (p1 - p2) / np.sqrt(P * (1 - P) * (1.0 / n1 + 1.0 / n2))"
   ]
  },
  {
   "cell_type": "code",
   "execution_count": 7,
   "id": "5c1087e3-57c5-4319-8352-3460b0527248",
   "metadata": {},
   "outputs": [],
   "source": [
    "z = proportions_diff_z_stat_ind(experiment, control)"
   ]
  },
  {
   "cell_type": "code",
   "execution_count": 8,
   "id": "e7f5f9f4-a4d7-42d4-a46d-d2b398751a76",
   "metadata": {},
   "outputs": [],
   "source": [
    "def proportions_diff_z_test(z_stat, alternative=\"two-sided\"):\n",
    "    if alternative not in (\"two-sided\", \"less\", \"greater\"):\n",
    "        raise ValueError(\n",
    "            \"alternative not recognized\\n\" \"should be 'two-sided', 'less' or 'greater'\"\n",
    "        )\n",
    "\n",
    "    if alternative == \"two-sided\":\n",
    "        return 2 * (1 - scipy.stats.norm.cdf(np.abs(z_stat)))\n",
    "\n",
    "    if alternative == \"less\":\n",
    "        return scipy.stats.norm.cdf(z_stat)\n",
    "\n",
    "    if alternative == \"greater\":\n",
    "        return 1 - scipy.stats.norm.cdf(z_stat)"
   ]
  },
  {
   "cell_type": "code",
   "execution_count": null,
   "id": "b8bbf905-2cb3-4a09-aa13-fdbcce67a15c",
   "metadata": {},
   "outputs": [],
   "source": [
    "round(proportions_diff_z_test(z, alternative=\"greater\"), 4)"
   ]
  },
  {
   "cell_type": "markdown",
   "id": "07cdd22b-4975-4bc6-bfaf-4bd5a4e85b9e",
   "metadata": {},
   "source": [
    "Имеются данные измерений двухсот швейцарских тысячефранковых банкнот, бывших в обращении в первой половине XX века. Сто из банкнот были настоящими, и сто — поддельными. На рисунке ниже показаны измеренные признаки:\n",
    "Отделите 50 случайных наблюдений в тестовую выборку с помощью функции `sklearn.cross_validation.train_test_split `(зафиксируйте `random state = 1`). На оставшихся 150 настройте два классификатора поддельности банкнот:\n",
    "\n",
    "логистическая регрессия по признакам $X_1,X_2,X_3$\n",
    "\n",
    "логистическая регрессия по признакам $X_4,X_5,X_6$ \n",
    "\n",
    "Каждым из классификаторов сделайте предсказания меток классов на тестовой выборке. Одинаковы ли доли ошибочных предсказаний двух классификаторов? Проверьте гипотезу, вычислите достигаемый уровень значимости."
   ]
  },
  {
   "cell_type": "code",
   "execution_count": 42,
   "id": "9d9523e1-90a1-4c12-b3c8-1bc955a0228f",
   "metadata": {},
   "outputs": [],
   "source": [
    "data = pd.read_csv(\"~/MainDir/С4/Tests/banknotes.txt\", sep=\"\\t\")\n",
    "data.to_csv(\"banknotes.csv\")"
   ]
  },
  {
   "cell_type": "code",
   "execution_count": 27,
   "id": "8c1b681a-ae0a-47a8-8866-45da3eef9556",
   "metadata": {},
   "outputs": [],
   "source": [
    "import bamboolib as bam"
   ]
  },
  {
   "cell_type": "code",
   "execution_count": 43,
   "id": "9c528eae-a08f-4e3d-9cc8-469fb666fe45",
   "metadata": {},
   "outputs": [
    {
     "data": {
      "text/html": [
       "<div>\n",
       "<style scoped>\n",
       "    .dataframe tbody tr th:only-of-type {\n",
       "        vertical-align: middle;\n",
       "    }\n",
       "\n",
       "    .dataframe tbody tr th {\n",
       "        vertical-align: top;\n",
       "    }\n",
       "\n",
       "    .dataframe thead th {\n",
       "        text-align: right;\n",
       "    }\n",
       "</style>\n",
       "<table border=\"1\" class=\"dataframe\">\n",
       "  <thead>\n",
       "    <tr style=\"text-align: right;\">\n",
       "      <th></th>\n",
       "      <th>X1</th>\n",
       "      <th>X2</th>\n",
       "      <th>X3</th>\n",
       "      <th>X4</th>\n",
       "      <th>X5</th>\n",
       "      <th>X6</th>\n",
       "      <th>real</th>\n",
       "    </tr>\n",
       "  </thead>\n",
       "  <tbody>\n",
       "    <tr>\n",
       "      <th>0</th>\n",
       "      <td>214.8</td>\n",
       "      <td>131.0</td>\n",
       "      <td>131.1</td>\n",
       "      <td>9.0</td>\n",
       "      <td>9.7</td>\n",
       "      <td>141.0</td>\n",
       "      <td>1</td>\n",
       "    </tr>\n",
       "    <tr>\n",
       "      <th>1</th>\n",
       "      <td>214.6</td>\n",
       "      <td>129.7</td>\n",
       "      <td>129.7</td>\n",
       "      <td>8.1</td>\n",
       "      <td>9.5</td>\n",
       "      <td>141.7</td>\n",
       "      <td>1</td>\n",
       "    </tr>\n",
       "    <tr>\n",
       "      <th>2</th>\n",
       "      <td>214.8</td>\n",
       "      <td>129.7</td>\n",
       "      <td>129.7</td>\n",
       "      <td>8.7</td>\n",
       "      <td>9.6</td>\n",
       "      <td>142.2</td>\n",
       "      <td>1</td>\n",
       "    </tr>\n",
       "    <tr>\n",
       "      <th>3</th>\n",
       "      <td>214.8</td>\n",
       "      <td>129.7</td>\n",
       "      <td>129.6</td>\n",
       "      <td>7.5</td>\n",
       "      <td>10.4</td>\n",
       "      <td>142.0</td>\n",
       "      <td>1</td>\n",
       "    </tr>\n",
       "    <tr>\n",
       "      <th>4</th>\n",
       "      <td>215.0</td>\n",
       "      <td>129.6</td>\n",
       "      <td>129.7</td>\n",
       "      <td>10.4</td>\n",
       "      <td>7.7</td>\n",
       "      <td>141.8</td>\n",
       "      <td>1</td>\n",
       "    </tr>\n",
       "    <tr>\n",
       "      <th>...</th>\n",
       "      <td>...</td>\n",
       "      <td>...</td>\n",
       "      <td>...</td>\n",
       "      <td>...</td>\n",
       "      <td>...</td>\n",
       "      <td>...</td>\n",
       "      <td>...</td>\n",
       "    </tr>\n",
       "    <tr>\n",
       "      <th>195</th>\n",
       "      <td>215.0</td>\n",
       "      <td>130.4</td>\n",
       "      <td>130.3</td>\n",
       "      <td>9.9</td>\n",
       "      <td>12.1</td>\n",
       "      <td>139.6</td>\n",
       "      <td>0</td>\n",
       "    </tr>\n",
       "    <tr>\n",
       "      <th>196</th>\n",
       "      <td>215.1</td>\n",
       "      <td>130.3</td>\n",
       "      <td>129.9</td>\n",
       "      <td>10.3</td>\n",
       "      <td>11.5</td>\n",
       "      <td>139.7</td>\n",
       "      <td>0</td>\n",
       "    </tr>\n",
       "    <tr>\n",
       "      <th>197</th>\n",
       "      <td>214.8</td>\n",
       "      <td>130.3</td>\n",
       "      <td>130.4</td>\n",
       "      <td>10.6</td>\n",
       "      <td>11.1</td>\n",
       "      <td>140.0</td>\n",
       "      <td>0</td>\n",
       "    </tr>\n",
       "    <tr>\n",
       "      <th>198</th>\n",
       "      <td>214.7</td>\n",
       "      <td>130.7</td>\n",
       "      <td>130.8</td>\n",
       "      <td>11.2</td>\n",
       "      <td>11.2</td>\n",
       "      <td>139.4</td>\n",
       "      <td>0</td>\n",
       "    </tr>\n",
       "    <tr>\n",
       "      <th>199</th>\n",
       "      <td>214.3</td>\n",
       "      <td>129.9</td>\n",
       "      <td>129.9</td>\n",
       "      <td>10.2</td>\n",
       "      <td>11.5</td>\n",
       "      <td>139.6</td>\n",
       "      <td>0</td>\n",
       "    </tr>\n",
       "  </tbody>\n",
       "</table>\n",
       "<p>200 rows × 7 columns</p>\n",
       "</div>"
      ],
      "text/plain": [
       "        X1     X2     X3    X4    X5     X6  real\n",
       "0    214.8  131.0  131.1   9.0   9.7  141.0     1\n",
       "1    214.6  129.7  129.7   8.1   9.5  141.7     1\n",
       "2    214.8  129.7  129.7   8.7   9.6  142.2     1\n",
       "3    214.8  129.7  129.6   7.5  10.4  142.0     1\n",
       "4    215.0  129.6  129.7  10.4   7.7  141.8     1\n",
       "..     ...    ...    ...   ...   ...    ...   ...\n",
       "195  215.0  130.4  130.3   9.9  12.1  139.6     0\n",
       "196  215.1  130.3  129.9  10.3  11.5  139.7     0\n",
       "197  214.8  130.3  130.4  10.6  11.1  140.0     0\n",
       "198  214.7  130.7  130.8  11.2  11.2  139.4     0\n",
       "199  214.3  129.9  129.9  10.2  11.5  139.6     0\n",
       "\n",
       "[200 rows x 7 columns]"
      ]
     },
     "execution_count": 43,
     "metadata": {},
     "output_type": "execute_result"
    }
   ],
   "source": [
    "data"
   ]
  },
  {
   "cell_type": "code",
   "execution_count": 10,
   "id": "adc71e94-21bd-4cfe-a34d-6501419d711d",
   "metadata": {},
   "outputs": [],
   "source": [
    "import pandas as pd\n",
    "\n",
    "df = pd.read_csv(\n",
    "    r\"/Users/glebsokolov/MainDir/С4/Tests/banknotes.csv\", sep=\",\", decimal=\".\"\n",
    ")\n",
    "X, y = df.drop('real', axis=1), df.real"
   ]
  },
  {
   "cell_type": "code",
   "execution_count": 123,
   "id": "2a7b89a8-c930-4fdc-9134-45878e6c8d56",
   "metadata": {
    "tags": []
   },
   "outputs": [],
   "source": [
    "# X_1 = df[[\"X1\", \"X2\", \"X3\"]]\n",
    "# X_2 = df[[\"X4\", \"X5\", \"X6\"]]\n",
    "# y = df[[\"real\"]]\n",
    "# X_1_train, X_1_test, y_1_train, y_1_test = train_test_split(\n",
    "#     X_1, y, test_size=50 / 200, random_state=1\n",
    "# )\n",
    "# X_2_train, X_2_test, y_2_train, y_2_test = train_test_split(\n",
    "#     X_2, y, test_size=50 / 200, random_state=1\n",
    "# )"
   ]
  },
  {
   "cell_type": "code",
   "execution_count": 11,
   "id": "e072f9e6-0b55-42c3-ab87-468f142b4013",
   "metadata": {},
   "outputs": [],
   "source": [
    "X_train, X_test, y_train, y_test = train_test_split(X, y, test_size=0.25, random_state=1)"
   ]
  },
  {
   "cell_type": "code",
   "execution_count": 20,
   "id": "0856b5de-c5ad-4f88-99e3-5af18dfcf964",
   "metadata": {
    "tags": []
   },
   "outputs": [],
   "source": [
    "LogReg1 = LogisticRegression(solver='liblinear')\n",
    "LogReg1.fit(X_train[[\"X1\", \"X2\", \"X3\"]], y_train)\n",
    "res1 = LogReg1.predict(X_test[[\"X1\", \"X2\", \"X3\"]])\n",
    "arr_1 = [\n",
    "    res1[i] == np.reshape(y_test.to_numpy(), (-1,))[i] for i in range(len(y_test))\n",
    "]\n",
    "# res_1 = sum(\n",
    "#     [res[i] == np.reshape(y_test.to_numpy(), (-1,))[i] for i in range(len(y_test))]\n",
    "# ) / len(res)"
   ]
  },
  {
   "cell_type": "code",
   "execution_count": 21,
   "id": "7b587399-f44b-49b9-8529-e311646276d9",
   "metadata": {},
   "outputs": [],
   "source": [
    "LogReg2 = LogisticRegression(solver='liblinear')\n",
    "LogReg2.fit(X_train[[\"X4\", \"X5\", \"X6\"]], y_train)\n",
    "res2 = LogReg2.predict(X_test[[\"X4\", \"X5\", \"X6\"]])\n",
    "arr_2 = [\n",
    "    res2[i] == np.reshape(y_test.to_numpy(), (-1,))[i] for i in range(len(y_test))\n",
    "]\n",
    "# res_2 = sum(\n",
    "#     [res[i] == np.reshape(y_test.to_numpy(), (-1,))[i] for i in range(len(y_test))]\n",
    "# ) / len(res)"
   ]
  },
  {
   "cell_type": "markdown",
   "id": "eb4b1460-876b-48ae-9133-7cf9cd6e0426",
   "metadata": {},
   "source": [
    "$$\n",
    "\\begin{array}{|l|l|l|l|}\n",
    "\\hline X_{1} \\backslash X_{2} & 1 & 0 & \\Sigma \\\\\n",
    "\\hline 1 & e & f & e+f \\\\\n",
    "\\hline 0 & g & h & g+h \\\\\n",
    "\\hline \\Sigma & e+g & f+h & h \\\\\n",
    "\\hline\n",
    "\\end{array}\n",
    "$$\n",
    "  \n",
    "$$ \\hat{p}_1 = \\frac{e + f}{n}$$\n",
    "\n",
    "$$ \\hat{p}_2 = \\frac{e + g}{n}$$\n",
    "\n",
    "$$ \\hat{p}_1 - \\hat{p}_2 = \\frac{f - g}{n}$$\n",
    "\n",
    "\n",
    "$$\\text{Доверительный интервал для }p_1 - p_2\\colon \\;\\;  \\frac{f - g}{n} \\pm z_{1-\\frac{\\alpha}{2}}\\sqrt{\\frac{f + g}{n^2} - \\frac{(f - g)^2}{n^3}}$$\n",
    "\n",
    "$$Z-статистика: Z({X_1, X_2}) = \\frac{f - g}{\\sqrt{f + g - \\frac{(f-g)^2}{n}}}$$"
   ]
  },
  {
   "cell_type": "code",
   "execution_count": 19,
   "id": "08acbad9-ef77-40ae-af3b-de2b0d592104",
   "metadata": {},
   "outputs": [],
   "source": [
    "def proportions_diff_confint_rel(sample1, sample2, alpha=0.05):\n",
    "    z = scipy.stats.norm.ppf(1 - alpha / 2.0)\n",
    "    sample = list(zip(sample1, sample2))\n",
    "    n = len(sample)\n",
    "\n",
    "    f = sum([1 if (x[0] == 1 and x[1] == 0) else 0 for x in sample])\n",
    "    g = sum([1 if (x[0] == 0 and x[1] == 1) else 0 for x in sample])\n",
    "\n",
    "    left_boundary = float(f - g) / n - z * np.sqrt(\n",
    "        float((f + g)) / n ** 2 - float((f - g) ** 2) / n ** 3\n",
    "    )\n",
    "    right_boundary = float(f - g) / n + z * np.sqrt(\n",
    "        float((f + g)) / n ** 2 - float((f - g) ** 2) / n ** 3\n",
    "    )\n",
    "    return (left_boundary, right_boundary)"
   ]
  },
  {
   "cell_type": "code",
   "execution_count": 20,
   "id": "ea570727-8914-464e-85ca-ae6eb7d0bac4",
   "metadata": {},
   "outputs": [],
   "source": [
    "def proportions_diff_z_stat_rel(sample1, sample2):\n",
    "    sample = list(zip(sample1, sample2))\n",
    "    n = len(sample)\n",
    "\n",
    "    f = sum([1 if (x[0] == 1 and x[1] == 0) else 0 for x in sample])\n",
    "    g = sum([1 if (x[0] == 0 and x[1] == 1) else 0 for x in sample])\n",
    "\n",
    "    return float(f - g) / np.sqrt(f + g - float((f - g) ** 2) / n)"
   ]
  },
  {
   "cell_type": "code",
   "execution_count": 26,
   "id": "cf341108-9d35-45be-8f34-aa07cca78853",
   "metadata": {},
   "outputs": [
    {
     "name": "stdout",
     "output_type": "stream",
     "text": [
      "95% confidence interval for a difference between proportions: [-0.300055, -0.059945]\n"
     ]
    }
   ],
   "source": [
    "print(\n",
    "    \"95%% confidence interval for a difference between proportions: [%f, %f]\"\n",
    "    % proportions_diff_confint_rel(arr_1, arr_2)\n",
    ")"
   ]
  },
  {
   "cell_type": "code",
   "execution_count": 25,
   "id": "693d530e-d753-4aa2-a457-62ba8ac9afd9",
   "metadata": {},
   "outputs": [
    {
     "name": "stdout",
     "output_type": "stream",
     "text": [
      "p-value: 0.003297\n"
     ]
    }
   ],
   "source": [
    "print(\n",
    "    \"p-value: %f\" % proportions_diff_z_test(proportions_diff_z_stat_rel(arr_1, arr_2))\n",
    ")"
   ]
  },
  {
   "cell_type": "code",
   "execution_count": 27,
   "id": "15e65732-e5fc-4ecc-8687-8bfb08c39206",
   "metadata": {},
   "outputs": [
    {
     "data": {
      "text/plain": [
       "'3.2969384555543435e-03'"
      ]
     },
     "execution_count": 27,
     "metadata": {},
     "output_type": "execute_result"
    }
   ],
   "source": [
    "np.format_float_scientific(\n",
    "    proportions_diff_z_test(proportions_diff_z_stat_rel(arr_1, arr_2))\n",
    ")"
   ]
  },
  {
   "cell_type": "code",
   "execution_count": 53,
   "id": "718bd931-5a9a-41f4-87d5-66f1e3ee09fe",
   "metadata": {
    "tags": []
   },
   "outputs": [
    {
     "name": "stdout",
     "output_type": "stream",
     "text": [
      "p-value: 0.000462\n"
     ]
    }
   ],
   "source": [
    "print(\n",
    "    \"p-value: %f\"\n",
    "    % proportions_diff_z_test(proportions_diff_z_stat_rel(arr_1, arr_2), \"less\")\n",
    ")"
   ]
  },
  {
   "cell_type": "code",
   "execution_count": 55,
   "id": "fd22c81f-58fc-4c5f-aaf7-25c7466153dc",
   "metadata": {
    "jupyter": {
     "source_hidden": true
    },
    "tags": []
   },
   "outputs": [
    {
     "name": "stdout",
     "output_type": "stream",
     "text": [
      "p-value: 0.000923\n"
     ]
    }
   ],
   "source": [
    "def proportions_diff_confint_rel(sample1, sample2, alpha = 0.05):\n",
    "    z = scipy.stats.norm.ppf(1 - alpha / 2.)\n",
    "    sample = list(zip(sample1, sample2))\n",
    "    n = len(sample)\n",
    "        \n",
    "    f = sum([1 if (x[0] == 1 and x[1] == 0) else 0 for x in sample])\n",
    "    g = sum([1 if (x[0] == 0 and x[1] == 1) else 0 for x in sample])\n",
    "    \n",
    "    left_boundary = float(f - g) / n  - z * np.sqrt(float((f + g)) / n**2 - float((f - g)**2) / n**3)\n",
    "    right_boundary = float(f - g) / n  + z * np.sqrt(float((f + g)) / n**2 - float((f - g)**2) / n**3)\n",
    "    return (left_boundary, right_boundary)\n",
    "\n",
    "def proportions_diff_z_stat_rel(sample1, sample2):\n",
    "    sample = list(zip(sample1, sample2))\n",
    "    n = len(sample)\n",
    "    \n",
    "    f = sum([1 if (x[0] == 1 and x[1] == 0) else 0 for x in sample])\n",
    "    g = sum([1 if (x[0] == 0 and x[1] == 1) else 0 for x in sample])\n",
    "    \n",
    "    return float(f - g) / np.sqrt(f + g - float((f - g)**2) / n )\n",
    "#%%\n",
    "pvalue = proportions_diff_z_test(proportions_diff_z_stat_rel(arr_1, arr_2))\n",
    "print (\"p-value: %f\" % proportions_diff_z_test(proportions_diff_z_stat_rel(arr_1, arr_2)))"
   ]
  },
  {
   "cell_type": "code",
   "execution_count": 57,
   "id": "ecee6233-7bb4-4081-bd52-e98a8d91b90b",
   "metadata": {
    "jupyter": {
     "source_hidden": true
    },
    "tags": []
   },
   "outputs": [
    {
     "name": "stdout",
     "output_type": "stream",
     "text": [
      "95% confidence interval for a difference between predictions: [-0.2865, -0.0735]\n"
     ]
    }
   ],
   "source": [
    "cinfidence_int_rel = proportions_diff_confint_rel(arr_1, arr_2)\n",
    "print (\"95%% confidence interval for a difference between predictions: [%.4f, %.4f]\" \\\n",
    "      % (np.round(cinfidence_int_rel[0],4), np.round(cinfidence_int_rel[1], 4)))"
   ]
  },
  {
   "cell_type": "markdown",
   "id": "142d27a2-b43d-4730-9287-1acc40c7b187",
   "metadata": {},
   "source": [
    "Ежегодно более 200000 людей по всему миру сдают стандартизированный экзамен GMAT при поступлении на программы MBA. Средний результат составляет 525 баллов, стандартное отклонение — 100 баллов. \n",
    "\n",
    "Сто студентов закончили специальные подготовительные курсы и сдали экзамен. Средний полученный ими балл — 541.4. Проверьте гипотезу о неэффективности программы против односторонней альтернативы о том, что программа работает. Отвергается ли на уровне значимости 0.05 нулевая гипотеза? Введите достигаемый уровень значимости, округлённый до 4 знаков после десятичной точки. "
   ]
  },
  {
   "cell_type": "markdown",
   "id": "5a861055-9613-44d2-9f12-c42cbbe270df",
   "metadata": {},
   "source": [
    "$$\n",
    "\\begin{aligned}\n",
    "Z\\left(X_{1}^{n_{1}}, X_{2}^{n_{2}}\\right) &=\\frac{\\bar{X}_{1}-\\bar{X}_{2}}{\\sqrt{\\frac{\\sigma_{1}^{2}}{n_{1}}+\\frac{\\sigma_{2}^{2}}{n_{2}}}} \\\\\n",
    "Z\\left(X_{1}^{n_{1}}, X_{2}^{n_{2}}\\right) & \\sim N(0,1)\n",
    "\\end{aligned}\n",
    "$$\n",
    "\n",
    "$$\n",
    "\\nu=\\frac{\\left(\\frac{S_{1}^{2}}{n_{1}}+\\frac{S_{2}^{2}}{n_{2}}\\right)^{2}}{\\frac{S_{1}^{4}}{n_{1}^{2}\\left(n_{1}-1\\right)}+\\frac{S_{2}^{4}}{n_{2}^{2}\\left(n_{2}-1\\right)}}\n",
    "$$\n",
    "\n",
    "$$\n",
    "\\begin{aligned}\n",
    "&T\\left(X_{1}^{n_{1}}, X_{2}^{n_{2}}\\right)=\\frac{\\bar{X}_{1}-\\bar{X}_{2}}{\\sqrt{\\frac{S_{1}^{2}}{n_{1}}+\\frac{S_{2}^{2}}{n_{2}}}} \\\\\n",
    "&T\\left(X_{1}^{n_{1}}, X_{2}^{n_{2}}\\right) \\approx \\sim S t(\\nu) .\n",
    "\\end{aligned}\n",
    "$$"
   ]
  },
  {
   "cell_type": "markdown",
   "id": "1e256cc6-ed63-49a6-8911-eccc3c137476",
   "metadata": {},
   "source": [
    "$$\n",
    "\\begin{aligned}\n",
    "&Z\\left(X^{n}\\right)=\\frac{\\bar{X}-\\mu_{0}}{\\sigma / \\sqrt{n}} \\\\\n",
    "&Z\\left(X^{n}\\right) \\sim N(0,1)\n",
    "\\end{aligned}\n",
    "$$"
   ]
  },
  {
   "cell_type": "code",
   "execution_count": 113,
   "id": "1d7e12da-9400-4e0b-a7bc-e4a6b0ae781c",
   "metadata": {},
   "outputs": [],
   "source": [
    "mean_experiment, mean_control = 541.5, 525\n",
    "std_experiment, std_control = 100, 100\n",
    "size_experiment, size_control = 100, 200000 - 100"
   ]
  },
  {
   "cell_type": "code",
   "execution_count": 114,
   "id": "4b1f6984-65e0-44da-89ea-27b0f7182df5",
   "metadata": {},
   "outputs": [],
   "source": [
    "Z = (mean_experiment - mean_control) / (std_control / math.sqrt(100))"
   ]
  },
  {
   "cell_type": "code",
   "execution_count": 115,
   "id": "f5988e39-ee26-4cce-a45b-7760d198b796",
   "metadata": {},
   "outputs": [
    {
     "data": {
      "text/plain": [
       "0.0495"
      ]
     },
     "execution_count": 115,
     "metadata": {},
     "output_type": "execute_result"
    }
   ],
   "source": [
    "round(1 - stats.norm.cdf(Z), 4)"
   ]
  },
  {
   "cell_type": "code",
   "execution_count": null,
   "id": "c57436e1-29e7-460f-878c-6d4d574d4f45",
   "metadata": {},
   "outputs": [],
   "source": []
  }
 ],
 "metadata": {
  "kernelspec": {
   "display_name": "Python 3.9 (XPython)",
   "language": "python",
   "name": "xpython"
  },
  "language_info": {
   "file_extension": ".py",
   "mimetype": "text/x-python",
   "name": "python",
   "version": "3.9.7"
  }
 },
 "nbformat": 4,
 "nbformat_minor": 5
}
