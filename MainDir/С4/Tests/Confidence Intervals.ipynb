{
 "cells": [
  {
   "cell_type": "code",
   "execution_count": 2,
   "id": "05e5e1f4-fad1-4229-98ae-2e020cce7a9e",
   "metadata": {},
   "outputs": [],
   "source": [
    "import math\n",
    "import random\n",
    "\n",
    "import numpy as np\n",
    "import scipy.stats as stats\n",
    "import snoop\n",
    "from loguru import logger\n",
    "from statsmodels.stats.proportion import proportion_confint"
   ]
  },
  {
   "cell_type": "code",
   "execution_count": 2,
   "id": "d415cfaa-0e13-4b6c-a5bf-f7ebf25979f3",
   "metadata": {},
   "outputs": [],
   "source": [
    "import bamboolib as bam"
   ]
  },
  {
   "cell_type": "code",
   "execution_count": 3,
   "id": "81533bc2-74ff-4975-a01b-32786c95f466",
   "metadata": {
    "tags": []
   },
   "outputs": [
    {
     "name": "stdout",
     "output_type": "stream",
     "text": [
      "0.0077\n",
      "2.9677\n"
     ]
    }
   ],
   "source": [
    "alpha = 0.003\n",
    "snd = stats.norm()\n",
    "z = snd.ppf(1 - 0.003 / 2)\n",
    "\n",
    "print(round(189 / 11034 - (104 / 11037), 4))\n",
    "\n",
    "print(np.round(z, 4))\n",
    "\n",
    "asp, no_asp = np.array([1] * 104 + [0] * (11037 - 104)), np.array(\n",
    "    [1] * 189 + [0] * (11034 - 189)\n",
    ")"
   ]
  },
  {
   "cell_type": "code",
   "execution_count": 5,
   "id": "643e12dc-14f7-439e-8f7a-cc9da1e624f8",
   "metadata": {},
   "outputs": [],
   "source": [
    "def get_bootstrap_samples(data, n_samples):\n",
    "    random.seed(0)\n",
    "    indices = np.random.randint(0, len(data), (n_samples, len(data)))\n",
    "    samples = data[indices]\n",
    "    return samples"
   ]
  },
  {
   "cell_type": "code",
   "execution_count": 6,
   "id": "79ebf1dd-46f3-4a1e-b95f-855cb41758ad",
   "metadata": {},
   "outputs": [],
   "source": [
    "with logger.catch():\n",
    "    asp_samples, no_asp_samples = get_bootstrap_samples(\n",
    "        asp, 1000\n",
    "    ), get_bootstrap_samples(no_asp, 1000)\n",
    "    asp_means, no_asp_means = list(map(np.mean, asp_samples)), list(\n",
    "        map(np.mean, no_asp_samples)\n",
    "    )\n",
    "    delta_means = list(map(lambda x: x[0] - x[1], zip(asp_means, no_asp_means)))"
   ]
  },
  {
   "cell_type": "code",
   "execution_count": 7,
   "id": "3f602c14-d59b-44a2-9ab6-e21394a33852",
   "metadata": {},
   "outputs": [],
   "source": [
    "def stat_intervals(stat, alpha):\n",
    "    boundaries = np.percentile(stat, [100 * alpha / 2.0, 100 * (1 - alpha / 2.0)])\n",
    "    return boundaries"
   ]
  },
  {
   "cell_type": "code",
   "execution_count": 8,
   "id": "838b4bb0-caf6-458f-bb17-751a147093a7",
   "metadata": {},
   "outputs": [
    {
     "data": {
      "text/plain": [
       "(-0.0106, -0.0048)"
      ]
     },
     "execution_count": 8,
     "metadata": {},
     "output_type": "execute_result"
    }
   ],
   "source": [
    "round(stat_intervals(delta_means, 0.05)[0], 4), round(\n",
    "    stat_intervals(delta_means, 0.05)[1], 4\n",
    ")"
   ]
  },
  {
   "cell_type": "code",
   "execution_count": 10,
   "id": "bcadf37d-55fe-414e-b7cf-f30b7bb7ab75",
   "metadata": {},
   "outputs": [
    {
     "data": {
      "text/plain": [
       "0.0107"
      ]
     },
     "execution_count": 10,
     "metadata": {},
     "output_type": "execute_result"
    }
   ],
   "source": [
    "n1 = 11037\n",
    "k1 = 104\n",
    "p1 = float(k1) / n1\n",
    "n2 = 11034\n",
    "k2 = 189\n",
    "p2 = float(k2) / n2\n",
    "round(p2 - p1 + 1.96 * np.sqrt(p2 * (1 - p2) / n2 + p1 * (1 - p1) / n1), 4)"
   ]
  },
  {
   "cell_type": "code",
   "execution_count": 11,
   "id": "427fbf1a-416c-43ef-8f28-9d58dd2c9ba6",
   "metadata": {},
   "outputs": [],
   "source": [
    "odds_asp, odds_no_asp = 104 / 11037, 189 / 11034\n",
    "odds_asp, odds_no_asp = odds_asp / (1 - odds_asp), odds_no_asp / (1 - odds_no_asp)"
   ]
  },
  {
   "cell_type": "code",
   "execution_count": 12,
   "id": "9d9b8b6f-1ad7-418b-a695-8c9986fe0515",
   "metadata": {},
   "outputs": [],
   "source": [
    "aspirin_n = 11037\n",
    "placebo_n = 11034\n",
    "aspirin_infarct_n = 104\n",
    "placebo_infarct_n = 189\n",
    "\n",
    "aspirin_p = float(aspirin_infarct_n) / aspirin_n\n",
    "placebo_p = float(placebo_infarct_n) / placebo_n"
   ]
  },
  {
   "cell_type": "code",
   "execution_count": 13,
   "id": "3f99fea6-e8ce-4bd0-9051-ee6e3a84ca56",
   "metadata": {},
   "outputs": [],
   "source": [
    "def proportions_confint_diff_ind(p1, count1, p2, count2, alpha=0.05):\n",
    "    z = stats.norm.ppf(1 - alpha / 2.0)\n",
    "\n",
    "    left_boundary = (p1 - p2) - z * np.sqrt(\n",
    "        p1 * (1.0 - p1) / count1 + p2 * (1 - p2) / count2\n",
    "    )\n",
    "    right_boundary = (p1 - p2) + z * np.sqrt(\n",
    "        p1 * (1.0 - p1) / count1 + p2 * (1 - p2) / count2\n",
    "    )\n",
    "\n",
    "    return (left_boundary, right_boundary)"
   ]
  },
  {
   "cell_type": "code",
   "execution_count": 14,
   "id": "ecb4651c-8b04-4f84-a4b4-78f7e096f047",
   "metadata": {},
   "outputs": [
    {
     "data": {
      "text/plain": [
       "-0.0047"
      ]
     },
     "execution_count": 14,
     "metadata": {},
     "output_type": "execute_result"
    }
   ],
   "source": [
    "round((proportions_confint_diff_ind(aspirin_p, aspirin_n, placebo_p, placebo_n)[1]), 4)"
   ]
  },
  {
   "cell_type": "code",
   "execution_count": 15,
   "id": "50340f06-1c3d-47e5-83cc-48742f06a459",
   "metadata": {},
   "outputs": [
    {
     "name": "stdout",
     "output_type": "stream",
     "text": [
      "Placebo to aspirin odds ratio: 1.8321\n"
     ]
    }
   ],
   "source": [
    "def calculate_odds(success_count, full_count):\n",
    "    return float(success_count) / float(full_count - success_count)\n",
    "\n",
    "\n",
    "aspirin_odds = calculate_odds(aspirin_infarct_n, aspirin_n)\n",
    "placebo_odds = calculate_odds(placebo_infarct_n, placebo_n)\n",
    "print(\"Placebo to aspirin odds ratio: %.4f\" % np.round(placebo_odds / aspirin_odds, 4))"
   ]
  },
  {
   "cell_type": "code",
   "execution_count": 16,
   "id": "b796a0e0-c9a3-4a21-8183-8ec5b6459050",
   "metadata": {},
   "outputs": [],
   "source": [
    "aspirin_vector = np.append(\n",
    "    np.ones(int(aspirin_infarct_n), dtype=int),\n",
    "    np.zeros(int(aspirin_n - aspirin_infarct_n), dtype=int),\n",
    ")\n",
    "placebo_vector = np.append(\n",
    "    np.ones(int(placebo_infarct_n), dtype=int),\n",
    "    np.zeros(int(placebo_n - placebo_infarct_n), dtype=int),\n",
    ")"
   ]
  },
  {
   "cell_type": "code",
   "execution_count": 17,
   "id": "92c5e3cb-fe41-484b-a854-22c3675ac25e",
   "metadata": {},
   "outputs": [],
   "source": [
    "def get_bootstrap_samples(data, n_samples):\n",
    "    data_length = len(data)\n",
    "    indices = np.random.randint(0, data_length, (n_samples, data_length))\n",
    "    return data[indices]\n",
    "\n",
    "\n",
    "# %%\n",
    "np.random.seed(0)\n",
    "placebo_samples = get_bootstrap_samples(placebo_vector, 1000)\n",
    "aspirin_samples = get_bootstrap_samples(aspirin_vector, 1000)"
   ]
  },
  {
   "cell_type": "code",
   "execution_count": 18,
   "id": "e46aba0d-a2ce-462b-a58f-8cad2b7fd87f",
   "metadata": {},
   "outputs": [
    {
     "name": "stdout",
     "output_type": "stream",
     "text": [
      "[1.4629 2.3509]\n"
     ]
    }
   ],
   "source": [
    "def calculate_odds_from_samples(samples):\n",
    "    samples_count = len(samples)\n",
    "    success_count = len(samples[samples == 1])\n",
    "    return calculate_odds(success_count, samples_count)\n",
    "\n",
    "\n",
    "# %%\n",
    "all_aspirin_odds = list(map(calculate_odds_from_samples, aspirin_samples))\n",
    "all_placebo_odds = list(map(calculate_odds_from_samples, placebo_samples))\n",
    "\n",
    "# %%\n",
    "\n",
    "\n",
    "def stat_intervals(stat, alpha):\n",
    "    boundaries = np.percentile(stat, [100 * alpha / 2.0, 100 * (1 - alpha / 2.0)])\n",
    "    return boundaries\n",
    "\n",
    "\n",
    "# %%\n",
    "odds = list(map(lambda x: x[1] / x[0], zip(all_aspirin_odds, all_placebo_odds)))\n",
    "# %%\n",
    "print(np.round(stat_intervals(odds, 0.05), 4))"
   ]
  },
  {
   "cell_type": "code",
   "execution_count": 24,
   "id": "e2235935-4278-49bd-ae16-9a4fb19cb93f",
   "metadata": {},
   "outputs": [
    {
     "name": "stdout",
     "output_type": "stream",
     "text": [
      "3 sigma rule refined: -2.9677\n",
      "Aspirin infarct probability: 0.0094\n",
      "Placebo infarct probability: 0.0171\n",
      "Probability diff 0.0077\n",
      "interval for aspirin infarct [0.0078, 0.0114]\n",
      "interval for placebo infarct [0.0149, 0.0197]\n",
      "interval for aspirin and placebo probability diff: [0.0047, 0.0107]\n",
      "Placebo to aspirin odds ratio: 1.8321\n",
      "[1.4442 2.3432]\n"
     ]
    }
   ],
   "source": [
    "import numpy as np\n",
    "from scipy.stats import norm\n",
    "\n",
    "# Давайте уточним правило трёх сигм.\n",
    "# Утверждение: 99.7% вероятностной массы случайной величины X∼N(μ,σ^2) лежит в интервале μ±c⋅σ.\n",
    "# Чему равно точное значение константы c?\n",
    "# Округлите ответ до четырёх знаков после десятичной точки.\n",
    "#%%\n",
    "print(\"3 sigma rule refined: %.4f\" % np.round(norm.ppf(0.003 / 2), 4))\n",
    "\n",
    "# В пятилетнем рандомизированном исследовании Гарвардской медицинской школы 11037 испытуемых через день\n",
    "# принимали аспирин, а ещё 11034 — плацебо. Исследование было слепым, то есть, испытуемые не знали,\n",
    "# что именно они принимают.\n",
    "# За 5 лет инфаркт случился у 104 испытуемых, принимавших аспирин, и у 189 принимавших плацебо.\n",
    "# Оцените, насколько вероятность инфаркта снижается при приёме аспирина. Округлите ответ до четырёх знаков\n",
    "# после десятичной точки.\n",
    "#%%\n",
    "aspirin_n = 11037\n",
    "placebo_n = 11034\n",
    "aspirin_infarct_n = 104\n",
    "placebo_infarct_n = 189\n",
    "\n",
    "aspirin_p = float(aspirin_infarct_n) / aspirin_n\n",
    "placebo_p = float(placebo_infarct_n) / placebo_n\n",
    "\n",
    "print(\"Aspirin infarct probability: %.4f\" % aspirin_p)\n",
    "print(\"Placebo infarct probability: %.4f\" % placebo_p)\n",
    "print(\"Probability diff %.4f\" % np.round(placebo_p - aspirin_p, 4))\n",
    "\n",
    "#%%\n",
    "from statsmodels.stats.proportion import proportion_confint\n",
    "\n",
    "conf_interval_aspirin = proportion_confint(\n",
    "    aspirin_infarct_n, aspirin_n, method=\"wilson\"\n",
    ")\n",
    "conf_interval_placebo = proportion_confint(\n",
    "    placebo_infarct_n, placebo_n, method=\"wilson\"\n",
    ")\n",
    "\n",
    "print(\n",
    "    \"interval for aspirin infarct [%.4f, %.4f]\"\n",
    "    % (np.round(conf_interval_aspirin[0], 4), np.round(conf_interval_aspirin[1], 4))\n",
    ")\n",
    "print(\n",
    "    \"interval for placebo infarct [%.4f, %.4f]\"\n",
    "    % (np.round(conf_interval_placebo[0], 4), np.round(conf_interval_placebo[1], 4))\n",
    ")\n",
    "\n",
    "#%%\n",
    "def proportions_confint_diff_ind(p1, count1, p2, count2, alpha=0.05):\n",
    "    z = norm.ppf(1 - alpha / 2.0)\n",
    "\n",
    "    left_boundary = (p1 - p2) - z * np.sqrt(\n",
    "        p1 * (1.0 - p1) / count1 + p2 * (1 - p2) / count2\n",
    "    )\n",
    "    right_boundary = (p1 - p2) + z * np.sqrt(\n",
    "        p1 * (1.0 - p1) / count1 + p2 * (1 - p2) / count2\n",
    "    )\n",
    "\n",
    "    return (left_boundary, right_boundary)\n",
    "\n",
    "\n",
    "# Постройте теперь 95% доверительный интервал для снижения вероятности инфаркта при приёме аспирина.\n",
    "# Чему равна его верхняя граница? Округлите ответ до четырёх знаков после десятичной точки.\n",
    "#%%\n",
    "conf_interval_diff = proportions_confint_diff_ind(\n",
    "    placebo_p, placebo_n, aspirin_p, aspirin_n\n",
    ")\n",
    "print(\n",
    "    \"interval for aspirin and placebo probability diff: [%.4f, %.4f]\"\n",
    "    % (np.round(conf_interval_diff[0], 4), np.round(conf_interval_diff[1], 4))\n",
    ")\n",
    "# Продолжим анализировать данные эксперимента Гарвардской медицинской школы.\n",
    "# Для бернуллиевских случайных величин X∼Ber(p) часто вычисляют величину p/(1−p), которая называется шансами\n",
    "# (odds). Чтобы оценить шансы по выборке, вместо p нужно подставить p^. Например, шансы инфаркта в контрольной\n",
    "# группе, принимавшей плацебо, можно оценить как\n",
    "# (189/11034)/(1−189/11034)=189/(11034−189)≈0.0174\n",
    "# Оцените, во сколько раз понижаются шансы инфаркта при регулярном приёме аспирина. Округлите ответ до четырёх\n",
    "# знаков после десятичной точки.\n",
    "#%%\n",
    "def calculate_odds(success_count, full_count):\n",
    "    return float(success_count) / float(full_count - success_count)\n",
    "\n",
    "\n",
    "#%%\n",
    "aspirin_odds = calculate_odds(aspirin_infarct_n, aspirin_n)\n",
    "placebo_odds = calculate_odds(placebo_infarct_n, placebo_n)\n",
    "print(\"Placebo to aspirin odds ratio: %.4f\" % np.round(placebo_odds / aspirin_odds, 4))\n",
    "\n",
    "# Величина, которую вы оценили в предыдущем вопросе, называется отношением шансов. Постройте для отношения\n",
    "# шансов 95% доверительный интервал с помощью бутстрепа. Чему равна его нижняя граница?\n",
    "# Округлите ответ до 4 знаков после десятичной точки.\n",
    "\n",
    "# Чтобы получить в точности такой же доверительный интервал, как у нас:\n",
    "# - составьте векторы исходов в контрольной и тестовой выборках так, чтобы в начале шли все единицы,\n",
    "#   а потом все нули;\n",
    "# - установите random seed=0;\n",
    "# - сделайте по 1000 псевдовыборок из каждой группы пациентов с помощью функции get_bootstrap_samples.\n",
    "#%%\n",
    "aspirin_vector = np.append(\n",
    "    np.ones(int(aspirin_infarct_n), dtype=int),\n",
    "    np.zeros(int(aspirin_n - aspirin_infarct_n), dtype=int),\n",
    ")\n",
    "placebo_vector = np.append(\n",
    "    np.ones(int(placebo_infarct_n), dtype=int),\n",
    "    np.zeros(int(placebo_n - placebo_infarct_n), dtype=int),\n",
    ")\n",
    "#%%\n",
    "def get_bootstrap_samples(data, n_samples):\n",
    "    data_length = len(data)\n",
    "    indices = np.random.randint(0, data_length, (n_samples, data_length))\n",
    "    return data[indices]\n",
    "\n",
    "\n",
    "#%%\n",
    "np.random.seed(0)\n",
    "aspirin_samples = get_bootstrap_samples(aspirin_vector, 1000)\n",
    "placebo_samples = get_bootstrap_samples(placebo_vector, 1000)\n",
    "#%%\n",
    "def calculate_odds_from_samples(samples):\n",
    "    samples_count = len(samples)\n",
    "    success_count = len(samples[samples == 1])\n",
    "    return calculate_odds(success_count, samples_count)\n",
    "\n",
    "\n",
    "#%%\n",
    "all_aspirin_odds = list(map(calculate_odds_from_samples, aspirin_samples))\n",
    "all_placebo_odds = list(map(calculate_odds_from_samples, placebo_samples))\n",
    "\n",
    "#%%\n",
    "def stat_intervals(stat, alpha):\n",
    "    boundaries = np.percentile(stat, [100 * alpha / 2.0, 100 * (1 - alpha / 2.0)])\n",
    "    return boundaries\n",
    "\n",
    "\n",
    "#%%\n",
    "odds = list(map(\n",
    "    lambda x: x[1] / x[0],\n",
    "    zip(all_aspirin_odds, all_placebo_odds),\n",
    "))\n",
    "#%%\n",
    "print(np.round(stat_intervals(odds, 0.05), 4))"
   ]
  },
  {
   "cell_type": "code",
   "execution_count": null,
   "id": "0d5c7927-e1a6-4a1a-81ae-4c5a64619f79",
   "metadata": {},
   "outputs": [],
   "source": []
  }
 ],
 "metadata": {
  "kernelspec": {
   "display_name": "Python 3 (ipykernel)",
   "language": "python",
   "name": "python3"
  },
  "language_info": {
   "codemirror_mode": {
    "name": "ipython",
    "version": 3
   },
   "file_extension": ".py",
   "mimetype": "text/x-python",
   "name": "python",
   "nbconvert_exporter": "python",
   "pygments_lexer": "ipython3",
   "version": "3.9.7"
  }
 },
 "nbformat": 4,
 "nbformat_minor": 5
}
