{
 "cells": [
  {
   "cell_type": "markdown",
   "metadata": {
    "colab_type": "text",
    "id": "view-in-github"
   },
   "source": [
    "<a href=\"https://colab.research.google.com/github/vasya-dancehall/MainDir/blob/master/dl_intro.ipynb\" target=\"_parent\"><img src=\"https://colab.research.google.com/assets/colab-badge.svg\" alt=\"Open In Colab\"/></a>"
   ]
  },
  {
   "cell_type": "markdown",
   "metadata": {
    "id": "cTAbteP9gtzi"
   },
   "source": [
    "# Часть 2: Deep Learning\n",
    "\n",
    "Для начала напомним основные понятия машинного обучения.\n",
    "\n",
    "Что такое моделирование? Это когда мы пытаемся как-то задать зависимость (функцию) между фичами ($X$) и целевой переменной ($y$).\n",
    "\n",
    "* Для этого мы пользуемся какими-то предположениями о том, как должно выглядеть идеальное решение. Например, мы можем сказать «$y = f_k(x) = kx + \\epsilon$ для какого-то $k$», то есть мы можем предположить, что переменные $x$ и $y$ связаны как-то линейно, но коэффициент пропорциональности мы не знаем, и тогда он будет называться **параметром** модели.\n",
    "* После этого мы вводим какую-то **функцию потерь** (например, $l(y') = (y'-y)^2$) и подбираем параметры модели, которые минимизируют её ожидаемое значение.\n",
    "\n",
    "Как подбирать эти параметры? В простых случаях, вроде линейной регрессии, они находятся аналитически: нужно взять производную, приравнять к нулю и решить систему уравнений. Но иногда эти функции намного сложнее. Как их оптимизировать?"
   ]
  },
  {
   "cell_type": "markdown",
   "metadata": {
    "id": "R_xqFRnngtzo"
   },
   "source": [
    "## Добро пожаловать в мир дифференцируемых функций\n",
    "\n",
    "Автор определяет следующую «иерархию хороших функций», с точки зрения лёгкости нахождения минимума:\n",
    "\n",
    "* Аналитически решаемые — их глобальный минимум можно выразить какой-то простой формулой. Пример: линейная регрессия.\n",
    "* Выпуклые. У них гарантируется решение, причём единственное, и оно быстро ищется разными методами, в частности градиентным спуском (но обычно можно даже быстрее). Пример: логистическая регрессия.\n",
    "* Дифференцируемые. К ним можно применить градиентный спуск, и, возможно, он сойдётся не к локальному минимуму, а к глобальному. **<-- YOU ARE HERE**\n",
    "* Дискретные. Тут обычно всё грустно, но нам хотя бы можно быстро узнать её значение.\n",
    "* Невычислимые. Иногда нам нужно оценивать что-нибудь совсем не формализуемое математикой — например, качество перевода, или поведение пользователя. Невычислимыми функциями, в частности, занимается Reinforcement Learning.\n",
    "\n",
    "В курсе вы будете заниматься разными способами задания моделей, состоящих только из *дифференцируемых* относительно параметров преобразований, что позволит искать (иногда успешно, иногда нет) набор параметров, при которых ожидание функции потерь имеет минимальное значение."
   ]
  },
  {
   "cell_type": "markdown",
   "metadata": {
    "id": "7b4qO-sEgtzs"
   },
   "source": [
    "## Градиентный спуск\n",
    "\n",
    "**Градиентом** называют вектор (набор чисел), каждой компонентой которого является значение производной по очередному аргументу (при фиксированных остальных).\n",
    "\n",
    "**Ок, зачем он нужен?** Пусть у нас есть какая-нибудь функция, которую мы хотим минимизировать, и мы предполагаем, что она выглядит как что-то типа гладкой ямы. Тогда мы можем попытаться действовать так: начнем с какой-нибудь точки и будем делать много очень маленьких шажков в сторону наибольшего уменьшения функции, пока не придем в локальный минимум.\n",
    "\n",
    "* Что значит «в сторону наибольшего уменьшения»? Это значит «против градиаента».\n",
    "* Что такое «маленький шажок»? Это значит $-\\lambda \\cdot (f'_1, f'_2, \\ldots, f'_n)$. Обычно $\\lambda$ это что-то типа $10^{-3}$. Этот параметр называется learning rate (скорость обучения).\n",
    "* Что значит «пока не придём в локальный минимум». Это значит «пока градиент не ноль». На практике будем проверять, что норма (т. е. длина вектора) больше определенного очень малого $\\epsilon$.\n",
    "\n",
    "Если learning rate достоаточно маленький, мы точно придем хотя бы в локальный минимум. Этот метод называется **градиентным спуском**, и он очень часто применяется для оптимизации тех функций, у которых везде можно быстро посчитать градиент. Гарантированно находить глобальный минимум произвольной функции наука пока не умеет (и вряд ли когда-либо научится)."
   ]
  },
  {
   "cell_type": "markdown",
   "metadata": {
    "id": "3Dv9XZeXgt0o"
   },
   "source": [
    "### Эвристики\n",
    "\n",
    "В сложных моделях — например, нейросетях — поверхности оптимизируемых функций обычно выглядят весьма страшно:\n",
    "\n",
    "<img width='250px' src='https://ml4a.github.io/images/figures/non_convex_function.png'>\n",
    "\n",
    "«Плохих» точек в процессе оптимизации на самом деле существует два типа: где градиент нулевой и где градиент бесконечный.\n",
    "\n",
    "**Моментум**. Что делать, если мы попали в какую-то точку, где градиента практически нет? Будем шагать каждый раз не в сторону градиента в данной точке, а в сторону *экспоненциально усреднённого* градиента по всем предыдущим итерациям (градиенты с последних итераций будут иметь больший вес). Для этого вводится специальный гиперпараметр $0 < \\gamma < 1$, а рядом с каждым параметром хранится усреднённое среднее его градиентов, которое обновляется по следующей формуле:\n",
    "\n",
    "$$ \\hat{g}_i = \\hat{g}_{i-1} \\cdot \\gamma + g_i $$\n",
    "\n",
    "<img width='250px' src='https://upload.wikimedia.org/wikipedia/commons/thumb/1/1e/Saddle_point.svg/300px-Saddle_point.svg.png'>\n",
    "\n",
    "**RMSProp**. Что делать, если мы на «обрыве»? Будем поддерживать таким же образом усреднённые *квадраты* градиентов, и при обновлении параметров нормировать градиент, деля его на корень из этой оценки. Так оптимизатор будет адаптироваться под «турбулентные» регионы, уменьшая в них размер шага и не давая параметрам улететь куда-то далего из-за обрывов.\n",
    "\n",
    "<img width='250px' src='https://3.bp.blogspot.com/-fJQ8OM1dHl4/WV363VZZVqI/AAAAAAAAFSk/0e0EuS3WZ9gv5jW93cuF-XjU2FAN42VMQCLcBGAs/s1600/gradient_clipping.png'>\n",
    "\n",
    "Алгоритм, объединяющий эти две эвристики, называется **Adam**. Он является одним из самых часто используемых оптимизаторов в глубоком обучении.\n",
    "\n",
    "Подробнее прочитать про эвристики в градиентном спуске можно тут: http://ruder.io/optimizing-gradient-descent/"
   ]
  },
  {
   "cell_type": "markdown",
   "metadata": {
    "id": "_UUjeR_lgtz0"
   },
   "source": [
    "### Стохастический градиентный спуск\n",
    "\n",
    "Нам может потребоваться много итераций, чтобы градиентный спуск сошелся. Более того, время выполнения одной итерации может быть очень большим хотя бы потому, что нам нужно каждый раз просмотреть весь датасет. Поэтому для каждого шага градиентного спуска будем использовать не точный градиент, а его оценку: выберем несколько десятков примеров — такой набор называется батчем (англ. batch — пакет, группа) — посчитаем на них градиенты и усредним. Получаем шумную, но приемлимую для нас оценку градиента. Такой вид градиентного спуска называют стохастическим (SGD — stochastic gradient descent).\n",
    "\n",
    "Почему бы не брать вообще один пример? На самом деле, с точки зрения теории — можно. Но на практике оптимальный размер батча совсем маленьким делать не стоит из-за параллелизма: на устройстах, на которых эти градиенты считаются, затратится меньше времени на пример, если данные обрабатывать не поштучно, а группами (включите GPU в Google Colab и выполните ячейки снизу).\n",
    "\n",
    "[Можно показать](https://openreview.net/pdf?id=B1Yy1BxCZ), что чтобы скомпенсировать уменьшение размера батча, нужно во столько же раз уменьшить learning rate. Иными словами, более шумные оценки градиента можно компенсировать более мелкими и аккуратными шагами."
   ]
  },
  {
   "cell_type": "markdown",
   "metadata": {
    "id": "pvxOfDSMgtz3"
   },
   "source": [
    "<img width='500px' src='https://sqream.com/wp-content/uploads/2017/03/cpu_vs_gpu-11.png'>\n",
    "\n",
    "Если вы работаете локально, то зайдите на https://pytorch.org/get-started/locally/ и установите PyTorch."
   ]
  },
  {
   "cell_type": "code",
   "execution_count": 1,
   "metadata": {
    "execution": {
     "iopub.execute_input": "2021-10-20T16:28:38.075027Z",
     "iopub.status.busy": "2021-10-20T16:28:38.074587Z",
     "iopub.status.idle": "2021-10-20T16:28:39.923853Z",
     "shell.execute_reply": "2021-10-20T16:28:39.922966Z",
     "shell.execute_reply.started": "2021-10-20T16:28:38.074967Z"
    },
    "id": "jbGyCvJpgtz8"
   },
   "outputs": [],
   "source": [
    "import torch\n",
    "import numpy\n",
    "from tqdm.notebook import trange"
   ]
  },
  {
   "cell_type": "code",
   "execution_count": 2,
   "metadata": {
    "colab": {
     "base_uri": "https://localhost:8080/"
    },
    "execution": {
     "iopub.execute_input": "2021-10-20T16:28:39.926477Z",
     "iopub.status.busy": "2021-10-20T16:28:39.926070Z",
     "iopub.status.idle": "2021-10-20T16:28:41.061208Z",
     "shell.execute_reply": "2021-10-20T16:28:41.059911Z",
     "shell.execute_reply.started": "2021-10-20T16:28:39.926432Z"
    },
    "id": "XJpsMiMhgt0L",
    "outputId": "f86417d2-c485-4b1a-d7e8-20a9fba98b2d"
   },
   "outputs": [
    {
     "name": "stdout",
     "output_type": "stream",
     "text": [
      "CPU times: user 1.26 s, sys: 34.6 ms, total: 1.3 s\n",
      "Wall time: 1.15 s\n"
     ]
    }
   ],
   "source": [
    "A = numpy.random.randn(1000, 5000)\n",
    "B = numpy.random.randn(5000, 2000)\n",
    "%time C = numpy.matmul(A, B)"
   ]
  },
  {
   "cell_type": "code",
   "execution_count": 3,
   "metadata": {
    "colab": {
     "base_uri": "https://localhost:8080/"
    },
    "execution": {
     "iopub.execute_input": "2021-10-20T16:28:41.067575Z",
     "iopub.status.busy": "2021-10-20T16:28:41.067084Z",
     "iopub.status.idle": "2021-10-20T16:28:41.622403Z",
     "shell.execute_reply": "2021-10-20T16:28:41.621366Z",
     "shell.execute_reply.started": "2021-10-20T16:28:41.067528Z"
    },
    "id": "Ug3tDQZggt0Y",
    "outputId": "4c60e0a5-6caf-4227-820a-c365b315e946"
   },
   "outputs": [
    {
     "name": "stdout",
     "output_type": "stream",
     "text": [
      "CPU times: user 521 ms, sys: 21.7 ms, total: 543 ms\n",
      "Wall time: 1.46 s\n"
     ]
    }
   ],
   "source": [
    "A = torch.randn(1000, 5000)\n",
    "B = torch.randn(5000, 2000)\n",
    "\n",
    "%time C = torch.matmul(A, B)"
   ]
  },
  {
   "cell_type": "code",
   "execution_count": 4,
   "metadata": {
    "colab": {
     "base_uri": "https://localhost:8080/"
    },
    "execution": {
     "iopub.execute_input": "2021-10-20T19:31:37.694884Z",
     "iopub.status.busy": "2021-10-20T19:31:37.694419Z",
     "iopub.status.idle": "2021-10-20T19:31:37.836755Z",
     "shell.execute_reply": "2021-10-20T19:31:37.835683Z",
     "shell.execute_reply.started": "2021-10-20T19:31:37.694851Z"
    },
    "id": "0osua6Eagt0f",
    "outputId": "c3282a2c-094c-4f01-a221-2dc97f82f7a3"
   },
   "outputs": [
    {
     "ename": "AssertionError",
     "evalue": "Torch not compiled with CUDA enabled",
     "output_type": "error",
     "traceback": [
      "\u001b[0;31m---------------------------------------------------------------------------\u001b[0m",
      "\u001b[0;31mAssertionError\u001b[0m                            Traceback (most recent call last)",
      "\u001b[0;32m/var/folders/t0/fw3jvl196_v78v94hzhxhpgw0000gn/T/ipykernel_61031/119060764.py\u001b[0m in \u001b[0;36m<module>\u001b[0;34m\u001b[0m\n\u001b[1;32m      2\u001b[0m \u001b[0;31m# (сверху слева Runtime -> Change runtime type... -> GPU)\u001b[0m\u001b[0;34m\u001b[0m\u001b[0;34m\u001b[0m\u001b[0;34m\u001b[0m\u001b[0m\n\u001b[1;32m      3\u001b[0m \u001b[0;34m\u001b[0m\u001b[0m\n\u001b[0;32m----> 4\u001b[0;31m \u001b[0mA\u001b[0m \u001b[0;34m=\u001b[0m \u001b[0mtorch\u001b[0m\u001b[0;34m.\u001b[0m\u001b[0mrandn\u001b[0m\u001b[0;34m(\u001b[0m\u001b[0;36m1000\u001b[0m\u001b[0;34m,\u001b[0m \u001b[0;36m5000\u001b[0m\u001b[0;34m)\u001b[0m\u001b[0;34m.\u001b[0m\u001b[0mcuda\u001b[0m\u001b[0;34m(\u001b[0m\u001b[0;34m)\u001b[0m\u001b[0;34m\u001b[0m\u001b[0;34m\u001b[0m\u001b[0m\n\u001b[0m\u001b[1;32m      5\u001b[0m \u001b[0mB\u001b[0m \u001b[0;34m=\u001b[0m \u001b[0mtorch\u001b[0m\u001b[0;34m.\u001b[0m\u001b[0mrandn\u001b[0m\u001b[0;34m(\u001b[0m\u001b[0;36m5000\u001b[0m\u001b[0;34m,\u001b[0m \u001b[0;36m2000\u001b[0m\u001b[0;34m)\u001b[0m\u001b[0;34m.\u001b[0m\u001b[0mcuda\u001b[0m\u001b[0;34m(\u001b[0m\u001b[0;34m)\u001b[0m\u001b[0;34m\u001b[0m\u001b[0;34m\u001b[0m\u001b[0m\n\u001b[1;32m      6\u001b[0m \u001b[0;34m\u001b[0m\u001b[0m\n",
      "\u001b[0;32m~/opt/anaconda3/lib/python3.8/site-packages/torch/cuda/__init__.py\u001b[0m in \u001b[0;36m_lazy_init\u001b[0;34m()\u001b[0m\n\u001b[1;32m    206\u001b[0m                 \"multiprocessing, you must use the 'spawn' start method\")\n\u001b[1;32m    207\u001b[0m         \u001b[0;32mif\u001b[0m \u001b[0;32mnot\u001b[0m \u001b[0mhasattr\u001b[0m\u001b[0;34m(\u001b[0m\u001b[0mtorch\u001b[0m\u001b[0;34m.\u001b[0m\u001b[0m_C\u001b[0m\u001b[0;34m,\u001b[0m \u001b[0;34m'_cuda_getDeviceCount'\u001b[0m\u001b[0;34m)\u001b[0m\u001b[0;34m:\u001b[0m\u001b[0;34m\u001b[0m\u001b[0;34m\u001b[0m\u001b[0m\n\u001b[0;32m--> 208\u001b[0;31m             \u001b[0;32mraise\u001b[0m \u001b[0mAssertionError\u001b[0m\u001b[0;34m(\u001b[0m\u001b[0;34m\"Torch not compiled with CUDA enabled\"\u001b[0m\u001b[0;34m)\u001b[0m\u001b[0;34m\u001b[0m\u001b[0;34m\u001b[0m\u001b[0m\n\u001b[0m\u001b[1;32m    209\u001b[0m         \u001b[0;32mif\u001b[0m \u001b[0m_cudart\u001b[0m \u001b[0;32mis\u001b[0m \u001b[0;32mNone\u001b[0m\u001b[0;34m:\u001b[0m\u001b[0;34m\u001b[0m\u001b[0;34m\u001b[0m\u001b[0m\n\u001b[1;32m    210\u001b[0m             raise AssertionError(\n",
      "\u001b[0;31mAssertionError\u001b[0m: Torch not compiled with CUDA enabled"
     ]
    }
   ],
   "source": [
    "# если вы открыли тетрадку через Google Colab, то включите GPU\n",
    "# (сверху слева Runtime -> Change runtime type... -> GPU)\n",
    "\n",
    "A = torch.randn(1000, 5000).cuda()\n",
    "B = torch.randn(5000, 2000).cuda()\n",
    "\n",
    "%time C = torch.matmul(A, B)"
   ]
  },
  {
   "cell_type": "markdown",
   "metadata": {
    "id": "pFbbEZfTgt0u"
   },
   "source": [
    "----"
   ]
  },
  {
   "cell_type": "markdown",
   "metadata": {
    "id": "jXRJVMFGgt00"
   },
   "source": [
    "## Практическая часть: фреймворки\n",
    "\n",
    "Чтобы оптимизировать функцию потерь относительно параметров градиентным спуском, нужно для начала этот градиент хотя бы посчитать. Как вы убедитесь на 3-м занятии, это больно делать вручную. Для этого существуют фреймворки, которые сами посчитают производные за нас. Помимо своей основной функции (поддержка эффективного автоматического дифференцирования и оптимизаторов), они также включают полезные абстракции для машинного обучения.\n",
    "\n",
    "Фреймворков много, и становится ещё больше. Мы будем использовать **PyTorch**. Вам он будет очень напоминать numpy — по сути он может делать всё то же, только ещё и считать градиенты относительно параметров."
   ]
  },
  {
   "cell_type": "markdown",
   "metadata": {
    "id": "duBkhVeXgt04"
   },
   "source": [
    "PyTorch можно использовать как замену numpy:"
   ]
  },
  {
   "cell_type": "code",
   "execution_count": 5,
   "metadata": {
    "colab": {
     "base_uri": "https://localhost:8080/"
    },
    "execution": {
     "iopub.execute_input": "2021-10-20T16:28:46.390822Z",
     "iopub.status.busy": "2021-10-20T16:28:46.390526Z",
     "iopub.status.idle": "2021-10-20T16:28:46.462988Z",
     "shell.execute_reply": "2021-10-20T16:28:46.462027Z",
     "shell.execute_reply.started": "2021-10-20T16:28:46.390781Z"
    },
    "id": "-j66C1kagt06",
    "outputId": "5b459c93-b5b5-4d52-b6a2-d354df5eab0c"
   },
   "outputs": [
    {
     "name": "stdout",
     "output_type": "stream",
     "text": [
      "tensor([5., 7., 9.])\n"
     ]
    }
   ],
   "source": [
    "x = torch.tensor([1., 2., 3.])\n",
    "y = torch.tensor([4., 5., 6.])\n",
    "z = x + y\n",
    "\n",
    "print(z)"
   ]
  },
  {
   "cell_type": "code",
   "execution_count": 6,
   "metadata": {
    "colab": {
     "base_uri": "https://localhost:8080/"
    },
    "execution": {
     "iopub.execute_input": "2021-10-20T16:28:46.464862Z",
     "iopub.status.busy": "2021-10-20T16:28:46.464527Z",
     "iopub.status.idle": "2021-10-20T16:28:46.479060Z",
     "shell.execute_reply": "2021-10-20T16:28:46.477598Z",
     "shell.execute_reply.started": "2021-10-20T16:28:46.464824Z"
    },
    "id": "M7s7_wdVgt1G",
    "outputId": "a5f16e02-17a8-46d0-ece1-d06dc878ad77"
   },
   "outputs": [
    {
     "name": "stdout",
     "output_type": "stream",
     "text": [
      "tensor(32., grad_fn=<DotBackward0>)\n"
     ]
    }
   ],
   "source": [
    "# при создании переменных можно поставить флаг requires_grad\n",
    "x = torch.tensor([1., 2., 3], requires_grad=True)\n",
    "\n",
    "# с этим флагом мы можем делать те же операции, что и раньше\n",
    "y = torch.tensor([4., 5., 6], requires_grad=True)\n",
    "z = torch.dot(x, y)\n",
    "print(z)"
   ]
  },
  {
   "cell_type": "markdown",
   "metadata": {
    "id": "JW1aPs4Lgt1P"
   },
   "source": [
    "...но теперь z кое-что знает о себе:"
   ]
  },
  {
   "cell_type": "code",
   "execution_count": 7,
   "metadata": {
    "colab": {
     "base_uri": "https://localhost:8080/"
    },
    "execution": {
     "iopub.execute_input": "2021-10-20T16:28:46.481591Z",
     "iopub.status.busy": "2021-10-20T16:28:46.481189Z",
     "iopub.status.idle": "2021-10-20T16:28:46.488547Z",
     "shell.execute_reply": "2021-10-20T16:28:46.487519Z",
     "shell.execute_reply.started": "2021-10-20T16:28:46.481550Z"
    },
    "id": "cUqQnpzmgt1V",
    "outputId": "d40dd0c9-614a-43ba-e15e-5bfca6b5c524",
    "scrolled": true
   },
   "outputs": [
    {
     "name": "stdout",
     "output_type": "stream",
     "text": [
      "<DotBackward0 object at 0x7fec2a294a90>\n"
     ]
    }
   ],
   "source": [
    "print(z.grad_fn)"
   ]
  },
  {
   "cell_type": "markdown",
   "metadata": {
    "id": "lZ83fzXZgt1i"
   },
   "source": [
    "`z` — скаляр, и мы можем продиффиренцировать весь граф относительно него:"
   ]
  },
  {
   "cell_type": "code",
   "execution_count": 8,
   "metadata": {
    "execution": {
     "iopub.execute_input": "2021-10-20T16:28:46.491130Z",
     "iopub.status.busy": "2021-10-20T16:28:46.490360Z",
     "iopub.status.idle": "2021-10-20T16:28:46.501596Z",
     "shell.execute_reply": "2021-10-20T16:28:46.500537Z",
     "shell.execute_reply.started": "2021-10-20T16:28:46.491069Z"
    },
    "id": "ELxu2tYwgt1l"
   },
   "outputs": [],
   "source": [
    "z.backward()"
   ]
  },
  {
   "cell_type": "markdown",
   "metadata": {
    "id": "vIbZpuL9gt1x"
   },
   "source": [
    "И теперь рядом со всеми переменными с requires_grad=True, которые как-либо использовались при получении z, теперь будут их градиенты."
   ]
  },
  {
   "cell_type": "code",
   "execution_count": 9,
   "metadata": {
    "colab": {
     "base_uri": "https://localhost:8080/"
    },
    "execution": {
     "iopub.execute_input": "2021-10-20T16:28:46.504189Z",
     "iopub.status.busy": "2021-10-20T16:28:46.502989Z",
     "iopub.status.idle": "2021-10-20T16:28:46.513900Z",
     "shell.execute_reply": "2021-10-20T16:28:46.512655Z",
     "shell.execute_reply.started": "2021-10-20T16:28:46.504144Z"
    },
    "id": "pEiN8IDigt10",
    "outputId": "a02687bc-e65f-4662-a99a-82b847138d1f"
   },
   "outputs": [
    {
     "name": "stdout",
     "output_type": "stream",
     "text": [
      "tensor([4., 5., 6.])\n",
      "tensor([1., 2., 3.])\n"
     ]
    }
   ],
   "source": [
    "print(x.grad)\n",
    "print(y.grad)"
   ]
  },
  {
   "cell_type": "markdown",
   "metadata": {
    "id": "laIfejGvgt17"
   },
   "source": [
    "Мы сможем потом использовать эти градиенты, чтобы оптимально подвинуть параметры в градиентном спуске."
   ]
  },
  {
   "cell_type": "markdown",
   "metadata": {
    "id": "QELCcRPfgt2A"
   },
   "source": [
    "## MNIST\n",
    "\n",
    "Это всё было абстрактно. Рассмотрим более конкретный пример.\n",
    "\n",
    "Датасет MNIST включает в себя 70000 черно-белых изображений цифр от 0 до 9, каждое 28 на 28 пиксилей. Задача — предсказать по изображению наиболее вероятную цифру, соответствующую изображению.\n",
    "\n",
    "<img width='400px' src='https://camo.githubusercontent.com/24545a9ca1aa3b5d1036bd3deaed3ed7ec6cfdc4/68747470733a2f2f692e696d6775722e636f6d2f4954726d3978342e706e67'>\n",
    "\n",
    "**Нейронная сеть** — это просто какая-то последовательность дифференцируемых операций со входными данными. Обычно эти массовые операции над векторами называют **слоями**. Самый простой пример — матричное умножение, за которым следует операция `softmax`:\n",
    "\n",
    "$$ \\sigma(x)_k = \\frac{e^{x_k}}{\\sum_i e^{x_i}} $$\n",
    "\n",
    "Она возвращает вероятностное распределение: нетрудно убедиться, что каждый элемент неотрицателен, и все $\\sigma_i$ суммируются в единицу. Если кто помнит, мы только что описали логистическую регрессию, которая тоже в каком-то смысле является очень простой нейросетью.\n",
    "\n",
    "Обучим какую-нибудь нейросеть, которая принимает вектора размера $784 = 28^2$ и возвращает вероятностное распределение. \n",
    "\n",
    "**ВАЖНО**: из-за вычислительных причин мы почти всегда будем обрабатывать данные по батчам, и поэтому размерности входных и промежуточных данных всегда будут вида (batch_size x dim)."
   ]
  },
  {
   "cell_type": "code",
   "execution_count": 10,
   "metadata": {
    "execution": {
     "iopub.execute_input": "2021-10-20T16:28:46.519011Z",
     "iopub.status.busy": "2021-10-20T16:28:46.518461Z",
     "iopub.status.idle": "2021-10-20T16:28:46.958489Z",
     "shell.execute_reply": "2021-10-20T16:28:46.957404Z",
     "shell.execute_reply.started": "2021-10-20T16:28:46.518976Z"
    },
    "id": "2p22KAlhgt2F"
   },
   "outputs": [],
   "source": [
    "import torch\n",
    "import torch.nn as nn\n",
    "# import torch.nn.functional as F\n",
    "from torchvision import datasets\n",
    "\n",
    "import matplotlib.pyplot as plt\n",
    "%matplotlib inline"
   ]
  },
  {
   "cell_type": "code",
   "execution_count": 11,
   "metadata": {
    "colab": {
     "base_uri": "https://localhost:8080/"
    },
    "execution": {
     "iopub.execute_input": "2021-10-20T19:13:50.793454Z",
     "iopub.status.busy": "2021-10-20T19:13:50.792514Z",
     "iopub.status.idle": "2021-10-20T19:13:50.800007Z",
     "shell.execute_reply": "2021-10-20T19:13:50.799016Z",
     "shell.execute_reply.started": "2021-10-20T19:13:50.793408Z"
    },
    "id": "ZB4bS57bRwpc",
    "outputId": "49983b82-365d-4694-90f1-4160804ae9be"
   },
   "outputs": [
    {
     "name": "stdout",
     "output_type": "stream",
     "text": [
      "Training on device cpu.\n"
     ]
    }
   ],
   "source": [
    "device = (torch.device('cuda') if torch.cuda.is_available() else torch.device('cpu'))\n",
    "print(f\"Training on device {device}.\")"
   ]
  },
  {
   "cell_type": "code",
   "execution_count": 12,
   "metadata": {
    "execution": {
     "iopub.execute_input": "2021-10-20T19:24:55.578210Z",
     "iopub.status.busy": "2021-10-20T19:24:55.577685Z",
     "iopub.status.idle": "2021-10-20T19:24:55.619484Z",
     "shell.execute_reply": "2021-10-20T19:24:55.618486Z",
     "shell.execute_reply.started": "2021-10-20T19:24:55.578177Z"
    },
    "id": "p_ZGAY-agt2M"
   },
   "outputs": [],
   "source": [
    "def get_loader(train, batch_size):\n",
    "    \"\"\"Cкачает мнист и сохранит где-то рядом.\"\"\"\n",
    "    global dataset\n",
    "    # Dataset в PyTorch -- это какой-то объект, который оборачивает сырые данные и делает с ними какой-нибудь препроцессинг\n",
    "    dataset = datasets.MNIST('mnist', train=train, download=True,\n",
    "        transform=transforms.ToTensor())\n",
    "    \n",
    "    # DataLoader делает из датасета генератор, который возвращает данные, сгруппированные по батчам\n",
    "    loader = torch.utils.data.DataLoader(dataset, batch_size=batch_size, shuffle=True)\n",
    "    \n",
    "    return loader\n",
    "    \n",
    "train = get_loader(True, 528)\n",
    "val = get_loader(False, 528)"
   ]
  },
  {
   "cell_type": "markdown",
   "metadata": {
    "id": "5f2jBJYWgt2R"
   },
   "source": [
    "Вам для первого занятия не нужно деталь знать, как устроены Dataset-ы и DataLoader-ы, но в будущем будет полезным прочитать туториал с pytorch.org: https://pytorch.org/tutorials/beginner/data_loading_tutorial.html"
   ]
  },
  {
   "cell_type": "markdown",
   "metadata": {
    "id": "5Sb5V1Jqgt2T"
   },
   "source": [
    "В качестве функции потерь выберем кроссэнтропию — так же, как и в логистической регрессии. В PyTorch есть функция, которая принимает логарифмы вероятностей и правильные ответы и возвращает кроссэнтропию — `nn.NLLLoss` (negative log likelihood loss). Из-за вычислительных причин (в основном, проблем с точностью), мы почти всегда будем работать с логарифмами вероятностей, а не с самими вероятностями. Чтобы сеть их выдавала, нужно последним слоем добавить слой `nn.LogSoftmax`."
   ]
  },
  {
   "cell_type": "markdown",
   "metadata": {
    "id": "MxdjuK4XLe1Y"
   },
   "source": [
    "### Как создать простую модель\n",
    "Базовая конструкция для наших нейросетей - nn.Sequential, которая принимает в качестве своих параметров последовательность слоев, через которые будут последовательно проходить наши данные. Есть два типа слоев: одним нужно знать размерности тензоров, а другим нет. Важно понимать, что поскольку наши данные проходят через слои последовательно, то и размеры тензора могут меняться от слоя к слою.\n",
    "\n",
    "Перечислим необходимые на первых порах слои:\n",
    "\n",
    "\n",
    "* nn.Linear — это слой, применяющий линейное преобразование. Собственно, в простых моделях мы обучаем именно его - подбираем необходимые коэффициенты преобразования. Для использования nn.Linear надо указывать размерность входного тензора и размерность желаемого выходного. К примеру, nn.Linear(784, 10) преобразует тензор размера (batch_size, 784) в тензор размера (batch_size, 10). \n",
    "* nn.ReLU — это слой, который применяет функцию ReLU, обладающую свойством нелинейности. Зачем это нужно - чуть позже.\n",
    "* nn.Sigmoid — это слой,  который применяет функцию Sigmoid, обладающую двумя свойствами: во-первых, нелинейностью, а во-вторых, ее значения лежат в промежутке [0, 1].  Если нужна только нелинейность, то лучше использовать ReLU (из-за проблемызатухающего градиента)\n",
    "* nn.Softmax — про него писали выше. Этот слой по данным выдает вероятностное распределение. В основном нужен для задач классификации.\n",
    "\n",
    "\n"
   ]
  },
  {
   "cell_type": "markdown",
   "metadata": {
    "id": "Iw8neyn9SL3L"
   },
   "source": [
    "### Зачем нужна нелинейность\n",
    "\n",
    "Нелинейные функции также называются функциями-активаторами. Слои с этими функциями обычно не содержат параметров, которые оптимизируются при обучении, а нужны для того, чтобы линейные функции не комбинировались. Ведь композиция линейных функций — это тоже линейная функция. Тогда для композиции слоев B и C существует слой А с такими же параметрами, но требующий меньше ресурсов на обучение."
   ]
  },
  {
   "cell_type": "code",
   "execution_count": 13,
   "metadata": {
    "execution": {
     "iopub.execute_input": "2021-10-20T18:02:25.586347Z",
     "iopub.status.busy": "2021-10-20T18:02:25.585461Z",
     "iopub.status.idle": "2021-10-20T18:02:25.590948Z",
     "shell.execute_reply": "2021-10-20T18:02:25.589679Z",
     "shell.execute_reply.started": "2021-10-20T18:02:25.586289Z"
    },
    "id": "eMctG3VkPJaa"
   },
   "outputs": [],
   "source": [
    "from torch.optim.lr_scheduler import StepLR"
   ]
  },
  {
   "cell_type": "code",
   "execution_count": 14,
   "metadata": {
    "execution": {
     "iopub.execute_input": "2021-10-20T16:28:48.808806Z",
     "iopub.status.busy": "2021-10-20T16:28:48.807879Z",
     "iopub.status.idle": "2021-10-20T16:28:48.814823Z",
     "shell.execute_reply": "2021-10-20T16:28:48.813432Z",
     "shell.execute_reply.started": "2021-10-20T16:28:48.808740Z"
    },
    "id": "BCaLg_-OEeAg"
   },
   "outputs": [],
   "source": [
    "import torchvision.transforms as transforms"
   ]
  },
  {
   "cell_type": "code",
   "execution_count": 26,
   "metadata": {
    "execution": {
     "iopub.execute_input": "2021-10-20T19:42:02.440584Z",
     "iopub.status.busy": "2021-10-20T19:42:02.440267Z",
     "iopub.status.idle": "2021-10-20T19:42:02.451645Z",
     "shell.execute_reply": "2021-10-20T19:42:02.450462Z",
     "shell.execute_reply.started": "2021-10-20T19:42:02.440540Z"
    },
    "id": "B8rzlpk_gt2c"
   },
   "outputs": [],
   "source": [
    "model = nn.Sequential(\n",
    "    \n",
    "    nn.Linear(784, 256),   nn.ReLU(), nn.Dropout(0.7),\n",
    "    nn.Linear(256, 256),   nn.ReLU(),\n",
    "    nn.Linear(256, 10), \n",
    "    nn.LogSoftmax(dim=1)\n",
    ")\n",
    "model = model.to(device)"
   ]
  },
  {
   "cell_type": "markdown",
   "metadata": {
    "id": "z6Lwuj5Tgt2m"
   },
   "source": [
    "Кроссэнтропия не очень информативна — она меряется в каких-то попугаях, а не в понятных единицах. Нас скорее интересует абсолютная точность классификации:"
   ]
  },
  {
   "cell_type": "code",
   "execution_count": 27,
   "metadata": {
    "execution": {
     "iopub.execute_input": "2021-10-20T19:42:05.287710Z",
     "iopub.status.busy": "2021-10-20T19:42:05.286775Z",
     "iopub.status.idle": "2021-10-20T19:42:05.295708Z",
     "shell.execute_reply": "2021-10-20T19:42:05.294646Z",
     "shell.execute_reply.started": "2021-10-20T19:42:05.287664Z"
    },
    "id": "QZFMOkKHgt2r"
   },
   "outputs": [],
   "source": [
    "@torch.no_grad()\n",
    "def accuracy(model, val):\n",
    "    total = 0\n",
    "    correct = 0\n",
    "    for X, y in val:\n",
    "      y = y.to(device)\n",
    "      X = X.view(-1, 784).to(device)\n",
    "      res = model(X)\n",
    "      res = res.argmax(dim=1)\n",
    "      total += res.shape[0]\n",
    "      correct += (res == y).sum().item()\n",
    "    return correct / total"
   ]
  },
  {
   "cell_type": "markdown",
   "metadata": {
    "id": "JpKNvmHR1I_e"
   },
   "source": [
    "## Обучение\n",
    "\n",
    "Следующие блоки кода очень важны, потому что их мы будем использовать постоянно. Что тут происходит:\n",
    "\n",
    "\n",
    "1.   optimizer —это тот объект, который будет отвечать за градиентный спуск и обновление параметров модели.\n",
    "2.   criterion — это та самая функция потерь, которую мы минимизируем.\n",
    "3.   epoch — эпохи. Мы хотим сколько-то раз (например, 10) обработать весь тренировочный датасет, и провести на нем обучение.\n",
    "4.   zero_grad — мы обнуляем все данные градиентов, которые оптимизатор хранил до этого.\n",
    "5.   output — получаем результат работы модели.\n",
    "6.   loss — считаем функцию потерь.\n",
    "7.   backward — мы получаем градиенты, которыми на этом шаге оптимизатор будет пользоваться при обновлении параметров модели. (см. [backpropagation](https://colab.research.google.com/drive/1U2rElWU-0QVjSy421fsTrRMPUK2p9v9F#scrollTo=JpKNvmHR1I_e&line=12&uniqifier=1))\n",
    "8.   step — оптимизатор обновляет всю модель.\n",
    "\n"
   ]
  },
  {
   "cell_type": "code",
   "execution_count": 18,
   "metadata": {
    "id": "zLq1fyl_bFON"
   },
   "outputs": [],
   "source": [
    "import torch.onnx"
   ]
  },
  {
   "cell_type": "code",
   "execution_count": 28,
   "metadata": {
    "execution": {
     "iopub.execute_input": "2021-10-20T19:42:10.626574Z",
     "iopub.status.busy": "2021-10-20T19:42:10.626308Z",
     "iopub.status.idle": "2021-10-20T19:42:10.632928Z",
     "shell.execute_reply": "2021-10-20T19:42:10.631632Z",
     "shell.execute_reply.started": "2021-10-20T19:42:10.626544Z"
    },
    "id": "PqGkTdomgt2w"
   },
   "outputs": [],
   "source": [
    "optimizer = torch.optim.Adam(model.parameters(), lr=1e-3)\n",
    "criterion = nn.NLLLoss()\n",
    "# ^ попробуйте какой-нибудь другой и сравните, если ещё не уверовали в кроссэнтропию"
   ]
  },
  {
   "cell_type": "markdown",
   "metadata": {
    "id": "Lh9n01yB7bNt"
   },
   "source": [
    "1:20 https://youtu.be/S1iUSAemoMU объяснение про loss.item()"
   ]
  },
  {
   "cell_type": "code",
   "execution_count": 155,
   "metadata": {
    "execution": {
     "iopub.execute_input": "2021-10-20T19:18:00.506901Z",
     "iopub.status.busy": "2021-10-20T19:18:00.505153Z",
     "iopub.status.idle": "2021-10-20T19:18:00.511786Z",
     "shell.execute_reply": "2021-10-20T19:18:00.510717Z",
     "shell.execute_reply.started": "2021-10-20T19:18:00.506850Z"
    },
    "id": "qK7t7QoAPJac"
   },
   "outputs": [],
   "source": [
    "# scheduler = StepLR(optimizer, gamma=0.9, step_size=2)"
   ]
  },
  {
   "cell_type": "code",
   "execution_count": null,
   "metadata": {
    "colab": {
     "base_uri": "https://localhost:8080/",
     "height": 214,
     "referenced_widgets": [
      "53372477c04b497c83cc179bb48cc66f",
      "b69ef13f238542098eda9c573cbf05b4",
      "90e07af12fb2400da774b17d8693b2b2",
      "58cef2e2c37f4f1797272157f33548c3",
      "505601510dd44680b52db1d102f4d139",
      "eae8cda5ea70462bb4dc0753c3624bd1",
      "b7228e10336645fc93989bf504e27223",
      "72c6835e26cb454495b70b2dbbe0f4b5",
      "bda1902540674bafacfacc7859ae1fd3",
      "a3c74633f9fc497eb1ab5c0fceab85d9",
      "121bd59803f84a19a1057347bc7e083c"
     ]
    },
    "execution": {
     "iopub.execute_input": "2021-10-20T19:42:15.679208Z",
     "iopub.status.busy": "2021-10-20T19:42:15.678882Z",
     "iopub.status.idle": "2021-10-20T19:44:05.169560Z",
     "shell.execute_reply": "2021-10-20T19:44:05.167918Z",
     "shell.execute_reply.started": "2021-10-20T19:42:15.679161Z"
    },
    "id": "WOoCgmz4gt22",
    "outputId": "00b5e5ec-e0d0-451b-da14-fe8dc5f1a19c",
    "pycharm": {
     "is_executing": true
    }
   },
   "outputs": [
    {
     "data": {
      "application/vnd.jupyter.widget-view+json": {
       "model_id": "f45873fd3e594b2283dd2f3d0d60fa0d",
       "version_major": 2,
       "version_minor": 0
      },
      "text/plain": [
       "  0%|          | 0/10 [00:00<?, ?it/s]"
      ]
     },
     "metadata": {},
     "output_type": "display_data"
    }
   ],
   "source": [
    "# train_losses = []\n",
    "for epoch in trange(10):\n",
    "    model.train()\n",
    "    for X, y in train:\n",
    "        y = y.to(device)\n",
    "        X = X.view(-1, 784).to(device)  # разгладим картинку в вектор\n",
    "        optimizer.zero_grad()\n",
    "        output = model(X)\n",
    "        loss = criterion(output, y)\n",
    "        loss.backward()\n",
    "\n",
    "        #train_losses.append(loss.item())\n",
    "                # как думаете, зачем нужен .item()?\n",
    "                # подсказка: лосс хранит информацию о своей истории\n",
    "                # попробуйте убрать .item() и посмотреть на расход памяти\n",
    "\n",
    "        optimizer.step()\n",
    "        #scheduler.step()\n",
    "    model.eval()\n",
    "    \n",
    "    print(accuracy(model, train), accuracy(model, val))\n",
    "        \n",
    "#plt.plot(train_losses)\n",
    "#plt.show()"
   ]
  },
  {
   "cell_type": "code",
   "execution_count": 77,
   "metadata": {
    "id": "XgcF99imj8hW"
   },
   "outputs": [],
   "source": [
    "for ds in train:\n",
    "  dataset = ds"
   ]
  },
  {
   "cell_type": "code",
   "execution_count": 97,
   "metadata": {
    "id": "eLhqYxmZn8BQ"
   },
   "outputs": [],
   "source": [
    "dummy_input = torch.randn(28, 28).view(-1, 784).cuda(device)"
   ]
  },
  {
   "cell_type": "code",
   "execution_count": 100,
   "metadata": {
    "id": "QuHt2hwwpvX1"
   },
   "outputs": [],
   "source": [
    "input_names = [ \"actual_input_1\" ] + [ \"learned_%d\" % i for i in range(16) ]\n",
    "output_names = [ \"output1\" ]"
   ]
  },
  {
   "cell_type": "code",
   "execution_count": 101,
   "metadata": {
    "id": "clCDMlxsbPDy"
   },
   "outputs": [],
   "source": [
    "torch.onnx.export(model,               # model being run\n",
    "                   dummy_input,                         # model input (or a tuple for multiple inputs)\n",
    "                  \"intro.onnx\",   # where to save the model (can be a file or file-like object)\n",
    "                  export_params=True,        # store the trained parameter weights inside the model file\n",
    "                  opset_version=10,          # the ONNX version to export the model to\n",
    "                  do_constant_folding=True,  # whether to execute constant folding for optimization\n",
    "                  input_names = ['input'],   # the model's input names\n",
    "                  output_names = ['output'], # the model's output names\n",
    "                  )\n"
   ]
  },
  {
   "cell_type": "markdown",
   "metadata": {
    "id": "jukZHqWOgt3L"
   },
   "source": [
    "### Регуляризация\n",
    "\n",
    "Вы можете заметить, что с какого-то момента функция потерь на `val` перестаёт падать (а потом и начинает расти), при этом лосс на `train` стабильно убывает. Это связано с переобучением. Если сеть достаточно большая, то нейроны смогут адаптироваться для получения меньшего лосса на отдельном примере, что не очень хорошо обобщается под данные, которые модель ещё не видела. Например сеть может выучить правило «если этот пиксель имеет такое-то значение, то это шестёрка», в структуре сети это будет выражаться очень сильной связью между нейронами. Для этого в нейросетях используют методы регуляризации на веса сети или на процесс обучения.\n",
    "\n",
    "Самый популярный из них на данный момент — Dropout (в PyTorch — `nn.Dropout`). Это отдельный слой, который во время обучения с вероятностью $p$ независимо по всем элементам зануляет их значения. Это мешает нейронам адаптироваться.\n",
    "\n",
    "<img width='600px' src='https://cdn-images-1.medium.com/max/1200/1*iWQzxhVlvadk6VAJjsgXgg.png'>"
   ]
  },
  {
   "cell_type": "markdown",
   "metadata": {
    "id": "0_WNYxxwgt3O"
   },
   "source": [
    "## Автоэнкодеры\n",
    "\n",
    "**Автоэнкодеры** — это сети, которые учатся восстанавливать свои же входные данные. Такой тип обучения иногда называют self-supervised.\n",
    "\n",
    "\n",
    "<img width='400px' src='https://habrastorage.org/web/cf6/228/613/cf6228613fdc4f8fb819cbd41bb677eb.png'>\n",
    "\n",
    "Казалось бы, выучить функцию $f(x) = x$ очень легко, но в автоэнкодеры устроены так, что внутри них вся информация в какой-то момент проходит через скрытый слой небольшой размерности, и поэтому автоэнкодеры просто не имеют возможности идеально точно скопировать свой вход на выходе.\n",
    "\n",
    "Поэтому сети приходится выучивать в этом крытом очень сжатое и информативное представление данных, что потом можно будет использовать для разных интересных вещей.\n",
    "\n",
    "Например, для визуализации: можно сделать скрытый слой размера 2 и вывести данные на плоскость.\n",
    "\n",
    "<img width='800px' src='https://i.stack.imgur.com/2gSs1.png'>\n",
    "\n",
    "Повсеместно используемый PCA на самом деле является частным случаем автоэнкодера: из преобразований разрешается использовать только линейные.\n",
    "\n",
    "Мы также можем использовать скрытые состояния для морфинга — плавного перехода между объектами.\n",
    "\n",
    "<img width='250px' src='https://camo.githubusercontent.com/fa61cfca07320919eb6430a2a06f98d3e68e29c1/68747470733a2f2f692e696d6775722e636f6d2f4f72554a7339562e676966'>\n",
    "\n",
    "Обозначим уже обученный на данных энкодер как функцию $e$, а декодер как функцию $g$. Тогда морфинг между изображениями $A$ и $B$ мы можем сделать так: переведем изображения A и B в скрытые состояния $a = e(A)$ и $b = e(B)$, а затем каждый кадр генерируется как\n",
    "\n",
    "$$ C = d((1-t) \\cdot a + t \\cdot b) $$\n",
    "\n",
    "где $t$ равномерно изменяется от 0 до 1. Иными словами, мы берём все точки на отрезке ab и последовательно декодируем.\n",
    "\n",
    "Это вам и предстоит реализовать."
   ]
  },
  {
   "cell_type": "code",
   "execution_count": null,
   "metadata": {
    "execution": {
     "iopub.execute_input": "2021-10-20T16:34:34.727762Z",
     "iopub.status.busy": "2021-10-20T16:34:34.727308Z",
     "iopub.status.idle": "2021-10-20T16:34:34.800165Z",
     "shell.execute_reply": "2021-10-20T16:34:34.798675Z",
     "shell.execute_reply.started": "2021-10-20T16:34:34.727693Z"
    },
    "id": "N-mChW8lgt3S"
   },
   "outputs": [],
   "source": [
    "class Autoencoder(nn.Module):\n",
    "    def __init__(self):\n",
    "        super().__init__()\n",
    "        \n",
    "        self.encode = nn.Sequential(\n",
    "            # мы хотим перевести картинку в какое-нибудь X-мерное пространство\n",
    "        )\n",
    "        \n",
    "        self.decode = nn.Sequential(\n",
    "            # а теперь наоборот - из Х-мерного в картинку\n",
    "            nn.Sigmoid()\n",
    "            # картинки -- это тензоры со значениями от 0 до 1\n",
    "            # нет особого смысла выводить что-то не из этого промежутка\n",
    "        )\n",
    "    \n",
    "    def forward(self, x):\n",
    "        return self.decode(self.encode(x))\n",
    "\n",
    "model = Autoencoder()\n",
    "criterion = torch.nn.MSELoss()\n",
    "#                    ^ попробуйте также другие меры разности (например, абсолютную ошибку)\n",
    "optimizer = torch.optim.Adam(model.parameters())"
   ]
  },
  {
   "cell_type": "code",
   "execution_count": null,
   "metadata": {
    "execution": {
     "iopub.status.busy": "2021-10-20T16:34:34.801321Z",
     "iopub.status.idle": "2021-10-20T16:34:34.802319Z",
     "shell.execute_reply": "2021-10-20T16:34:34.802072Z",
     "shell.execute_reply.started": "2021-10-20T16:34:34.802044Z"
    },
    "id": "x13DhdJkgt3g"
   },
   "outputs": [],
   "source": [
    "for epoch in range(10):\n",
    "    train_loss = 0\n",
    "    for data, _ in train:\n",
    "        #     ^ лэйблы нам не нужны\n",
    "        data = data.view(-1, 784)\n",
    "        \n",
    "        optimizer.zero_grad()\n",
    "        \n",
    "        reconstructed = model(data)\n",
    "        loss = criterion(data, reconstructed)\n",
    "        \n",
    "        loss.backward()\n",
    "\n",
    "        train_loss += loss.item()\n",
    "        optimizer.step()\n",
    "\n",
    "    print('epoch %d, loss %.4f' % (epoch, train_loss / len(train)))"
   ]
  },
  {
   "cell_type": "markdown",
   "metadata": {
    "id": "1udd8QNLgt3n"
   },
   "source": [
    "Теперь попытаемся сделать гифку, как выше.\n",
    "\n",
    "Анимации `matplotlib` — это жесть, не надо особо пытаться разобраться в коде снизу. Возможно, вам придётся пройти квест и поставить `ffmpeg` (`apt instal ffmpeg`, `pip install ffmpeg` и перезапуска тетрадки должно хватить в большинстве случаев)."
   ]
  },
  {
   "cell_type": "code",
   "execution_count": null,
   "metadata": {
    "execution": {
     "iopub.status.busy": "2021-10-20T16:34:34.803723Z",
     "iopub.status.idle": "2021-10-20T16:34:34.804295Z",
     "shell.execute_reply": "2021-10-20T16:34:34.804025Z",
     "shell.execute_reply.started": "2021-10-20T16:34:34.803996Z"
    },
    "id": "_4pYRQAXgt3q"
   },
   "outputs": [],
   "source": [
    "from matplotlib import animation\n",
    "from matplotlib.animation import FuncAnimation\n",
    "from IPython.display import HTML, display"
   ]
  },
  {
   "cell_type": "code",
   "execution_count": null,
   "metadata": {
    "execution": {
     "iopub.status.busy": "2021-10-20T16:34:34.806962Z",
     "iopub.status.idle": "2021-10-20T16:34:34.807991Z",
     "shell.execute_reply": "2021-10-20T16:34:34.807656Z",
     "shell.execute_reply.started": "2021-10-20T16:34:34.807626Z"
    },
    "id": "vmUZjBtGgt4C"
   },
   "outputs": [],
   "source": [
    "def get(x):\n",
    "    return train.dataset[x][0].view(1, 784)\n",
    "\n",
    "def imshow(img):\n",
    "    pic = img.numpy().astype('float')\n",
    "    plt.axis('off')\n",
    "    return plt.imshow(pic, cmap='Greys', animated=True)\n",
    "\n",
    "def morph(inputs, steps, delay):\n",
    "    # перегоняем в латентное пространство все картинки на входе\n",
    "    latent = [model.encode(get(k)).data for k in inputs]\n",
    "    fig = plt.figure()\n",
    "    images = []\n",
    "    for a, b in zip(latent, latent[1:] + [latent[0]]):\n",
    "        for t in numpy.linspace(0, 1, steps):\n",
    "            # получаем проинтерполированную точку\n",
    "            c = a*(1-t)+b*t\n",
    "            # ...и декодируем её в изображение\n",
    "            morphed = model.decode(c).data\n",
    "            morphed = morphed.view(28, 28)\n",
    "            images.append([imshow(morphed)])\n",
    "    \n",
    "    ani = animation.ArtistAnimation(fig, images, interval=delay)\n",
    "\n",
    "    display(HTML(ani.to_html5_video()))"
   ]
  },
  {
   "cell_type": "code",
   "execution_count": null,
   "metadata": {
    "execution": {
     "iopub.status.busy": "2021-10-20T16:34:34.809599Z",
     "iopub.status.idle": "2021-10-20T16:34:34.810112Z",
     "shell.execute_reply": "2021-10-20T16:34:34.809874Z",
     "shell.execute_reply.started": "2021-10-20T16:34:34.809836Z"
    },
    "id": "O14CBxywgt4W"
   },
   "outputs": [],
   "source": [
    "morph(numpy.random.randint(0, len(train.dataset), 30), 20, 30)"
   ]
  },
  {
   "cell_type": "markdown",
   "metadata": {
    "id": "6a8RE3DDgt4f"
   },
   "source": [
    "# Домашнее задание\n",
    "\n",
    "* Получить точность 97.5% на валидации MNIST.\n",
    "* Реализовать морфинг автоэнкодером (без формальных критериев — просто получите красивую гифку).\n",
    "* Визуализировать MNIST автоэнкодером (обучить автоэнкодер с латентным пространством размерности 2 и вывести через scatter точки разного цвета)."
   ]
  },
  {
   "cell_type": "markdown",
   "metadata": {
    "id": "wZ85MypBgt4n"
   },
   "source": [
    "### *Свёртки\n",
    "\n",
    "Если у вас останется время, вы можете улучшить результаты, используя свёртки.\n",
    "\n",
    "О свёрточных сетях в деталях вы узнаете на следующем занятии, а пока что вы можете использовать `nn.Conv2d`, `nn.MaxPool2d`, и `nn.ConvTranspose2d` просто как более продвинутые слои для классификатора и автоэнкодера, даже не особо понимая, как они внутри работают.\n",
    "\n",
    "Основная задача «нейроинженеров» — придумать, как выглядело бы решение этой задачи на уровне программы с неизвестными параметрами, и подбирать соответствующие архитектуры. [Эксперименты с дропаутом](https://arxiv.org/pdf/1701.05369.pdf) показывают, что в Linear примерно 99% весов на самом деле можно выкинуть. Логично, что в оптимальной архитектуре не должно быть бесполезных весов — лишние параметры всегда ведут к переобучению. В случае с картинками решение в том, чтобы использовать информацию о расположении пикселей относительно друг друга, чтобы создать слой, который смотрит на более релевантные фичи. Мотивация заключается примерно в этом, подробнее — через неделю.\n",
    "\n",
    "<img width='250px' src='https://cdn-images-1.medium.com/max/1600/0*iqNdZWyNeCr5tCkc.'>"
   ]
  }
 ],
 "metadata": {
  "accelerator": "GPU",
  "colab": {
   "collapsed_sections": [],
   "history_visible": true,
   "include_colab_link": true,
   "name": "dl-intro.ipynb",
   "provenance": []
  },
  "kernelspec": {
   "display_name": "Python 3 (ipykernel)",
   "language": "python",
   "name": "python3"
  },
  "language_info": {
   "codemirror_mode": {
    "name": "ipython",
    "version": 3
   },
   "file_extension": ".py",
   "mimetype": "text/x-python",
   "name": "python",
   "nbconvert_exporter": "python",
   "pygments_lexer": "ipython3",
   "version": "3.7.10"
  },
  "widgets": {
   "application/vnd.jupyter.widget-state+json": {
    "121bd59803f84a19a1057347bc7e083c": {
     "model_module": "@jupyter-widgets/base",
     "model_module_version": "1.2.0",
     "model_name": "LayoutModel",
     "state": {
      "_model_module": "@jupyter-widgets/base",
      "_model_module_version": "1.2.0",
      "_model_name": "LayoutModel",
      "_view_count": null,
      "_view_module": "@jupyter-widgets/base",
      "_view_module_version": "1.2.0",
      "_view_name": "LayoutView",
      "align_content": null,
      "align_items": null,
      "align_self": null,
      "border": null,
      "bottom": null,
      "display": null,
      "flex": null,
      "flex_flow": null,
      "grid_area": null,
      "grid_auto_columns": null,
      "grid_auto_flow": null,
      "grid_auto_rows": null,
      "grid_column": null,
      "grid_gap": null,
      "grid_row": null,
      "grid_template_areas": null,
      "grid_template_columns": null,
      "grid_template_rows": null,
      "height": null,
      "justify_content": null,
      "justify_items": null,
      "left": null,
      "margin": null,
      "max_height": null,
      "max_width": null,
      "min_height": null,
      "min_width": null,
      "object_fit": null,
      "object_position": null,
      "order": null,
      "overflow": null,
      "overflow_x": null,
      "overflow_y": null,
      "padding": null,
      "right": null,
      "top": null,
      "visibility": null,
      "width": null
     }
    },
    "505601510dd44680b52db1d102f4d139": {
     "model_module": "@jupyter-widgets/controls",
     "model_module_version": "1.5.0",
     "model_name": "HTMLModel",
     "state": {
      "_dom_classes": [],
      "_model_module": "@jupyter-widgets/controls",
      "_model_module_version": "1.5.0",
      "_model_name": "HTMLModel",
      "_view_count": null,
      "_view_module": "@jupyter-widgets/controls",
      "_view_module_version": "1.5.0",
      "_view_name": "HTMLView",
      "description": "",
      "description_tooltip": null,
      "layout": "IPY_MODEL_121bd59803f84a19a1057347bc7e083c",
      "placeholder": "​",
      "style": "IPY_MODEL_a3c74633f9fc497eb1ab5c0fceab85d9",
      "value": " 10/10 [03:08&lt;00:00, 18.83s/it]"
     }
    },
    "53372477c04b497c83cc179bb48cc66f": {
     "model_module": "@jupyter-widgets/controls",
     "model_module_version": "1.5.0",
     "model_name": "HBoxModel",
     "state": {
      "_dom_classes": [],
      "_model_module": "@jupyter-widgets/controls",
      "_model_module_version": "1.5.0",
      "_model_name": "HBoxModel",
      "_view_count": null,
      "_view_module": "@jupyter-widgets/controls",
      "_view_module_version": "1.5.0",
      "_view_name": "HBoxView",
      "box_style": "",
      "children": [
       "IPY_MODEL_90e07af12fb2400da774b17d8693b2b2",
       "IPY_MODEL_58cef2e2c37f4f1797272157f33548c3",
       "IPY_MODEL_505601510dd44680b52db1d102f4d139"
      ],
      "layout": "IPY_MODEL_b69ef13f238542098eda9c573cbf05b4"
     }
    },
    "58cef2e2c37f4f1797272157f33548c3": {
     "model_module": "@jupyter-widgets/controls",
     "model_module_version": "1.5.0",
     "model_name": "FloatProgressModel",
     "state": {
      "_dom_classes": [],
      "_model_module": "@jupyter-widgets/controls",
      "_model_module_version": "1.5.0",
      "_model_name": "FloatProgressModel",
      "_view_count": null,
      "_view_module": "@jupyter-widgets/controls",
      "_view_module_version": "1.5.0",
      "_view_name": "ProgressView",
      "bar_style": "success",
      "description": "",
      "description_tooltip": null,
      "layout": "IPY_MODEL_bda1902540674bafacfacc7859ae1fd3",
      "max": 10,
      "min": 0,
      "orientation": "horizontal",
      "style": "IPY_MODEL_72c6835e26cb454495b70b2dbbe0f4b5",
      "value": 10
     }
    },
    "72c6835e26cb454495b70b2dbbe0f4b5": {
     "model_module": "@jupyter-widgets/controls",
     "model_module_version": "1.5.0",
     "model_name": "ProgressStyleModel",
     "state": {
      "_model_module": "@jupyter-widgets/controls",
      "_model_module_version": "1.5.0",
      "_model_name": "ProgressStyleModel",
      "_view_count": null,
      "_view_module": "@jupyter-widgets/base",
      "_view_module_version": "1.2.0",
      "_view_name": "StyleView",
      "bar_color": null,
      "description_width": ""
     }
    },
    "90e07af12fb2400da774b17d8693b2b2": {
     "model_module": "@jupyter-widgets/controls",
     "model_module_version": "1.5.0",
     "model_name": "HTMLModel",
     "state": {
      "_dom_classes": [],
      "_model_module": "@jupyter-widgets/controls",
      "_model_module_version": "1.5.0",
      "_model_name": "HTMLModel",
      "_view_count": null,
      "_view_module": "@jupyter-widgets/controls",
      "_view_module_version": "1.5.0",
      "_view_name": "HTMLView",
      "description": "",
      "description_tooltip": null,
      "layout": "IPY_MODEL_b7228e10336645fc93989bf504e27223",
      "placeholder": "​",
      "style": "IPY_MODEL_eae8cda5ea70462bb4dc0753c3624bd1",
      "value": "100%"
     }
    },
    "a3c74633f9fc497eb1ab5c0fceab85d9": {
     "model_module": "@jupyter-widgets/controls",
     "model_module_version": "1.5.0",
     "model_name": "DescriptionStyleModel",
     "state": {
      "_model_module": "@jupyter-widgets/controls",
      "_model_module_version": "1.5.0",
      "_model_name": "DescriptionStyleModel",
      "_view_count": null,
      "_view_module": "@jupyter-widgets/base",
      "_view_module_version": "1.2.0",
      "_view_name": "StyleView",
      "description_width": ""
     }
    },
    "b69ef13f238542098eda9c573cbf05b4": {
     "model_module": "@jupyter-widgets/base",
     "model_module_version": "1.2.0",
     "model_name": "LayoutModel",
     "state": {
      "_model_module": "@jupyter-widgets/base",
      "_model_module_version": "1.2.0",
      "_model_name": "LayoutModel",
      "_view_count": null,
      "_view_module": "@jupyter-widgets/base",
      "_view_module_version": "1.2.0",
      "_view_name": "LayoutView",
      "align_content": null,
      "align_items": null,
      "align_self": null,
      "border": null,
      "bottom": null,
      "display": null,
      "flex": null,
      "flex_flow": null,
      "grid_area": null,
      "grid_auto_columns": null,
      "grid_auto_flow": null,
      "grid_auto_rows": null,
      "grid_column": null,
      "grid_gap": null,
      "grid_row": null,
      "grid_template_areas": null,
      "grid_template_columns": null,
      "grid_template_rows": null,
      "height": null,
      "justify_content": null,
      "justify_items": null,
      "left": null,
      "margin": null,
      "max_height": null,
      "max_width": null,
      "min_height": null,
      "min_width": null,
      "object_fit": null,
      "object_position": null,
      "order": null,
      "overflow": null,
      "overflow_x": null,
      "overflow_y": null,
      "padding": null,
      "right": null,
      "top": null,
      "visibility": null,
      "width": null
     }
    },
    "b7228e10336645fc93989bf504e27223": {
     "model_module": "@jupyter-widgets/base",
     "model_module_version": "1.2.0",
     "model_name": "LayoutModel",
     "state": {
      "_model_module": "@jupyter-widgets/base",
      "_model_module_version": "1.2.0",
      "_model_name": "LayoutModel",
      "_view_count": null,
      "_view_module": "@jupyter-widgets/base",
      "_view_module_version": "1.2.0",
      "_view_name": "LayoutView",
      "align_content": null,
      "align_items": null,
      "align_self": null,
      "border": null,
      "bottom": null,
      "display": null,
      "flex": null,
      "flex_flow": null,
      "grid_area": null,
      "grid_auto_columns": null,
      "grid_auto_flow": null,
      "grid_auto_rows": null,
      "grid_column": null,
      "grid_gap": null,
      "grid_row": null,
      "grid_template_areas": null,
      "grid_template_columns": null,
      "grid_template_rows": null,
      "height": null,
      "justify_content": null,
      "justify_items": null,
      "left": null,
      "margin": null,
      "max_height": null,
      "max_width": null,
      "min_height": null,
      "min_width": null,
      "object_fit": null,
      "object_position": null,
      "order": null,
      "overflow": null,
      "overflow_x": null,
      "overflow_y": null,
      "padding": null,
      "right": null,
      "top": null,
      "visibility": null,
      "width": null
     }
    },
    "bda1902540674bafacfacc7859ae1fd3": {
     "model_module": "@jupyter-widgets/base",
     "model_module_version": "1.2.0",
     "model_name": "LayoutModel",
     "state": {
      "_model_module": "@jupyter-widgets/base",
      "_model_module_version": "1.2.0",
      "_model_name": "LayoutModel",
      "_view_count": null,
      "_view_module": "@jupyter-widgets/base",
      "_view_module_version": "1.2.0",
      "_view_name": "LayoutView",
      "align_content": null,
      "align_items": null,
      "align_self": null,
      "border": null,
      "bottom": null,
      "display": null,
      "flex": null,
      "flex_flow": null,
      "grid_area": null,
      "grid_auto_columns": null,
      "grid_auto_flow": null,
      "grid_auto_rows": null,
      "grid_column": null,
      "grid_gap": null,
      "grid_row": null,
      "grid_template_areas": null,
      "grid_template_columns": null,
      "grid_template_rows": null,
      "height": null,
      "justify_content": null,
      "justify_items": null,
      "left": null,
      "margin": null,
      "max_height": null,
      "max_width": null,
      "min_height": null,
      "min_width": null,
      "object_fit": null,
      "object_position": null,
      "order": null,
      "overflow": null,
      "overflow_x": null,
      "overflow_y": null,
      "padding": null,
      "right": null,
      "top": null,
      "visibility": null,
      "width": null
     }
    },
    "eae8cda5ea70462bb4dc0753c3624bd1": {
     "model_module": "@jupyter-widgets/controls",
     "model_module_version": "1.5.0",
     "model_name": "DescriptionStyleModel",
     "state": {
      "_model_module": "@jupyter-widgets/controls",
      "_model_module_version": "1.5.0",
      "_model_name": "DescriptionStyleModel",
      "_view_count": null,
      "_view_module": "@jupyter-widgets/base",
      "_view_module_version": "1.2.0",
      "_view_name": "StyleView",
      "description_width": ""
     }
    }
   }
  }
 },
 "nbformat": 4,
 "nbformat_minor": 1
}
