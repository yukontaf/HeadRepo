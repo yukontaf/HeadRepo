{
 "cells": [
  {
   "cell_type": "markdown",
   "id": "ff87b416-0f7a-466f-9b6f-43543bee17e5",
   "metadata": {},
   "source": [
    "1. Взять публичный API биржи binance\n",
    "2. Написать функцию, которая будет рисовать биржевой стакан\n",
    "Параметры функции:\n",
    "2.1 Инструмент (например BTCUSDT)\n",
    "2.2 Глубина стакана (уровней, например 10)\n",
    "2.3 Время, за которое нарисовать картинку (например 10 мин)\n",
    "2.4 Шаг дискретизации (например 5сек -- если необходимо)\n",
    "Функция едет в публичный апи бинанса, берет книжку и рисует её заданное время.\n",
    "Что такое книжка (order book) -- предлагается прочитать самостоятельно\n",
    "Что значит \"наприсовать книжку\" -- предлагается проявить фантазию."
   ]
  },
  {
   "cell_type": "code",
   "execution_count": 1,
   "id": "cfbf8a25-9a5f-4f2f-84e1-27efd207cb07",
   "metadata": {},
   "outputs": [],
   "source": [
    "import requests\n",
    "import pandas as pd\n",
    "import matplotlib.pyplot as plt\n",
    "import seaborn as sns"
   ]
  },
  {
   "cell_type": "code",
   "execution_count": 2,
   "id": "88987642-dc9b-49f6-9990-07e41185c559",
   "metadata": {},
   "outputs": [],
   "source": [
    "r = requests.get(\"https://api.binance.com/api/v3/depth\",\n",
    "                 params=dict(symbol=\"BTCUSDT\"))\n",
    "results = r.json()"
   ]
  },
  {
   "cell_type": "code",
   "execution_count": 3,
   "id": "d666ed9b-2c42-4dde-ad5b-dbaa0bc67d21",
   "metadata": {},
   "outputs": [],
   "source": [
    "frames = {side: pd.DataFrame(data=results[side], columns=[\"price\", \"quantity\"],\n",
    "                             dtype=float)\n",
    "          for side in [\"bids\", \"asks\"]}"
   ]
  },
  {
   "cell_type": "code",
   "execution_count": 5,
   "id": "ab46bb26-8d2d-4b5c-a98d-ed98b737971f",
   "metadata": {},
   "outputs": [],
   "source": [
    "frames_list = [frames[side].assign(side=side) for side in frames]\n",
    "data = pd.concat(frames_list, axis=\"index\", \n",
    "                 ignore_index=True, sort=True)"
   ]
  },
  {
   "cell_type": "code",
   "execution_count": 7,
   "id": "0ad67b76-2ceb-48e6-b213-45743527f6e5",
   "metadata": {},
   "outputs": [
    {
     "data": {
      "text/html": [
       "<div><div id=0360d7f0-2cae-4eb9-80c8-c59e543b7594 style=\"display:none; background-color:#9D6CFF; color:white; width:200px; height:30px; padding-left:5px; border-radius:4px; flex-direction:row; justify-content:space-around; align-items:center;\" onmouseover=\"this.style.backgroundColor='#BA9BF8'\" onmouseout=\"this.style.backgroundColor='#9D6CFF'\" onclick=\"window.commands?.execute('create-mitosheet-from-dataframe-output');\">See Full Dataframe in Mito</div> <script> if (window.commands.hasCommand('create-mitosheet-from-dataframe-output')) document.getElementById('0360d7f0-2cae-4eb9-80c8-c59e543b7594').style.display = 'flex' </script> <table border=\"1\" class=\"dataframe\">\n",
       "  <thead>\n",
       "    <tr style=\"text-align: right;\">\n",
       "      <th></th>\n",
       "      <th>count</th>\n",
       "      <th>mean</th>\n",
       "      <th>std</th>\n",
       "      <th>min</th>\n",
       "      <th>25%</th>\n",
       "      <th>50%</th>\n",
       "      <th>75%</th>\n",
       "      <th>max</th>\n",
       "    </tr>\n",
       "    <tr>\n",
       "      <th>side</th>\n",
       "      <th></th>\n",
       "      <th></th>\n",
       "      <th></th>\n",
       "      <th></th>\n",
       "      <th></th>\n",
       "      <th></th>\n",
       "      <th></th>\n",
       "      <th></th>\n",
       "    </tr>\n",
       "  </thead>\n",
       "  <tbody>\n",
       "    <tr>\n",
       "      <th>asks</th>\n",
       "      <td>100.0</td>\n",
       "      <td>57327.9180</td>\n",
       "      <td>13.344418</td>\n",
       "      <td>57301.37</td>\n",
       "      <td>57318.6675</td>\n",
       "      <td>57329.080</td>\n",
       "      <td>57339.5225</td>\n",
       "      <td>57349.05</td>\n",
       "    </tr>\n",
       "    <tr>\n",
       "      <th>bids</th>\n",
       "      <td>100.0</td>\n",
       "      <td>57267.6376</td>\n",
       "      <td>8.723753</td>\n",
       "      <td>57254.04</td>\n",
       "      <td>57260.2475</td>\n",
       "      <td>57267.705</td>\n",
       "      <td>57274.7200</td>\n",
       "      <td>57287.01</td>\n",
       "    </tr>\n",
       "  </tbody>\n",
       "</table></div>"
      ],
      "text/plain": [
       "      count        mean        std       min         25%        50%  \\\n",
       "side                                                                  \n",
       "asks  100.0  57327.9180  13.344418  57301.37  57318.6675  57329.080   \n",
       "bids  100.0  57267.6376   8.723753  57254.04  57260.2475  57267.705   \n",
       "\n",
       "             75%       max  \n",
       "side                        \n",
       "asks  57339.5225  57349.05  \n",
       "bids  57274.7200  57287.01  "
      ]
     },
     "execution_count": 7,
     "metadata": {},
     "output_type": "execute_result"
    }
   ],
   "source": [
    "price_summary = data.groupby(\"side\").price.describe()\n",
    "price_summary"
   ]
  },
  {
   "cell_type": "code",
   "execution_count": 8,
   "id": "3d87060a-fb34-42f7-9f93-43d22fd4b3eb",
   "metadata": {},
   "outputs": [],
   "source": [
    "import asyncio\n",
    "import websockets"
   ]
  },
  {
   "cell_type": "code",
   "execution_count": null,
   "id": "5a34d51f-2cd8-4bed-8a91-d20d74ad9dfe",
   "metadata": {},
   "outputs": [],
   "source": []
  }
 ],
 "metadata": {
  "kernelspec": {
   "display_name": "Python 3 (ipykernel)",
   "language": "python",
   "name": "python3"
  },
  "language_info": {
   "codemirror_mode": {
    "name": "ipython",
    "version": 3
   },
   "file_extension": ".py",
   "mimetype": "text/x-python",
   "name": "python",
   "nbconvert_exporter": "python",
   "pygments_lexer": "ipython3",
   "version": "3.9.7"
  }
 },
 "nbformat": 4,
 "nbformat_minor": 5
}
