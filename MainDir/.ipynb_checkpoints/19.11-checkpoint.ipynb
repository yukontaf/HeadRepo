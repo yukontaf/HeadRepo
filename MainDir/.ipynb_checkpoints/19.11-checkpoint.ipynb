{
 "cells": [
  {
   "cell_type": "markdown",
   "id": "199184dc-2112-4011-9ddb-b853fd3c2eb0",
   "metadata": {},
   "source": [
    "В связном списке каждый элемент состоит из двух частей: ключ и указатель на следующий элемент. В отличие от обыкновенного списка, в связном списке элементы хранятся в памяти не друг за другом."
   ]
  },
  {
   "cell_type": "markdown",
   "id": "d6511276-f4b1-4f8a-89a2-ff4b1536e869",
   "metadata": {},
   "source": [
    "self в методах классов"
   ]
  },
  {
   "cell_type": "code",
   "execution_count": 1,
   "id": "9a153533-ce13-4fd0-9543-9a710b37fea8",
   "metadata": {},
   "outputs": [],
   "source": [
    "lst = [1, 2]"
   ]
  },
  {
   "cell_type": "code",
   "execution_count": 2,
   "id": "9963c08d-214f-44af-aff2-ed9b70baaf3b",
   "metadata": {},
   "outputs": [],
   "source": [
    "class LNode:\n",
    "    def __init__(self, head = None):\n",
    "        self.head = head\n",
    "        self.next = None"
   ]
  },
  {
   "cell_type": "code",
   "execution_count": 5,
   "id": "e8ac9b98-7c1d-4884-b389-4a0b5d8ed599",
   "metadata": {},
   "outputs": [],
   "source": [
    "a = LNode(1)\n",
    "b = LNode(2)\n",
    "a.next = b"
   ]
  },
  {
   "cell_type": "code",
   "execution_count": 6,
   "id": "f95e9306-80c1-441f-804b-5e612479b92c",
   "metadata": {},
   "outputs": [],
   "source": [
    "lst = [a, b]"
   ]
  },
  {
   "cell_type": "code",
   "execution_count": 44,
   "id": "97e10bf9-9858-488e-8850-3d10577b5a52",
   "metadata": {},
   "outputs": [],
   "source": [
    "class Stack:\n",
    "    def __init__(self):\n",
    "        self.lst = []\n",
    "        \n",
    "    def pop(self):\n",
    "        self.lst.pop()\n",
    "        if len(self.lst) >= 1:\n",
    "            self.lst[-1].next = None\n",
    "        else:\n",
    "            self.lst = []\n",
    "        \n",
    "    def push(self, data):\n",
    "        self.lst.append(data)\n",
    "    \n",
    "    def isEmpty(self):\n",
    "        if len(self.lst) == 0: \n",
    "            return True\n",
    "        else:\n",
    "            return False\n",
    "        \n",
    "    def print_stack(self):\n",
    "        for i in self.lst:\n",
    "            print(i.head)\n",
    "        "
   ]
  },
  {
   "cell_type": "markdown",
   "id": "e86141bb-9839-41e9-a5b9-1ac875de75f5",
   "metadata": {},
   "source": [
    "При вызове метода pop нужно поменять указатель в последенем элементе стэка на None"
   ]
  },
  {
   "cell_type": "code",
   "execution_count": 45,
   "id": "26f82c68-e744-4da9-b0b2-db93ca62808f",
   "metadata": {},
   "outputs": [],
   "source": [
    "s = Stack()"
   ]
  },
  {
   "cell_type": "code",
   "execution_count": 53,
   "id": "1523ec02-03a0-4076-944a-5c74a6d9ee9d",
   "metadata": {},
   "outputs": [],
   "source": [
    "s.push(a)\n",
    "s.push(b)"
   ]
  },
  {
   "cell_type": "code",
   "execution_count": 51,
   "id": "2fb8d445-8ec3-446c-8bae-0b633a6a98a4",
   "metadata": {},
   "outputs": [],
   "source": [
    "s.print_stack()"
   ]
  },
  {
   "cell_type": "code",
   "execution_count": 54,
   "id": "c97395eb-3c02-4939-a42a-31d4b047536a",
   "metadata": {},
   "outputs": [
    {
     "data": {
      "text/plain": [
       "False"
      ]
     },
     "execution_count": 54,
     "metadata": {},
     "output_type": "execute_result"
    }
   ],
   "source": [
    "s.isEmpty()"
   ]
  },
  {
   "cell_type": "code",
   "execution_count": null,
   "id": "709b2865-d6f7-4a59-9984-50fbaaa60563",
   "metadata": {},
   "outputs": [],
   "source": []
  }
 ],
 "metadata": {
  "kernelspec": {
   "display_name": "Python 3 (ipykernel)",
   "language": "python",
   "name": "python3"
  },
  "language_info": {
   "codemirror_mode": {
    "name": "ipython",
    "version": 3
   },
   "file_extension": ".py",
   "mimetype": "text/x-python",
   "name": "python",
   "nbconvert_exporter": "python",
   "pygments_lexer": "ipython3",
   "version": "3.9.7"
  }
 },
 "nbformat": 4,
 "nbformat_minor": 5
}
