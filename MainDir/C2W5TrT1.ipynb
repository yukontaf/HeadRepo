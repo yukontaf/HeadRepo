{
 "cells": [
  {
   "cell_type": "markdown",
   "metadata": {},
   "source": [
    "## Нейронные сети: зависимость ошибки и обучающей способности от числа нейронов"
   ]
  },
  {
   "cell_type": "code",
   "execution_count": 1,
   "metadata": {
    "collapsed": true
   },
   "outputs": [],
   "source": [
    "# Выполним инициализацию основных используемых модулей\n",
    "%matplotlib inline\n",
    "\n",
    "import random\n",
    "import matplotlib.pyplot as plt\n",
    "from sklearn.preprocessing import normalize\n",
    "import numpy as np\n",
    "import sklearn\n",
    "from tqdm.notebook import tqdm\n",
    "import tensorflow as tf\n",
    "import pandas as pd\n",
    "tf.config.run_functions_eagerly(True)\n",
    "%load_ext blackcellmagic"
   ]
  },
  {
   "cell_type": "code",
   "execution_count": 2,
   "metadata": {},
   "outputs": [
    {
     "data": {
      "text/plain": [
       "1"
      ]
     },
     "execution_count": 2,
     "metadata": {},
     "output_type": "execute_result"
    }
   ],
   "source": [
    "from loguru import logger\n",
    "logger.add('error.message.txt', format=\"{time} - {level} - {message}\")"
   ]
  },
  {
   "cell_type": "code",
   "execution_count": 15,
   "metadata": {},
   "outputs": [],
   "source": [
    "from tensorflow.keras import regularizers\n",
    "import snoop"
   ]
  },
  {
   "cell_type": "markdown",
   "metadata": {},
   "source": [
    "Выполним загрузку данных"
   ]
  },
  {
   "cell_type": "code",
   "execution_count": 69,
   "metadata": {
    "collapsed": false
   },
   "outputs": [],
   "source": [
    "'''with open('winequality-red.csv') as f:\n",
    "    f.readline()  # пропуск заголовочной строки\n",
    "    data = np.loadtxt(f, delimiter=';')\n",
    "df = pd.DataFrame(data)\n",
    "df.to_csv('winequality-red1.csv', header=True, index=False)\n",
    "df = pd.read_csv('winequality-red1.csv')\n",
    "bins = [0, 5, 7, np.inf]\n",
    "labels_list = [0, 1, 2]\n",
    "df['11'] = pd.cut(df['11'], bins=bins, labels=labels_list)\n",
    "df.to_csv('winequality-red1.csv', header=True, index=False)'''"
   ]
  },
  {
   "cell_type": "code",
   "execution_count": 3,
   "metadata": {},
   "outputs": [],
   "source": [
    "df = pd.read_csv('winequality-red1.csv')"
   ]
  },
  {
   "cell_type": "code",
   "execution_count": 16,
   "metadata": {},
   "outputs": [],
   "source": [
    "HIDDEN_NEURONS_NUM = [50, 100, 200, 500, 700, 1000]"
   ]
  },
  {
   "cell_type": "code",
   "execution_count": null,
   "metadata": {},
   "outputs": [],
   "source": [
    "'''batch_size = 1\n",
    "train_dataset = tf.data.experimental.make_csv_dataset(\n",
    "    \"winequality-red1.csv\",\n",
    "    batch_size,\n",
    "    select_columns=[str(i) for i in range(12)],\n",
    "    label_name=\"11\",\n",
    "    num_epochs=1,\n",
    "    shuffle=True,\n",
    ")\n",
    "features, labels = next(iter(train_dataset))\n",
    "column_names = [str(i) for i in range(12)]\n",
    "features = column_names[:-1]\n",
    "labels = column_names[-1]\n",
    "\n",
    "\n",
    "def pack_features_vector(features, labels):\n",
    "    features = tf.stack(list(features.values()), axis=1)\n",
    "    return features, labels\n",
    "\n",
    "\n",
    "train_dataset = train_dataset.map(pack_features_vector)\n",
    "features, labels = next(iter(train_dataset))'''"
   ]
  },
  {
   "cell_type": "code",
   "execution_count": 26,
   "metadata": {},
   "outputs": [],
   "source": [
    "tf.data.experimental.enable_debug_mode()"
   ]
  },
  {
   "cell_type": "code",
   "execution_count": 27,
   "metadata": {},
   "outputs": [],
   "source": [
    "normalizer = tf.keras.layers.Normalization(axis=-1)\n",
    "normalizer.adapt(df.drop('11', axis=1))"
   ]
  },
  {
   "cell_type": "code",
   "execution_count": 13,
   "metadata": {},
   "outputs": [],
   "source": [
    "column_names = np.array(df.columns)"
   ]
  },
  {
   "cell_type": "code",
   "execution_count": 19,
   "metadata": {},
   "outputs": [],
   "source": [
    "from collections import defaultdict"
   ]
  },
  {
   "cell_type": "code",
   "execution_count": 100,
   "metadata": {},
   "outputs": [
    {
     "name": "stdout",
     "output_type": "stream",
     "text": [
      "Epoch 00007: early stopping\n"
     ]
    },
    {
     "name": "stderr",
     "output_type": "stream",
     "text": [
      "WARNING:absl:Found untraced functions such as adapt_step while saving (showing 1 of 1). These functions will not be directly callable after loading.\n"
     ]
    },
    {
     "name": "stdout",
     "output_type": "stream",
     "text": [
      "INFO:tensorflow:Assets written to: /Users/glebsokolov/MainDir/C2W5.models/model50/assets\n"
     ]
    },
    {
     "name": "stderr",
     "output_type": "stream",
     "text": [
      "INFO:tensorflow:Assets written to: /Users/glebsokolov/MainDir/C2W5.models/model50/assets\n"
     ]
    },
    {
     "name": "stdout",
     "output_type": "stream",
     "text": [
      "Epoch 00007: early stopping\n"
     ]
    },
    {
     "name": "stderr",
     "output_type": "stream",
     "text": [
      "WARNING:absl:Found untraced functions such as adapt_step while saving (showing 1 of 1). These functions will not be directly callable after loading.\n"
     ]
    },
    {
     "name": "stdout",
     "output_type": "stream",
     "text": [
      "INFO:tensorflow:Assets written to: /Users/glebsokolov/MainDir/C2W5.models/model100/assets\n"
     ]
    },
    {
     "name": "stderr",
     "output_type": "stream",
     "text": [
      "INFO:tensorflow:Assets written to: /Users/glebsokolov/MainDir/C2W5.models/model100/assets\n"
     ]
    },
    {
     "name": "stdout",
     "output_type": "stream",
     "text": [
      "Epoch 00007: early stopping\n"
     ]
    },
    {
     "name": "stderr",
     "output_type": "stream",
     "text": [
      "WARNING:absl:Found untraced functions such as adapt_step while saving (showing 1 of 1). These functions will not be directly callable after loading.\n"
     ]
    },
    {
     "name": "stdout",
     "output_type": "stream",
     "text": [
      "INFO:tensorflow:Assets written to: /Users/glebsokolov/MainDir/C2W5.models/model200/assets\n"
     ]
    },
    {
     "name": "stderr",
     "output_type": "stream",
     "text": [
      "INFO:tensorflow:Assets written to: /Users/glebsokolov/MainDir/C2W5.models/model200/assets\n"
     ]
    },
    {
     "name": "stdout",
     "output_type": "stream",
     "text": [
      "Epoch 00007: early stopping\n"
     ]
    },
    {
     "name": "stderr",
     "output_type": "stream",
     "text": [
      "WARNING:absl:Found untraced functions such as adapt_step while saving (showing 1 of 1). These functions will not be directly callable after loading.\n"
     ]
    },
    {
     "name": "stdout",
     "output_type": "stream",
     "text": [
      "INFO:tensorflow:Assets written to: /Users/glebsokolov/MainDir/C2W5.models/model500/assets\n"
     ]
    },
    {
     "name": "stderr",
     "output_type": "stream",
     "text": [
      "INFO:tensorflow:Assets written to: /Users/glebsokolov/MainDir/C2W5.models/model500/assets\n"
     ]
    },
    {
     "name": "stdout",
     "output_type": "stream",
     "text": [
      "Epoch 00007: early stopping\n"
     ]
    },
    {
     "name": "stderr",
     "output_type": "stream",
     "text": [
      "WARNING:absl:Found untraced functions such as adapt_step while saving (showing 1 of 1). These functions will not be directly callable after loading.\n"
     ]
    },
    {
     "name": "stdout",
     "output_type": "stream",
     "text": [
      "INFO:tensorflow:Assets written to: /Users/glebsokolov/MainDir/C2W5.models/model700/assets\n"
     ]
    },
    {
     "name": "stderr",
     "output_type": "stream",
     "text": [
      "INFO:tensorflow:Assets written to: /Users/glebsokolov/MainDir/C2W5.models/model700/assets\n"
     ]
    },
    {
     "name": "stdout",
     "output_type": "stream",
     "text": [
      "Epoch 00007: early stopping\n"
     ]
    },
    {
     "name": "stderr",
     "output_type": "stream",
     "text": [
      "WARNING:absl:Found untraced functions such as adapt_step while saving (showing 1 of 1). These functions will not be directly callable after loading.\n"
     ]
    },
    {
     "name": "stdout",
     "output_type": "stream",
     "text": [
      "INFO:tensorflow:Assets written to: /Users/glebsokolov/MainDir/C2W5.models/model1000/assets\n"
     ]
    },
    {
     "name": "stderr",
     "output_type": "stream",
     "text": [
      "INFO:tensorflow:Assets written to: /Users/glebsokolov/MainDir/C2W5.models/model1000/assets\n"
     ]
    },
    {
     "name": "stdout",
     "output_type": "stream",
     "text": [
      "CPU times: user 9min 23s, sys: 7.59 s, total: 9min 31s\n",
      "Wall time: 9min 39s\n"
     ]
    }
   ],
   "source": [
    "%%time\n",
    "@logger.catch\n",
    "@tf.function(jit_compile=True)\n",
    "def experiment():\n",
    "    results = defaultdict(float)\n",
    "    es = tf.keras.callbacks.EarlyStopping(monitor=\"val_accuracy\", mode=\"max\", verbose=1, patience=3)\n",
    "    for i in HIDDEN_NEURONS_NUM:\n",
    "        tf.random.set_seed(0)\n",
    "        model = get_basic_model(i)\n",
    "        metrics = model.fit(\n",
    "            x_train,\n",
    "            y_train,\n",
    "            batch_size=1,\n",
    "            epochs=100,\n",
    "            use_multiprocessing=True,\n",
    "            validation_data=(x_test, y_test),\n",
    "            callbacks=[es],\n",
    "            verbose=0,\n",
    "        )\n",
    "        results[i] = metrics.history\n",
    "        model.save(f\"/Users/glebsokolov/MainDir/C2W5.models/model{i}\")\n",
    "    return results\n",
    "\n",
    "\n",
    "exp_run = experiment()"
   ]
  },
  {
   "cell_type": "code",
   "execution_count": 31,
   "metadata": {},
   "outputs": [],
   "source": [
    "def write_answer(optimal_neurons_num):\n",
    "    with open(\"nnets_answer1.txt\", \"w\") as fout:\n",
    "        fout.write(str(optimal_neurons_num))"
   ]
  },
  {
   "cell_type": "code",
   "execution_count": 103,
   "metadata": {},
   "outputs": [
    {
     "name": "stdout",
     "output_type": "stream",
     "text": [
      "0.736952006816864\n",
      "0.7390396595001221\n",
      "0.7327766418457031\n",
      "0.7348642945289612\n",
      "0.7348642945289612\n",
      "0.7348642945289612\n"
     ]
    }
   ],
   "source": [
    "for i in HIDDEN_NEURONS_NUM:\n",
    "    print(exp_run[i]['val_accuracy'][-1])"
   ]
  },
  {
   "cell_type": "code",
   "execution_count": 86,
   "metadata": {},
   "outputs": [],
   "source": [
    "write_answer(1000)"
   ]
  },
  {
   "cell_type": "code",
   "execution_count": 81,
   "metadata": {},
   "outputs": [],
   "source": [
    "@logger.catch\n",
    "@tf.function(jit_compile=True)\n",
    "def get_basic_model(N):\n",
    "    model = tf.keras.Sequential(\n",
    "        [\n",
    "            normalizer,\n",
    "            tf.keras.layers.Dense(N, kernel_regularizer=regularizers.l2(0.001)),\n",
    "            tf.keras.layers.Dense(3),\n",
    "        ]\n",
    "    )\n",
    "    model.compile(\n",
    "        optimizer=\"sgd\",\n",
    "        loss=tf.keras.losses.SparseCategoricalCrossentropy(from_logits=True),\n",
    "        metrics=[\"accuracy\"],\n",
    "    )\n",
    "    return model"
   ]
  },
  {
   "cell_type": "code",
   "execution_count": 47,
   "metadata": {},
   "outputs": [],
   "source": [
    "x_train = tf.convert_to_tensor(df.drop(\"11\", axis=1).loc[: int(0.7 * len(df))])\n",
    "y_train = tf.convert_to_tensor(df[\"11\"].loc[: int(0.7 * len(df))])\n",
    "x_test = tf.convert_to_tensor(df.drop(\"11\", axis=1).loc[int(0.7 * len(df)) + 1 :])\n",
    "y_test = tf.convert_to_tensor(df[\"11\"].loc[int(0.7 * len(df)) + 1 :])"
   ]
  },
  {
   "cell_type": "code",
   "execution_count": null,
   "metadata": {},
   "outputs": [],
   "source": [
    "tf.one_hot(y, depth=3)"
   ]
  },
  {
   "cell_type": "code",
   "execution_count": 18,
   "metadata": {},
   "outputs": [
    {
     "name": "stdout",
     "output_type": "stream",
     "text": [
      "Epoch 1/20\n",
      "  11/1599 [..............................] - ETA: 17s - loss: 1.0305 - accuracy: 0.4545"
     ]
    },
    {
     "name": "stderr",
     "output_type": "stream",
     "text": [
      "/Users/glebsokolov/opt/anaconda3/lib/python3.8/site-packages/tensorflow/python/data/ops/dataset_ops.py:4211: UserWarning: Even though the `tf.config.experimental_run_functions_eagerly` option is set, this option does not apply to tf.data functions. To force eager execution of tf.data functions, please use `tf.data.experimental.enable_debug_mode()`.\n",
      "  warnings.warn(\n"
     ]
    },
    {
     "name": "stdout",
     "output_type": "stream",
     "text": [
      "1599/1599 [==============================] - 19s 12ms/step - loss: 0.7035 - accuracy: 0.7173\n",
      "Epoch 2/20\n",
      "1599/1599 [==============================] - 18s 11ms/step - loss: 0.6514 - accuracy: 0.7305\n",
      "Epoch 3/20\n",
      "1599/1599 [==============================] - 17s 11ms/step - loss: 0.6370 - accuracy: 0.7280\n",
      "Epoch 4/20\n",
      "1599/1599 [==============================] - 19s 12ms/step - loss: 0.6281 - accuracy: 0.7342\n",
      "Epoch 5/20\n",
      "1599/1599 [==============================] - 24s 15ms/step - loss: 0.6228 - accuracy: 0.7317\n",
      "Epoch 6/20\n",
      "1599/1599 [==============================] - 18s 11ms/step - loss: 0.6102 - accuracy: 0.7405\n",
      "Epoch 7/20\n",
      "1599/1599 [==============================] - 18s 11ms/step - loss: 0.6074 - accuracy: 0.7336\n",
      "Epoch 8/20\n",
      "1599/1599 [==============================] - 19s 12ms/step - loss: 0.6006 - accuracy: 0.7348\n",
      "Epoch 9/20\n",
      "1599/1599 [==============================] - 20s 12ms/step - loss: 0.5994 - accuracy: 0.7411\n",
      "Epoch 10/20\n",
      "1599/1599 [==============================] - 19s 12ms/step - loss: 0.5905 - accuracy: 0.7530\n",
      "Epoch 11/20\n",
      "1599/1599 [==============================] - 19s 12ms/step - loss: 0.5916 - accuracy: 0.7448\n",
      "Epoch 12/20\n",
      "1599/1599 [==============================] - 17s 11ms/step - loss: 0.5828 - accuracy: 0.7486\n",
      "Epoch 13/20\n",
      "1599/1599 [==============================] - 19s 12ms/step - loss: 0.5797 - accuracy: 0.7461\n",
      "Epoch 14/20\n",
      "1599/1599 [==============================] - 18s 11ms/step - loss: 0.5788 - accuracy: 0.7542\n",
      "Epoch 15/20\n",
      "1599/1599 [==============================] - 20s 12ms/step - loss: 0.5781 - accuracy: 0.7473\n",
      "Epoch 16/20\n",
      "1599/1599 [==============================] - 18s 12ms/step - loss: 0.5754 - accuracy: 0.7473\n",
      "Epoch 17/20\n",
      "1599/1599 [==============================] - 18s 11ms/step - loss: 0.5731 - accuracy: 0.7617\n",
      "Epoch 18/20\n",
      "1599/1599 [==============================] - 19s 12ms/step - loss: 0.5731 - accuracy: 0.7505\n",
      "Epoch 19/20\n",
      "1599/1599 [==============================] - 17s 11ms/step - loss: 0.5707 - accuracy: 0.7492\n",
      "Epoch 20/20\n",
      "1599/1599 [==============================] - 17s 11ms/step - loss: 0.5685 - accuracy: 0.7492\n"
     ]
    },
    {
     "data": {
      "text/plain": [
       "<keras.callbacks.History at 0x7ff46d110d90>"
      ]
     },
     "execution_count": 18,
     "metadata": {},
     "output_type": "execute_result"
    }
   ],
   "source": [
    "model.fit(train, y, epochs=20, batch_size=1, use_multiprocessing=True)"
   ]
  },
  {
   "cell_type": "code",
   "execution_count": 71,
   "metadata": {},
   "outputs": [],
   "source": [
    "training_df: pd.DataFrame = df\n",
    "features = column_names[:-1]\n",
    "train_dataset = (\n",
    "    tf.data.Dataset.from_tensors(\n",
    "        (\n",
    "            x_train,\n",
    "            y_train\n",
    "        )\n",
    "    )\n",
    ")"
   ]
  },
  {
   "cell_type": "code",
   "execution_count": 70,
   "metadata": {},
   "outputs": [],
   "source": [
    "features, labels = x_train, y_train"
   ]
  },
  {
   "cell_type": "code",
   "execution_count": 72,
   "metadata": {},
   "outputs": [],
   "source": [
    "@logger.catch\n",
    "def prepare():\n",
    "    global model\n",
    "    model = tf.keras.Sequential(\n",
    "        [\n",
    "            tf.keras.layers.Dense(\n",
    "                50,\n",
    "                input_shape=(11,),\n",
    "                kernel_regularizer=regularizers.l2(0.001),\n",
    "            ),\n",
    "            tf.keras.layers.Dense(3),\n",
    "        ]\n",
    "    )\n",
    "    global loss\n",
    "    loss = tf.keras.losses.SparseCategoricalCrossentropy(from_logits=True)\n",
    "\n",
    "    def grad(model, inputs, targets):\n",
    "        with tf.GradientTape() as tape:\n",
    "            logits = model(inputs, training=True)\n",
    "            loss_value = loss(targets, logits)\n",
    "        return loss_value, tape.gradient(loss_value, model.trainable_variables)\n",
    "    global optimizer\n",
    "    optimizer = tf.keras.optimizers.SGD(learning_rate=0.01)\n",
    "    loss_value, grads = grad(model, features, labels)\n",
    "\n",
    "    optimizer.apply_gradients(zip(grads, model.trainable_variables))\n",
    "    return model"
   ]
  },
  {
   "cell_type": "code",
   "execution_count": 73,
   "metadata": {},
   "outputs": [
    {
     "name": "stderr",
     "output_type": "stream",
     "text": [
      "2021-10-11 22:19:33.506 | ERROR    | __main__:<module>:1 - An error has been caught in function '<module>', process 'MainProcess' (61371), thread 'MainThread' (4445056512):\n",
      "Traceback (most recent call last):\n",
      "\n",
      "  File \"/Users/glebsokolov/opt/anaconda3/lib/python3.8/runpy.py\", line 194, in _run_module_as_main\n",
      "    return _run_code(code, main_globals, None,\n",
      "           │         │     └ {'__name__': '__main__', '__doc__': 'Entry point for launching an IPython kernel.\\n\\nThis is separate from the ipykernel pack...\n",
      "           │         └ <code object <module> at 0x7ff47c3487c0, file \"/Users/glebsokolov/opt/anaconda3/lib/python3.8/site-packages/ipykernel_launche...\n",
      "           └ <function _run_code at 0x7ff47c3a0ca0>\n",
      "  File \"/Users/glebsokolov/opt/anaconda3/lib/python3.8/runpy.py\", line 87, in _run_code\n",
      "    exec(code, run_globals)\n",
      "         │     └ {'__name__': '__main__', '__doc__': 'Entry point for launching an IPython kernel.\\n\\nThis is separate from the ipykernel pack...\n",
      "         └ <code object <module> at 0x7ff47c3487c0, file \"/Users/glebsokolov/opt/anaconda3/lib/python3.8/site-packages/ipykernel_launche...\n",
      "  File \"/Users/glebsokolov/opt/anaconda3/lib/python3.8/site-packages/ipykernel_launcher.py\", line 16, in <module>\n",
      "    app.launch_new_instance()\n",
      "    │   └ <bound method Application.launch_instance of <class 'ipykernel.kernelapp.IPKernelApp'>>\n",
      "    └ <module 'ipykernel.kernelapp' from '/Users/glebsokolov/opt/anaconda3/lib/python3.8/site-packages/ipykernel/kernelapp.py'>\n",
      "  File \"/Users/glebsokolov/opt/anaconda3/lib/python3.8/site-packages/traitlets/config/application.py\", line 846, in launch_instance\n",
      "    app.start()\n",
      "    │   └ <function IPKernelApp.start at 0x7ff4815f9d30>\n",
      "    └ <ipykernel.kernelapp.IPKernelApp object at 0x7ff47c06bac0>\n",
      "  File \"/Users/glebsokolov/opt/anaconda3/lib/python3.8/site-packages/ipykernel/kernelapp.py\", line 677, in start\n",
      "    self.io_loop.start()\n",
      "    │    │       └ <function BaseAsyncIOLoop.start at 0x7ff47e4adf70>\n",
      "    │    └ <tornado.platform.asyncio.AsyncIOMainLoop object at 0x7ff48161d1c0>\n",
      "    └ <ipykernel.kernelapp.IPKernelApp object at 0x7ff47c06bac0>\n",
      "  File \"/Users/glebsokolov/opt/anaconda3/lib/python3.8/site-packages/tornado/platform/asyncio.py\", line 199, in start\n",
      "    self.asyncio_loop.run_forever()\n",
      "    │    │            └ <function BaseEventLoop.run_forever at 0x7ff47e061c10>\n",
      "    │    └ <_UnixSelectorEventLoop running=True closed=False debug=False>\n",
      "    └ <tornado.platform.asyncio.AsyncIOMainLoop object at 0x7ff48161d1c0>\n",
      "  File \"/Users/glebsokolov/opt/anaconda3/lib/python3.8/asyncio/base_events.py\", line 570, in run_forever\n",
      "    self._run_once()\n",
      "    │    └ <function BaseEventLoop._run_once at 0x7ff47e063790>\n",
      "    └ <_UnixSelectorEventLoop running=True closed=False debug=False>\n",
      "  File \"/Users/glebsokolov/opt/anaconda3/lib/python3.8/asyncio/base_events.py\", line 1859, in _run_once\n",
      "    handle._run()\n",
      "    │      └ <function Handle._run at 0x7ff47c7e1f70>\n",
      "    └ <Handle <TaskWakeupMethWrapper object at 0x7ff46d1c3a90>(<Future finis...7d0>, ...],))>)>\n",
      "  File \"/Users/glebsokolov/opt/anaconda3/lib/python3.8/asyncio/events.py\", line 81, in _run\n",
      "    self._context.run(self._callback, *self._args)\n",
      "    │    │            │    │           │    └ <member '_args' of 'Handle' objects>\n",
      "    │    │            │    │           └ <Handle <TaskWakeupMethWrapper object at 0x7ff46d1c3a90>(<Future finis...7d0>, ...],))>)>\n",
      "    │    │            │    └ <member '_callback' of 'Handle' objects>\n",
      "    │    │            └ <Handle <TaskWakeupMethWrapper object at 0x7ff46d1c3a90>(<Future finis...7d0>, ...],))>)>\n",
      "    │    └ <member '_context' of 'Handle' objects>\n",
      "    └ <Handle <TaskWakeupMethWrapper object at 0x7ff46d1c3a90>(<Future finis...7d0>, ...],))>)>\n",
      "  File \"/Users/glebsokolov/opt/anaconda3/lib/python3.8/site-packages/ipykernel/kernelbase.py\", line 457, in dispatch_queue\n",
      "    await self.process_one()\n",
      "          │    └ <function Kernel.process_one at 0x7ff480ea95e0>\n",
      "          └ <ipykernel.ipkernel.IPythonKernel object at 0x7ff481628af0>\n",
      "  File \"/Users/glebsokolov/opt/anaconda3/lib/python3.8/site-packages/ipykernel/kernelbase.py\", line 446, in process_one\n",
      "    await dispatch(*args)\n",
      "          │         └ ([<zmq.sugar.frame.Frame object at 0x7ff489d83b40>, <zmq.sugar.frame.Frame object at 0x7ff4816cd880>, <zmq.sugar.frame.Frame ...\n",
      "          └ <bound method Kernel.dispatch_shell of <ipykernel.ipkernel.IPythonKernel object at 0x7ff481628af0>>\n",
      "  File \"/Users/glebsokolov/opt/anaconda3/lib/python3.8/site-packages/ipykernel/kernelbase.py\", line 353, in dispatch_shell\n",
      "    await result\n",
      "          └ <coroutine object Kernel.execute_request at 0x7ff46ca9b640>\n",
      "  File \"/Users/glebsokolov/opt/anaconda3/lib/python3.8/site-packages/ipykernel/kernelbase.py\", line 648, in execute_request\n",
      "    reply_content = await reply_content\n",
      "                          └ <coroutine object IPythonKernel.do_execute at 0x7ff46ca9bec0>\n",
      "  File \"/Users/glebsokolov/opt/anaconda3/lib/python3.8/site-packages/ipykernel/ipkernel.py\", line 353, in do_execute\n",
      "    res = shell.run_cell(code, store_history=store_history, silent=silent)\n",
      "          │     │        │                   │                     └ False\n",
      "          │     │        │                   └ True\n",
      "          │     │        └ 'model = prepare()'\n",
      "          │     └ <function ZMQInteractiveShell.run_cell at 0x7ff480ebda60>\n",
      "          └ <ipykernel.zmqshell.ZMQInteractiveShell object at 0x7ff481682250>\n",
      "  File \"/Users/glebsokolov/opt/anaconda3/lib/python3.8/site-packages/ipykernel/zmqshell.py\", line 533, in run_cell\n",
      "    return super(ZMQInteractiveShell, self).run_cell(*args, **kwargs)\n",
      "                 │                    │               │       └ {'store_history': True, 'silent': False}\n",
      "                 │                    │               └ ('model = prepare()',)\n",
      "                 │                    └ <ipykernel.zmqshell.ZMQInteractiveShell object at 0x7ff481682250>\n",
      "                 └ <class 'ipykernel.zmqshell.ZMQInteractiveShell'>\n",
      "  File \"/Users/glebsokolov/opt/anaconda3/lib/python3.8/site-packages/IPython/core/interactiveshell.py\", line 2898, in run_cell\n",
      "    result = self._run_cell(\n",
      "             │    └ <function InteractiveShell._run_cell at 0x7ff480332dc0>\n",
      "             └ <ipykernel.zmqshell.ZMQInteractiveShell object at 0x7ff481682250>\n",
      "  File \"/Users/glebsokolov/opt/anaconda3/lib/python3.8/site-packages/IPython/core/interactiveshell.py\", line 2944, in _run_cell\n",
      "    return runner(coro)\n",
      "           │      └ <coroutine object InteractiveShell.run_cell_async at 0x7ff46ca9ba40>\n",
      "           └ <function _pseudo_sync_runner at 0x7ff480321430>\n",
      "  File \"/Users/glebsokolov/opt/anaconda3/lib/python3.8/site-packages/IPython/core/async_helpers.py\", line 68, in _pseudo_sync_runner\n",
      "    coro.send(None)\n",
      "    │    └ <method 'send' of 'coroutine' objects>\n",
      "    └ <coroutine object InteractiveShell.run_cell_async at 0x7ff46ca9ba40>\n",
      "  File \"/Users/glebsokolov/opt/anaconda3/lib/python3.8/site-packages/IPython/core/interactiveshell.py\", line 3169, in run_cell_async\n",
      "    has_raised = await self.run_ast_nodes(code_ast.body, cell_name,\n",
      "                       │    │             │        │     └ '/var/folders/t0/fw3jvl196_v78v94hzhxhpgw0000gn/T/ipykernel_61371/3123481254.py'\n",
      "                       │    │             │        └ [<_ast.Assign object at 0x7ff46b7d8070>]\n",
      "                       │    │             └ <_ast.Module object at 0x7ff46b7d81f0>\n",
      "                       │    └ <function InteractiveShell.run_ast_nodes at 0x7ff4803340d0>\n",
      "                       └ <ipykernel.zmqshell.ZMQInteractiveShell object at 0x7ff481682250>\n",
      "  File \"/Users/glebsokolov/opt/anaconda3/lib/python3.8/site-packages/IPython/core/interactiveshell.py\", line 3361, in run_ast_nodes\n",
      "    if (await self.run_code(code, result,  async_=asy)):\n",
      "              │    │        │     │               └ False\n",
      "              │    │        │     └ <ExecutionResult object at 7ff46cc770a0, execution_count=73 error_before_exec=None error_in_exec=None info=<ExecutionInfo obj...\n",
      "              │    │        └ <code object <module> at 0x7ff46d0ed0e0, file \"/var/folders/t0/fw3jvl196_v78v94hzhxhpgw0000gn/T/ipykernel_61371/3123481254.py...\n",
      "              │    └ <function InteractiveShell.run_code at 0x7ff4803341f0>\n",
      "              └ <ipykernel.zmqshell.ZMQInteractiveShell object at 0x7ff481682250>\n",
      "  File \"/Users/glebsokolov/opt/anaconda3/lib/python3.8/site-packages/IPython/core/interactiveshell.py\", line 3441, in run_code\n",
      "    exec(code_obj, self.user_global_ns, self.user_ns)\n",
      "         │         │    │               │    └ {'__name__': '__main__', '__doc__': 'Automatically created module for IPython interactive environment', '__package__': None, ...\n",
      "         │         │    │               └ <ipykernel.zmqshell.ZMQInteractiveShell object at 0x7ff481682250>\n",
      "         │         │    └ <property object at 0x7ff480323e50>\n",
      "         │         └ <ipykernel.zmqshell.ZMQInteractiveShell object at 0x7ff481682250>\n",
      "         └ <code object <module> at 0x7ff46d0ed0e0, file \"/var/folders/t0/fw3jvl196_v78v94hzhxhpgw0000gn/T/ipykernel_61371/3123481254.py...\n",
      "\n",
      "> File \"/var/folders/t0/fw3jvl196_v78v94hzhxhpgw0000gn/T/ipykernel_61371/3123481254.py\", line 1, in <module>\n",
      "    model = prepare()\n",
      "            └ <function prepare at 0x7ff46ca44820>\n",
      "\n",
      "  File \"/var/folders/t0/fw3jvl196_v78v94hzhxhpgw0000gn/T/ipykernel_61371/1308964460.py\", line 24, in prepare\n",
      "    loss_value, grads = grad(model, features, labels)\n",
      "                        │    │      │         └ <tf.Tensor: shape=(1120,), dtype=int64, numpy=array([0, 0, 0, ..., 1, 1, 0])>\n",
      "                        │    │      └ array(['0', '1', '2', '3', '4', '5', '6', '7', '8', '9', '10'],\n",
      "                        │    │              dtype=object)\n",
      "                        │    └ <keras.engine.sequential.Sequential object at 0x7ff46e0bb160>\n",
      "                        └ <function prepare.<locals>.grad at 0x7ff47082a940>\n",
      "\n",
      "  File \"/var/folders/t0/fw3jvl196_v78v94hzhxhpgw0000gn/T/ipykernel_61371/1308964460.py\", line 19, in grad\n",
      "    logits = model(inputs, training=True)\n",
      "             │     └ array(['0', '1', '2', '3', '4', '5', '6', '7', '8', '9', '10'],\n",
      "             │             dtype=object)\n",
      "             └ <keras.engine.sequential.Sequential object at 0x7ff46e0bb160>\n",
      "\n",
      "  File \"/Users/glebsokolov/opt/anaconda3/lib/python3.8/site-packages/keras/engine/base_layer.py\", line 1020, in __call__\n",
      "    input_spec.assert_input_compatibility(self.input_spec, inputs, self.name)\n",
      "    │          │                          │    │           │       │    └ <property object at 0x7ff46b3c53b0>\n",
      "    │          │                          │    │           │       └ <keras.engine.sequential.Sequential object at 0x7ff46e0bb160>\n",
      "    │          │                          │    │           └ <tf.Tensor: shape=(11,), dtype=string, numpy=\n",
      "    │          │                          │    │             array([b'0', b'1', b'2', b'3', b'4', b'5', b'6', b'7', b'8', b'9', b'10'],\n",
      "    │          │                          │    │                 ...\n",
      "    │          │                          │    └ <property object at 0x7ff46b5d3270>\n",
      "    │          │                          └ <keras.engine.sequential.Sequential object at 0x7ff46e0bb160>\n",
      "    │          └ <function assert_input_compatibility at 0x7ff46b1a0790>\n",
      "    └ <module 'keras.engine.input_spec' from '/Users/glebsokolov/opt/anaconda3/lib/python3.8/site-packages/keras/engine/input_spec....\n",
      "  File \"/Users/glebsokolov/opt/anaconda3/lib/python3.8/site-packages/keras/engine/input_spec.py\", line 229, in assert_input_compatibility\n",
      "    raise ValueError('Input ' + str(input_index) + ' of layer ' +\n",
      "                                    └ 0\n",
      "\n",
      "ValueError: Input 0 of layer sequential_47 is incompatible with the layer: : expected min_ndim=2, found ndim=1. Full shape received: (11,)\n"
     ]
    }
   ],
   "source": [
    "model = prepare()"
   ]
  },
  {
   "cell_type": "code",
   "execution_count": 698,
   "metadata": {},
   "outputs": [],
   "source": [
    "@logger.catch\n",
    "def train_steps():\n",
    "    ## Note: Rerunning this cell uses the same model variables\n",
    "\n",
    "    # Keep results for plotting\n",
    "    train_loss_results = []\n",
    "    train_accuracy_results = []\n",
    "\n",
    "    num_epochs = 100\n",
    "\n",
    "    for epoch in tqdm(range(num_epochs)):\n",
    "        epoch_loss_avg = tf.keras.metrics.Mean()\n",
    "        epoch_accuracy = tf.keras.metrics.SparseCategoricalAccuracy()\n",
    "\n",
    "        for x, y in train_dataset:\n",
    "            # Optimize the model\n",
    "            loss_value, grads = grad(model, x, y)\n",
    "            optimizer.apply_gradients(zip(grads, model.trainable_variables))\n",
    "\n",
    "            # Track progress\n",
    "            epoch_loss_avg.update_state(loss_value)  # Add current batch loss\n",
    "            # Compare predicted label to actual label\n",
    "            # training=True is needed only if there are layers with different\n",
    "            # behavior during training versus inference (e.g. Dropout).\n",
    "            epoch_accuracy.update_state(y, model(x, training=True))\n",
    "\n",
    "        # End epoch\n",
    "    train_loss_results.append(epoch_loss_avg.result())\n",
    "    train_accuracy_results.append(epoch_accuracy.result())\n",
    "\n",
    "    return (\n",
    "        print(\n",
    "            \"Epoch {:03d}: Loss: {:.3f}, Accuracy: {:.3%}\".format(\n",
    "                epoch, epoch_loss_avg.result(), epoch_accuracy.result()\n",
    "            )\n",
    "        ),\n",
    "        train_loss_results,\n",
    "        train_accuracy_results,\n",
    "    )"
   ]
  },
  {
   "cell_type": "code",
   "execution_count": 699,
   "metadata": {},
   "outputs": [
    {
     "data": {
      "application/vnd.jupyter.widget-view+json": {
       "model_id": "bad681167f774bb985491d3a53b1e4dd",
       "version_major": 2,
       "version_minor": 0
      },
      "text/plain": [
       "  0%|          | 0/10 [00:00<?, ?it/s]"
      ]
     },
     "metadata": {},
     "output_type": "display_data"
    },
    {
     "name": "stdout",
     "output_type": "stream",
     "text": [
      "Epoch 009: Loss: 0.777, Accuracy: 54.784%\n"
     ]
    },
    {
     "data": {
      "text/plain": [
       "(None,\n",
       " [<tf.Tensor: shape=(), dtype=float32, numpy=0.77678907>],\n",
       " [<tf.Tensor: shape=(), dtype=float32, numpy=0.5478424>])"
      ]
     },
     "execution_count": 699,
     "metadata": {},
     "output_type": "execute_result"
    }
   ],
   "source": [
    "train_steps()"
   ]
  },
  {
   "cell_type": "code",
   "execution_count": 581,
   "metadata": {
    "pycharm": {
     "name": "#%%\n"
    }
   },
   "outputs": [
    {
     "name": "stdout",
     "output_type": "stream",
     "text": [
      "Model: \"sequential_104\"\n",
      "_________________________________________________________________\n",
      "Layer (type)                 Output Shape              Param #   \n",
      "=================================================================\n",
      "dense_287 (Dense)            (None, 50)                600       \n",
      "_________________________________________________________________\n",
      "dense_288 (Dense)            (None, 50)                2550      \n",
      "_________________________________________________________________\n",
      "dense_289 (Dense)            (None, 3)                 153       \n",
      "=================================================================\n",
      "Total params: 3,303\n",
      "Trainable params: 3,303\n",
      "Non-trainable params: 0\n",
      "_________________________________________________________________\n"
     ]
    }
   ],
   "source": [
    "model.summary()"
   ]
  }
 ],
 "metadata": {
  "interpreter": {
   "hash": "1be9856963ee0560708bb2052661aa27357a5b7ae3c19a3b57a929c8d7be175e"
  },
  "kernelspec": {
   "display_name": "Python 3.8.11 64-bit ('base': conda)",
   "name": "python3"
  },
  "language_info": {
   "codemirror_mode": {
    "name": "ipython",
    "version": 3
   },
   "file_extension": ".py",
   "mimetype": "text/x-python",
   "name": "python",
   "nbconvert_exporter": "python",
   "pygments_lexer": "ipython3",
   "version": "3.8.11"
  }
 },
 "nbformat": 4,
 "nbformat_minor": 0
}