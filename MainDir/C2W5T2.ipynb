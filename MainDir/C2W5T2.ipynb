{
 "cells": [
  {
   "cell_type": "code",
   "execution_count": 1,
   "metadata": {},
   "outputs": [],
   "source": [
    "from loguru import logger\n",
    "import numpy as np\n",
    "import pandas as pd\n",
    "from tqdm.notebook import tqdm\n",
    "%load_ext blackcellmagic"
   ]
  },
  {
   "cell_type": "code",
   "execution_count": 2,
   "metadata": {},
   "outputs": [
    {
     "data": {
      "text/plain": [
       "1"
      ]
     },
     "execution_count": 2,
     "metadata": {},
     "output_type": "execute_result"
    }
   ],
   "source": [
    "from sklearn import datasets, model_selection\n",
    "import os\n",
    "\n",
    "logger.add(\"error.message.txt\", format=\"{time} - {level} - {message}\", level=\"DEBUG\")"
   ]
  },
  {
   "cell_type": "code",
   "execution_count": 3,
   "metadata": {},
   "outputs": [],
   "source": [
    "from sklearn.ensemble import RandomForestClassifier\n",
    "from sklearn.neighbors import KNeighborsClassifier"
   ]
  },
  {
   "cell_type": "code",
   "execution_count": 20,
   "metadata": {},
   "outputs": [],
   "source": [
    "def write_ans(ans, fname):\n",
    "    with open(f'{fname}.txt', 'w') as fout:\n",
    "        fout.write(str(ans))"
   ]
  },
  {
   "cell_type": "code",
   "execution_count": 5,
   "metadata": {},
   "outputs": [],
   "source": [
    "digits = datasets.load_digits()\n",
    "x_train, x_test, y_train, y_test = (\n",
    "    digits.data[: int(0.75 * len(digits.data))],\n",
    "    digits.data[int(0.75 * len(digits.data)) + 1 :],\n",
    "    digits.target[: int(0.75 * len(digits.data))],\n",
    "    digits.target[int(0.75 * len(digits.data)) + 1 :],\n",
    ")"
   ]
  },
  {
   "cell_type": "code",
   "execution_count": 6,
   "metadata": {},
   "outputs": [],
   "source": [
    "def kNN(points, x, y):\n",
    "    predictions = []\n",
    "    for point in points:\n",
    "        distances = np.sqrt(\n",
    "            np.sum((np.tile(point, (x.shape[0], 1)) - x) ** 2, axis=1)\n",
    "        )\n",
    "        nearest = np.argmin(distances)\n",
    "        res = y[nearest]\n",
    "        predictions.append(y[res])\n",
    "    return np.array(predictions)"
   ]
  },
  {
   "cell_type": "code",
   "execution_count": 7,
   "metadata": {},
   "outputs": [
    {
     "data": {
      "text/plain": [
       "0.9621380846325167"
      ]
     },
     "execution_count": 7,
     "metadata": {},
     "output_type": "execute_result"
    }
   ],
   "source": [
    "y_pred = kNN(x_test, x_train, y_train)\n",
    "1 - np.count_nonzero(y_pred - y_test) / len(y_test)"
   ]
  },
  {
   "cell_type": "code",
   "execution_count": 25,
   "metadata": {},
   "outputs": [],
   "source": [
    "rfc = RandomForestClassifier()\n",
    "# rfc.fit(x_train, y_train)\n",
    "# rfc.predict(x_test)\n",
    "rfc_ans = np.mean(model_selection.cross_val_score(rfc, digits.data, digits.target))\n",
    "write_ans(1 - rfc_ans, \"ans2\")"
   ]
  },
  {
   "cell_type": "code",
   "execution_count": 26,
   "metadata": {},
   "outputs": [],
   "source": [
    "singleNN = KNeighborsClassifier(n_neighbors=1)\n",
    "singleNN_ans = np.mean(\n",
    "    model_selection.cross_val_score(singleNN, digits.data, digits.target)\n",
    ")\n",
    "write_ans(1 - singleNN_ans, \"ans1\")"
   ]
  },
  {
   "cell_type": "code",
   "execution_count": null,
   "metadata": {},
   "outputs": [],
   "source": []
  }
 ],
 "metadata": {
  "interpreter": {
   "hash": "1be9856963ee0560708bb2052661aa27357a5b7ae3c19a3b57a929c8d7be175e"
  },
  "kernelspec": {
   "display_name": "Python 3.8.11 64-bit ('base': conda)",
   "name": "python3"
  },
  "language_info": {
   "codemirror_mode": {
    "name": "ipython",
    "version": 3
   },
   "file_extension": ".py",
   "mimetype": "text/x-python",
   "name": "python",
   "nbconvert_exporter": "python",
   "pygments_lexer": "ipython3",
   "version": "3.8.11"
  },
  "orig_nbformat": 4
 },
 "nbformat": 4,
 "nbformat_minor": 2
}
