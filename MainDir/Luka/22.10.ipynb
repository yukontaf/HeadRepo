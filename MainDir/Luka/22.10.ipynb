{
 "cells": [
  {
   "cell_type": "markdown",
   "metadata": {},
   "source": [
    "S = 'cd', k = 3. Нужно каждый из символов в строке сдвинуть на три символа вперёд. abc='abcdefghijklmnop...' \n",
    "1. Берём в цикле каждую из букв строки S\n",
    "2. Находим её индекс в abc, то есть порядковый номер в алфавите\n",
    "3. Прибавляем к индексу k \n",
    "4. Выводим на печать букву, которая стоит в алфавите на позиции index + k"
   ]
  },
  {
   "cell_type": "code",
   "execution_count": 4,
   "metadata": {},
   "outputs": [],
   "source": [
    "def cypher(S, k):\n",
    "    abc = 'abcdefghijklmnop'\n",
    "    for letter in S:\n",
    "        ind = abc.index(letter) + k\n",
    "        print(abc[ind], end='')"
   ]
  },
  {
   "cell_type": "code",
   "execution_count": 5,
   "metadata": {},
   "outputs": [
    {
     "name": "stdout",
     "output_type": "stream",
     "text": [
      "fg"
     ]
    }
   ],
   "source": [
    "cypher('cd', 3)"
   ]
  },
  {
   "cell_type": "code",
   "execution_count": null,
   "metadata": {},
   "outputs": [],
   "source": []
  }
 ],
 "metadata": {
  "interpreter": {
   "hash": "1be9856963ee0560708bb2052661aa27357a5b7ae3c19a3b57a929c8d7be175e"
  },
  "kernelspec": {
   "display_name": "Python 3.8.11 64-bit ('base': conda)",
   "name": "python3"
  },
  "language_info": {
   "codemirror_mode": {
    "name": "ipython",
    "version": 3
   },
   "file_extension": ".py",
   "mimetype": "text/x-python",
   "name": "python",
   "nbconvert_exporter": "python",
   "pygments_lexer": "ipython3",
   "version": "3.8.11"
  },
  "orig_nbformat": 4
 },
 "nbformat": 4,
 "nbformat_minor": 2
}
