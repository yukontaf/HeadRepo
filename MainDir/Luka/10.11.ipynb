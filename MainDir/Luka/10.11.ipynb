{
 "cells": [
  {
   "cell_type": "markdown",
   "metadata": {},
   "source": [
    "Дан список чисел, нужно найти все попарные произведения (различных) чисел и среди них найти максимум.\\\n",
    " Например, `[1, 2, 3]` ~> `[1*2, 1*3, 2*1, 2*3, 3*1, 3*2]`"
   ]
  },
  {
   "cell_type": "code",
   "execution_count": 1,
   "metadata": {},
   "outputs": [
    {
     "name": "stdout",
     "output_type": "stream",
     "text": [
      "[2, 3, 6]\n"
     ]
    }
   ],
   "source": [
    "def max_product(seq):\n",
    "    pairwise = []\n",
    "    for i in seq:\n",
    "       for j in seq:\n",
    "           if i != j and i*j not in pairwise: pairwise.append(i*j)\n",
    "    return pairwise\n",
    "print(max_product([1,2,3]))"
   ]
  },
  {
   "cell_type": "code",
   "execution_count": 3,
   "metadata": {},
   "outputs": [],
   "source": [
    "%load_ext blackcellmagic"
   ]
  },
  {
   "cell_type": "code",
   "execution_count": 11,
   "metadata": {},
   "outputs": [],
   "source": [
    "from random import randint\n",
    "dummy = [randint(1, 100) for i in range(10**7)]"
   ]
  },
  {
   "cell_type": "markdown",
   "metadata": {},
   "source": [
    "Чтобы ускорить этот алгоритм достаточно найти два наибольших элемента в этом списке и их произведение и будет являться корректным ответом к задаче"
   ]
  },
  {
   "cell_type": "markdown",
   "metadata": {},
   "source": [
    "Поиск максимума:\n",
    "1. На первом шаге выбираем случайный элемент последовательности (как правило выбирают нулевой) $N_{max}$\n",
    "2. Пишем цикл, проходящийся по всем элементам последовательности и сравниваем каждый из них с нашим первым максимумом\n",
    "3. Если очередной элемент больше $N_{max}$, то присваиваем $N_{max}$ значение этого элемента\n",
    "4. Идем в цикле дальше и продолжаем сравнивать новое значение $N_{max}$ со всеми следующими, если опять найдётся элемент больше чем $N_{max}$, то обновляем значение $N_{max}$"
   ]
  },
  {
   "cell_type": "markdown",
   "metadata": {},
   "source": [
    "Произведение двух наибольших чисел последовательности будет давать максимум последовательности попарных произведений различных чисел этой последовательности"
   ]
  },
  {
   "cell_type": "code",
   "execution_count": 1,
   "metadata": {},
   "outputs": [],
   "source": [
    "def find_max(seq):\n",
    "    max_1 = seq[0]\n",
    "    for i in seq:\n",
    "        if max_1 < i: max_1 = i\n",
    "    max_2 = seq[0]\n",
    "    for i in seq:\n",
    "        if max_2 < i and max_2 != max_1: max_2 = i\n",
    "    return max_1 * max_2"
   ]
  },
  {
   "cell_type": "markdown",
   "metadata": {},
   "source": [
    "1. Удалить все повторяющиеся элементы из списка. (При помощи функции `set` которая удалит все дубликаты из последовательности)\n",
    "2. Отсортировать полученную конструкцию (функция `sorted`)\n",
    "3. Вязть из неё произведение двух последних элементов"
   ]
  },
  {
   "cell_type": "code",
   "execution_count": 8,
   "metadata": {},
   "outputs": [],
   "source": [
    "def find_max_modif(seq):\n",
    "    return sorted(set(seq))[-1] * sorted(set(seq))[-2]"
   ]
  },
  {
   "cell_type": "code",
   "execution_count": 12,
   "metadata": {},
   "outputs": [
    {
     "name": "stdout",
     "output_type": "stream",
     "text": [
      "216 ms ± 12.1 ms per loop (mean ± std. dev. of 7 runs, 1 loop each)\n"
     ]
    }
   ],
   "source": [
    "%%timeit\n",
    "find_max_modif(dummy)"
   ]
  },
  {
   "cell_type": "code",
   "execution_count": 13,
   "metadata": {},
   "outputs": [
    {
     "name": "stdout",
     "output_type": "stream",
     "text": [
      "756 ms ± 9.79 ms per loop (mean ± std. dev. of 7 runs, 1 loop each)\n"
     ]
    }
   ],
   "source": [
    "%%timeit\n",
    "find_max(dummy)"
   ]
  },
  {
   "cell_type": "code",
   "execution_count": null,
   "metadata": {},
   "outputs": [],
   "source": []
  }
 ],
 "metadata": {
  "interpreter": {
   "hash": "1be9856963ee0560708bb2052661aa27357a5b7ae3c19a3b57a929c8d7be175e"
  },
  "kernelspec": {
   "display_name": "Python 3.8.11 64-bit ('base': conda)",
   "name": "python3"
  },
  "language_info": {
   "codemirror_mode": {
    "name": "ipython",
    "version": 3
   },
   "file_extension": ".py",
   "mimetype": "text/x-python",
   "name": "python",
   "nbconvert_exporter": "python",
   "pygments_lexer": "ipython3",
   "version": "3.8.11"
  },
  "orig_nbformat": 4
 },
 "nbformat": 4,
 "nbformat_minor": 2
}
