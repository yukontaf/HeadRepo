{
 "cells": [
  {
   "cell_type": "markdown",
   "metadata": {},
   "source": [
    "$\\overline{a_{n-1}...a_2a_1a_0} = a_{n-1}*10^{n-1}+\\dots+a_2*10^2+a_1*10^1+a_0*10^0$"
   ]
  },
  {
   "cell_type": "code",
   "execution_count": 5,
   "metadata": {},
   "outputs": [
    {
     "data": {
      "text/plain": [
       "1"
      ]
     },
     "execution_count": 5,
     "metadata": {},
     "output_type": "execute_result"
    }
   ],
   "source": [
    "(1234 % 10000) // 1000"
   ]
  },
  {
   "cell_type": "markdown",
   "metadata": {},
   "source": [
    "Таким образом, для нахождения $n$-ой цифры в числе необходимо взять остаток от деления числа на $10^{n+1}$ и целочисленно поделить его на $10^n$. Где $n$ - число цифр в числе, так что $n-1$ - старшая степень десяти в разложении на разрядные слагаемые"
   ]
  },
  {
   "cell_type": "code",
   "execution_count": 35,
   "metadata": {},
   "outputs": [],
   "source": [
    "def sum_digits(num):\n",
    "    digits = []\n",
    "    n = len(str(num)) # число цифр в числе\n",
    "    for i in range(n):\n",
    "        digit = (num % (10 ** (i + 1))) // 10 ** i\n",
    "        digits.append(digit)\n",
    "    print(digits)\n",
    "    return sum(digits)\n"
   ]
  },
  {
   "cell_type": "code",
   "execution_count": 36,
   "metadata": {},
   "outputs": [
    {
     "name": "stdout",
     "output_type": "stream",
     "text": [
      "[4, 3, 2, 1]\n"
     ]
    },
    {
     "data": {
      "text/plain": [
       "10"
      ]
     },
     "execution_count": 36,
     "metadata": {},
     "output_type": "execute_result"
    }
   ],
   "source": [
    "sum_digits(1234)"
   ]
  },
  {
   "cell_type": "markdown",
   "metadata": {},
   "source": [
    "Можно получить тот же самый результат, приведя наше число `num` к типу строки, затем разбить эту строку на составляющие её литералы (то есть цифры). Сделать это можно приведя строку к типу `list`"
   ]
  },
  {
   "cell_type": "markdown",
   "metadata": {},
   "source": [
    "`'1234'` -> `['1', '2', '3', '4']`"
   ]
  },
  {
   "cell_type": "code",
   "execution_count": 18,
   "metadata": {},
   "outputs": [
    {
     "data": {
      "text/plain": [
       "['1', '2', '3', '4']"
      ]
     },
     "execution_count": 18,
     "metadata": {},
     "output_type": "execute_result"
    }
   ],
   "source": [
    "num = 1234\n",
    "digits = list(str(num))\n",
    "digits"
   ]
  },
  {
   "cell_type": "code",
   "execution_count": 14,
   "metadata": {},
   "outputs": [],
   "source": [
    "def sum_digits2(num):\n",
    "    result = 0 \n",
    "    for i in str(num): # проходимся в цикле по символам строки '1234'\n",
    "        result += int(i) # приводим символы строки, то есть цифры, обратно к типу int и добавляем значение к result\n",
    "    return result"
   ]
  },
  {
   "cell_type": "code",
   "execution_count": 12,
   "metadata": {},
   "outputs": [
    {
     "data": {
      "text/plain": [
       "10"
      ]
     },
     "execution_count": 12,
     "metadata": {},
     "output_type": "execute_result"
    }
   ],
   "source": [
    "sum_digits2(1234)"
   ]
  },
  {
   "cell_type": "code",
   "execution_count": 24,
   "metadata": {},
   "outputs": [],
   "source": [
    "def sum_digits3(num):\n",
    "    return sum(map(int, list(str(num))))"
   ]
  },
  {
   "cell_type": "markdown",
   "metadata": {},
   "source": [
    "В ячейке выше происходит следующее:\n",
    "1. Мы получаем список цифр-строк при помощи вызова `list(str(num))`\n",
    "2. При помощи функции `map` мы приводим цифры-строки к типу `int` и получаем список цифр\n",
    "3. Суммируем элементы объекта, возвращённого `map`"
   ]
  },
  {
   "cell_type": "code",
   "execution_count": 25,
   "metadata": {},
   "outputs": [
    {
     "data": {
      "text/plain": [
       "10"
      ]
     },
     "execution_count": 25,
     "metadata": {},
     "output_type": "execute_result"
    }
   ],
   "source": [
    "sum_digits3(1234)"
   ]
  },
  {
   "cell_type": "code",
   "execution_count": 28,
   "metadata": {},
   "outputs": [
    {
     "name": "stdout",
     "output_type": "stream",
     "text": [
      "4\n",
      "3\n",
      "2\n",
      "1\n"
     ]
    }
   ],
   "source": [
    "print(1234 % 10)\n",
    "print(123 % 10) # 123 = 1234 // 10\n",
    "print(12 % 10) # 12 = 123 // 10\n",
    "print(1 % 10)"
   ]
  },
  {
   "cell_type": "markdown",
   "metadata": {},
   "source": [
    "Выполняя цепочку последовательных (целочисленных) делений на 10 мы за каждую итерацию отсекаем справа по одной цифре, предварительно добавив её к итоговой сумме. \n",
    "Очевидно, такая цепочка делений даст рано или поздно 0, что и будет являться условием прекращения работы цикла."
   ]
  },
  {
   "cell_type": "code",
   "execution_count": 32,
   "metadata": {},
   "outputs": [],
   "source": [
    "def sum_digits4(num):\n",
    "    result = 0\n",
    "    while num != 0:\n",
    "        result += num % 10\n",
    "        num = num // 10\n",
    "    return result"
   ]
  },
  {
   "cell_type": "code",
   "execution_count": 34,
   "metadata": {},
   "outputs": [
    {
     "data": {
      "text/plain": [
       "10"
      ]
     },
     "execution_count": 34,
     "metadata": {},
     "output_type": "execute_result"
    }
   ],
   "source": [
    "sum_digits4(1234)"
   ]
  },
  {
   "cell_type": "code",
   "execution_count": null,
   "metadata": {},
   "outputs": [],
   "source": []
  }
 ],
 "metadata": {
  "interpreter": {
   "hash": "1be9856963ee0560708bb2052661aa27357a5b7ae3c19a3b57a929c8d7be175e"
  },
  "kernelspec": {
   "display_name": "Python 3.8.8 64-bit ('base': conda)",
   "name": "python3"
  },
  "language_info": {
   "codemirror_mode": {
    "name": "ipython",
    "version": 3
   },
   "file_extension": ".py",
   "mimetype": "text/x-python",
   "name": "python",
   "nbconvert_exporter": "python",
   "pygments_lexer": "ipython3",
   "version": "3.8.8"
  },
  "orig_nbformat": 4
 },
 "nbformat": 4,
 "nbformat_minor": 2
}
