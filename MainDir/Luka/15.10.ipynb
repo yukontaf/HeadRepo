{
 "cells": [
  {
   "cell_type": "markdown",
   "metadata": {},
   "source": [
    "$ a_n = a_0n^0+a_1n^1+\\dots+a_nn^{n-1} $\\\n",
    "$ 2112_3=2*3^0+1*3^1+1*3^2+2*3^3=2+3+9+54=68 $"
   ]
  },
  {
   "cell_type": "markdown",
   "metadata": {},
   "source": [
    "Алгоритм перевода из СС с основанием $ n_1 $ в СС с основанием $ n_2 $:\n",
    "1. Перевести число из СС с основанием $ n_1 $  в десятиричную\n",
    "2."
   ]
  },
  {
   "cell_type": "code",
   "execution_count": 3,
   "outputs": [],
   "source": [
    "import snoop"
   ],
   "metadata": {
    "collapsed": false,
    "pycharm": {
     "name": "#%%\n"
    }
   }
  },
  {
   "cell_type": "code",
   "execution_count": 1,
   "metadata": {},
   "outputs": [],
   "source": [
    "alphabet = '0123456789ABCDEFGHJ'"
   ]
  },
  {
   "cell_type": "code",
   "execution_count": 4,
   "metadata": {},
   "outputs": [],
   "source": [
    "@snoop\n",
    "def to_decimal(num, base):\n",
    "    digits = [alphabet.index(i) for i in str(num)][::-1]\n",
    "    return sum([digits[i] * base ** i for i in range(len(digits))])"
   ]
  },
  {
   "cell_type": "code",
   "execution_count": 5,
   "metadata": {},
   "outputs": [],
   "source": [
    "def to_any(num, base):\n",
    "    digits = []\n",
    "    while num != 0:\n",
    "        digits.append(num % base)\n",
    "        num //= base\n",
    "    return \"\".join([alphabet[i] for i in digits[::-1]])"
   ]
  },
  {
   "cell_type": "code",
   "execution_count": 6,
   "metadata": {},
   "outputs": [],
   "source": [
    "def to_convert(num, base1, base2):\n",
    "    return to_any(to_decimal(num, base1), base2)"
   ]
  },
  {
   "cell_type": "code",
   "execution_count": 7,
   "metadata": {},
   "outputs": [
    {
     "name": "stderr",
     "output_type": "stream",
     "text": [
      "01:20:17.73 >>> Call to to_decimal in File \"/var/folders/t0/fw3jvl196_v78v94hzhxhpgw0000gn/T/ipykernel_98557/2830637829.py\", line 2\n",
      "01:20:17.73 ...... num = '11'\n",
      "01:20:17.73 ...... base = 10\n",
      "01:20:17.73    2 | def to_decimal(num, base):\n",
      "01:20:17.73    3 |     digits = [alphabet.index(i) for i in str(num)][::-1]\n",
      "    01:20:17.73 List comprehension:\n",
      "    01:20:17.73    3 |     digits = [alphabet.index(i) for i in str(num)][::-1]\n",
      "    01:20:17.74 .......... Iterating over <str_iterator object at 0x7f95a7f02f40>\n",
      "    01:20:17.74 .......... Values of i: '1'\n",
      "    01:20:17.74 Result: [1, 1]\n",
      "01:20:17.74    3 |     digits = [alphabet.index(i) for i in str(num)][::-1]\n",
      "01:20:17.74 .......... digits = [1, 1]\n",
      "01:20:17.74 .......... len(digits) = 2\n",
      "01:20:17.74    4 |     return sum([digits[i] * base ** i for i in range(len(digits))])\n",
      "    01:20:17.75 List comprehension:\n",
      "    01:20:17.75    4 |     return sum([digits[i] * base ** i for i in range(len(digits))])\n",
      "    01:20:17.75 .......... Iterating over <range_iterator object at 0x7f95a91853f0>\n",
      "    01:20:17.75 .......... Values of base: 10\n",
      "    01:20:17.75 .......... Values of digits: [1, 1]\n",
      "    01:20:17.75 .......... Values of len(digits): 2\n",
      "    01:20:17.75 .......... Values of i: 0, 1\n",
      "    01:20:17.75 Result: [1, 10]\n",
      "01:20:17.75    4 |     return sum([digits[i] * base ** i for i in range(len(digits))])\n",
      "01:20:17.76 <<< Return value from to_decimal: 11\n"
     ]
    },
    {
     "data": {
      "text/plain": "'1011'"
     },
     "execution_count": 7,
     "metadata": {},
     "output_type": "execute_result"
    }
   ],
   "source": [
    "to_convert('11', 10, 2)"
   ]
  },
  {
   "cell_type": "code",
   "execution_count": 8,
   "metadata": {},
   "outputs": [
    {
     "name": "stderr",
     "output_type": "stream",
     "text": [
      "01:20:31.87 >>> Call to to_decimal in File \"/var/folders/t0/fw3jvl196_v78v94hzhxhpgw0000gn/T/ipykernel_98557/2830637829.py\", line 2\n",
      "01:20:31.87 ...... num = 100101101\n",
      "01:20:31.87 ...... base = 2\n",
      "01:20:31.87    2 | def to_decimal(num, base):\n",
      "01:20:31.88    3 |     digits = [alphabet.index(i) for i in str(num)][::-1]\n",
      "    01:20:31.88 List comprehension:\n",
      "    01:20:31.88    3 |     digits = [alphabet.index(i) for i in str(num)][::-1]\n",
      "    01:20:31.90 .......... Iterating over <str_iterator object at 0x7f95a91657c0>\n",
      "    01:20:31.90 .......... Values of i: '1', '0', '1', '0', '1', '0', '1'\n",
      "    01:20:31.90 Result: [1, 0, 0, 1, 0, 1, 1, 0, 1]\n",
      "01:20:31.90    3 |     digits = [alphabet.index(i) for i in str(num)][::-1]\n",
      "01:20:31.91 .......... digits = [1, 0, 1, 1, 0, 1, 0, 0, 1]\n",
      "01:20:31.91 .......... len(digits) = 9\n",
      "01:20:31.91    4 |     return sum([digits[i] * base ** i for i in range(len(digits))])\n",
      "    01:20:31.92 List comprehension:\n",
      "    01:20:31.92    4 |     return sum([digits[i] * base ** i for i in range(len(digits))])\n",
      "    01:20:31.93 .......... Iterating over <range_iterator object at 0x7f95a91657b0>\n",
      "    01:20:31.93 .......... Values of base: 2\n",
      "    01:20:31.93 .......... Values of digits: [1, 0, 1, 1, 0, 1, 0, 0, 1]\n",
      "    01:20:31.93 .......... Values of len(digits): 9\n",
      "    01:20:31.93 .......... Values of i: 0, 1, 2, 3, 4, 5, 6, 7, 8\n",
      "    01:20:31.93 Result: [1, 0, 4, 8, 0, 32, 0, 0, 256]\n",
      "01:20:31.93    4 |     return sum([digits[i] * base ** i for i in range(len(digits))])\n",
      "01:20:31.93 <<< Return value from to_decimal: 301\n"
     ]
    },
    {
     "data": {
      "text/plain": "'455'"
     },
     "execution_count": 8,
     "metadata": {},
     "output_type": "execute_result"
    }
   ],
   "source": [
    "to_convert(100101101, 2, 8)"
   ]
  },
  {
   "cell_type": "code",
   "execution_count": 9,
   "metadata": {},
   "outputs": [
    {
     "data": {
      "text/plain": "1"
     },
     "execution_count": 9,
     "metadata": {},
     "output_type": "execute_result"
    }
   ],
   "source": [
    "num1 = \"311,1\"\n",
    "repr = list(num1)\n",
    "len(repr) - repr.index(\",\")-1"
   ]
  },
  {
   "cell_type": "code",
   "execution_count": 9,
   "metadata": {},
   "outputs": [],
   "source": [
    "repr.remove(',')"
   ]
  },
  {
   "cell_type": "code",
   "execution_count": 33,
   "metadata": {},
   "outputs": [
    {
     "data": {
      "text/plain": [
       "['3', '1', '1', '1']"
      ]
     },
     "execution_count": 33,
     "metadata": {},
     "output_type": "execute_result"
    }
   ],
   "source": [
    "repr"
   ]
  },
  {
   "cell_type": "markdown",
   "metadata": {},
   "source": [
    "$ 11_2 =  5*2+1$\\\n",
    "$ 5=2*2+1 $\\\n",
    "$2=2*1+0 $\\\n",
    "$ 1 = 0*2+1 $"
   ]
  },
  {
   "cell_type": "code",
   "execution_count": 39,
   "metadata": {},
   "outputs": [],
   "source": [
    "import snoop"
   ]
  },
  {
   "cell_type": "code",
   "execution_count": 11,
   "metadata": {},
   "outputs": [],
   "source": [
    "# @snoop\n",
    "def calculator(num1, num2, base, operation):\n",
    "    if \",\" in num1:\n",
    "        repr1 = list(num1)\n",
    "        factor1 = 10 ** (len(repr1) - repr1.index(\",\") - 1)\n",
    "        repr1.remove(\",\")\n",
    "        num1 = \"\".join(repr1)\n",
    "    if \",\" in num2:\n",
    "        repr2 = list(num2)\n",
    "        factor2 = 10 ** (len(repr2) - repr2.index(\",\") - 1)\n",
    "        repr2.remove(\",\")\n",
    "        num2 = \"\".join(repr2)\n",
    "    num1, num2 = to_decimal(num1, base), to_decimal(num2, base)\n",
    "    result_decimal = eval(str(num1) + operation + str(num2))\n",
    "    return to_any(result_decimal, base)"
   ]
  },
  {
   "cell_type": "code",
   "execution_count": 12,
   "metadata": {},
   "outputs": [
    {
     "data": {
      "text/plain": [
       "'131'"
      ]
     },
     "execution_count": 12,
     "metadata": {},
     "output_type": "execute_result"
    }
   ],
   "source": [
    "calculator('67', '42', 8, '+')"
   ]
  },
  {
   "cell_type": "code",
   "execution_count": 13,
   "metadata": {},
   "outputs": [
    {
     "data": {
      "text/plain": [
       "'3000'"
      ]
     },
     "execution_count": 13,
     "metadata": {},
     "output_type": "execute_result"
    }
   ],
   "source": [
    "calculator('311,1', '11,1', 8, '-')"
   ]
  }
 ],
 "metadata": {
  "interpreter": {
   "hash": "1be9856963ee0560708bb2052661aa27357a5b7ae3c19a3b57a929c8d7be175e"
  },
  "kernelspec": {
   "display_name": "Python 3.8.11 64-bit ('base': conda)",
   "name": "python3"
  },
  "language_info": {
   "codemirror_mode": {
    "name": "ipython",
    "version": 3
   },
   "file_extension": ".py",
   "mimetype": "text/x-python",
   "name": "python",
   "nbconvert_exporter": "python",
   "pygments_lexer": "ipython3",
   "version": "3.8.11"
  },
  "orig_nbformat": 4
 },
 "nbformat": 4,
 "nbformat_minor": 2
}