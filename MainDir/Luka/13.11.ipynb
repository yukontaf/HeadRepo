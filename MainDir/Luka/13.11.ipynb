{
 "cells": [
  {
   "cell_type": "markdown",
   "metadata": {},
   "source": [
    "$НОД(a,b)$ - наибольшее такое число, которое одновременно делит a и b без остатка"
   ]
  },
  {
   "cell_type": "markdown",
   "metadata": {},
   "source": [
    "1. Разложить a и b на простые множители\n",
    "2. Найти в этих разложениях такие простые множители, которые встречаются одновременно в обоих числах, выписать их\n",
    "3. Перемножить числа из пункта 2"
   ]
  },
  {
   "cell_type": "code",
   "execution_count": 4,
   "metadata": {},
   "outputs": [
    {
     "data": {
      "text/plain": [
       "83331340959357362115560492898510640225731"
      ]
     },
     "execution_count": 4,
     "metadata": {},
     "output_type": "execute_result"
    }
   ],
   "source": [
    "import random\n",
    "random.randint(10**40, 10**41)"
   ]
  },
  {
   "cell_type": "markdown",
   "metadata": {},
   "source": [
    "Чтобы разложить число $N$ на простые множители, нужно начать перебирать все простые числа вплоть до $\\sqrt{N}$"
   ]
  },
  {
   "cell_type": "code",
   "execution_count": 4,
   "metadata": {},
   "outputs": [],
   "source": [
    "%load_ext blackcellmagic"
   ]
  },
  {
   "cell_type": "markdown",
   "metadata": {},
   "source": [
    "I Алгоритм нахождения НОД:\n",
    "1. Раскладываем оба числа на простые множители\n",
    "2. Находим в обоих разложениях множители, которые встречаются одновременно в обоих разложениях и перемножаем их\\\n",
    "Доказать\\\n",
    "Найдём НОД(128, 144):\\\n",
    "$128=2*2*37$\\\n",
    "$144=2*2*2*2*3*3$"
   ]
  },
  {
   "cell_type": "code",
   "execution_count": 20,
   "metadata": {},
   "outputs": [],
   "source": [
    "\n",
    "def factorize(n):\n",
    "    sieve = list(range(n + 1))\n",
    "    sieve[1] = 0\n",
    "    for i in sieve:\n",
    "        if i > 1:\n",
    "            for j in range(i + i, len(sieve), i):\n",
    "                sieve[j] = 0\n",
    "    sieve = list(filter(lambda x: x != 0, sieve)) # возвращает список всех ненулевых элементов (простых чисел)\n",
    "    prime_factors = []\n",
    "    while n != 1:\n",
    "        for i in sieve:\n",
    "            if n % i == 0:\n",
    "                prime_factors.append(i)\n",
    "                n /= i\n",
    "    return prime_factors\n",
    "\n",
    "def find_gcd(a, b):\n",
    "    factors_a, factors_b = factorize(a), factorize(b)\n",
    "    common_factors = [factor for factor in factors_a if factor in factors_b]\n",
    "    gcd = 1\n",
    "    for factor in common_factors:\n",
    "        gcd *= factor\n",
    "    return gcd"
   ]
  },
  {
   "cell_type": "markdown",
   "metadata": {},
   "source": [
    "$11_2+11_4+11_{16} = 11_2 + 101_2+ 10001_2$\\\n",
    "$1_2 + 1_2 = 10_2$"
   ]
  },
  {
   "cell_type": "code",
   "execution_count": 22,
   "metadata": {},
   "outputs": [
    {
     "data": {
      "text/plain": [
       "15"
      ]
     },
     "execution_count": 22,
     "metadata": {},
     "output_type": "execute_result"
    }
   ],
   "source": [
    "find_gcd(15, 60)"
   ]
  },
  {
   "cell_type": "markdown",
   "metadata": {},
   "source": [
    "Алгоритм Евклида:\n",
    "Можно доказать что $НОД(a, b) = НОД(a \\mod{b}, b)$ \\\n",
    "Пусть $a \\mod{b} = с$, тогда $НОД(b, c) = НОД(b \\mod{c}, c)$\\\n",
    "В алгоритме Евклида необходимо искать остатки от деления большего числа на меньшее\\\n",
    "$a=bq_0+r_1$, $b=r_1q_1+r_2$,\\\n",
    "$r_{n-2} = r_{n-1}q_{n-1}+r_n$"
   ]
  },
  {
   "cell_type": "markdown",
   "metadata": {},
   "source": [
    "TODO: Написать рекурсивный вариант "
   ]
  },
  {
   "cell_type": "code",
   "execution_count": null,
   "metadata": {},
   "outputs": [],
   "source": [
    "def gcd_euclid(a, b):\n",
    "    r_2, r_1, r = a, b, a % b\n",
    "    while r != 0:\n",
    "        r, r_2, r_1 = r_2 % r_1, r_1,r\n",
    "\n"
   ]
  }
 ],
 "metadata": {
  "interpreter": {
   "hash": "aee8b7b246df8f9039afb4144a1f6fd8d2ca17a180786b69acc140d282b71a49"
  },
  "kernelspec": {
   "display_name": "Python 3.9.2 64-bit",
   "language": "python",
   "name": "python3"
  },
  "language_info": {
   "codemirror_mode": {
    "name": "ipython",
    "version": 3
   },
   "file_extension": ".py",
   "mimetype": "text/x-python",
   "name": "python",
   "nbconvert_exporter": "python",
   "pygments_lexer": "ipython3",
   "version": "3.8.11"
  },
  "orig_nbformat": 4
 },
 "nbformat": 4,
 "nbformat_minor": 2
}
