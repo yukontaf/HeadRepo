{
 "cells": [
  {
   "cell_type": "code",
   "execution_count": 2,
   "metadata": {},
   "outputs": [],
   "source": [
    "from loguru import logger\n",
    "import pysnooper\n",
    "%load_ext snoop\n",
    "import snoop\n",
    "from birdseye import eye\n",
    "from snoop import spy\n",
    "%load_ext blackcellmagic"
   ]
  },
  {
   "cell_type": "code",
   "execution_count": 31,
   "metadata": {},
   "outputs": [],
   "source": [
    "snoop.install(out='file.info', color=True, overwrite=True)"
   ]
  },
  {
   "cell_type": "code",
   "execution_count": 23,
   "metadata": {},
   "outputs": [],
   "source": [
    "ALPHABET = \"0123456789abcdefghijklmnopqrstuvwxyz\"\n",
    "@snoop\n",
    "def to_decimal(num, base):\n",
    "    digits = [decode(i) for i in str(num).lower()]\n",
    "    dec = [digits[i] * base ** i for i in range(len(digits))]\n",
    "    return sum(dec)\n",
    "\n",
    "@snoop\n",
    "def decode(n):\n",
    "    return ALPHABET.index(n)\n",
    "\n",
    "\n",
    "@snoop\n",
    "def encode(n):\n",
    "    return ALPHABET[n]\n",
    "\n",
    "\n",
    "\n",
    "@snoop\n",
    "def from_decimal(num, base):\n",
    "\n",
    "    if num < base:\n",
    "        return encode(num)\n",
    "    else:\n",
    "        return from_decimal(num // base, base) + encode(num % base)\n"
   ]
  },
  {
   "cell_type": "code",
   "execution_count": 28,
   "metadata": {},
   "outputs": [
    {
     "data": {
      "text/plain": [
       "'11100101010110'"
      ]
     },
     "execution_count": 28,
     "metadata": {},
     "output_type": "execute_result"
    }
   ],
   "source": [
    "from snoop import pp\n",
    "pp(converter(62543, 8, 2))"
   ]
  },
  {
   "cell_type": "code",
   "execution_count": 32,
   "metadata": {},
   "outputs": [],
   "source": [
    "@snoop\n",
    "def converter(num, curr_base, base):\n",
    "    decimal = to_decimal(num, curr_base)\n",
    "    return from_decimal(decimal, base)"
   ]
  },
  {
   "cell_type": "code",
   "execution_count": 33,
   "metadata": {},
   "outputs": [
    {
     "data": {
      "text/plain": [
       "'11100101010110'"
      ]
     },
     "execution_count": 33,
     "metadata": {},
     "output_type": "execute_result"
    }
   ],
   "source": [
    "converter(62543, 8, 2)"
   ]
  },
  {
   "cell_type": "code",
   "execution_count": 16,
   "metadata": {},
   "outputs": [
    {
     "name": "stderr",
     "output_type": "stream",
     "text": [
      "                                                                13:47:58.64 >>> Call to <module> in File \"/var/folders/t0/fw3jvl196_v78v94hzhxhpgw0000gn/T/ipykernel_1971/2771756630.py\", line 1\n",
      "                                                                13:47:58.64 ...... from_decimal = <function from_decimal at 0x7fe94720f670>\n",
      "                                                                13:47:58.64    1 | from_decimal(12345, 16)\n",
      "                                                                13:47:58.64    1 | from_decimal(12345, 16)\n",
      "                                                                    13:47:58.64 >>> Call to from_decimal in File \"/var/folders/t0/fw3jvl196_v78v94hzhxhpgw0000gn/T/ipykernel_1971/4129834172.py\", line 18\n",
      "                                                                    13:47:58.64 ...... num = 12345\n",
      "                                                                    13:47:58.64 ...... base = 16\n",
      "                                                                    13:47:58.64   18 | def from_decimal(num, base):\n",
      "                                                                    13:47:58.64   20 |     if num < base:\n",
      "                                                                    13:47:58.65   23 |         return from_decimal(num // base, base) + encode(num % base)\n",
      "                                                                        13:47:58.65 >>> Call to from_decimal in File \"/var/folders/t0/fw3jvl196_v78v94hzhxhpgw0000gn/T/ipykernel_1971/4129834172.py\", line 18\n",
      "                                                                        13:47:58.65 ...... num = 771\n",
      "                                                                        13:47:58.65 ...... base = 16\n",
      "                                                                        13:47:58.65   18 | def from_decimal(num, base):\n",
      "                                                                        13:47:58.65   20 |     if num < base:\n",
      "                                                                        13:47:58.66   23 |         return from_decimal(num // base, base) + encode(num % base)\n",
      "                                                                            13:47:58.66 >>> Call to from_decimal in File \"/var/folders/t0/fw3jvl196_v78v94hzhxhpgw0000gn/T/ipykernel_1971/4129834172.py\", line 18\n",
      "                                                                            13:47:58.66 ...... num = 48\n",
      "                                                                            13:47:58.66 ...... base = 16\n",
      "                                                                            13:47:58.66   18 | def from_decimal(num, base):\n",
      "                                                                            13:47:58.66   20 |     if num < base:\n",
      "                                                                            13:47:58.67   23 |         return from_decimal(num // base, base) + encode(num % base)\n",
      "                                                                                13:47:58.67 >>> Call to from_decimal in File \"/var/folders/t0/fw3jvl196_v78v94hzhxhpgw0000gn/T/ipykernel_1971/4129834172.py\", line 18\n",
      "                                                                                13:47:58.67 ...... num = 3\n",
      "                                                                                13:47:58.67 ...... base = 16\n",
      "                                                                                13:47:58.67   18 | def from_decimal(num, base):\n",
      "                                                                                13:47:58.67   20 |     if num < base:\n",
      "                                                                                13:47:58.67   21 |         return encode(num)\n",
      "                                                                                    13:47:58.68 >>> Call to encode in File \"/var/folders/t0/fw3jvl196_v78v94hzhxhpgw0000gn/T/ipykernel_1971/4129834172.py\", line 13\n",
      "                                                                                    13:47:58.68 ...... n = 3\n",
      "                                                                                    13:47:58.68   13 | def encode(n):\n",
      "                                                                                    13:47:58.68   14 |     return ALPHABET[n]\n",
      "                                                                                    13:47:58.69 <<< Return value from encode: '3'\n",
      "                                                                                13:47:58.70   21 |         return encode(num)\n",
      "                                                                                13:47:58.70 <<< Return value from from_decimal: '3'\n",
      "                                                                                13:47:58.70 >>> Call to encode in File \"/var/folders/t0/fw3jvl196_v78v94hzhxhpgw0000gn/T/ipykernel_1971/4129834172.py\", line 13\n",
      "                                                                                13:47:58.70 ...... n = 0\n",
      "                                                                                13:47:58.70   13 | def encode(n):\n",
      "                                                                                13:47:58.70   14 |     return ALPHABET[n]\n",
      "                                                                                13:47:58.71 <<< Return value from encode: '0'\n",
      "                                                                            13:47:58.72   23 |         return from_decimal(num // base, base) + encode(num % base)\n",
      "                                                                            13:47:58.72 <<< Return value from from_decimal: '30'\n",
      "                                                                            13:47:58.72 >>> Call to encode in File \"/var/folders/t0/fw3jvl196_v78v94hzhxhpgw0000gn/T/ipykernel_1971/4129834172.py\", line 13\n",
      "                                                                            13:47:58.72 ...... n = 3\n",
      "                                                                            13:47:58.72   13 | def encode(n):\n",
      "                                                                            13:47:58.72   14 |     return ALPHABET[n]\n",
      "                                                                            13:47:58.73 <<< Return value from encode: '3'\n",
      "                                                                        13:47:58.73   23 |         return from_decimal(num // base, base) + encode(num % base)\n",
      "                                                                        13:47:58.73 <<< Return value from from_decimal: '303'\n",
      "                                                                        13:47:58.74 >>> Call to encode in File \"/var/folders/t0/fw3jvl196_v78v94hzhxhpgw0000gn/T/ipykernel_1971/4129834172.py\", line 13\n",
      "                                                                        13:47:58.74 ...... n = 9\n",
      "                                                                        13:47:58.74   13 | def encode(n):\n",
      "                                                                        13:47:58.74   14 |     return ALPHABET[n]\n",
      "                                                                        13:47:58.74 <<< Return value from encode: '9'\n",
      "                                                                    13:47:58.75   23 |         return from_decimal(num // base, base) + encode(num % base)\n",
      "                                                                    13:47:58.75 <<< Return value from from_decimal: '3039'\n",
      "                                                                13:47:58.75    1 | from_decimal(12345, 16)\n",
      "                                                                13:47:58.75 <<< Return value from <module>: None\n"
     ]
    }
   ],
   "source": [
    "%%snoop\n",
    "from_decimal(12345, 16)"
   ]
  },
  {
   "cell_type": "code",
   "execution_count": null,
   "metadata": {},
   "outputs": [],
   "source": []
  }
 ],
 "metadata": {
  "interpreter": {
   "hash": "1be9856963ee0560708bb2052661aa27357a5b7ae3c19a3b57a929c8d7be175e"
  },
  "kernelspec": {
   "display_name": "Python 3.8.11 64-bit ('base': conda)",
   "name": "python3"
  },
  "language_info": {
   "codemirror_mode": {
    "name": "ipython",
    "version": 3
   },
   "file_extension": ".py",
   "mimetype": "text/x-python",
   "name": "python",
   "nbconvert_exporter": "python",
   "pygments_lexer": "ipython3",
   "version": "3.8.11"
  },
  "orig_nbformat": 4
 },
 "nbformat": 4,
 "nbformat_minor": 2
}
