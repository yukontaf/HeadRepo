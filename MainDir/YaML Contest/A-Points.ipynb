{
 "cells": [
  {
   "cell_type": "code",
   "execution_count": 74,
   "metadata": {},
   "outputs": [],
   "source": [
    "from random import uniform\n",
    "from math import cos, sin, pi\n",
    "import matplotlib.pyplot as plt\n",
    "import random\n",
    "import numpy as np\n",
    "from sklearn import svm"
   ]
  },
  {
   "cell_type": "code",
   "execution_count": 31,
   "outputs": [],
   "source": [
    "import snoop"
   ],
   "metadata": {
    "collapsed": false,
    "pycharm": {
     "name": "#%%\n"
    }
   }
  },
  {
   "cell_type": "code",
   "execution_count": 115,
   "metadata": {},
   "outputs": [],
   "source": [
    "def generate1():  \n",
    "    a = uniform(0, 1)  \n",
    "    b = uniform(0, 1)  \n",
    "    return a * cos(2 * pi * b), a * sin(2 * pi * b)\n",
    "\n",
    "def generate2():  \n",
    "    while True:  \n",
    "        x = uniform(-1, 1)  \n",
    "        y = uniform(-1, 1)  \n",
    "        if x ** 2 + y ** 2 > 1:  \n",
    "            continue  \n",
    "        return x, y"
   ]
  },
  {
   "cell_type": "code",
   "execution_count": 96,
   "metadata": {},
   "outputs": [],
   "source": [
    "def generate_train_dataset(n_samples):\n",
    "    labels = [random.choice([1, 2]) for i in range(n_samples)]\n",
    "    dataset = []\n",
    "    for i in range(n_samples):\n",
    "        if labels[i] == 1:\n",
    "            dataset.append([generate1() for i in range(1000)])\n",
    "        elif labels[i] == 2:\n",
    "            dataset.append([generate2() for i in range(1000)])\n",
    "    return np.array(dataset).sum(axis=-1), labels"
   ]
  },
  {
   "cell_type": "code",
   "execution_count": 126,
   "outputs": [],
   "source": [
    "dataset, labels = generate_train_dataset(10_000);"
   ],
   "metadata": {
    "collapsed": false,
    "pycharm": {
     "name": "#%%\n"
    }
   }
  },
  {
   "cell_type": "code",
   "execution_count": 98,
   "outputs": [
    {
     "data": {
      "text/plain": "(10000, 1000)"
     },
     "execution_count": 98,
     "metadata": {},
     "output_type": "execute_result"
    }
   ],
   "source": [
    "np.shape(dataset)"
   ],
   "metadata": {
    "collapsed": false,
    "pycharm": {
     "name": "#%%\n"
    }
   }
  },
  {
   "cell_type": "code",
   "execution_count": 41,
   "outputs": [],
   "source": [
    "#@snoop\n",
    "def kNN(dataset, circle, k, labels):\n",
    "    diffmat = np.tile(circle, (np.shape(dataset)[0], 1, 1)) - dataset\n",
    "    distances = (((diffmat ** 2).sum(axis=2))**0.5).sum(axis=1)\n",
    "    sorted_dist_ind = distances.argsort()\n",
    "    class_count = {}\n",
    "    for i in range(k):\n",
    "        vote_label = labels[sorted_dist_ind[i]]\n",
    "        class_count[vote_label] = class_count.get(vote_label, 0) + 1\n",
    "    return class_count"
   ],
   "metadata": {
    "collapsed": false,
    "pycharm": {
     "name": "#%%\n"
    }
   }
  },
  {
   "cell_type": "code",
   "execution_count": 125,
   "outputs": [],
   "source": [
    "clf = svm.SVC()\n",
    "clf.fit(dataset, labels);"
   ],
   "metadata": {
    "collapsed": false,
    "pycharm": {
     "name": "#%%\n"
    }
   }
  },
  {
   "cell_type": "code",
   "execution_count": 123,
   "outputs": [],
   "source": [
    "'''test, labels_test = generate_train_dataset(100)\n",
    "res = [clf.predict(np.reshape(test[i], (1,1000))) == labels_test[i] for i in range(100)]'''"
   ],
   "metadata": {
    "collapsed": false,
    "pycharm": {
     "name": "#%%\n"
    }
   }
  },
  {
   "cell_type": "code",
   "execution_count": 130,
   "outputs": [],
   "source": [
    "def define_size():\n",
    "    test, labels_test = generate_train_dataset(100)\n",
    "    error = []\n",
    "    for i in range(1, 5):\n",
    "        dataset, labels = generate_train_dataset(10**i)\n",
    "        clf = svm.SVC()\n",
    "        clf.fit(dataset, labels)\n",
    "        res = [clf.predict(np.reshape(test[i], (1,1000))) == labels_test[i] for i in range(100)]\n",
    "        error.append(res.count(True)/len(res))\n",
    "    return error"
   ],
   "metadata": {
    "collapsed": false,
    "pycharm": {
     "name": "#%%\n"
    }
   }
  },
  {
   "cell_type": "code",
   "execution_count": 129,
   "outputs": [
    {
     "data": {
      "text/plain": "(10000, 1000)"
     },
     "execution_count": 129,
     "metadata": {},
     "output_type": "execute_result"
    }
   ],
   "source": [
    "np.shape(dataset)"
   ],
   "metadata": {
    "collapsed": false,
    "pycharm": {
     "name": "#%%\n"
    }
   }
  },
  {
   "cell_type": "code",
   "execution_count": 131,
   "outputs": [
    {
     "data": {
      "text/plain": "[0.84, 1.0, 1.0, 1.0]"
     },
     "execution_count": 131,
     "metadata": {},
     "output_type": "execute_result"
    }
   ],
   "source": [
    "define_size()"
   ],
   "metadata": {
    "collapsed": false,
    "pycharm": {
     "name": "#%%\n"
    }
   }
  },
  {
   "cell_type": "markdown",
   "source": [
    "Попробовать алгоритмы:\n",
    "1. Персептрон Розенблатта\n",
    "2. (Собственный код для классификатора на опорных векторах)\n",
    "3. Оптимальная разделяющая гиперплоскость\n",
    "4. Линейный дискриминантный анализ?"
   ],
   "metadata": {
    "collapsed": false
   }
  },
  {
   "cell_type": "markdown",
   "source": [
    "Необходимо решить задачу выпуклой оптимизации:\n",
    "$$\n",
    "\\left\\{\\begin{array}{l}\n",
    "\\frac{1}{2}\\|w\\|^{2}+C \\sum_{i=1}^{\\ell} \\xi_{i} \\rightarrow \\min _{w, b, \\xi} \\\\\n",
    "y_{i}\\left(\\left\\langle w, x_{i}\\right\\rangle+b\\right) \\geqslant 1-\\xi_{i}, \\quad i=1, \\ldots, \\ell \\\\\n",
    "\\xi_{i} \\geqslant 0, \\quad i=1, \\ldots, \\ell\n",
    "\\end{array}\\right.\n",
    "$$"
   ],
   "metadata": {
    "collapsed": false
   }
  },
  {
   "cell_type": "code",
   "execution_count": null,
   "outputs": [],
   "source": [],
   "metadata": {
    "collapsed": false,
    "pycharm": {
     "name": "#%%\n"
    }
   }
  }
 ],
 "metadata": {
  "interpreter": {
   "hash": "1be9856963ee0560708bb2052661aa27357a5b7ae3c19a3b57a929c8d7be175e"
  },
  "kernelspec": {
   "display_name": "Python 3.8.11 64-bit ('base': conda)",
   "language": "python",
   "name": "python3"
  },
  "language_info": {
   "codemirror_mode": {
    "name": "ipython",
    "version": 3
   },
   "file_extension": ".py",
   "mimetype": "text/x-python",
   "name": "python",
   "nbconvert_exporter": "python",
   "pygments_lexer": "ipython3",
   "version": "3.8.11"
  },
  "orig_nbformat": 4
 },
 "nbformat": 4,
 "nbformat_minor": 2
}