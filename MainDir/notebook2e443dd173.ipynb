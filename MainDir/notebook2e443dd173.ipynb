{
 "cells": [
  {
   "cell_type": "markdown",
   "metadata": {
    "id": "svYWx8G1lePZ"
   },
   "source": [
    "# Свёрточные сети\n",
    "\n",
    "Сегодня мы детальнее поговорим про общие подходы при обучении нейросетей, и что происходит внутри них.\n",
    "\n",
    "<img width='400px' src='https://raw.githubusercontent.com/sslotin/universum-dl/43390d26d5f256dcc68a6ba51998bd626b3f6d33/images/cat.png'>\n",
    "\n",
    "Если попытаться визуализировать то, что выучивает каждый нейрон в нейросети (например, посмотрев, какие входные пиксели на него сильнее всего влияют), то можно увидеть, что чем глубже находится слой, тем более абстрактные фичи он содержит.\n",
    "\n",
    "Например, в сетях для распознавания картинок первые слои учатся обнаруживать геометрические примитивы: линии, границы, углы. Следующий слой может распознавать простые геометрические фигуры. Следующий распознаёт наличие целых объектов и т. д."
   ]
  },
  {
   "cell_type": "markdown",
   "metadata": {
    "id": "2YGzdiWilePg"
   },
   "source": [
    "**Weight sharing**. [Эксперименты с дропаутом](https://arxiv.org/abs/1701.05369) показывают, что в линейном слое примерно 99% весов на самом деле можно выкинуть. Логично, что в оптимальной архитектуре не должно быть бесполезных весов — лишние параметры всегда ведут к переобучению. В случае с картинками решение в том, чтобы использовать информацию о расположении пикселей относительно друг друга."
   ]
  },
  {
   "cell_type": "markdown",
   "metadata": {
    "id": "A8JSCr9jlePj"
   },
   "source": [
    "## Свёртки и пуллинги\n",
    "\n",
    "**Как хранятся картинки**. Когда говорят «изображение», представляйте не прямоугольник, а параллелепипед, высотой которого будет размер каналов. Например, обычные цветные RGB картинки имеют 3 канала: на красный (R), зелёный (G) и синий (B).\n",
    "\n",
    "0. Введем такую функцию, как **ядро** (англ. **kernel**) — она считает скалярное произведение вектора-входа со своим вектором-параметром.\n",
    "1. Разобьем исходный паралеллелепипед на сколько-то параллелепипедов одинакового размера вдоль размерности, соответствующей каналам. Они могут пересекаться.\n",
    "2. Каждый из них «разгладим» в вектор.\n",
    "3. К кажому такому вектору и применим по очереди каждый кернел (их обычно берут много разных).\n",
    "4. Положим то, что получилось, в новый параллелепипед.\n",
    "5. Посчитаем для кажой ячейки какую-нибудь нелинейность. Обычно это ReLU из-за вычислительных причин.\n",
    "\n",
    "<img width='350px' src='https://raw.githubusercontent.com/sslotin/universum-dl/43390d26d5f256dcc68a6ba51998bd626b3f6d33/images/conv1.png'>\n",
    "\n",
    "Эта операция называется **свёрткой**. Помимо кернела, в ней есть другие параметры — паддинг (отступ по краям), страйды (шаги по x и y). Также свёртка может быть в 2d и 3d. Посмотрите этот репозиторий, чтобы получше разобраться со свёрточной арифметикой: https://github.com/vdumoulin/conv_arithmetic\n",
    "\n",
    "![](http://deeplearning.net/software/theano/_images/numerical_padding_strides.gif)\n",
    "\n",
    "**Пулингом** называют операцию, при которой входной тензор так же разбивается на квадраты (не паралепипеды — операция независима по каждому каналу) и на каждом квадрате считается какая-нибудь редукция (чаще всего максимум или среднее по всем значениям в квадрате), после чего полученные значения записываются на следующий слой в том же порядке.\n",
    "\n",
    "<img width='400px' src='http://cs231n.github.io/assets/cnn/maxpool.jpeg'>\n",
    "\n",
    "В свёртках переиспользуется очень много параметров: кернел для каждого фильтра (выходного канала) использует один и тот же вектор-параметр для скалярного умножения. Из-за этого каждый фильтр как правило выучивает какую-то конкретную фичу, вроде наличия какого-либо объекта на своём регионе. Пулинг используют затем для понижения размерности: каждый нейрон после свертки выражает степень уверенности, что на регионе присутствует какой-то объект, и поэтому логично в качестве вероятности наличия объекта на регионе из под-регионов использовать максимум или среднее.\n",
    "\n",
    "Чаще всего используют свёртки 3x3 со страйдом 2x2 (то есть квадраты перекрываются по 3 крайним пикселям) с пулингом размера 2x2 (не перекрываются)."
   ]
  },
  {
   "cell_type": "markdown",
   "metadata": {
    "id": "sIfUCzR0lePp"
   },
   "source": [
    "## Аугментация данных\n",
    "\n",
    "Аугментацией называется процесс получения новых синтетических данных из имеющихся, чтобы подать в обучение. Это часто (особенно в компьютерном зрении) позволяет улучшить качество модели, не используя дополнительных данных.\n",
    "\n",
    "Формально, в случае с классификацией, аугментация — это любое преобразование, которое корректно изменяет данные, не меняя их класс.\n",
    "\n",
    "В случае с картинками, можно попробовать добавить следующие преобразования, которые с какой-то вероятностью будут использоваться во время обучения:\n",
    "\n",
    "* Поворот на малый угол.\n",
    "* Добавление шума.\n",
    "* Обрезание границ и последующее растяжение до исходного размера.\n",
    "* Горизонтальное отражение (но в нашем случае оно вредно).\n",
    "* Смещение на небольшое расстояние.\n",
    "\n",
    "Понятно, что лейбл эти преобразования изменить не должны.\n",
    "\n",
    "<img src='https://ai2-s2-public.s3.amazonaws.com/figures/2017-08-08/a5da2c3b4174449d13dd746b7d00897c6bc1f334/5-Figure2-1.png' width='500px'>"
   ]
  },
  {
   "cell_type": "markdown",
   "metadata": {
    "id": "tGVT5oqzlePr"
   },
   "source": [
    "## Взрывающийся градиент\n",
    "\n",
    "В сетях происходит очень много чего стохастического: батч формируется случайно, аугментация, рандомизированные слои вроде дропаута, вычислительные ошибки. Это всё может привести к тому, что сеть на какой-то итерации будет очень уверенна в неправильном предсказании и некоторые её параметры получат очень большой градиент. Это может привести к тому, что эти параметры «улетят» куда-то настолько далеко, и после этого сеть будет всегда предсказывать класс, который на этой итерации был правильным. \n",
    "\n",
    "Простое решение: просто обрезать градиент в случае, если градиент больше какого-то фиксированного значения. Для этого есть функция `torch.nn.utils.clip_grad_norm_`, которая принимает параметры модели и параметр `threshold`. Она считает норму (длину вектора) градиента и, если она больше `threshold`, нормирует градиенты так, чтобы она была равна `threshold`. Эта функция также возвращает само значение нормы, что может быть очень полезно при анализе обучения (например, если она становится маленькой, то, значит, сеть сходится к какому-то плато)."
   ]
  },
  {
   "cell_type": "markdown",
   "metadata": {
    "id": "COWp1WKclePu"
   },
   "source": [
    "## Инициализация параметров\n",
    "\n",
    "Сначала приведем пример плохой инициализации. Пусть мы задали все значения изначально нулями. В таком случае наша модель становится эквивалентна линейной модели — производная по функции потерь одинакова для каждого $w_i$, таким образом, все веса имеют одинаковые значения и в последующей итерации, что делает нейроны в сети симметричными.\n",
    "\n",
    "Подход получше — инициализировать каждый вес случайно. Но тут нужно быть осторожным — если задать их слишком большими, то сеть может быть изначально очень уверенна в своих предсказаниях, и подвинуть параметры оттуда будет очень трудно.\n",
    "\n",
    "Решение следующее. С точки зрения слоя, ему на вход подается сэмпл из какого-то распределения, и он под это распределение подстраивается. В нейросетях размеры слоев достаточно большие, чтобы в них работали законы статистики, все разработчики фреймворках условились инициализировать веса всех слоев в предположении, что на вход подаются данные из какого-то распределения со средним 0 и дисперсией 1, и на выходе должно получиться какое-то распределение со средним тоже 0 и дисперсией 1. Чаще всего изначальные веса берут либо из нормального, либо из равномерного распределения, «обрезанного» так, чтобы дисперсия каждого выходного значения получилась единичной.\n",
    "\n",
    "Аналогично нужно поступать со входными векторными данными: нормализовывать. Это будет важно при работе с изображениями: не надо подавать на вход вектора с элементами от 0 до 255. Самое простое рабочее решение — нормализовать вход, поделив его на 255."
   ]
  },
  {
   "cell_type": "markdown",
   "metadata": {
    "id": "-v2sSq0elePy"
   },
   "source": [
    "## Минутка физики\n",
    "\n",
    "Потребляемая энергия в сети с переменным током в единицу времени считается по формуле\n",
    "\n",
    "$$W = CV^2f$$\n",
    "\n",
    "где $C$ означает емкость сети, $V$ означает напряжение, а $f$ — частоту. В случае с процессорами, это именно та частота, с которой выполняются элементарные операции, например сложение.\n",
    "\n",
    "<img width='350px' src='https://i.ibb.co/yhsGRJK/Screenshot-from-2019-02-08-14-52-07.png'>\n",
    "\n",
    "Однако, если мы сделаем сеть из двух параллельно подключенных процессоров, работающих на половинной частоте, мы можем получить сеть, потребляющую ~40% изначальной энергии, делающую то же количество полезной работы — то же суммарное количество процессорных тактов:\n",
    "\n",
    "<img width='450px' src='https://i.ibb.co/WgLCxxL/Screenshot-from-2019-02-08-14-52-18.png'>\n",
    "\n",
    "Поэтому для хорошо распараллеливаемых операций используют другой тип вычислительных устройств, в которых не 4-8 быстрых (3-4 GHz) процессоров, а несколько тысяч медленных (~1GHz)."
   ]
  },
  {
   "cell_type": "markdown",
   "metadata": {
    "id": "eFLKQB7IleP1"
   },
   "source": [
    "## Device-agnostic код\n",
    "\n",
    "К любой модели или тензору в PyTorch можно применить `.cuda()` и `.cpu()`, чтобы перевести тензор на память GPU или в оперативную память соответственно. Но если мы будем писать такой код, нам будет довольно проблематично портировать его на другие машины, где, например, нет GPU (например, если вы хотите скачать тетрадку с colab к себе и запустить).\n",
    "\n",
    "Многие фреймворки позволяют абстрагироваться от устройства конкретных вычислительных устройств. В PyTorch для этого есть объект `torch.device`, который позволяет явно задавать, на каком устройстве хранить тензор или модель."
   ]
  },
  {
   "cell_type": "code",
   "execution_count": 5,
   "metadata": {
    "id": "1EWLdWGFleP4",
    "outputId": "6c955c91-b6d5-4e40-97fe-543c12bd5848",
    "tags": []
   },
   "outputs": [],
   "source": [
    "%%capture\n",
    "import torch\n",
    "import torch.nn as nn\n",
    "\n",
    "device = torch.device('cpu:0')  # используй первую GPU (номеруются с нуля)\n",
    "\n",
    "X = torch.randn(5, 100, device=device)  # создай матрицу на этом устройстве\n",
    "# альтернативно: X = X.to(device)\n",
    "\n",
    "# создадим какую-нибудь модель\n",
    "model = nn.Sequential(\n",
    "    nn.Linear(100, 20),\n",
    "    nn.ReLU(),\n",
    "    nn.Linear(20, 8)\n",
    ")\n",
    "\n",
    "model = model.to(device)  # переведи параметры модели на это устройство\n",
    "\n",
    "model(X)"
   ]
  },
  {
   "cell_type": "markdown",
   "metadata": {
    "id": "LRfKGXKGleQA"
   },
   "source": [
    "# Колоризация изображений\n",
    "\n",
    "Начнём практическую часть. Обучим autoencoder-like сеть, которая учится восстанавливать изображение по его черно-белой версии. В качестве лосса будем так же использовать какую-нибудь меру расстояния между изображениями (например, l1 или l2).\n",
    "\n",
    "Тот пайплайн, что у нас получится, с минимальными изменениями можно будет также использовать и для других подобных задач, связанных с восстановлением изображений после каких-либо необратимых преобразований, например после подмешивании шума (denoising autoencoder) или понижения размера (DeepHD).\n",
    "\n",
    "![](https://camo.githubusercontent.com/c5f95c94d70a3e52561c1d0591e84a5e3b86eb74/687474703a2f2f726963687a68616e672e6769746875622e696f2f636f6c6f72697a6174696f6e2f7265736f75726365732f696d616765732f6e65745f6469616772616d2e6a7067)"
   ]
  },
  {
   "cell_type": "code",
   "execution_count": null,
   "metadata": {
    "execution": {
     "iopub.execute_input": "2021-12-02T21:53:02.546219Z",
     "iopub.status.busy": "2021-12-02T21:53:02.545559Z",
     "iopub.status.idle": "2021-12-02T21:53:11.797003Z",
     "shell.execute_reply": "2021-12-02T21:53:11.795774Z",
     "shell.execute_reply.started": "2021-12-02T21:53:02.546124Z"
    },
    "id": "sl3ttANwJQRy"
   },
   "outputs": [],
   "source": [
    "%%capture\n",
    "!pip install pretrainedmodels"
   ]
  },
  {
   "cell_type": "code",
   "execution_count": null,
   "metadata": {},
   "outputs": [],
   "source": [
    "%%capture\n",
    "!pip install skimage"
   ]
  },
  {
   "cell_type": "code",
   "execution_count": 19,
   "metadata": {
    "id": "3TMZ8ypgleQE",
    "tags": []
   },
   "outputs": [],
   "source": [
    "import torch\n",
    "import torch.nn as nn\n",
    "import gc\n",
    "from tqdm import tqdm\n",
    "import pretrainedmodels\n",
    "from pretrainedmodels import utils\n",
    "import torch.nn.functional as F\n",
    "from torch.utils.data import Dataset, DataLoader\n",
    "from torchvision import transforms\n",
    "from skimage.color import rgb2lab, lab2rgb, rgb2gray\n",
    "import numpy as np\n",
    "import snoop\n",
    "import matplotlib.pyplot as plt\n",
    "from pprint import pprint\n",
    "%matplotlib inline"
   ]
  },
  {
   "cell_type": "markdown",
   "metadata": {
    "id": "isyXUmOoleQM"
   },
   "source": [
    "Для начала скачаем данные. Годятся вообще любые изображения, не обязательно из какого-то изветсного датасета. Этой командой можно скачать и распакавать фотографии с одной школы по программированию, проходившей этим летом."
   ]
  },
  {
   "cell_type": "code",
   "execution_count": null,
   "metadata": {
    "id": "tz3QJKqsleQO",
    "outputId": "76cf28e5-d9f5-45ba-cec8-351924537e18"
   },
   "outputs": [],
   "source": [
    "%%capture\n",
    "!wget http://sereja.me/f/universum_compressed.tar\n",
    "!tar xf universum_compressed.tar"
   ]
  },
  {
   "cell_type": "markdown",
   "metadata": {
    "id": "jO34pEQmleQV"
   },
   "source": [
    "Есть два подхода к работе с данными:\n",
    "\n",
    "1. Сначала преобразовать все имеющиеся данные к виду, который принимает нейросеть (сразу к тензорам одинакового размера).\n",
    "2. Хранить сырые данные и преобразование препроцессинга (функцию) и собирать батчи на лету.\n",
    "\n",
    "Если это не что-то совсем простое, то второй вариант предпочтительнее, так как он не требует дополнительной памяти (датасеты могут быть большими), времени на векторизацию датасета, а так же сбор батча «на лету» позволяет там же делать аугментацию.\n",
    "\n",
    "Для этого в PyTorch есть две абстракции: `Dataset` и `DataLoader`.\n",
    "\n",
    "`Dataset` — абстрактный класс, от которого нужно отнаследовать класс датасета, который мы напишем. В нём должны быть определён конструктор (в нём обычно загружаются в память сырые данные, которые лежат где-то на диске, а также сохраняется какая-нибудь другая информация), метод `__len__` (должен вернуть размер датасета) и `__getitem__`, который должен по номеру сэмпла вернуть его в виде тензора (возможно, произведя какой-нибудь препроцессинг)."
   ]
  },
  {
   "cell_type": "code",
   "execution_count": 5,
   "metadata": {
    "execution": {
     "iopub.execute_input": "2021-12-02T21:57:52.865405Z",
     "iopub.status.busy": "2021-12-02T21:57:52.865095Z",
     "iopub.status.idle": "2021-12-02T21:57:52.872240Z",
     "shell.execute_reply": "2021-12-02T21:57:52.870944Z",
     "shell.execute_reply.started": "2021-12-02T21:57:52.865362Z"
    }
   },
   "outputs": [],
   "source": [
    "def monitor_gpu():\n",
    "  if device.type == \"cuda\":\n",
    "    print(\"Memory Usage:\")\n",
    "    print(\"Allocated:\", round(torch.cuda.memory_allocated(0) / 1024**3, 1), \"GB\")\n",
    "    print(\"Cached:   \", round(torch.cuda.memory_reserved(0) / 1024**3, 1), \"GB\")\n",
    "  else:\n",
    "    print(\"No GPU found.\")"
   ]
  },
  {
   "cell_type": "code",
   "execution_count": 2,
   "metadata": {
    "id": "E-ez5uVnJRf-",
    "outputId": "e1f3fe82-bc8d-4dec-e2d2-88630c25bff0",
    "tags": []
   },
   "outputs": [],
   "source": [
    "inception = pretrainedmodels.__dict__[\"inceptionresnetv2\"](\n",
    "    num_classes=1001, \n",
    "    pretrained=\"imagenet+background\"\n",
    ")"
   ]
  },
  {
   "cell_type": "code",
   "execution_count": 20,
   "metadata": {
    "id": "xQGNRnBpleQb",
    "tags": []
   },
   "outputs": [],
   "source": [
    "import os\n",
    "from PIL import Image\n",
    "\n",
    "load_img = utils.LoadImage()\n",
    "tf_img = utils.TransformImage(inception) \n",
    "\n",
    "\n",
    "class ColorizationDataset(Dataset):\n",
    "    def __init__(self, path, transform_x, transform_y, transform_inc):\n",
    "        self.transform_x = transform_x\n",
    "        self.transform_y = transform_y\n",
    "        self.transform_inc = transform_inc\n",
    "      \n",
    "        self.filenames = []\n",
    "        for root, dirs, files in os.walk(path):\n",
    "            for file in files:\n",
    "                if file.endswith('.jpg') or file.endswith('.JPG'):\n",
    "                    self.filenames.append(os.path.join(root, file))\n",
    "\n",
    "        self.images = []\n",
    "        for filename in tqdm(self.filenames):\n",
    "            try:\n",
    "                with Image.open(filename) as image:\n",
    "                    self.images.append(image.copy())\n",
    "            except:\n",
    "                pass\n",
    "                #print('Could not load image:', filename)\n",
    "\n",
    "    def __len__(self):\n",
    "        return len(self.images)\n",
    "\n",
    "    def __getitem__(self, idx):\n",
    "        img = self.images[idx]\n",
    "        Y = self.transform_y(img)        \n",
    "        X = self.transform_x(Y)\n",
    "        e = tf_img(self.transform_inc(img))\n",
    "        return X, Y, e"
   ]
  },
  {
   "cell_type": "markdown",
   "metadata": {
    "id": "bR8CNjjjleQj"
   },
   "source": [
    "Чтобы подавать картинки на вход нейросети, нужно их перевести в тензоры, причём одинакового размера."
   ]
  },
  {
   "cell_type": "code",
   "execution_count": 21,
   "metadata": {
    "id": "FNSJsAk4leQn",
    "tags": []
   },
   "outputs": [],
   "source": [
    "transform_all = transforms.Compose([\n",
    "    transforms.CenterCrop(256),\n",
    "    transforms.RandomHorizontalFlip(),\n",
    "    transforms.ToTensor(),\n",
    "])\n",
    "\n",
    "def to_grayscale(x):\n",
    "    return 1 - (x[0] * 0.299 + x[1] * 0.587 + x[2] * 0.114).view(1, 256, 256)\n",
    "transform_inc = transforms.Compose([transforms.CenterCrop(299)])"
   ]
  },
  {
   "cell_type": "markdown",
   "metadata": {
    "id": "8EhPdNBGleQt"
   },
   "source": [
    "Здесь `transform_all` и `to_grayscale` являются функциями (формально, первый является функтором), которые мы передадим дальше в `DataLoader`, который оборачивает датасет и позволяет итерироваться по нему по батчам, а также реализует разные полезные функции вроде перемешивания данных после каждой эпохи."
   ]
  },
  {
   "cell_type": "code",
   "execution_count": 6,
   "metadata": {
    "id": "FkNojY2ZJuyU",
    "tags": []
   },
   "outputs": [],
   "source": [
    "%%capture\n",
    "inception = inception.to(device)\n",
    "inception.eval()"
   ]
  },
  {
   "cell_type": "code",
   "execution_count": 22,
   "metadata": {
    "id": "YXNkMfkGleQx",
    "outputId": "63378258-2791-4e2a-d3de-d60807a91749",
    "tags": []
   },
   "outputs": [
    {
     "name": "stderr",
     "output_type": "stream",
     "text": [
      "100%|██████████| 1017/1017 [00:03<00:00, 328.01it/s]\n"
     ]
    }
   ],
   "source": [
    "dataset = ColorizationDataset('universum-photos', to_grayscale, transform_all, transform_inc)\n",
    "loader = DataLoader(dataset, batch_size=32, shuffle=True)"
   ]
  },
  {
   "cell_type": "markdown",
   "metadata": {
    "id": "ZMwOUGB8leQ9"
   },
   "source": [
    "**Skip-connection**. Иногда бывает полезно присоединить к выходу какого-то слоя его вход, чтобы следующий получил такую же, неизменённую копию. Здесь мы поступим именно так: подадим исходное черно-белое изображение в какую-то одну часть сети, которая сконцентрируется на определении цвета, а затем припишем последним слоем её выход и отправим дальше другому модулю, который уже раскрасит это исходное изображение. От простоты `nn.Sequential`, правда, уже придётся отказаться, и нужно написать свой класс."
   ]
  },
  {
   "cell_type": "code",
   "execution_count": 7,
   "metadata": {
    "id": "K_pr_KE4UmXE",
    "tags": []
   },
   "outputs": [],
   "source": [
    "class Colorizer(nn.Module):\n",
    "    def __init__(self):\n",
    "        super().__init__()\n",
    "\n",
    "        \n",
    "        self.encoder = nn.Sequential(\n",
    "            nn.Conv2d(1, 32, (3, 3), padding=1),                         \n",
    "            nn.LeakyReLU(),\n",
    "            nn.Conv2d(32, 64, (3, 3), padding=1),\n",
    "            nn.LeakyReLU(),\n",
    "            nn.Conv2d(64, 128, (3, 3), padding=1),\n",
    "            nn.MaxPool2d((2, 2)),   # squeeze\n",
    "            nn.LeakyReLU(),\n",
    "            nn.Conv2d(128, 256, (3, 3), padding=1),\n",
    "            nn.MaxPool2d((2, 2)),   # squeeze\n",
    "            nn.LeakyReLU(),\n",
    "            nn.Conv2d(256, 512, (3, 3), padding=1),\n",
    "            nn.LeakyReLU(),\n",
    "            nn.Conv2d(512, 256, (3, 3), padding=1),\n",
    "            nn.LeakyReLU(),\n",
    "            nn.MaxPool2d((2, 2)),   # squeeze\n",
    "            nn.Conv2d(256, 256, (3, 3), padding=1),\n",
    "            nn.LeakyReLU(),\n",
    "        )\n",
    "         \n",
    "        self.decoder = nn.Sequential(\n",
    "            nn.Conv2d(1258, 256, (3, 3), padding=1),\n",
    "            nn.LeakyReLU(),\n",
    "\n",
    "            nn.Upsample(scale_factor=2),         \n",
    "            nn.Conv2d(256, 128, (3, 3), padding=1),\n",
    "            nn.LeakyReLU(),\n",
    "      \n",
    "            nn.Upsample(scale_factor=2),        \n",
    "            nn.Conv2d(128, 64, (3, 3), padding=1),\n",
    "            nn.LeakyReLU(),\n",
    "\n",
    "            nn.Upsample(scale_factor=2),\n",
    "            nn.Conv2d(64, 32, (3, 3), padding=1),\n",
    "            nn.LeakyReLU(),\n",
    "                \n",
    "            nn.Conv2d(32, 3, (3, 3), padding=1),\n",
    "            nn.Tanh()\n",
    "        )\n",
    "#     @snoop\n",
    "    def forward(self, x, e):\n",
    "        h = self.encoder(x)\n",
    "        h = torch.cat((h, squeeze_input(x)), 1)\n",
    "        with torch.no_grad():\n",
    "            embedding = inception(e)\n",
    "        \n",
    "        embedding = embedding.view(-1, 1001, 1, 1)\n",
    "    \n",
    "        rows = torch.cat([embedding] * 32, dim=3)\n",
    "        embedding_block = torch.cat([rows] * 32, dim=2)\n",
    "        fusion_block = torch.cat([h, embedding_block], dim=1)\n",
    "        h = self.decoder(fusion_block)\n",
    "        return h"
   ]
  },
  {
   "cell_type": "code",
   "execution_count": 8,
   "metadata": {
    "tags": []
   },
   "outputs": [],
   "source": [
    "def squeeze_input(x):\n",
    "    squeezer = nn.Sequential(\n",
    "    nn.MaxPool2d(2, 2),\n",
    "    nn.MaxPool2d(2, 2),\n",
    "    nn.MaxPool2d(2, 2))\n",
    "    return squeezer(x)"
   ]
  },
  {
   "cell_type": "markdown",
   "metadata": {
    "id": "Ql85BQRNleRG"
   },
   "source": [
    "Глубокие сети очень часто состоят из повторяющихся блоков, отличающихся только размерностью (в данном случае — количеством фильтров). Чтобы сократить количество кода и уменьшить вероятность багов, блоки можно обернуть в одну функцию, возвращающую мини-модель из нескольких слоев.\n",
    "\n",
    "Концептуальный пример:"
   ]
  },
  {
   "cell_type": "markdown",
   "metadata": {
    "id": "jkR1-2rOleRP"
   },
   "source": [
    "Дальше как обычно:"
   ]
  },
  {
   "cell_type": "code",
   "execution_count": 131,
   "metadata": {
    "execution": {
     "iopub.execute_input": "2021-12-02T23:16:26.711184Z",
     "iopub.status.busy": "2021-12-02T23:16:26.710565Z",
     "iopub.status.idle": "2021-12-02T23:16:26.839612Z",
     "shell.execute_reply": "2021-12-02T23:16:26.838469Z",
     "shell.execute_reply.started": "2021-12-02T23:16:26.711147Z"
    }
   },
   "outputs": [],
   "source": [
    "del e\n",
    "gc.collect()"
   ]
  },
  {
   "cell_type": "code",
   "execution_count": 9,
   "metadata": {
    "id": "WUK0eH0ZleRS",
    "tags": []
   },
   "outputs": [],
   "source": [
    "num_epochs = 100\n",
    "lr = 1e-3\n",
    "\n",
    "model = Colorizer().to(device)\n",
    "optimizer = torch.optim.Adam(model.parameters(), lr=lr)\n",
    "criterion = nn.MSELoss()  # тут можно поиграться с лоссами"
   ]
  },
  {
   "cell_type": "code",
   "execution_count": 13,
   "metadata": {},
   "outputs": [
    {
     "data": {
      "text/plain": [
       "<All keys matched successfully>"
      ]
     },
     "execution_count": 13,
     "metadata": {},
     "output_type": "execute_result"
    }
   ],
   "source": [
    "model.load_state_dict(torch.load('/Users/glebsokolov/Downloads/ckpts', map_location=torch.device('cpu')))"
   ]
  },
  {
   "cell_type": "code",
   "execution_count": 132,
   "metadata": {
    "execution": {
     "iopub.execute_input": "2021-12-02T23:16:30.542023Z",
     "iopub.status.busy": "2021-12-02T23:16:30.541690Z",
     "iopub.status.idle": "2021-12-02T23:16:30.589361Z",
     "shell.execute_reply": "2021-12-02T23:16:30.588152Z",
     "shell.execute_reply.started": "2021-12-02T23:16:30.541991Z"
    }
   },
   "outputs": [],
   "source": [
    "torch.cuda.empty_cache()\n",
    "monitor_gpu()"
   ]
  },
  {
   "cell_type": "code",
   "execution_count": null,
   "metadata": {
    "execution": {
     "iopub.execute_input": "2021-12-02T23:16:49.726477Z",
     "iopub.status.busy": "2021-12-02T23:16:49.726181Z"
    },
    "id": "YhDXCo2CleRc",
    "outputId": "7137326d-ae36-43c8-db49-5250b3386a30"
   },
   "outputs": [],
   "source": [
    "history = []\n",
    "for epoch in tqdm(range(num_epochs)):\n",
    "    for x, y, e in loader:\n",
    "        x, y, e = x.to(device), y.to(device), e.to(device)\n",
    "        optimizer.zero_grad()\n",
    "        output = model(x, e)\n",
    "        loss = criterion(output, y)\n",
    "        history.append(loss.item())\n",
    "        loss.backward()\n",
    "        optimizer.step()\n",
    "torch.save(model.state_dict(),'/kaggle/working/ckpts') "
   ]
  },
  {
   "cell_type": "markdown",
   "metadata": {
    "id": "hSNIw5CbleRf"
   },
   "source": [
    "В подобных нечётко поставленных задачах важно смотреть не цифры, а на реальные примеры.\n"
   ]
  },
  {
   "cell_type": "code",
   "execution_count": 14,
   "metadata": {
    "id": "ErhISBCbnk58",
    "tags": []
   },
   "outputs": [],
   "source": [
    "def to_numpy_image(img):\n",
    "    return img.detach().cpu().view(3, 256, 256).transpose(0, 1).transpose(1, 2).numpy()"
   ]
  },
  {
   "cell_type": "code",
   "execution_count": 24,
   "metadata": {
    "execution": {
     "iopub.execute_input": "2021-12-02T22:03:34.837361Z",
     "iopub.status.busy": "2021-12-02T22:03:34.837061Z",
     "iopub.status.idle": "2021-12-02T22:03:34.845999Z",
     "shell.execute_reply": "2021-12-02T22:03:34.844781Z",
     "shell.execute_reply.started": "2021-12-02T22:03:34.837328Z"
    },
    "jupyter": {
     "source_hidden": true
    }
   },
   "outputs": [],
   "source": [
    "def stack_lab_channels(grayscale_input, ab_input):\n",
    "\n",
    "    color_image = torch.cat((grayscale_input, ab_input), axis=0).numpy()\n",
    "    color_image = color_image.transpose((1, 2, 0)) \n",
    "\n",
    "    color_image[:, :, 0:1] = color_image[:, :, 0:1] * 100\n",
    "    color_image[:, :, 1:3] = color_image[:, :, 1:3] * 255 -128\n",
    "\n",
    "    color_image = lab2rgb(color_image.astype(np.float64))\n",
    "\n",
    "    return color_image"
   ]
  },
  {
   "cell_type": "code",
   "execution_count": 25,
   "metadata": {
    "execution": {
     "iopub.execute_input": "2021-12-02T22:03:38.003158Z",
     "iopub.status.busy": "2021-12-02T22:03:38.002513Z",
     "iopub.status.idle": "2021-12-02T22:03:38.008708Z",
     "shell.execute_reply": "2021-12-02T22:03:38.007699Z",
     "shell.execute_reply.started": "2021-12-02T22:03:38.003119Z"
    },
    "jupyter": {
     "source_hidden": true
    }
   },
   "outputs": [],
   "source": [
    "def convert_to_rgb(grayscale_input, ab_input, ab_ground_truth):\n",
    "\n",
    "    predicted_image = stack_lab_channels(grayscale_input, ab_input)\n",
    "    ground_truth_image = stack_lab_channels(grayscale_input, ab_ground_truth)\n",
    "    grayscale_input = grayscale_input.squeeze().numpy()\n",
    "\n",
    "    return grayscale_input, predicted_image, ground_truth_image"
   ]
  },
  {
   "cell_type": "code",
   "execution_count": 26,
   "metadata": {
    "execution": {
     "iopub.execute_input": "2021-12-02T22:03:38.526889Z",
     "iopub.status.busy": "2021-12-02T22:03:38.526383Z",
     "iopub.status.idle": "2021-12-02T22:03:38.534476Z",
     "shell.execute_reply": "2021-12-02T22:03:38.533014Z",
     "shell.execute_reply.started": "2021-12-02T22:03:38.526845Z"
    },
    "jupyter": {
     "source_hidden": true
    }
   },
   "outputs": [],
   "source": [
    "def display_images(grayscale, pred_image, truth_image):\n",
    "    f, axarr = plt.subplots(1, 3, figsize=(5, 5))\n",
    "    axarr[0].imshow(grayscale, cmap=\"gray\")\n",
    "    axarr[0].set_title(\"Grayscale Image (Model Input)\", fontsize=5)\n",
    "    axarr[1].imshow(pred_image)\n",
    "    axarr[1].set_title(\"RGB Image (Model Output)\", fontsize=5)\n",
    "    axarr[2].imshow(truth_image)\n",
    "    axarr[2].set_title(\"Actual RGB Image (Ground-truth)\", fontsize=5)"
   ]
  },
  {
   "cell_type": "code",
   "execution_count": 103,
   "metadata": {
    "execution": {
     "iopub.execute_input": "2021-12-02T23:02:32.442443Z",
     "iopub.status.busy": "2021-12-02T23:02:32.442134Z",
     "iopub.status.idle": "2021-12-02T23:02:35.611666Z",
     "shell.execute_reply": "2021-12-02T23:02:35.610612Z",
     "shell.execute_reply.started": "2021-12-02T23:02:32.442409Z"
    },
    "id": "2AASI8egleRh",
    "outputId": "4961d142-4d66-4c5b-8f27-bb665f9822db"
   },
   "outputs": [],
   "source": [
    "for t in range(10):\n",
    "    img_gray, img_true, e = dataset[t]\n",
    "    img_pred = model(img_gray.to(device).view(1, 1, 256, 256), e.to(device).view(1, 3, 299, 299))\n",
    "    img_pred = to_numpy_image(img_pred)\n",
    "    # теперь это numpy-евский ndarray размера (128, 128, 3)\n",
    "    plt.figure(figsize=(10,10))\n",
    "    \n",
    "    plt.subplot(141)\n",
    "    plt.axis('off')\n",
    "    plt.set_cmap('Greys')\n",
    "    plt.imshow(img_gray.reshape((256, 256)))\n",
    "\n",
    "    plt.subplot(142)\n",
    "    plt.axis('off')\n",
    "    plt.imshow(img_pred.reshape((256, 256, 3)))\n",
    "\n",
    "    plt.subplot(143)\n",
    "    plt.axis('off')\n",
    "    plt.imshow(to_numpy_image(img_true))\n",
    "    \n",
    "    plt.show()"
   ]
  },
  {
   "cell_type": "markdown",
   "metadata": {
    "id": "iR-twB6-leRs"
   },
   "source": [
    "## *Тизер: adversarial loss\n",
    "\n",
    "У нашего подхода к колоризации есть одна весьма существенная проблема: непонятно, как определять функцию потерь. Выясняется, что l1 или l2 в некоторых случаях даже являются принципиально неправильным выбором. Представьте, что у нас есть датасет фотографий с летнего лагеря, в котором все люди ходят в футболках двух разных цветов — например, красного и синего — интенсивность которых одинакова и неотличима на черно-белых версиях. Тогда наш лосс заставит сеть выбирать что-то «по середине» (в случае с l2 это будет среднее, а с l1 медиана), и, скорее всего, она сгенерирует что-то серое, в то время как она должна с какой-то вероятностью сгенерировать явно красную или явно синюю футболку.\n",
    "\n",
    "Решение в следующем: выход (колоризованное изображение) кормить в другую сеть, которая учится определять «правдоподобность» раскраски. Помимо восстановления изображения с точки зрения какой-то меры близости, сети-генератору (колоризатору) нужно ещё и обмануть сеть-дискриминатор, а сети-дискриминатору нужно наоборот, учиться отличать настоящую колоризацию от нашей.\n",
    "\n",
    "Подобные схемы с двумя состязяющимися сетями называют GAN-ам (Generative Adversarial Networks), о которых мы поговорим через занятие."
   ]
  }
 ],
 "metadata": {
  "kernelspec": {
   "display_name": "Python 3 (ipykernel)",
   "language": "python",
   "name": "python3"
  },
  "language_info": {
   "codemirror_mode": {
    "name": "ipython",
    "version": 3
   },
   "file_extension": ".py",
   "mimetype": "text/x-python",
   "name": "python",
   "nbconvert_exporter": "python",
   "pygments_lexer": "ipython3",
   "version": "3.9.7"
  }
 },
 "nbformat": 4,
 "nbformat_minor": 4
}
