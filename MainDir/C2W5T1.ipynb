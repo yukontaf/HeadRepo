{
 "cells": [
  {
   "cell_type": "code",
   "execution_count": 2,
   "metadata": {},
   "outputs": [],
   "source": [
    "import sklearn \n",
    "import snoop\n",
    "from loguru import logger\n",
    "import numpy as np\n",
    "import pandas as pd\n",
    "from tqdm.notebook import tqdm\n",
    "%load_ext blackcellmagic"
   ]
  },
  {
   "cell_type": "code",
   "execution_count": 54,
   "metadata": {},
   "outputs": [
    {
     "data": {
      "text/plain": [
       "3"
      ]
     },
     "execution_count": 54,
     "metadata": {},
     "output_type": "execute_result"
    }
   ],
   "source": [
    "from sklearn import datasets, model_selection\n",
    "from sklearn.naive_bayes import GaussianNB, MultinomialNB, BernoulliNB\n",
    "from itertools import product\n",
    "from collections import defaultdict\n",
    "import os\n",
    "logger.add('error.message.txt', format=\"{time} - {level} - {message}\", level='DEBUG')"
   ]
  },
  {
   "cell_type": "code",
   "execution_count": 4,
   "metadata": {},
   "outputs": [],
   "source": [
    "df1 = datasets.load_breast_cancer()\n",
    "df2 = datasets.load_digits()"
   ]
  },
  {
   "cell_type": "code",
   "execution_count": 34,
   "metadata": {},
   "outputs": [],
   "source": [
    "classifiers = [GaussianNB(), MultinomialNB(), BernoulliNB()]\n",
    "frames = [df1, df2]"
   ]
  },
  {
   "cell_type": "code",
   "execution_count": 28,
   "metadata": {},
   "outputs": [
    {
     "data": {
      "text/plain": [
       "'digits'"
      ]
     },
     "execution_count": 28,
     "metadata": {},
     "output_type": "execute_result"
    }
   ],
   "source": [
    "frames[1].DESCR[4:10]"
   ]
  },
  {
   "cell_type": "code",
   "execution_count": 52,
   "metadata": {},
   "outputs": [],
   "source": [
    "def write_answer(ans, fname):\n",
    "    with open(f'{fname}.txt', 'w') as fout:\n",
    "        fout.write(ans)"
   ]
  },
  {
   "cell_type": "code",
   "execution_count": 47,
   "metadata": {},
   "outputs": [],
   "source": [
    "@logger.catch\n",
    "def run_exp(frames, classifiers):\n",
    "    res = defaultdict()\n",
    "    for i, j in product(frames, classifiers):\n",
    "        x, y = i.data, i.target\n",
    "        # x_train, x_test, y_train, y_test = x.loc[:0.7*len(x)], x.loc[0.7*len(x)+1:], y.loc[:0.7*len(x)], y.loc[0.7*len(x)+1:]\n",
    "        res[(i.DESCR[4:10], str(j))] = np.mean(\n",
    "            model_selection.cross_val_score(j, x, y)\n",
    "        )\n",
    "    return res"
   ]
  },
  {
   "cell_type": "code",
   "execution_count": 48,
   "metadata": {},
   "outputs": [
    {
     "data": {
      "text/plain": [
       "defaultdict(None,\n",
       "            {('breast', 'GaussianNB()'): 0.9385188635305075,\n",
       "             ('breast', 'MultinomialNB()'): 0.8963204471355379,\n",
       "             ('breast', 'BernoulliNB()'): 0.6274181027790716,\n",
       "             ('digits', 'GaussianNB()'): 0.8069281956050759,\n",
       "             ('digits', 'MultinomialNB()'): 0.8703497369235531,\n",
       "             ('digits', 'BernoulliNB()'): 0.8241736304549674})"
      ]
     },
     "execution_count": 48,
     "metadata": {},
     "output_type": "execute_result"
    }
   ],
   "source": [
    "dct = run_exp(frames, classifiers)\n",
    "dct"
   ]
  },
  {
   "cell_type": "code",
   "execution_count": 53,
   "metadata": {},
   "outputs": [],
   "source": [
    "write_answer('3 4', 'ans3')"
   ]
  },
  {
   "cell_type": "code",
   "execution_count": null,
   "metadata": {},
   "outputs": [],
   "source": []
  }
 ],
 "metadata": {
  "interpreter": {
   "hash": "1be9856963ee0560708bb2052661aa27357a5b7ae3c19a3b57a929c8d7be175e"
  },
  "kernelspec": {
   "display_name": "Python 3.8.11 64-bit ('base': conda)",
   "name": "python3"
  },
  "language_info": {
   "codemirror_mode": {
    "name": "ipython",
    "version": 3
   },
   "file_extension": ".py",
   "mimetype": "text/x-python",
   "name": "python",
   "nbconvert_exporter": "python",
   "pygments_lexer": "ipython3",
   "version": "3.8.11"
  },
  "orig_nbformat": 4
 },
 "nbformat": 4,
 "nbformat_minor": 2
}
