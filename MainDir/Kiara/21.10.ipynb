{
 "cells": [
  {
   "cell_type": "markdown",
   "metadata": {},
   "source": [
    "S = 'ab', k=3"
   ]
  },
  {
   "cell_type": "code",
   "execution_count": 3,
   "metadata": {},
   "outputs": [
    {
     "data": {
      "text/plain": [
       "'AB'"
      ]
     },
     "execution_count": 3,
     "metadata": {},
     "output_type": "execute_result"
    }
   ],
   "source": [
    "abc = ['A', 'B']\n",
    "''.join(abc)\n",
    "for i in S:\n",
    "    if i in ''.join(abc) or i in ''.join(abc).lower():"
   ]
  },
  {
   "cell_type": "code",
   "execution_count": 5,
   "metadata": {},
   "outputs": [
    {
     "name": "stdout",
     "output_type": "stream",
     "text": [
      "abc def\n"
     ]
    }
   ],
   "source": [
    "uppercase = 'ABCDEFGHIJKLMNOPQRSTUVWXYZ'\n",
    "lowercase = 'abcdefghijklmnopqrstuvwxyz'\n",
    "def convert_to_lowercase(S):\n",
    "    converted = ''\n",
    "    for i in S:\n",
    "        if i in uppercase:\n",
    "            converted += lowercase[uppercase.index(i)]\n",
    "        elif i in lowercase:\n",
    "            converted += i\n",
    "        else:\n",
    "            converted += i\n",
    "    return converted\n",
    "\n",
    "print(convert_to_lowercase('ABC def'))"
   ]
  },
  {
   "cell_type": "code",
   "execution_count": null,
   "metadata": {},
   "outputs": [],
   "source": []
  }
 ],
 "metadata": {
  "interpreter": {
   "hash": "1be9856963ee0560708bb2052661aa27357a5b7ae3c19a3b57a929c8d7be175e"
  },
  "kernelspec": {
   "display_name": "Python 3.8.11 64-bit ('base': conda)",
   "name": "python3"
  },
  "language_info": {
   "codemirror_mode": {
    "name": "ipython",
    "version": 3
   },
   "file_extension": ".py",
   "mimetype": "text/x-python",
   "name": "python",
   "nbconvert_exporter": "python",
   "pygments_lexer": "ipython3",
   "version": "3.8.11"
  },
  "orig_nbformat": 4
 },
 "nbformat": 4,
 "nbformat_minor": 2
}
