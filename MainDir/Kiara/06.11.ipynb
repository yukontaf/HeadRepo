{
 "cells": [
  {
   "cell_type": "markdown",
   "metadata": {},
   "source": [
    "$$НОД(a,b)=НОД(a-b, b) = НОД(b, a\\%b) = НОД(a\\%b, b\\%(a\\%b)$$"
   ]
  },
  {
   "cell_type": "code",
   "execution_count": 15,
   "metadata": {},
   "outputs": [
    {
     "name": "stdout",
     "output_type": "stream",
     "text": [
      "4\n"
     ]
    },
    {
     "data": {
      "text/plain": [
       "32"
      ]
     },
     "execution_count": 15,
     "metadata": {},
     "output_type": "execute_result"
    }
   ],
   "source": [
    "def euclid_algorithm(a, b):\n",
    "    r_2, r_1, r = a, b, a % b\n",
    "    while r != 0:\n",
    "       r = r_2 % r_1\n",
    "       r_1, r_2 = r, r_1\n",
    "    return r_2\n",
    "print(euclid_algorithm(4, 8))\n",
    "4*8"
   ]
  },
  {
   "cell_type": "code",
   "execution_count": 3,
   "metadata": {},
   "outputs": [
    {
     "data": {
      "text/plain": [
       "4"
      ]
     },
     "execution_count": 3,
     "metadata": {},
     "output_type": "execute_result"
    }
   ],
   "source": [
    "def find_max(lst):\n",
    "    maximum = lst[0]\n",
    "    for i in range(len(lst)):\n",
    "        if maximum < lst[i]: maximum = lst[i]\n",
    "    return maximum\n",
    "find_max([1, 2, 4])"
   ]
  },
  {
   "cell_type": "markdown",
   "metadata": {},
   "source": [
    "$\\frac{37}{1277}?\\frac{23}{973}$"
   ]
  },
  {
   "cell_type": "code",
   "execution_count": 7,
   "metadata": {},
   "outputs": [
    {
     "data": {
      "text/plain": [
       "2"
      ]
     },
     "execution_count": 7,
     "metadata": {},
     "output_type": "execute_result"
    }
   ],
   "source": [
    "(10**18 -5)  % 3"
   ]
  },
  {
   "cell_type": "markdown",
   "metadata": {},
   "source": [
    "1. Переписать генератор чисел фибоначчи\n",
    "2. Пройтись в цикле по первым m^2 числам фибоаначчи и найти остаток от деления каждого из них на m, записать их в список, определить место в котором начинается последовательность 0, 1, 1\n",
    "3. Найти n%m\n",
    "4. Найти элемент с индексом n%m в списке из пункта 2\n",
    "   "
   ]
  },
  {
   "cell_type": "markdown",
   "metadata": {},
   "source": [
    "$F_n = F_{n-2} + F_{n-1}$\\\n",
    "$y(n) = F_n \\mod m$ , где $F_n$ - n-ое число фибоначчи ($F_n \\mod m$ == `F_n % m`)\\\n",
    "Пример: рассмотрим функцию $y_2(n) = F_n \\mod 2$ \\\n",
    "Особенности этой функции: эта функция определена только на $\\mathbf{N}$, и её значениями тоже являются только натуральные числа, то есть запись вида $y_2(1/2)$ смысла не имеет\\\n",
    "$T(y_2)=3$\\\n",
    "$y_3(n)= F_n \\mod 3$\\\n",
    "Тогда $T(y_3) = 8$\\\n",
    "Определение. Пусть опеределена функция $y_m(n) = F_n \\mod m$, тогда число $T(y_m)$ будет называться периодом Пезано функции $y_m$"
   ]
  },
  {
   "cell_type": "markdown",
   "metadata": {},
   "source": [
    "Проблема с рекурсивной реализацией вычисления чисел фибоначии заключается в том, что на каждом шаге рекурсии все предыдущие числа вычисляются заново. Если их запоминать, то можно очень сильно повысить эффективность вычислений. Этот приём называется мемоизация"
   ]
  },
  {
   "cell_type": "code",
   "execution_count": 9,
   "metadata": {},
   "outputs": [],
   "source": [
    "%load_ext blackcellmagic"
   ]
  },
  {
   "cell_type": "code",
   "execution_count": 10,
   "metadata": {},
   "outputs": [],
   "source": [
    "def fib(n):\n",
    "    fib_seq = [0, 1, 1]\n",
    "    k = 3\n",
    "    while k - 3 <= n:\n",
    "        fib_seq.append(fib_seq[k - 2] + fib_seq[k - 1])\n",
    "        k += 1\n",
    "    return fib_seq[n]"
   ]
  },
  {
   "cell_type": "markdown",
   "metadata": {},
   "source": [
    "Алгоритм поиска периода Пезано:\\\n",
    "The period always starts with 01\\\n",
    "Например как вычислить `calculate_pesano(3)`?\\\n",
    "1. Находим первые 9 числе фибоначчи, находим их остатки от деления на 3, записываем их в список, находим индекс элемента в этом списке начиная с которого во второй раз появляется последовательность 0-1"
   ]
  },
  {
   "cell_type": "code",
   "execution_count": null,
   "metadata": {},
   "outputs": [],
   "source": [
    "def calculate_pesano(m):\n",
    "    pass"
   ]
  }
 ],
 "metadata": {
  "interpreter": {
   "hash": "1be9856963ee0560708bb2052661aa27357a5b7ae3c19a3b57a929c8d7be175e"
  },
  "kernelspec": {
   "display_name": "Python 3.8.11 64-bit ('base': conda)",
   "name": "python3"
  },
  "language_info": {
   "codemirror_mode": {
    "name": "ipython",
    "version": 3
   },
   "file_extension": ".py",
   "mimetype": "text/x-python",
   "name": "python",
   "nbconvert_exporter": "python",
   "pygments_lexer": "ipython3",
   "version": "3.8.11"
  },
  "orig_nbformat": 4
 },
 "nbformat": 4,
 "nbformat_minor": 2
}
