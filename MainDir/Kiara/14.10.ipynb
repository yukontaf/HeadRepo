{
 "cells": [
  {
   "cell_type": "markdown",
   "metadata": {},
   "source": [
    "Пусть дана произвольная система счисления и дано основание второй счисления. Перевести число из первой СС во второую.\n",
    "Пусть дано число $a$\n",
    "1. Перевести число в десятиричную СС\n",
    "2. Перевести из десятиричной в требуемую: \n",
    "3. Для получения цифр из записи числа в СС с основанием $n$ необходимо:\n",
    "4. Найти остаток от деления числа на $n$ \n",
    "5. Разделить целочисленно $a$ на $n$\n",
    "6. Повторить шаги 4 и 5 пока $a$ не станет равно нулю"
   ]
  },
  {
   "cell_type": "markdown",
   "metadata": {},
   "source": [
    "$$a_n =a_0n^0+a_1n^1+\\dots+a_{n}n^{n-1}$$"
   ]
  },
  {
   "cell_type": "markdown",
   "metadata": {},
   "source": [
    "$2120_3=0*3^0+2*3^1+1*3^2+2*3^3=0+6+9+54=69$"
   ]
  },
  {
   "cell_type": "code",
   "execution_count": 2,
   "metadata": {},
   "outputs": [],
   "source": [
    "%load_ext blackcellmagic"
   ]
  },
  {
   "cell_type": "code",
   "execution_count": 8,
   "metadata": {},
   "outputs": [],
   "source": [
    "import snoop"
   ]
  },
  {
   "cell_type": "code",
   "execution_count": 38,
   "metadata": {},
   "outputs": [],
   "source": [
    "def to_decimal(t, base):\n",
    "    decimal_repr = [t[i] * base ** i for i in range(len(t))]\n",
    "    return sum(decimal_repr)"
   ]
  },
  {
   "cell_type": "code",
   "execution_count": 24,
   "metadata": {},
   "outputs": [],
   "source": [
    "def to_any(num, base):\n",
    "    digits = []\n",
    "    while num != 0:\n",
    "        digits.append(num % base)\n",
    "        num = num // base\n",
    "    return digits[::-1]"
   ]
  },
  {
   "cell_type": "code",
   "execution_count": null,
   "metadata": {},
   "outputs": [],
   "source": [
    "alphabet[12]"
   ]
  },
  {
   "cell_type": "code",
   "execution_count": 34,
   "metadata": {},
   "outputs": [],
   "source": [
    "def decode(num):\n",
    "    alphabet = \"0123456789abcdefghi\"\n",
    "    t = []\n",
    "    for i in str(num):\n",
    "        t.append(alphabet.index(i))\n",
    "    return t"
   ]
  },
  {
   "cell_type": "code",
   "execution_count": 39,
   "metadata": {},
   "outputs": [],
   "source": [
    "def converter(num, base1, base2):\n",
    "    t = decode(num)\n",
    "    decimal_t = to_decimal(t, base1)\n",
    "    res_t = to_any(decimal_t, base2)\n",
    "    return encode(res_t)"
   ]
  },
  {
   "cell_type": "code",
   "execution_count": 40,
   "metadata": {},
   "outputs": [
    {
     "data": {
      "text/plain": [
       "'11100101010110'"
      ]
     },
     "execution_count": 40,
     "metadata": {},
     "output_type": "execute_result"
    }
   ],
   "source": [
    "converter(62543, 8, 2)"
   ]
  }
 ],
 "metadata": {
  "interpreter": {
   "hash": "1be9856963ee0560708bb2052661aa27357a5b7ae3c19a3b57a929c8d7be175e"
  },
  "kernelspec": {
   "display_name": "Python 3.8.11 64-bit ('base': conda)",
   "name": "python3"
  },
  "language_info": {
   "codemirror_mode": {
    "name": "ipython",
    "version": 3
   },
   "file_extension": ".py",
   "mimetype": "text/x-python",
   "name": "python",
   "nbconvert_exporter": "python",
   "pygments_lexer": "ipython3",
   "version": "3.8.11"
  },
  "orig_nbformat": 4
 },
 "nbformat": 4,
 "nbformat_minor": 2
}
