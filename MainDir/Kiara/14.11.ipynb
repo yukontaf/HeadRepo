{
 "cells": [
  {
   "cell_type": "markdown",
   "metadata": {},
   "source": [
    "1. Вычислить косинусы всех углов\n",
    "2. Есть ли среди этих косинусов отрицательный? Если есть => треугольник тупоугольный, \n",
    "3. Если все положительные, то треугольник остроугольный и\n",
    "4. Если все положительные и хотя бы один косинус равен 1 => прямоугольный"
   ]
  },
  {
   "cell_type": "markdown",
   "metadata": {},
   "source": [
    "$$a^2 = b^2+c^2-2bc \\cos{\\alpha}$$"
   ]
  },
  {
   "cell_type": "markdown",
   "metadata": {},
   "source": [
    "$$\\cos{\\alpha} = \\frac{a^2-b^2-c^2}{-2bc}$$"
   ]
  },
  {
   "cell_type": "code",
   "execution_count": 1,
   "metadata": {},
   "outputs": [],
   "source": [
    "%load_ext snoop"
   ]
  },
  {
   "cell_type": "code",
   "execution_count": 4,
   "metadata": {},
   "outputs": [],
   "source": [
    "import snoop"
   ]
  },
  {
   "cell_type": "code",
   "execution_count": 10,
   "metadata": {},
   "outputs": [],
   "source": [
    "# @snoop\n",
    "def calc_cos(a, b, c): # вычислит косинус угла, лежащего напротив a\n",
    "    return (-b**2 - c**2 + a**2) / (-2*b*c)\n",
    "# @snoop\n",
    "def triangle():\n",
    "    a, b, c = int(input()), int(input()), int(input())\n",
    "    cos_a = calc_cos(a, b, c)\n",
    "    cos_b = calc_cos(b, a, c)\n",
    "    cos_c = calc_cos(c, a, b)\n",
    "    cosines = [cos_a, cos_b, cos_c]\n",
    "    #print(cosines)\n",
    "    signs = [bool(i > 0) for i in cosines]\n",
    "    if 0 in cosines:\n",
    "        \n",
    "        return print('right')\n",
    "    elif False in signs:\n",
    "        return print('obtuse')\n",
    "    else:\n",
    "        return print('acute')"
   ]
  },
  {
   "cell_type": "code",
   "execution_count": 12,
   "metadata": {},
   "outputs": [
    {
     "name": "stdout",
     "output_type": "stream",
     "text": [
      "[0.6, -0.0, 0.8]\n",
      "right\n"
     ]
    }
   ],
   "source": [
    "triangle()"
   ]
  },
  {
   "cell_type": "code",
   "execution_count": 13,
   "metadata": {},
   "outputs": [
    {
     "name": "stdout",
     "output_type": "stream",
     "text": [
      "impossible\n"
     ]
    }
   ],
   "source": [
    "def calc_cos(a, b, c): # вычислит косинус угла, лежащего напротив a\n",
    "    return (-b**2 - c**2 + a**2) / (-2*b*c)\n",
    "\n",
    "a, b, c = int(input()), int(input()), int(input())\n",
    "cos_a = calc_cos(a, b, c)\n",
    "cos_b = calc_cos(b, a, c)\n",
    "cos_c = calc_cos(c, a, b)\n",
    "cosines = [cos_a, cos_b, cos_c]\n",
    "signs = [bool(i > 0) for i in cosines]\n",
    "if a < b + c and b < a + c and c < a + b:\n",
    "    if 0 in cosines:\n",
    "            \n",
    "        print('right')\n",
    "    elif False in signs:\n",
    "        print('obtuse')\n",
    "    else:\n",
    "        print('acute')\n",
    "else:\n",
    "    print('impossible')"
   ]
  },
  {
   "cell_type": "code",
   "execution_count": null,
   "metadata": {},
   "outputs": [],
   "source": []
  }
 ],
 "metadata": {
  "interpreter": {
   "hash": "aee8b7b246df8f9039afb4144a1f6fd8d2ca17a180786b69acc140d282b71a49"
  },
  "kernelspec": {
   "display_name": "Python 3.9.2 64-bit",
   "language": "python",
   "name": "python3"
  },
  "language_info": {
   "codemirror_mode": {
    "name": "ipython",
    "version": 3
   },
   "file_extension": ".py",
   "mimetype": "text/x-python",
   "name": "python",
   "nbconvert_exporter": "python",
   "pygments_lexer": "ipython3",
   "version": "3.8.11"
  },
  "orig_nbformat": 4
 },
 "nbformat": 4,
 "nbformat_minor": 2
}
