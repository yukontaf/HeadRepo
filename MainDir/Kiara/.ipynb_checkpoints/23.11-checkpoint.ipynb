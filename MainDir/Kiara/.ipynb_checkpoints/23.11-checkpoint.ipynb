{
 "cells": [
  {
   "cell_type": "code",
   "execution_count": 3,
   "id": "41d5aff9-ed13-4999-95bb-dd041f029394",
   "metadata": {},
   "outputs": [],
   "source": [
    "def trib(k):\n",
    "    trib_lst = [0, 0, 1]\n",
    "    i = 3\n",
    "    while i <= k:\n",
    "        trib_lst.append(sum(trib_lst[-3:]))\n",
    "        i += 1\n",
    "    return trib_lst[-1]"
   ]
  },
  {
   "cell_type": "code",
   "execution_count": 4,
   "id": "10baa974-c969-472f-ab9d-1da332397422",
   "metadata": {},
   "outputs": [],
   "source": [
    "def calculate_n(n):\n",
    "    i = 0\n",
    "    while True:\n",
    "        if trib(i) > n:\n",
    "            return i\n",
    "        i += 1"
   ]
  },
  {
   "cell_type": "markdown",
   "id": "1c43661e-e799-46f7-b2ab-15b214398fb5",
   "metadata": {},
   "source": [
    "Чтобы подсчитать число вхождений элемента `lst[0]` в список `lst` нужно по очереди сравнить lst[0] со всеми оставшимися элементами этого списка и каждый раз, когда сравнение возвращает `True`, увеличивать значение счётчика на 1"
   ]
  },
  {
   "cell_type": "markdown",
   "id": "a9b8377f-fc6d-4d77-9007-ae88d56b30b6",
   "metadata": {},
   "source": [
    "Чтобы хранить частоты можно завести второй список `frequencies`, в котором на месте `frequencies[i]` будет стоять частота встречаемости элемента `lst[i]`"
   ]
  },
  {
   "cell_type": "code",
   "execution_count": 8,
   "id": "11e452bd-db28-4485-8ef8-49f46577d622",
   "metadata": {},
   "outputs": [],
   "source": [
    "def most_frequent(lst):\n",
    "    freq = []\n",
    "    for i in range(len(lst)):\n",
    "        counter = 0\n",
    "        for j in range(len(lst)):\n",
    "            if lst[i] == lst[j]:\n",
    "                counter += 1\n",
    "        freq.append(counter)\n",
    "    return freq"
   ]
  },
  {
   "cell_type": "code",
   "execution_count": 9,
   "id": "6dfa5ef2-21ae-4834-bb9f-14552f582a8c",
   "metadata": {},
   "outputs": [
    {
     "data": {
      "text/plain": [
       "[3, 3, 3, 1, 1, 1]"
      ]
     },
     "execution_count": 9,
     "metadata": {},
     "output_type": "execute_result"
    }
   ],
   "source": [
    "most_frequent([1,1,1,2,3,4])"
   ]
  },
  {
   "cell_type": "code",
   "execution_count": null,
   "id": "08e00d43-4a25-498a-8ccb-64205ff5e6b1",
   "metadata": {},
   "outputs": [],
   "source": []
  }
 ],
 "metadata": {
  "kernelspec": {
   "display_name": "Python 3 (ipykernel)",
   "language": "python",
   "name": "python3"
  },
  "language_info": {
   "codemirror_mode": {
    "name": "ipython",
    "version": 3
   },
   "file_extension": ".py",
   "mimetype": "text/x-python",
   "name": "python",
   "nbconvert_exporter": "python",
   "pygments_lexer": "ipython3",
   "version": "3.9.7"
  }
 },
 "nbformat": 4,
 "nbformat_minor": 5
}
