{
 "cells": [
  {
   "cell_type": "code",
   "execution_count": 1,
   "metadata": {},
   "outputs": [],
   "source": [
    "from loguru import logger\n",
    "import snoop\n",
    "import birdseye\n",
    "import numpy as np\n",
    "%load_ext blackcellmagic"
   ]
  },
  {
   "cell_type": "code",
   "execution_count": 2,
   "metadata": {},
   "outputs": [],
   "source": [
    "from statsmodels.stats.weightstats import ztest\n",
    "from scipy.stats import f, ttest_ind\n",
    "from birdseye import eye"
   ]
  },
  {
   "cell_type": "markdown",
   "metadata": {},
   "source": [
    "Постройте в Питоне функцию, которая будет проводить анализ выборки. На вход она берёт:\n",
    "\n",
    "- один или два ряда\n",
    "- число m для проведения гипотезы о равенстве среднего числу (для каждого ряда)\n",
    "- число diff_means, которое по умолчанию равно нулю, которое показывает гипотетическую разницу средних в двухвыборочном тесте\n",
    "- уровень значимости для проведения всех стат.тестов\n",
    "\n",
    "и делает следующие выводы:\n",
    "\n",
    "1. Для каждого ряда она выводит (с помощью print и расшифровки) среднее, дисперсию, стандартное отклонение.\n",
    "2. Для каждого ряда она выводит квантильный анализ: медиану, квартили, межквартильный размах и децили.\n",
    "3. Если выборки две, то результат проведения одновыборочного z-теста (на равенство средних в обеих выборках числу m), двухвыборочного z-теста на равенство средних, t-теста на равенство средних и F-теста на равенство дисперсий для двух выборок. Результаты тестов надо описать в print понятным языком\n",
    "\n",
    "(*) Постарайтесь разбросать подзадачи на дополнительные функции\n",
    "\n",
    "- Одна функция для отображения результатов теста, как z, так и t и F (с проверкой p_value и принтом формулировки результата)\n",
    "- Одна функция для выполнения F-теста (нахождение значения F-критерия и проверки его по распределению Фишера)\n",
    "- Хорошо бы, чтобы результаты по отображению результатов F-теста были пайплайном из трёх функций"
   ]
  },
  {
   "cell_type": "code",
   "execution_count": 3,
   "metadata": {},
   "outputs": [
    {
     "data": {
      "text/plain": [
       "37.0"
      ]
     },
     "execution_count": 3,
     "metadata": {},
     "output_type": "execute_result"
    }
   ],
   "source": [
    "arr1 = np.random.uniform(1, 100, 20).astype(int)\n",
    "arr2 = np.random.poisson(10, 20)\n",
    "np.mean(arr1)"
   ]
  },
  {
   "cell_type": "code",
   "execution_count": 4,
   "metadata": {},
   "outputs": [],
   "source": [
    "def calculate_fisher(*arrs, alpha):\n",
    "    sigma_1_squared = np.std(arrs[0]) ** 2\n",
    "    n_1 = len(arrs[0])\n",
    "    sigma_2_squared = np.std(arrs[1]) ** 2\n",
    "    n_2 = len(arrs[1])\n",
    "    if sigma_1_squared > sigma_2_squared:\n",
    "        fisher_rv = f(n_1 - 1, n_2 - 1)\n",
    "        f_score = sigma_1_squared / sigma_2_squared\n",
    "    else:\n",
    "        fisher_rv = f(n_2 - 1, n_1 - 1)\n",
    "        f_score = sigma_2_squared / sigma_1_squared\n",
    "    test_eq = f_score < fisher_rv.ppf(alpha / 2) or f_score > fisher_rv.ppf(\n",
    "        1 - alpha / 2\n",
    "    )\n",
    "    if test_eq == True:\n",
    "        # альтернативная гипотеза – sigma_1_squared > sigma_2_squared\n",
    "        test_neq = f_score > fisher_rv.ppf(1 - alpha)\n",
    "        return test_eq, f_score, test_neq\n",
    "    else:\n",
    "        return test_eq, f_score,\n",
    "    "
   ]
  },
  {
   "cell_type": "code",
   "execution_count": 5,
   "metadata": {},
   "outputs": [],
   "source": [
    "@eye\n",
    "def calculate_stats(*arrs, m, alpha, diff_means=0):\n",
    "    i = len(arrs)\n",
    "    for series in arrs:\n",
    "        series = np.array(series)\n",
    "        print(f\"Printing stats for {series}\")\n",
    "        print(\n",
    "            np.mean(series),\n",
    "            \"Mean\\n\",\n",
    "            np.var(series),\n",
    "            \"Variance\\n\",\n",
    "            np.std(series),\n",
    "            \"Standard Dev\",\n",
    "            #sep=' '\n",
    "        )\n",
    "        print(\n",
    "            np.quantile(series, 0.5),\n",
    "            \" Median\\n\",\n",
    "            np.quantile(series, 0.25),\n",
    "            \"Quantile 0.25\\n\",\n",
    "            np.quantile(series, 0.75),\n",
    "            \"Quantile 0.75\",\n",
    "        )\n",
    "        print(np.quantile(series, 0.75) - np.quantile(series, 0.25), \"IQ Distance\")\n",
    "        print(\"_\" * 20)\n",
    "        if i == 2:\n",
    "            print(\"Single-sample Z-test\")\n",
    "            t, p_value = ztest(series, value=m)\n",
    "            if p_value >= 0.05:\n",
    "                print(\"H0 accepted\")\n",
    "            else:\n",
    "                print(\"H0 rejected\")\n",
    "            print(\"_\" * 20)\n",
    "    if i == 2:\n",
    "        print(\"Two-sample Z-test\")\n",
    "        tstat, p_value = ztest(arrs[0], arrs[1])\n",
    "        if p_value >= 0.05:\n",
    "            print(\"H0 accepted (means are equiv)\")\n",
    "        else:\n",
    "            print(\"H0 rejected (means are not equiv)\")\n",
    "        print(\"_\" * 20)\n",
    "        print(\"T-test\")\n",
    "        tstat, p_value = ttest_ind(arrs[0], arrs[1])\n",
    "        if p_value >= 0.05:\n",
    "            print(\"H0 accepted (means are equiv)\")\n",
    "        else:\n",
    "            print(\"H0 rejected (means are not equiv)\")\n",
    "        print(\"_\" * 20)\n",
    "        print(\"Fisher-test\")\n",
    "        res, *_ = calculate_fisher(*arrs, alpha=alpha)\n",
    "        if not res:\n",
    "            print(\"Vars equal\")\n",
    "        else:\n",
    "            print(\"Vars are not equal\")"
   ]
  },
  {
   "cell_type": "code",
   "execution_count": 6,
   "metadata": {},
   "outputs": [
    {
     "name": "stdout",
     "output_type": "stream",
     "text": [
      "Printing stats for [34 14 14 15 59 36 24 75 38 55 27 88 22  4 43 17 28 48 68 31]\n",
      "37.0 Mean\n",
      " 481.2 Variance\n",
      " 21.93627133311402 Standard Dev\n",
      "32.5  Median\n",
      " 20.75 Quantile 0.25\n",
      " 49.75 Quantile 0.75\n",
      "29.0 IQ Distance\n",
      "____________________\n",
      "Single-sample Z-test\n",
      "H0 rejected\n",
      "____________________\n",
      "Printing stats for [ 5  8 10 12 12 12 10 14 10 14 12  5 12  4 16 13  8 11 18  7]\n",
      "10.65 Mean\n",
      " 12.8275 Variance\n",
      " 3.5815499438092444 Standard Dev\n",
      "11.5  Median\n",
      " 8.0 Quantile 0.25\n",
      " 12.25 Quantile 0.75\n",
      "4.25 IQ Distance\n",
      "____________________\n",
      "Single-sample Z-test\n",
      "H0 rejected\n",
      "____________________\n",
      "Two-sample Z-test\n",
      "H0 rejected (means are not equiv)\n",
      "____________________\n",
      "T-test\n",
      "H0 rejected (means are not equiv)\n",
      "____________________\n",
      "Fisher-test\n",
      "Vars are not equal\n"
     ]
    }
   ],
   "source": [
    "calculate_stats(arr1, arr2, m=51, alpha=0.05)"
   ]
  }
 ],
 "metadata": {
  "interpreter": {
   "hash": "1be9856963ee0560708bb2052661aa27357a5b7ae3c19a3b57a929c8d7be175e"
  },
  "kernelspec": {
   "display_name": "Python 3.8.11 64-bit ('base': conda)",
   "name": "python3"
  },
  "language_info": {
   "codemirror_mode": {
    "name": "ipython",
    "version": 3
   },
   "file_extension": ".py",
   "mimetype": "text/x-python",
   "name": "python",
   "nbconvert_exporter": "python",
   "pygments_lexer": "ipython3",
   "version": "3.8.11"
  },
  "orig_nbformat": 4
 },
 "nbformat": 4,
 "nbformat_minor": 2
}
