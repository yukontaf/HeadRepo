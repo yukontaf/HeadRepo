{
 "cells": [
  {
   "cell_type": "markdown",
   "metadata": {},
   "source": [
    "Итерируемый объект - это такая переменная, которая состоит из некоторого множества подряд идущих элементов, ключевая особенность - по нему можно пройтись в цикле и считать каждый элемент"
   ]
  },
  {
   "cell_type": "markdown",
   "metadata": {},
   "source": [
    "В отличие от С++ в питоне в списке могут храниться элементы любого типа совместо, то есть может список такого вида: `[1, 'string', [2], {1:1}]`"
   ]
  },
  {
   "cell_type": "markdown",
   "metadata": {},
   "source": [
    "В списке и массиве (коллекция однотипных элементов) доступна индексация, то есть мы можем обратиться к конкретному элементу зная его индекс. В питоне есть такая структура как генератор, она является итерируемым объектом, но в нём нет индексации"
   ]
  },
  {
   "cell_type": "code",
   "execution_count": 3,
   "metadata": {},
   "outputs": [
    {
     "name": "stdout",
     "output_type": "stream",
     "text": [
      "[0, 1, 2, 3, 4, 5, 6, 7, 8, 9]\n"
     ]
    }
   ],
   "source": [
    "print(list(range(10)))"
   ]
  },
  {
   "cell_type": "markdown",
   "metadata": {},
   "source": [
    "Проверка на принадлежность к какой-то коллекции осуществляется при помощи оператора `in`, например:"
   ]
  },
  {
   "cell_type": "markdown",
   "metadata": {},
   "source": [
    "Чтобы сделать строчную прописной необходимо найти индекс этой буквы в списке `lowercase` (при помощи метода index, который при вызове `list.index(i)` возвращает индекс элемента `i`  в списке `list`) и тогда  соответствующая прописная буква будет находиться в списке `uppercase` по полученному индексу `"
   ]
  },
  {
   "cell_type": "code",
   "execution_count": 11,
   "metadata": {},
   "outputs": [],
   "source": [
    "def convert_to_uppercase(string):\n",
    "    lowercase = 'abcdefghijklmnopqrstuvwxyz'\n",
    "    uppercase = 'ABCDEFGHIJKLMNOPQRSTUVWXYZ'\n",
    "    converted = ''\n",
    "    for i in string:\n",
    "        if i in lowercase:\n",
    "            converted += uppercase[lowercase.index(i)]\n",
    "        else:\n",
    "            converted += i\n",
    "    return converted"
   ]
  },
  {
   "cell_type": "markdown",
   "metadata": {},
   "source": [
    "Пусть длина тормозного пути машины является функцией от скорости. \\\n",
    "На основании прошлых данных мы пытаемся провести через эти данные такую линию, которая бы лучше всего описывала прошлые данные"
   ]
  },
  {
   "cell_type": "code",
   "execution_count": null,
   "metadata": {},
   "outputs": [],
   "source": []
  }
 ],
 "metadata": {
  "interpreter": {
   "hash": "aee8b7b246df8f9039afb4144a1f6fd8d2ca17a180786b69acc140d282b71a49"
  },
  "kernelspec": {
   "display_name": "Python 3.9.2 64-bit",
   "language": "python",
   "name": "python3"
  },
  "language_info": {
   "codemirror_mode": {
    "name": "ipython",
    "version": 3
   },
   "file_extension": ".py",
   "mimetype": "text/x-python",
   "name": "python",
   "nbconvert_exporter": "python",
   "pygments_lexer": "ipython3",
   "version": "3.9.2"
  },
  "orig_nbformat": 4
 },
 "nbformat": 4,
 "nbformat_minor": 2
}
