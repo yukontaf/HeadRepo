{
 "cells": [
  {
   "cell_type": "code",
   "execution_count": 2,
   "metadata": {},
   "outputs": [],
   "source": [
    "import numpy as np\n",
    "import pandas as pd\n",
    "import matplotlib.pyplot as plt\n",
    "from sklearn import datasets\n",
    "from IPython.core.interactiveshell import InteractiveShell\n",
    "\n",
    "InteractiveShell.ast_node_interactivity = \"all\"\n"
   ]
  },
  {
   "cell_type": "code",
   "execution_count": null,
   "metadata": {},
   "outputs": [],
   "source": [
    "def create_dataset():\n",
    "    ds = np.array([[1.0, 1.0], [0, 0], [1.1, 1.1], [1.1, 1.0]])\n",
    "    labels = ['A', 'A', 'B', 'B']\n",
    "    return ds, labels\n",
    "ds, labels = create_dataset()\n"
   ]
  },
  {
   "cell_type": "markdown",
   "metadata": {},
   "source": [
    "Для каждой точки в датасете:\n",
    "1. вычислить расстояние до точки X\n",
    "2. отсортировать получившиеся точки в убывающем порядке\n",
    "3. взять k точек из тренировочного датасета с наименьшими расстояниями\n",
    "4. выяснить, к каким классам принадлежат эти k точек\n",
    "5. найти преобладающий класс среди этих точек\n",
    "6. выдать его в качестве ответа"
   ]
  },
  {
   "cell_type": "markdown",
   "metadata": {},
   "source": [
    "корень из суммы квадратов разностей соответствующих координат"
   ]
  },
  {
   "cell_type": "markdown",
   "metadata": {},
   "source": [
    "csv = comma separated value (величины разделённые запятой)"
   ]
  },
  {
   "cell_type": "markdown",
   "metadata": {},
   "source": [
    "1. Избавиться от пропусков: можно заменить всё нулями, можно заменить средним по столбцу, можно заменить самым частым в столбце, можно выбросить все строки в которых есть пропуски. Выбор метода заполнения напрямую зависит от свойств переменных и датасета.\n",
    "2. Нужно отобрать бесполезные признаки от которых жанр точно не зависит"
   ]
  },
  {
   "cell_type": "markdown",
   "metadata": {},
   "source": [
    "Сначала выкинем все строки с пропусками и посмотрим какой получится точность классификации, если "
   ]
  },
  {
   "cell_type": "code",
   "execution_count": 9,
   "metadata": {},
   "outputs": [
    {
     "data": {
      "text/plain": [
       "1068"
      ]
     },
     "execution_count": 9,
     "metadata": {},
     "output_type": "execute_result"
    }
   ],
   "source": [
    "df = pd.read_csv('/Users/glebsokolov/HeadRepo/DataSets/movie_metadata.csv')\n",
    "df.shape[0]- df.dropna().shape[0]"
   ]
  },
  {
   "cell_type": "code",
   "execution_count": 3,
   "metadata": {},
   "outputs": [
    {
     "data": {
      "text/plain": [
       "(array([[-7.66054695e-01,  1.83324682e-01],\n",
       "        [-9.20383253e-01, -7.23168038e-02],\n",
       "        [-9.86585088e-01, -2.86920000e-01],\n",
       "        [ 1.70910242e+00, -1.10453952e+00],\n",
       "        [ 1.98764670e+00,  1.77624479e+00],\n",
       "        [ 3.86274219e+00,  2.63325914e+00],\n",
       "        [-1.12836011e+00, -4.22761581e-01],\n",
       "        [-1.10074198e+00, -2.56042975e+00],\n",
       "        [-1.53716448e+00,  1.10502647e+00],\n",
       "        [-3.23726922e-01,  5.56269743e-01],\n",
       "        [-1.28532883e+00, -1.30819171e+00],\n",
       "        [ 3.35973253e+00, -1.79506345e+00],\n",
       "        [-1.27034986e+00,  1.26780440e+00],\n",
       "        [-7.10233633e-01, -1.13058206e+00],\n",
       "        [-1.12933108e+00,  6.87661760e-01],\n",
       "        [ 2.48206729e-01, -5.09792713e-01],\n",
       "        [-2.47263494e+00, -4.86612462e-01],\n",
       "        [-1.11573423e+00,  1.43370121e+00],\n",
       "        [-1.21414740e+00,  1.97698901e+00],\n",
       "        [-1.25860859e+00, -1.82896522e-01],\n",
       "        [-5.35834091e-01,  1.10698637e+00],\n",
       "        [ 9.23281451e-01, -1.30813451e+00],\n",
       "        [ 2.02751248e+00, -4.03257104e-01],\n",
       "        [ 2.18718140e+00,  2.03196825e+00],\n",
       "        [ 5.12814562e-01,  4.32994532e-01],\n",
       "        [-2.81180710e+00, -3.45538051e-01],\n",
       "        [ 3.13380666e-01,  1.12073484e+00],\n",
       "        [ 2.72990606e-01, -3.21105367e-01],\n",
       "        [-1.18986266e+00,  4.24345081e-01],\n",
       "        [-1.12132974e-01, -9.07197428e-01],\n",
       "        [ 1.23567148e+00,  1.55525060e+00],\n",
       "        [-7.03291920e-01, -6.05415797e-01],\n",
       "        [ 1.33828180e+00, -9.86132567e-01],\n",
       "        [-3.19826339e+00, -1.25732069e+00],\n",
       "        [ 7.64389529e-01, -6.79598011e-01],\n",
       "        [ 9.52529622e-01, -7.93470192e-01],\n",
       "        [-4.37933163e-01, -1.24378126e+00],\n",
       "        [ 2.40620516e+00, -1.00171129e-01],\n",
       "        [ 6.81520677e-01,  3.93906076e-01],\n",
       "        [ 4.51394467e-01, -2.47553402e-03],\n",
       "        [-1.45709006e+00,  4.86681188e-01],\n",
       "        [ 1.69989125e+00, -1.66130052e+00],\n",
       "        [-9.80358459e-01, -1.40246886e+00],\n",
       "        [-2.68225264e-01,  4.58931008e-02],\n",
       "        [-1.85016853e+00, -3.58754622e+00],\n",
       "        [-1.07894567e-01,  1.34057624e+00],\n",
       "        [ 1.27458364e+00, -2.52159550e+00],\n",
       "        [-4.47369310e-01, -2.68051210e-01],\n",
       "        [-8.11815767e-03,  2.11564734e+00],\n",
       "        [-2.22244349e+00, -1.62073375e+00],\n",
       "        [-8.94365876e-01,  9.29950318e-01],\n",
       "        [-2.41527100e-01,  4.55946498e-01],\n",
       "        [ 8.50411665e-01, -2.08311803e-01],\n",
       "        [-1.06938289e+00,  4.17180364e-01],\n",
       "        [-9.95105317e-01,  1.23195055e+00],\n",
       "        [-8.31839865e-01,  7.21669496e-01],\n",
       "        [-1.24743076e+00,  7.09216593e-01],\n",
       "        [ 1.22964368e+00, -9.61541555e-01],\n",
       "        [-9.00142145e-01,  1.78037474e+00],\n",
       "        [ 5.71068197e-01, -1.23267396e+00],\n",
       "        [ 2.16543447e-01, -7.15602562e-02],\n",
       "        [-1.59027524e-01, -2.38076394e+00],\n",
       "        [-5.97321845e-01, -1.20114435e+00],\n",
       "        [ 1.04421447e+00,  2.02899023e+00],\n",
       "        [ 9.55083877e-01, -1.62184212e+00],\n",
       "        [-9.03343950e-01,  1.79445113e+00],\n",
       "        [-1.27395967e+00, -4.37843295e-02],\n",
       "        [ 2.50202269e-01, -1.04862023e-01],\n",
       "        [-8.95526209e-01,  3.51173413e-01],\n",
       "        [-1.17921312e+00,  5.44818813e-01],\n",
       "        [-1.20374176e+00, -2.89788250e-01],\n",
       "        [ 1.22006997e+00, -8.27182474e-01],\n",
       "        [ 2.34137626e+00,  1.47049892e+00],\n",
       "        [-6.15293010e-01, -8.64008129e-01],\n",
       "        [ 1.79574591e+00,  1.87834887e+00],\n",
       "        [-7.80910684e-01,  1.85082392e+00],\n",
       "        [-1.36508549e-01,  7.33899962e-01],\n",
       "        [ 1.73590335e+00, -8.69536952e-01],\n",
       "        [-6.35812195e-01,  1.35329628e+00],\n",
       "        [-6.83049356e-01, -8.00221059e-01],\n",
       "        [ 8.51440362e-01,  2.42548085e+00],\n",
       "        [-1.11745336e+00,  1.26661394e+00],\n",
       "        [ 6.73114962e-01,  5.59313196e-01],\n",
       "        [-1.14855777e+00,  8.65825460e-01],\n",
       "        [-1.45125944e+00, -7.62884416e-01],\n",
       "        [ 8.56699698e-01, -4.43584187e-01],\n",
       "        [ 1.91002859e+00, -2.20119016e+00],\n",
       "        [-1.04999632e+00,  1.83240861e+00],\n",
       "        [-7.81871442e-02, -3.54528872e-01],\n",
       "        [ 5.23902618e-01, -1.97242756e+00],\n",
       "        [-1.36672011e+00, -1.05286598e+00],\n",
       "        [ 2.17261785e-01, -4.71824167e-01],\n",
       "        [ 1.35081491e+00, -1.94643859e-01],\n",
       "        [-1.41363563e+00, -3.59967304e-01],\n",
       "        [ 1.86752028e+00, -2.05721672e-01],\n",
       "        [-9.89449288e-01,  3.73436160e-01],\n",
       "        [-8.69385004e-01, -8.60699619e-01],\n",
       "        [ 2.53026908e+00,  3.80251566e-01],\n",
       "        [-4.61220130e-01, -3.69743600e+00],\n",
       "        [-2.05321581e+00,  4.22341441e-01]]),\n",
       " array([0, 0, 0, 1, 1, 1, 0, 0, 1, 1, 0, 1, 0, 0, 0, 1, 0, 0, 0, 0, 1, 1,\n",
       "        1, 1, 1, 0, 1, 1, 0, 1, 1, 0, 1, 0, 1, 0, 0, 1, 1, 1, 0, 1, 0, 1,\n",
       "        0, 1, 1, 0, 1, 0, 0, 1, 1, 0, 0, 0, 0, 1, 0, 0, 1, 0, 0, 1, 1, 0,\n",
       "        0, 1, 0, 1, 0, 1, 1, 0, 1, 0, 1, 1, 0, 1, 1, 0, 1, 0, 0, 1, 1, 0,\n",
       "        1, 1, 0, 1, 1, 0, 1, 0, 0, 1, 0, 0]))"
      ]
     },
     "execution_count": 3,
     "metadata": {},
     "output_type": "execute_result"
    }
   ],
   "source": [
    "X, y = datasets.make_classification(n_features=2,\n",
    "                                    n_informative=2,\n",
    "                                    n_redundant=0,\n",
    "                                    n_repeated=0,\n",
    "                                    random_state=0)\n",
    "X, y"
   ]
  },
  {
   "cell_type": "code",
   "execution_count": 10,
   "metadata": {},
   "outputs": [
    {
     "data": {
      "text/plain": [
       "<matplotlib.collections.PathCollection at 0x7fa1420c1f40>"
      ]
     },
     "execution_count": 10,
     "metadata": {},
     "output_type": "execute_result"
    },
    {
     "data": {
      "text/plain": [
       "Text(0.5, 1.0, 'Classification problem\\n What is the color of the new (x1, y1) pair?')"
      ]
     },
     "execution_count": 10,
     "metadata": {},
     "output_type": "execute_result"
    },
    {
     "data": {
      "text/plain": [
       "Text(0.5, 0, 'feature 1')"
      ]
     },
     "execution_count": 10,
     "metadata": {},
     "output_type": "execute_result"
    },
    {
     "data": {
      "text/plain": [
       "Text(0, 0.5, 'feature 2')"
      ]
     },
     "execution_count": 10,
     "metadata": {},
     "output_type": "execute_result"
    },
    {
     "data": {
      "image/png": "[encoded data removed]",
      "text/plain": [
       "<Figure size 432x288 with 1 Axes>"
      ]
     },
     "metadata": {
      "needs_background": "light"
     },
     "output_type": "display_data"
    }
   ],
   "source": [
    "colors = ['yellow' if y_i else 'blue' for y_i in y]\n",
    "plt.scatter(X[:, 0], X[:, 1], c=colors)\n",
    "plt.title('Classification problem\\n What is the color of the new (x1, y1) pair?')\n",
    "plt.xlabel('feature 1')\n",
    "plt.ylabel('feature 2')"
   ]
  },
  {
   "cell_type": "code",
   "execution_count": 28,
   "metadata": {},
   "outputs": [],
   "source": [
    "point = [-0.5, -0.5]"
   ]
  },
  {
   "cell_type": "code",
   "execution_count": 8,
   "metadata": {},
   "outputs": [
    {
     "data": {
      "text/plain": [
       "(-0.766054694735782, 0.18332468205821462, 'blue')"
      ]
     },
     "execution_count": 8,
     "metadata": {},
     "output_type": "execute_result"
    }
   ],
   "source": [
    "X[0, 0], X[0, 1], colors[0]"
   ]
  },
  {
   "cell_type": "code",
   "execution_count": 13,
   "metadata": {},
   "outputs": [
    {
     "data": {
      "text/plain": [
       "(100, 2)"
      ]
     },
     "execution_count": 13,
     "metadata": {},
     "output_type": "execute_result"
    }
   ],
   "source": [
    "X.shape"
   ]
  },
  {
   "cell_type": "code",
   "execution_count": 17,
   "metadata": {},
   "outputs": [
    {
     "data": {
      "text/plain": [
       "array([-0.76605469,  0.18332468])"
      ]
     },
     "execution_count": 17,
     "metadata": {},
     "output_type": "execute_result"
    },
    {
     "data": {
      "text/plain": [
       "array([0.        , 0.29861325, 0.51938783, 2.79016074, 3.18123653,\n",
       "       5.23716903, 0.70612023, 2.76409189, 1.20172563, 0.57856882,\n",
       "       1.57932479, 4.57560268, 1.19599744, 1.31509198, 0.62155098,\n",
       "       1.22846976, 1.83336628, 1.29835174, 1.84878847, 0.61378116,\n",
       "       0.9519204 , 2.25350996, 2.85448695, 3.48411918, 1.30301251,\n",
       "       2.11300703, 1.42965678, 1.15501723, 0.487549  , 1.27155499,\n",
       "       2.42674441, 0.79123366, 2.40745973, 2.82685306, 1.7569562 ,\n",
       "       1.97678028, 1.46434119, 3.18490227, 1.46281201, 1.23154544,\n",
       "       0.75468871, 3.07953431, 1.60020851, 0.51645095, 3.92361698,\n",
       "       1.33131737, 3.38833263, 0.55254011, 2.07565379, 2.31855453,\n",
       "       0.75757085, 0.59114453, 1.66323258, 0.38300975, 1.07335008,\n",
       "       0.54234936, 0.71294125, 2.30076742, 1.60266913, 1.94754968,\n",
       "       1.01511844, 2.63496346, 1.39471333, 2.58525739, 2.49418227,\n",
       "       1.6169653 , 0.55636855, 1.05632845, 0.2119813 , 0.54897895,\n",
       "       0.64451983, 2.22841107, 3.36347212, 1.05812811, 3.07179578,\n",
       "       1.66756541, 0.83633814, 2.71446342, 1.17719864, 0.9870421 ,\n",
       "       2.76469791, 1.1388576 , 1.48747325, 0.78237837, 1.16825391,\n",
       "       1.73963978, 3.58431761, 1.67335013, 0.87318281, 2.51222165,\n",
       "       1.3743967 , 1.18158001, 2.15034814, 0.84529714, 2.66215593,\n",
       "       0.29333857, 1.0491253 , 3.30220088, 3.89271468, 1.3091649 ])"
      ]
     },
     "execution_count": 17,
     "metadata": {},
     "output_type": "execute_result"
    }
   ],
   "source": [
    "X[0]\n",
    "(((np.tile(X[0], (X.shape[0], 1)) - X)**2).sum(axis=1))**0.5"
   ]
  },
  {
   "cell_type": "code",
   "execution_count": 23,
   "metadata": {},
   "outputs": [],
   "source": [
    "import operator"
   ]
  },
  {
   "cell_type": "code",
   "execution_count": 32,
   "metadata": {},
   "outputs": [
    {
     "data": {
      "text/plain": [
       "[(0, 3), (1, 2)]"
      ]
     },
     "execution_count": 32,
     "metadata": {},
     "output_type": "execute_result"
    }
   ],
   "source": [
    "def classify(data, inX, labels, k):\n",
    "    data_size = data.shape[0]\n",
    "    diff_matrix = np.tile(inX, (data_size, 1)) - data\n",
    "    sq_diff_matrix = diff_matrix**2\n",
    "    sq_distances = sq_diff_matrix.sum(axis=1)\n",
    "    distances = sq_distances**0.5\n",
    "    sorted_distances = distances.argsort()\n",
    "    class_count = {}\n",
    "    for i in range(k):\n",
    "        vote_label = labels[sorted_distances[i]]\n",
    "        class_count[vote_label] = class_count.get(vote_label, 0)+1\n",
    "    sorted_class_count = sorted(class_count.items(), key=operator.itemgetter(1), reverse=True)\n",
    "    return sorted_class_count\n",
    "classify(X, point, y, 5)"
   ]
  },
  {
   "cell_type": "code",
   "execution_count": 12,
   "metadata": {},
   "outputs": [
    {
     "name": "stdout",
     "output_type": "stream",
     "text": [
      "VS-EF39\n"
     ]
    }
   ],
   "source": [
    "import uuid\n",
    "\n",
    "name = 'VS-' + uuid.uuid4().hex.upper()[:4]\n",
    "print(name)"
   ]
  }
 ],
 "metadata": {
  "interpreter": {
   "hash": "68743ecd4817b06d131c0128d13b5b480f111b6a03451c704455a0b9672af217"
  },
  "kernelspec": {
   "display_name": "Python 3.9.2 64-bit ('glebsokolov-qQcMW7DI': pipenv)",
   "language": "python",
   "name": "python3"
  },
  "language_info": {
   "codemirror_mode": {
    "name": "ipython",
    "version": 3
   },
   "file_extension": ".py",
   "mimetype": "text/x-python",
   "name": "python",
   "nbconvert_exporter": "python",
   "pygments_lexer": "ipython3",
   "version": "3.9.2"
  },
  "orig_nbformat": 4
 },
 "nbformat": 4,
 "nbformat_minor": 2
}
