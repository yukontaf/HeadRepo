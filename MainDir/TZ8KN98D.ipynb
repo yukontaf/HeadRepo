{
 "cells": [
  {
   "cell_type": "code",
   "execution_count": 1,
   "id": "5a13fc5a-2aee-42d8-92fd-883607b8f5b2",
   "metadata": {},
   "outputs": [],
   "source": [
    "import pandas as pd\n",
    "import numpy as np\n",
    "import bamboolib as bam\n",
    "import xgboost as xgb\n",
    "from sklearn.model_selection import train_test_split"
   ]
  },
  {
   "cell_type": "code",
   "execution_count": 2,
   "id": "2e5962cf-f0cb-45cd-a438-fef564ac5ac7",
   "metadata": {},
   "outputs": [],
   "source": [
    "df = pd.read_csv(\"~/MainDir/Data/train.csv\")"
   ]
  },
  {
   "cell_type": "code",
   "execution_count": 6,
   "id": "29a161eb-18b2-43ba-a7bc-3d2ffc87abf5",
   "metadata": {
    "collapsed": true,
    "jupyter": {
     "outputs_hidden": true
    },
    "tags": []
   },
   "outputs": [
    {
     "data": {
      "application/vnd.jupyter.widget-view+json": {
       "model_id": "e226e1e0419d45abbee424f85fa7e1f1",
       "version_major": 2,
       "version_minor": 0
      },
      "text/plain": [
       "BamboolibModuleWindow(children=(Window(children=(VBox(children=(VBox(children=(Button(description='Read CSV fi…"
      ]
     },
     "metadata": {},
     "output_type": "display_data"
    }
   ],
   "source": [
    "import pandas as pd\n",
    "data = pd.read_csv(r'/Users/glebsokolov/MainDir/Data/train.csv', sep=',', decimal='.')\n",
    "data"
   ]
  },
  {
   "cell_type": "code",
   "execution_count": 3,
   "id": "ced6f309-7817-41ef-874e-a2eaeca78780",
   "metadata": {},
   "outputs": [
    {
     "data": {
      "application/vnd.jupyter.widget-view+json": {
       "model_id": "7d608af2b1a3471ab48a7707e0be8a96"
      },
      "text/html": [
       "<div>\n",
       "<style scoped>\n",
       "    .dataframe tbody tr th:only-of-type {\n",
       "        vertical-align: middle;\n",
       "    }\n",
       "\n",
       "    .dataframe tbody tr th {\n",
       "        vertical-align: top;\n",
       "    }\n",
       "\n",
       "    .dataframe thead th {\n",
       "        text-align: right;\n",
       "    }\n",
       "</style>\n",
       "<table border=\"1\" class=\"dataframe\">\n",
       "  <thead>\n",
       "    <tr style=\"text-align: right;\">\n",
       "      <th></th>\n",
       "      <th>VASK0</th>\n",
       "      <th>VASK1</th>\n",
       "      <th>VASK2</th>\n",
       "      <th>VASK3</th>\n",
       "      <th>VASK4</th>\n",
       "      <th>VBID0</th>\n",
       "      <th>VBID1</th>\n",
       "      <th>VBID2</th>\n",
       "      <th>VBID3</th>\n",
       "      <th>VBID4</th>\n",
       "      <th>...</th>\n",
       "      <th>VASK1_PREV</th>\n",
       "      <th>VASK2_PREV</th>\n",
       "      <th>VASK3_PREV</th>\n",
       "      <th>VASK4_PREV</th>\n",
       "      <th>VBID0_PREV</th>\n",
       "      <th>VBID1_PREV</th>\n",
       "      <th>VBID2_PREV</th>\n",
       "      <th>VBID3_PREV</th>\n",
       "      <th>VBID4_PREV</th>\n",
       "      <th>Y</th>\n",
       "    </tr>\n",
       "  </thead>\n",
       "  <tbody>\n",
       "    <tr>\n",
       "      <th>0</th>\n",
       "      <td>108</td>\n",
       "      <td>276</td>\n",
       "      <td>224</td>\n",
       "      <td>196</td>\n",
       "      <td>195</td>\n",
       "      <td>132</td>\n",
       "      <td>181</td>\n",
       "      <td>253</td>\n",
       "      <td>207</td>\n",
       "      <td>185</td>\n",
       "      <td>...</td>\n",
       "      <td>276</td>\n",
       "      <td>224</td>\n",
       "      <td>196</td>\n",
       "      <td>195</td>\n",
       "      <td>136</td>\n",
       "      <td>181</td>\n",
       "      <td>253</td>\n",
       "      <td>207</td>\n",
       "      <td>185</td>\n",
       "      <td>0</td>\n",
       "    </tr>\n",
       "    <tr>\n",
       "      <th>1</th>\n",
       "      <td>47</td>\n",
       "      <td>132</td>\n",
       "      <td>197</td>\n",
       "      <td>236</td>\n",
       "      <td>188</td>\n",
       "      <td>81</td>\n",
       "      <td>146</td>\n",
       "      <td>193</td>\n",
       "      <td>169</td>\n",
       "      <td>192</td>\n",
       "      <td>...</td>\n",
       "      <td>132</td>\n",
       "      <td>197</td>\n",
       "      <td>236</td>\n",
       "      <td>188</td>\n",
       "      <td>81</td>\n",
       "      <td>146</td>\n",
       "      <td>193</td>\n",
       "      <td>169</td>\n",
       "      <td>192</td>\n",
       "      <td>0</td>\n",
       "    </tr>\n",
       "    <tr>\n",
       "      <th>2</th>\n",
       "      <td>93</td>\n",
       "      <td>172</td>\n",
       "      <td>193</td>\n",
       "      <td>226</td>\n",
       "      <td>232</td>\n",
       "      <td>33</td>\n",
       "      <td>128</td>\n",
       "      <td>168</td>\n",
       "      <td>145</td>\n",
       "      <td>140</td>\n",
       "      <td>...</td>\n",
       "      <td>172</td>\n",
       "      <td>193</td>\n",
       "      <td>226</td>\n",
       "      <td>232</td>\n",
       "      <td>33</td>\n",
       "      <td>128</td>\n",
       "      <td>168</td>\n",
       "      <td>145</td>\n",
       "      <td>140</td>\n",
       "      <td>0</td>\n",
       "    </tr>\n",
       "    <tr>\n",
       "      <th>3</th>\n",
       "      <td>62</td>\n",
       "      <td>104</td>\n",
       "      <td>169</td>\n",
       "      <td>188</td>\n",
       "      <td>140</td>\n",
       "      <td>75</td>\n",
       "      <td>165</td>\n",
       "      <td>151</td>\n",
       "      <td>206</td>\n",
       "      <td>105</td>\n",
       "      <td>...</td>\n",
       "      <td>104</td>\n",
       "      <td>169</td>\n",
       "      <td>188</td>\n",
       "      <td>140</td>\n",
       "      <td>81</td>\n",
       "      <td>165</td>\n",
       "      <td>151</td>\n",
       "      <td>206</td>\n",
       "      <td>105</td>\n",
       "      <td>0</td>\n",
       "    </tr>\n",
       "    <tr>\n",
       "      <th>4</th>\n",
       "      <td>40</td>\n",
       "      <td>43</td>\n",
       "      <td>87</td>\n",
       "      <td>110</td>\n",
       "      <td>99</td>\n",
       "      <td>11</td>\n",
       "      <td>66</td>\n",
       "      <td>77</td>\n",
       "      <td>155</td>\n",
       "      <td>364</td>\n",
       "      <td>...</td>\n",
       "      <td>43</td>\n",
       "      <td>87</td>\n",
       "      <td>110</td>\n",
       "      <td>99</td>\n",
       "      <td>11</td>\n",
       "      <td>66</td>\n",
       "      <td>77</td>\n",
       "      <td>153</td>\n",
       "      <td>364</td>\n",
       "      <td>0</td>\n",
       "    </tr>\n",
       "  </tbody>\n",
       "</table>\n",
       "<p>5 rows × 21 columns</p>\n",
       "</div>"
      ],
      "text/plain": [
       "   VASK0  VASK1  VASK2  VASK3  VASK4  VBID0  VBID1  VBID2  VBID3  VBID4  ...  \\\n",
       "0    108    276    224    196    195    132    181    253    207    185  ...   \n",
       "1     47    132    197    236    188     81    146    193    169    192  ...   \n",
       "2     93    172    193    226    232     33    128    168    145    140  ...   \n",
       "3     62    104    169    188    140     75    165    151    206    105  ...   \n",
       "4     40     43     87    110     99     11     66     77    155    364  ...   \n",
       "\n",
       "   VASK1_PREV  VASK2_PREV  VASK3_PREV  VASK4_PREV  VBID0_PREV  VBID1_PREV  \\\n",
       "0         276         224         196         195         136         181   \n",
       "1         132         197         236         188          81         146   \n",
       "2         172         193         226         232          33         128   \n",
       "3         104         169         188         140          81         165   \n",
       "4          43          87         110          99          11          66   \n",
       "\n",
       "   VBID2_PREV  VBID3_PREV  VBID4_PREV  Y  \n",
       "0         253         207         185  0  \n",
       "1         193         169         192  0  \n",
       "2         168         145         140  0  \n",
       "3         151         206         105  0  \n",
       "4          77         153         364  0  \n",
       "\n",
       "[5 rows x 21 columns]"
      ]
     },
     "metadata": {},
     "output_type": "display_data"
    }
   ],
   "source": [
    "df.head()"
   ]
  },
  {
   "cell_type": "code",
   "execution_count": 9,
   "id": "b8288c14-99d5-4091-8b10-28fc7bcb8fa4",
   "metadata": {},
   "outputs": [],
   "source": [
    "X, y = df.iloc[:,:-1], df.iloc[:,-1]\n",
    "X_train, X_test, y_train, y_test = train_test_split(X, y, test_size=0.2, random_state=123)"
   ]
  },
  {
   "cell_type": "code",
   "execution_count": 6,
   "id": "bc9a4cb9-ad47-4421-acfe-728a6004071f",
   "metadata": {},
   "outputs": [],
   "source": [
    "data_dmatrix = xgb.DMatrix('~/MainDir/Data/train.csv?format=csv&label_column=21')"
   ]
  },
  {
   "cell_type": "code",
   "execution_count": 13,
   "id": "084de5bf-6c2b-46c8-a898-d6142bda5fc3",
   "metadata": {},
   "outputs": [],
   "source": [
    "params = {'objective' :'binary:logistic', 'eval_metric' : 'auc', 'eta' : 1.0, 'gamma' : 1.0, 'min_child_weight' : 1, \n",
    "         'max_depth' : 3, 'num_round' : 2, 'save_period' : 0}"
   ]
  },
  {
   "cell_type": "code",
   "execution_count": null,
   "id": "05ded48f-9cdf-46b0-b89a-0b13b7e1ba39",
   "metadata": {},
   "outputs": [],
   "source": [
    "xgb.train(params=params, dtrain=data_dmatrix)"
   ]
  },
  {
   "cell_type": "code",
   "execution_count": 4,
   "id": "55af6388-7961-45a0-9c3d-6c8ca5904e78",
   "metadata": {},
   "outputs": [
    {
     "data": {
      "application/vnd.jupyter.widget-view+json": {
       "model_id": "0889562ae8f643f3bc6931d201ced1d1",
       "version_major": 2,
       "version_minor": 0
      },
      "text/plain": [
       "BamboolibModuleWindow(children=(Window(children=(VBox(children=(VBox(children=(Button(description='Read CSV fi…"
      ]
     },
     "metadata": {},
     "output_type": "display_data"
    }
   ],
   "source": [
    "import pandas as pd\n",
    "df = pd.read_csv(r'/Users/glebsokolov/MainDir/Data/train.csv', sep=',', decimal='.')\n",
    "df"
   ]
  },
  {
   "cell_type": "code",
   "execution_count": null,
   "id": "36f64240-24de-4591-a71a-6c90dcaf3f4c",
   "metadata": {},
   "outputs": [],
   "source": []
  }
 ],
 "metadata": {
  "kernelspec": {
   "display_name": "Python 3 (ipykernel)",
   "language": "python",
   "name": "python3"
  },
  "language_info": {
   "codemirror_mode": {
    "name": "ipython",
    "version": 3
   },
   "file_extension": ".py",
   "mimetype": "text/x-python",
   "name": "python",
   "nbconvert_exporter": "python",
   "pygments_lexer": "ipython3",
   "version": "3.9.7"
  }
 },
 "nbformat": 4,
 "nbformat_minor": 5
}
