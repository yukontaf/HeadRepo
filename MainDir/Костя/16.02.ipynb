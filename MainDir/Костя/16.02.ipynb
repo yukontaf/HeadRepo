{
 "cells": [
  {
   "cell_type": "code",
   "execution_count": null,
   "metadata": {
    "collapsed": true
   },
   "outputs": [],
   "source": [
    "a, b = int(input()), int(input())\n",
    "if a > b:\n",
    "    print(b)\n",
    "elif b > a:\n",
    "    print(a)"
   ]
  },
  {
   "cell_type": "code",
   "execution_count": null,
   "outputs": [],
   "source": [
    "x = int(input())\n",
    "if x > 0:\n",
    "    print(1)\n",
    "if x < 0:\n",
    "    print(-1)\n",
    "if x == 0:\n",
    "    print(0)"
   ],
   "metadata": {
    "collapsed": false,
    "pycharm": {
     "name": "#%%\n"
    }
   }
  },
  {
   "cell_type": "code",
   "execution_count": null,
   "outputs": [],
   "source": [
    "x = int(input())\n",
    "if x > 0:\n",
    "    print(1)\n",
    "elif x < 0:\n",
    "    print(-1)\n",
    "else:\n",
    "    print(0)"
   ],
   "metadata": {
    "collapsed": false,
    "pycharm": {
     "name": "#%%\n"
    }
   }
  },
  {
   "cell_type": "code",
   "execution_count": null,
   "outputs": [],
   "source": [
    "a1, b1, a2, b2 = int(input()), int(input()), int(input()), int(input())\n",
    "if (a1 + a2 + b1 + b2):  # доказать что других таких ситуаций нет\n",
    "    print('YES')\n",
    "else:\n",
    "    print('NO')"
   ],
   "metadata": {
    "collapsed": false,
    "pycharm": {
     "name": "#%%\n"
    }
   }
  },
  {
   "cell_type": "code",
   "execution_count": null,
   "outputs": [],
   "source": [
    "year = int(input())\n",
    "if (year % 4) == 0 and year % 100 == 0 or year % 400 == 0:\n",
    "    print('Високосный!')\n",
    "else:\n",
    "    print('Не високосный')\n"
   ],
   "metadata": {
    "collapsed": false,
    "pycharm": {
     "name": "#%%\n"
    }
   }
  },
  {
   "cell_type": "code",
   "execution_count": null,
   "outputs": [],
   "source": [
    "a, b, c = int(input()), int(input()), int(input())\n",
    "if a > b and a > c:\n",
    "    if b > c:\n",
    "        print(b)\n",
    "    else:\n",
    "        print(c)\n",
    "else:\n",
    "    print(a)"
   ],
   "metadata": {
    "collapsed": false,
    "pycharm": {
     "name": "#%%\n"
    }
   }
  },
  {
   "cell_type": "code",
   "execution_count": null,
   "outputs": [],
   "source": [
    "a, b, c = int(input()), int(input()), int(input())\n",
    "if a == b and a == c:\n",
    "    print(3)\n",
    "elif a == b or a == c:\n",
    "    print(2)\n",
    "else:\n",
    "    print(0)"
   ],
   "metadata": {
    "collapsed": false,
    "pycharm": {
     "name": "#%%\n"
    }
   }
  },
  {
   "cell_type": "code",
   "execution_count": null,
   "outputs": [],
   "source": [
    "a1, b1, a2, b2 = int(input()), int(input()), int(input()), int(input())\n",
    "if a1==a2 or b1==b2:\n",
    "    print('Да')\n",
    "else:\n",
    "    print('Нет')"
   ],
   "metadata": {
    "collapsed": false,
    "pycharm": {
     "name": "#%%\n"
    }
   }
  }
 ],
 "metadata": {
  "kernelspec": {
   "name": "local-venv",
   "language": "python",
   "display_name": "local-venv"
  },
  "language_info": {
   "codemirror_mode": {
    "name": "ipython",
    "version": 2
   },
   "file_extension": ".py",
   "mimetype": "text/x-python",
   "name": "python",
   "nbconvert_exporter": "python",
   "pygments_lexer": "ipython2",
   "version": "2.7.6"
  }
 },
 "nbformat": 4,
 "nbformat_minor": 0
}