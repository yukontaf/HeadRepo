{
 "cells": [
  {
   "cell_type": "code",
   "execution_count": 4,
   "metadata": {},
   "outputs": [],
   "source": [
    "file = open('27-A_demo.txt')\n"
   ]
  },
  {
   "cell_type": "markdown",
   "metadata": {},
   "source": [
    "Сумма всех выбранных чисел не должна делиться на три => сумма цифр этой суммы тоже не должна делиться на 3"
   ]
  },
  {
   "cell_type": "code",
   "execution_count": 15,
   "metadata": {},
   "outputs": [
    {
     "data": {
      "text/plain": [
       "['5627', '5841']"
      ]
     },
     "execution_count": 15,
     "metadata": {},
     "output_type": "execute_result"
    }
   ],
   "source": [
    "line = '5627 5841'\n",
    "line.split()"
   ]
  },
  {
   "cell_type": "code",
   "execution_count": 17,
   "metadata": {},
   "outputs": [
    {
     "name": "stdout",
     "output_type": "stream",
     "text": [
      "125920\n"
     ]
    }
   ],
   "source": [
    "sum = 0\n",
    "with open('27-A_demo.txt') as fp:\n",
    "    Lines = fp.readlines()\n",
    "    for line in Lines[1:]:\n",
    "        line = line[:-1]\n",
    "        temp = list(map(int, line.split()))\n",
    "        if temp[0] > temp[1]:\n",
    "            sum += temp[0]\n",
    "        else:\n",
    "            sum += temp[1]\n",
    "    if sum % 3 != 0:\n",
    "        print(sum)\n",
    "    else:\n",
    "        for line in Lines[::-1]:\n",
    "            line = line[:-2]\n",
    "            temp = list(map(int, line.split()))\n",
    "            if temp[0] > temp[1]:\n",
    "                sum -= temp[0]\n",
    "                sum += temp[1]\n",
    "            else:\n",
    "                sum -= temp[1]\n",
    "                sum += temp[0]\n",
    "            if sum % 3 != 0:\n",
    "                print(sum)\n",
    "                break\n"
   ]
  },
  {
   "cell_type": "code",
   "execution_count": 18,
   "metadata": {},
   "outputs": [
    {
     "data": {
      "text/plain": [
       "1"
      ]
     },
     "execution_count": 18,
     "metadata": {},
     "output_type": "execute_result"
    }
   ],
   "source": []
  },
  {
   "cell_type": "code",
   "execution_count": 3,
   "metadata": {},
   "outputs": [
    {
     "data": {
      "text/plain": [
       "'5627  5841\\n'"
      ]
     },
     "execution_count": 3,
     "metadata": {},
     "output_type": "execute_result"
    }
   ],
   "source": [
    "file.readline()"
   ]
  },
  {
   "cell_type": "code",
   "execution_count": null,
   "metadata": {},
   "outputs": [],
   "source": []
  }
 ],
 "metadata": {
  "interpreter": {
   "hash": "68743ecd4817b06d131c0128d13b5b480f111b6a03451c704455a0b9672af217"
  },
  "kernelspec": {
   "display_name": "Python 3.9.2 64-bit ('glebsokolov-qQcMW7DI': pipenv)",
   "language": "python",
   "name": "python3"
  },
  "language_info": {
   "codemirror_mode": {
    "name": "ipython",
    "version": 3
   },
   "file_extension": ".py",
   "mimetype": "text/x-python",
   "name": "python",
   "nbconvert_exporter": "python",
   "pygments_lexer": "ipython3",
   "version": "3.9.2"
  },
  "orig_nbformat": 4
 },
 "nbformat": 4,
 "nbformat_minor": 2
}
