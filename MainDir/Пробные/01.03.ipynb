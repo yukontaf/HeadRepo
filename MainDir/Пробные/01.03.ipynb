{
 "cells": [
  {
   "cell_type": "code",
   "execution_count": null,
   "metadata": {
    "collapsed": false,
    "pycharm": {
     "name": "#%%\n"
    }
   },
   "outputs": [],
   "source": [
    "a, b, c = int(input()), int(input()), int(input())\n",
    "lst = [a, b, c]\n",
    "cnt = 0\n",
    "for i in range(len(lst)):\n",
    "    for j in range(len(lst)):\n",
    "        if i != j and lst[i] == lst[j]:\n",
    "            cnt += 1\n"
   ]
  },
  {
   "cell_type": "code",
   "execution_count": 6,
   "metadata": {
    "collapsed": true
   },
   "outputs": [
    {
     "data": {
      "text/plain": [
       "[1, 7, 9, 6, 12]"
      ]
     },
     "execution_count": 6,
     "metadata": {},
     "output_type": "execute_result"
    }
   ],
   "source": [
    "lst = '1, 7, 9, 6, 12'\n",
    "temp = list(map(int, lst.split(',')))\n"
   ]
  },
  {
   "cell_type": "code",
   "execution_count": 7,
   "metadata": {},
   "outputs": [],
   "source": [
    "n = int(input())\n",
    "lst = []\n",
    "for i in range(n):\n",
    "    lst.append(int(input()))"
   ]
  },
  {
   "cell_type": "code",
   "execution_count": 8,
   "metadata": {},
   "outputs": [
    {
     "data": {
      "text/plain": [
       "[1, 2, 3, 4]"
      ]
     },
     "execution_count": 8,
     "metadata": {},
     "output_type": "execute_result"
    }
   ],
   "source": [
    "# длина списка заранее неизвестна, но известно, что список оканчивается нулём (который не входит в список)\n",
    "lst=[]\n",
    "while True:\n",
    "    n=int(input())\n",
    "    if n !=0:\n",
    "        lst.append(n)\n",
    "    else:\n",
    "        break\n",
    "    \n"
   ]
  },
  {
   "cell_type": "code",
   "execution_count": 10,
   "metadata": {},
   "outputs": [
    {
     "ename": "KeyboardInterrupt",
     "evalue": "",
     "output_type": "error",
     "traceback": [
      "\u001B[0;31m---------------------------------------------------------------------------\u001B[0m",
      "\u001B[0;31mKeyboardInterrupt\u001B[0m                         Traceback (most recent call last)",
      "\u001B[1;32m/Users/glebsokolov/HeadRepo/NRepo/01.03.ipynb Cell 5'\u001B[0m in \u001B[0;36m<module>\u001B[0;34m\u001B[0m\n\u001B[1;32m      <a href='vscode-notebook-cell:/Users/glebsokolov/HeadRepo/NRepo/01.03.ipynb#ch0000004?line=1'>2</a>\u001B[0m temp \u001B[39m=\u001B[39m \u001B[39mlist\u001B[39m(\u001B[39mmap\u001B[39m(\u001B[39mint\u001B[39m, lst\u001B[39m.\u001B[39msplit(\u001B[39m'\u001B[39m\u001B[39m,\u001B[39m\u001B[39m'\u001B[39m)))\n\u001B[1;32m      <a href='vscode-notebook-cell:/Users/glebsokolov/HeadRepo/NRepo/01.03.ipynb#ch0000004?line=2'>3</a>\u001B[0m \u001B[39mmax\u001B[39m \u001B[39m=\u001B[39m \u001B[39m0\u001B[39m\n\u001B[0;32m----> <a href='vscode-notebook-cell:/Users/glebsokolov/HeadRepo/NRepo/01.03.ipynb#ch0000004?line=3'>4</a>\u001B[0m \u001B[39mfor\u001B[39;00m i \u001B[39min\u001B[39;00m temp:\n\u001B[1;32m      <a href='vscode-notebook-cell:/Users/glebsokolov/HeadRepo/NRepo/01.03.ipynb#ch0000004?line=4'>5</a>\u001B[0m     \u001B[39mif\u001B[39;00m i \u001B[39m>\u001B[39m \u001B[39mmax\u001B[39m:\n\u001B[1;32m      <a href='vscode-notebook-cell:/Users/glebsokolov/HeadRepo/NRepo/01.03.ipynb#ch0000004?line=5'>6</a>\u001B[0m         \u001B[39mmax\u001B[39m \u001B[39m=\u001B[39m i\n",
      "\u001B[1;32m/Users/glebsokolov/HeadRepo/NRepo/01.03.ipynb Cell 5'\u001B[0m in \u001B[0;36m<module>\u001B[0;34m\u001B[0m\n\u001B[1;32m      <a href='vscode-notebook-cell:/Users/glebsokolov/HeadRepo/NRepo/01.03.ipynb#ch0000004?line=1'>2</a>\u001B[0m temp \u001B[39m=\u001B[39m \u001B[39mlist\u001B[39m(\u001B[39mmap\u001B[39m(\u001B[39mint\u001B[39m, lst\u001B[39m.\u001B[39msplit(\u001B[39m'\u001B[39m\u001B[39m,\u001B[39m\u001B[39m'\u001B[39m)))\n\u001B[1;32m      <a href='vscode-notebook-cell:/Users/glebsokolov/HeadRepo/NRepo/01.03.ipynb#ch0000004?line=2'>3</a>\u001B[0m \u001B[39mmax\u001B[39m \u001B[39m=\u001B[39m \u001B[39m0\u001B[39m\n\u001B[0;32m----> <a href='vscode-notebook-cell:/Users/glebsokolov/HeadRepo/NRepo/01.03.ipynb#ch0000004?line=3'>4</a>\u001B[0m \u001B[39mfor\u001B[39;00m i \u001B[39min\u001B[39;00m temp:\n\u001B[1;32m      <a href='vscode-notebook-cell:/Users/glebsokolov/HeadRepo/NRepo/01.03.ipynb#ch0000004?line=4'>5</a>\u001B[0m     \u001B[39mif\u001B[39;00m i \u001B[39m>\u001B[39m \u001B[39mmax\u001B[39m:\n\u001B[1;32m      <a href='vscode-notebook-cell:/Users/glebsokolov/HeadRepo/NRepo/01.03.ipynb#ch0000004?line=5'>6</a>\u001B[0m         \u001B[39mmax\u001B[39m \u001B[39m=\u001B[39m i\n",
      "File \u001B[0;32m_pydevd_bundle/pydevd_cython.pyx:1363\u001B[0m, in \u001B[0;36m_pydevd_bundle.pydevd_cython.SafeCallWrapper.__call__\u001B[0;34m()\u001B[0m\n",
      "File \u001B[0;32m_pydevd_bundle/pydevd_cython.pyx:662\u001B[0m, in \u001B[0;36m_pydevd_bundle.pydevd_cython.PyDBFrame.trace_dispatch\u001B[0;34m()\u001B[0m\n",
      "File \u001B[0;32m_pydevd_bundle/pydevd_cython.pyx:1288\u001B[0m, in \u001B[0;36m_pydevd_bundle.pydevd_cython.PyDBFrame.trace_dispatch\u001B[0;34m()\u001B[0m\n",
      "File \u001B[0;32m_pydevd_bundle/pydevd_cython.pyx:1250\u001B[0m, in \u001B[0;36m_pydevd_bundle.pydevd_cython.PyDBFrame.trace_dispatch\u001B[0;34m()\u001B[0m\n",
      "File \u001B[0;32m_pydevd_bundle/pydevd_cython.pyx:297\u001B[0m, in \u001B[0;36m_pydevd_bundle.pydevd_cython.PyDBFrame.do_wait_suspend\u001B[0;34m()\u001B[0m\n",
      "File \u001B[0;32m~/.local/share/virtualenvs/glebsokolov-qQcMW7DI/lib/python3.9/site-packages/debugpy/_vendored/pydevd/pydevd.py:1976\u001B[0m, in \u001B[0;36mPyDB.do_wait_suspend\u001B[0;34m(self, thread, frame, event, arg, exception_type)\u001B[0m\n\u001B[1;32m   <a href='file:///~/.local/share/virtualenvs/glebsokolov-qQcMW7DI/lib/python3.9/site-packages/debugpy/_vendored/pydevd/pydevd.py?line=1972'>1973</a>\u001B[0m             from_this_thread\u001B[39m.\u001B[39mappend(frame_custom_thread_id)\n\u001B[1;32m   <a href='file:///~/.local/share/virtualenvs/glebsokolov-qQcMW7DI/lib/python3.9/site-packages/debugpy/_vendored/pydevd/pydevd.py?line=1974'>1975</a>\u001B[0m     \u001B[39mwith\u001B[39;00m \u001B[39mself\u001B[39m\u001B[39m.\u001B[39m_threads_suspended_single_notification\u001B[39m.\u001B[39mnotify_thread_suspended(thread_id, stop_reason):\n\u001B[0;32m-> <a href='file:///~/.local/share/virtualenvs/glebsokolov-qQcMW7DI/lib/python3.9/site-packages/debugpy/_vendored/pydevd/pydevd.py?line=1975'>1976</a>\u001B[0m         keep_suspended \u001B[39m=\u001B[39m \u001B[39mself\u001B[39;49m\u001B[39m.\u001B[39;49m_do_wait_suspend(thread, frame, event, arg, suspend_type, from_this_thread, frames_tracker)\n\u001B[1;32m   <a href='file:///~/.local/share/virtualenvs/glebsokolov-qQcMW7DI/lib/python3.9/site-packages/debugpy/_vendored/pydevd/pydevd.py?line=1977'>1978</a>\u001B[0m frames_list \u001B[39m=\u001B[39m \u001B[39mNone\u001B[39;00m\n\u001B[1;32m   <a href='file:///~/.local/share/virtualenvs/glebsokolov-qQcMW7DI/lib/python3.9/site-packages/debugpy/_vendored/pydevd/pydevd.py?line=1979'>1980</a>\u001B[0m \u001B[39mif\u001B[39;00m keep_suspended:\n\u001B[1;32m   <a href='file:///~/.local/share/virtualenvs/glebsokolov-qQcMW7DI/lib/python3.9/site-packages/debugpy/_vendored/pydevd/pydevd.py?line=1980'>1981</a>\u001B[0m     \u001B[39m# This means that we should pause again after a set next statement.\u001B[39;00m\n",
      "File \u001B[0;32m~/.local/share/virtualenvs/glebsokolov-qQcMW7DI/lib/python3.9/site-packages/debugpy/_vendored/pydevd/pydevd.py:2011\u001B[0m, in \u001B[0;36mPyDB._do_wait_suspend\u001B[0;34m(self, thread, frame, event, arg, suspend_type, from_this_thread, frames_tracker)\u001B[0m\n\u001B[1;32m   <a href='file:///~/.local/share/virtualenvs/glebsokolov-qQcMW7DI/lib/python3.9/site-packages/debugpy/_vendored/pydevd/pydevd.py?line=2007'>2008</a>\u001B[0m         \u001B[39mself\u001B[39m\u001B[39m.\u001B[39m_call_mpl_hook()\n\u001B[1;32m   <a href='file:///~/.local/share/virtualenvs/glebsokolov-qQcMW7DI/lib/python3.9/site-packages/debugpy/_vendored/pydevd/pydevd.py?line=2009'>2010</a>\u001B[0m     \u001B[39mself\u001B[39m\u001B[39m.\u001B[39mprocess_internal_commands()\n\u001B[0;32m-> <a href='file:///~/.local/share/virtualenvs/glebsokolov-qQcMW7DI/lib/python3.9/site-packages/debugpy/_vendored/pydevd/pydevd.py?line=2010'>2011</a>\u001B[0m     time\u001B[39m.\u001B[39;49msleep(\u001B[39m0.01\u001B[39;49m)\n\u001B[1;32m   <a href='file:///~/.local/share/virtualenvs/glebsokolov-qQcMW7DI/lib/python3.9/site-packages/debugpy/_vendored/pydevd/pydevd.py?line=2012'>2013</a>\u001B[0m \u001B[39mself\u001B[39m\u001B[39m.\u001B[39mcancel_async_evaluation(get_current_thread_id(thread), \u001B[39mstr\u001B[39m(\u001B[39mid\u001B[39m(frame)))\n\u001B[1;32m   <a href='file:///~/.local/share/virtualenvs/glebsokolov-qQcMW7DI/lib/python3.9/site-packages/debugpy/_vendored/pydevd/pydevd.py?line=2014'>2015</a>\u001B[0m \u001B[39m# process any stepping instructions\u001B[39;00m\n",
      "\u001B[0;31mKeyboardInterrupt\u001B[0m: "
     ]
    }
   ],
   "source": [
    "lst = '1, 7, 9, 6, 12'\n",
    "temp = list(map(int, lst.split(',')))\n",
    "max = 0\n",
    "for i in temp:\n",
    "    if i > max:\n",
    "        max = i\n"
   ]
  }
 ],
 "metadata": {
  "kernelspec": {
   "display_name": "Python 3",
   "language": "python",
   "name": "python3"
  },
  "language_info": {
   "codemirror_mode": {
    "name": "ipython",
    "version": 3
   },
   "file_extension": ".py",
   "mimetype": "text/x-python",
   "name": "python",
   "nbconvert_exporter": "python",
   "pygments_lexer": "ipython3",
   "version": "3.9.2"
  }
 },
 "nbformat": 4,
 "nbformat_minor": 0
}