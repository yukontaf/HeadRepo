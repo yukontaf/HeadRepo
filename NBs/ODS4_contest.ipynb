{
 "cells": [
  {
   "cell_type": "markdown",
   "metadata": {
    "_uuid": "3f6c2bfe6b2e26c92357e896a1511195d836956e"
   },
   "source": [
    "<center>\n",
    "<img src=\"https://habrastorage.org/files/fd4/502/43d/fd450243dd604b81b9713213a247aa20.jpg\">\n",
    "    \n",
    "## [mlcourse.ai](https://mlcourse.ai) – Open Machine Learning Course \n",
    "Author: [Yury Kashnitskiy](https://yorko.github.io) (@yorko). This material is subject to the terms and conditions of the [Creative Commons CC BY-NC-SA 4.0](https://creativecommons.org/licenses/by-nc-sa/4.0/) license. Free use is permitted for any non-commercial purpose."
   ]
  },
  {
   "cell_type": "markdown",
   "metadata": {
    "_uuid": "cb01ca96934e5c83a36a2308da9645b87a9c52a0"
   },
   "source": [
    "## <center> Assignment 4. Sarcasm detection with logistic regression\n",
    "    \n",
    "We'll be using the dataset from the [paper](https://arxiv.org/abs/1704.05579) \"A Large Self-Annotated Corpus for Sarcasm\" with >1mln comments from Reddit, labeled as either sarcastic or not. A processed version can be found on Kaggle in a form of a [Kaggle Dataset](https://www.kaggle.com/danofer/sarcasm).\n",
    "\n",
    "Sarcasm detection is easy. \n",
    "<img src=\"https://habrastorage.org/webt/1f/0d/ta/1f0dtavsd14ncf17gbsy1cvoga4.jpeg\" />"
   ]
  },
  {
   "cell_type": "code",
   "execution_count": 7,
   "metadata": {
    "_uuid": "ffa03aec57ab6150f9bec0fa56cd3a5791a3e6f4",
    "execution": {
     "iopub.execute_input": "2021-09-22T20:05:20.819216Z",
     "iopub.status.busy": "2021-09-22T20:05:20.81889Z",
     "iopub.status.idle": "2021-09-22T20:05:22.268118Z",
     "shell.execute_reply": "2021-09-22T20:05:22.267127Z",
     "shell.execute_reply.started": "2021-09-22T20:05:20.819157Z"
    },
    "trusted": true
   },
   "outputs": [],
   "source": [
    "# some necessary imports\n",
    "import os\n",
    "import numpy as np\n",
    "import pandas as pd\n",
    "from sklearn.feature_extraction.text import TfidfVectorizer\n",
    "from sklearn.linear_model import LogisticRegression\n",
    "from sklearn.pipeline import Pipeline\n",
    "from sklearn.model_selection import train_test_split\n",
    "from sklearn.metrics import accuracy_score, confusion_matrix\n",
    "import seaborn as sns\n",
    "from matplotlib import pyplot as plt\n",
    "%load_ext blackcellmagic\n",
    "from loguru import logger\n",
    "import snoop"
   ]
  },
  {
   "cell_type": "code",
   "execution_count": 8,
   "metadata": {
    "_uuid": "b23e4fc7a1973d60e0c6da8bd60f3d921542a856",
    "execution": {
     "iopub.execute_input": "2021-09-22T20:05:45.675236Z",
     "iopub.status.busy": "2021-09-22T20:05:45.674869Z",
     "iopub.status.idle": "2021-09-22T20:05:54.759459Z",
     "shell.execute_reply": "2021-09-22T20:05:54.758517Z",
     "shell.execute_reply.started": "2021-09-22T20:05:45.675174Z"
    },
    "trusted": true
   },
   "outputs": [],
   "source": [
    "train_df = pd.read_csv('/Users/glebsokolov/MainDir/ODS/train-balanced-sarcasm.csv.zip')"
   ]
  },
  {
   "cell_type": "code",
   "execution_count": 9,
   "metadata": {
    "_uuid": "4dc7b3787afa46c7eb0d0e33b0c41ab9821c4a27",
    "execution": {
     "iopub.execute_input": "2021-09-22T20:05:57.108297Z",
     "iopub.status.busy": "2021-09-22T20:05:57.107979Z",
     "iopub.status.idle": "2021-09-22T20:05:57.153657Z",
     "shell.execute_reply": "2021-09-22T20:05:57.152692Z",
     "shell.execute_reply.started": "2021-09-22T20:05:57.10824Z"
    },
    "trusted": true
   },
   "outputs": [
    {
     "data": {
      "text/plain": "   label                                            comment     author  \\\n0      0                                         NC and NH.  Trumpbart   \n1      0  You do know west teams play against west teams...  Shbshb906   \n2      0  They were underdogs earlier today, but since G...   Creepeth   \n3      0  This meme isn't funny none of the \"new york ni...  icebrotha   \n4      0                    I could use one of those tools.  cush2push   \n\n            subreddit  score  ups  downs     date          created_utc  \\\n0            politics      2   -1     -1  2016-10  2016-10-16 23:55:23   \n1                 nba     -4   -1     -1  2016-11  2016-11-01 00:24:10   \n2                 nfl      3    3      0  2016-09  2016-09-22 21:45:37   \n3  BlackPeopleTwitter     -8   -1     -1  2016-10  2016-10-18 21:03:47   \n4  MaddenUltimateTeam      6   -1     -1  2016-12  2016-12-30 17:00:13   \n\n                                      parent_comment  \n0  Yeah, I get that argument. At this point, I'd ...  \n1  The blazers and Mavericks (The wests 5 and 6 s...  \n2                            They're favored to win.  \n3                         deadass don't kill my buzz  \n4  Yep can confirm I saw the tool they use for th...  ",
      "text/html": "<div>\n<style scoped>\n    .dataframe tbody tr th:only-of-type {\n        vertical-align: middle;\n    }\n\n    .dataframe tbody tr th {\n        vertical-align: top;\n    }\n\n    .dataframe thead th {\n        text-align: right;\n    }\n</style>\n<table border=\"1\" class=\"dataframe\">\n  <thead>\n    <tr style=\"text-align: right;\">\n      <th></th>\n      <th>label</th>\n      <th>comment</th>\n      <th>author</th>\n      <th>subreddit</th>\n      <th>score</th>\n      <th>ups</th>\n      <th>downs</th>\n      <th>date</th>\n      <th>created_utc</th>\n      <th>parent_comment</th>\n    </tr>\n  </thead>\n  <tbody>\n    <tr>\n      <th>0</th>\n      <td>0</td>\n      <td>NC and NH.</td>\n      <td>Trumpbart</td>\n      <td>politics</td>\n      <td>2</td>\n      <td>-1</td>\n      <td>-1</td>\n      <td>2016-10</td>\n      <td>2016-10-16 23:55:23</td>\n      <td>Yeah, I get that argument. At this point, I'd ...</td>\n    </tr>\n    <tr>\n      <th>1</th>\n      <td>0</td>\n      <td>You do know west teams play against west teams...</td>\n      <td>Shbshb906</td>\n      <td>nba</td>\n      <td>-4</td>\n      <td>-1</td>\n      <td>-1</td>\n      <td>2016-11</td>\n      <td>2016-11-01 00:24:10</td>\n      <td>The blazers and Mavericks (The wests 5 and 6 s...</td>\n    </tr>\n    <tr>\n      <th>2</th>\n      <td>0</td>\n      <td>They were underdogs earlier today, but since G...</td>\n      <td>Creepeth</td>\n      <td>nfl</td>\n      <td>3</td>\n      <td>3</td>\n      <td>0</td>\n      <td>2016-09</td>\n      <td>2016-09-22 21:45:37</td>\n      <td>They're favored to win.</td>\n    </tr>\n    <tr>\n      <th>3</th>\n      <td>0</td>\n      <td>This meme isn't funny none of the \"new york ni...</td>\n      <td>icebrotha</td>\n      <td>BlackPeopleTwitter</td>\n      <td>-8</td>\n      <td>-1</td>\n      <td>-1</td>\n      <td>2016-10</td>\n      <td>2016-10-18 21:03:47</td>\n      <td>deadass don't kill my buzz</td>\n    </tr>\n    <tr>\n      <th>4</th>\n      <td>0</td>\n      <td>I could use one of those tools.</td>\n      <td>cush2push</td>\n      <td>MaddenUltimateTeam</td>\n      <td>6</td>\n      <td>-1</td>\n      <td>-1</td>\n      <td>2016-12</td>\n      <td>2016-12-30 17:00:13</td>\n      <td>Yep can confirm I saw the tool they use for th...</td>\n    </tr>\n  </tbody>\n</table>\n</div>"
     },
     "execution_count": 9,
     "metadata": {},
     "output_type": "execute_result"
    }
   ],
   "source": [
    "train_df.head()"
   ]
  },
  {
   "cell_type": "code",
   "execution_count": 10,
   "metadata": {},
   "outputs": [
    {
     "data": {
      "text/plain": "'You do know west teams play against west teams more than east teams right?'"
     },
     "execution_count": 10,
     "metadata": {},
     "output_type": "execute_result"
    }
   ],
   "source": [
    "train_df.iloc[1, 1]"
   ]
  },
  {
   "cell_type": "code",
   "execution_count": 11,
   "metadata": {
    "_uuid": "0a7ed9557943806c6813ad59c3d5ebdb403ffd78",
    "execution": {
     "iopub.execute_input": "2021-09-22T20:06:01.549199Z",
     "iopub.status.busy": "2021-09-22T20:06:01.548838Z",
     "iopub.status.idle": "2021-09-22T20:06:02.343737Z",
     "shell.execute_reply": "2021-09-22T20:06:02.342916Z",
     "shell.execute_reply.started": "2021-09-22T20:06:01.549149Z"
    },
    "trusted": true
   },
   "outputs": [
    {
     "name": "stdout",
     "output_type": "stream",
     "text": [
      "<class 'pandas.core.frame.DataFrame'>\n",
      "RangeIndex: 1010826 entries, 0 to 1010825\n",
      "Data columns (total 10 columns):\n",
      " #   Column          Non-Null Count    Dtype \n",
      "---  ------          --------------    ----- \n",
      " 0   label           1010826 non-null  int64 \n",
      " 1   comment         1010773 non-null  object\n",
      " 2   author          1010826 non-null  object\n",
      " 3   subreddit       1010826 non-null  object\n",
      " 4   score           1010826 non-null  int64 \n",
      " 5   ups             1010826 non-null  int64 \n",
      " 6   downs           1010826 non-null  int64 \n",
      " 7   date            1010826 non-null  object\n",
      " 8   created_utc     1010826 non-null  object\n",
      " 9   parent_comment  1010826 non-null  object\n",
      "dtypes: int64(4), object(6)\n",
      "memory usage: 77.1+ MB\n"
     ]
    }
   ],
   "source": [
    "train_df.info()"
   ]
  },
  {
   "cell_type": "markdown",
   "metadata": {
    "_uuid": "6472f52fb5ecb8bb2a6e3b292678a2042fcfe34c"
   },
   "source": [
    "Some comments are missing, so we drop the corresponding rows."
   ]
  },
  {
   "cell_type": "code",
   "execution_count": 12,
   "metadata": {},
   "outputs": [
    {
     "data": {
      "text/plain": "'wow it is totally unreasonable to assume that the agency that covered up Bush war crimes because \"muh republican party\" would be partisan as fuck'"
     },
     "execution_count": 12,
     "metadata": {},
     "output_type": "execute_result"
    }
   ],
   "source": [
    "train_df[train_df['label']==1].iloc[1,1]"
   ]
  },
  {
   "cell_type": "code",
   "execution_count": 13,
   "metadata": {
    "_uuid": "97b2d85627fcde52a506dbdd55d4d6e4c87d3f08",
    "execution": {
     "iopub.execute_input": "2021-09-22T20:06:22.741214Z",
     "iopub.status.busy": "2021-09-22T20:06:22.74074Z",
     "iopub.status.idle": "2021-09-22T20:06:23.102818Z",
     "shell.execute_reply": "2021-09-22T20:06:23.101932Z",
     "shell.execute_reply.started": "2021-09-22T20:06:22.741148Z"
    },
    "trusted": true
   },
   "outputs": [],
   "source": [
    "train_df.dropna(subset=['comment'], inplace=True)"
   ]
  },
  {
   "cell_type": "markdown",
   "metadata": {
    "_uuid": "9d51637ee70dca7693737ad0da1dbb8c6ce9230b"
   },
   "source": [
    "We notice that the dataset is indeed balanced"
   ]
  },
  {
   "cell_type": "code",
   "execution_count": 14,
   "metadata": {
    "_uuid": "addd77c640423d30fd146c8d3a012d3c14481e11",
    "execution": {
     "iopub.execute_input": "2021-09-22T20:06:34.332184Z",
     "iopub.status.busy": "2021-09-22T20:06:34.331897Z",
     "iopub.status.idle": "2021-09-22T20:06:34.352641Z",
     "shell.execute_reply": "2021-09-22T20:06:34.351681Z",
     "shell.execute_reply.started": "2021-09-22T20:06:34.332137Z"
    },
    "trusted": true
   },
   "outputs": [
    {
     "data": {
      "text/plain": "0    505405\n1    505368\nName: label, dtype: int64"
     },
     "execution_count": 14,
     "metadata": {},
     "output_type": "execute_result"
    }
   ],
   "source": [
    "train_df['label'].value_counts()"
   ]
  },
  {
   "cell_type": "markdown",
   "metadata": {
    "_uuid": "5b836574e5093c5eb2e9063fefe1c8d198dcba79"
   },
   "source": [
    "We split data into training and validation parts."
   ]
  },
  {
   "cell_type": "code",
   "execution_count": 15,
   "metadata": {
    "_uuid": "c200add4e1dcbaa75164bbcc73b9c12ecb863c96",
    "execution": {
     "iopub.execute_input": "2021-09-22T20:06:38.611535Z",
     "iopub.status.busy": "2021-09-22T20:06:38.611071Z",
     "iopub.status.idle": "2021-09-22T20:06:38.882611Z",
     "shell.execute_reply": "2021-09-22T20:06:38.881638Z",
     "shell.execute_reply.started": "2021-09-22T20:06:38.611494Z"
    },
    "trusted": true
   },
   "outputs": [],
   "source": [
    "train_texts, valid_texts, y_train, y_valid = \\\n",
    "        train_test_split(train_df['comment'], train_df['label'], random_state=17)"
   ]
  },
  {
   "cell_type": "code",
   "execution_count": 16,
   "metadata": {},
   "outputs": [],
   "source": [
    "from collections import defaultdict"
   ]
  },
  {
   "cell_type": "code",
   "execution_count": 17,
   "metadata": {},
   "outputs": [],
   "source": [
    "def generate_ngrams(text, n_gram=1):\n",
    "    token = [token for token in text.lower().split(\" \") if token != \"\"]\n",
    "    ngrams = zip(*[token[i:] for i in range(n_gram)])\n",
    "    return [\" \".join(ngram) for ngram in ngrams]"
   ]
  },
  {
   "cell_type": "code",
   "execution_count": 18,
   "metadata": {},
   "outputs": [],
   "source": [
    "def sarcasm_word_count():\n",
    "    wc = defaultdict(int)\n",
    "    sarcasms = train_df[train_df['label']==1]\n",
    "    for comment in sarcasms['comment']:\n",
    "        for word in generate_ngrams(comment):\n",
    "            wc[word] += 1\n",
    "    return wc"
   ]
  },
  {
   "cell_type": "code",
   "execution_count": 19,
   "metadata": {},
   "outputs": [],
   "source": [
    "sc = sarcasm_word_count()"
   ]
  },
  {
   "cell_type": "markdown",
   "metadata": {
    "_uuid": "7f0f47b98e49a185cd5cffe19fcbe28409bf00c0"
   },
   "source": [
    "## Tasks:\n",
    "1. Analyze the dataset, make some plots. This [Kernel](https://www.kaggle.com/sudalairajkumar/simple-exploration-notebook-qiqc) might serve as an example\n",
    "2. Build a Tf-Idf + logistic regression pipeline to predict sarcasm (`label`) based on the text of a comment on Reddit (`comment`).\n",
    "3. Plot the words/bigrams which a most predictive of sarcasm (you can use [eli5](https://github.com/TeamHG-Memex/eli5) for that)\n",
    "4. (optionally) add subreddits as new features to improve model performance. Apply here the Bag of Words approach, i.e. treat each subreddit as a new feature.\n",
    "\n",
    "## Links:\n",
    "  - Machine learning library [Scikit-learn](https://scikit-learn.org/stable/index.html) (a.k.a. sklearn)\n",
    "  - Kernels on [logistic regression](https://www.kaggle.com/kashnitsky/topic-4-linear-models-part-2-classification) and its applications to [text classification](https://www.kaggle.com/kashnitsky/topic-4-linear-models-part-4-more-of-logit), also a [Kernel](https://www.kaggle.com/kashnitsky/topic-6-feature-engineering-and-feature-selection) on feature engineering and feature selection\n",
    "  - [Kaggle Kernel](https://www.kaggle.com/abhishek/approaching-almost-any-nlp-problem-on-kaggle) \"Approaching (Almost) Any NLP Problem on Kaggle\"\n",
    "  - [ELI5](https://github.com/TeamHG-Memex/eli5) to explain model predictions"
   ]
  },
  {
   "cell_type": "code",
   "execution_count": 16,
   "outputs": [
    {
     "data": {
      "text/plain": "1010773"
     },
     "execution_count": 16,
     "metadata": {},
     "output_type": "execute_result"
    }
   ],
   "source": [
    "len(train_df)"
   ],
   "metadata": {
    "collapsed": false,
    "pycharm": {
     "name": "#%%\n"
    }
   }
  },
  {
   "cell_type": "code",
   "execution_count": 20,
   "outputs": [
    {
     "data": {
      "text/plain": "defaultdict(int,\n            {'but': 39736,\n             \"they'll\": 970,\n             'have': 33627,\n             'all': 29217,\n             'those': 10120,\n             'reviews!': 4,\n             'wow': 2838,\n             'it': 46099,\n             'is': 75109,\n             'totally': 7569,\n             'unreasonable': 52,\n             'to': 117654,\n             'assume': 597,\n             'that': 63402,\n             'the': 189639,\n             'agency': 83,\n             'covered': 161,\n             'up': 9936,\n             'bush': 248,\n             'war': 1263,\n             'crimes': 189,\n             'because': 36794,\n             '\"muh': 14,\n             'republican': 397,\n             'party\"': 4,\n             'would': 15474,\n             'be': 36430,\n             'partisan': 27,\n             'as': 18324,\n             'fuck': 4505,\n             'ho': 37,\n             'ho...': 2,\n             'melania': 14,\n             'said': 2925,\n             'there': 8773,\n             'no': 19517,\n             'way': 6463,\n             'could': 6870,\n             'happened': 955,\n             'she': 6920,\n             \"didn't\": 7538,\n             'know': 11731,\n             'woman!': 51,\n             'i': 69999,\n             \"can't\": 10475,\n             'wait': 2570,\n             'until': 1826,\n             '@potus': 2,\n             'starts': 226,\n             'a': 116423,\n             'twitter': 247,\n             'against': 2803,\n             'morning': 144,\n             'joe.': 11,\n             'gotta': 1530,\n             'love': 3695,\n             'teachers': 156,\n             'who': 11711,\n             'give': 3434,\n             'exams': 12,\n             'on': 29968,\n             'day': 1963,\n             'after': 3893,\n             'halloween': 53,\n             'hoiberg': 2,\n             '\"great': 12,\n             'players\",': 1,\n             'not': 28416,\n             'dwight': 40,\n             'oh,': 1561,\n             'never': 8414,\n             'realized': 168,\n             'was': 23723,\n             'so': 35261,\n             'easy,': 171,\n             'why': 11659,\n             'had': 6111,\n             'i,': 176,\n             'and': 84762,\n             'every': 5199,\n             'other': 5489,\n             'lonely': 29,\n             'person': 2307,\n             'earth': 525,\n             'thought': 4543,\n             'of': 70748,\n             'before?': 55,\n             'exactly,': 214,\n             'reason': 1735,\n             'whatsoever.': 86,\n             'hank': 15,\n             'great': 5570,\n             'time': 6234,\n             'in': 51832,\n             'legends': 106,\n             'tomorrow.': 28,\n             'remember': 1257,\n             'reading': 526,\n             'stories': 160,\n             'news': 1107,\n             'about': 14781,\n             'riot': 533,\n             'police': 1358,\n             'marching': 19,\n             'into': 4799,\n             'volvo': 53,\n             'head': 767,\n             'offices': 23,\n             'with': 27160,\n             'truncheons': 1,\n             'beating': 213,\n             'designers': 29,\n             'they': 35028,\n             'invented': 338,\n             'seatbelt.': 3,\n             'watch': 1412,\n             'get': 16899,\n             'heaven': 123,\n             'son,': 43,\n             \"that's\": 14657,\n             'stealing': 350,\n             ':(': 488,\n             'yeah,': 16386,\n             'kids': 1771,\n             'eat': 779,\n             'peanuts': 11,\n             'without': 2662,\n             'dying': 334,\n             'or': 12501,\n             'milk': 124,\n             'diarrhea,': 3,\n             'rare': 207,\n             'kid': 858,\n             'gluten': 58,\n             'problems,': 47,\n             'should': 14016,\n             'just': 32492,\n             'stay': 659,\n             'at': 18148,\n             'home': 824,\n             'like': 25030,\n             'deserve.': 15,\n             'dude': 1684,\n             'you': 84806,\n             'heard': 1859,\n             'lions': 60,\n             'legend': 117,\n             'armbrisster?': 1,\n             'mean': 5268,\n             'if': 23485,\n             'guys': 3135,\n             'still': 4057,\n             \"don't\": 20761,\n             'understand': 1470,\n             'what': 19239,\n             'did': 5521,\n             'him': 7002,\n             'then': 7732,\n             'think': 9210,\n             \"you'll\": 1055,\n             'ever': 4221,\n             'it.': 3604,\n             'how': 15921,\n             'marcos': 8,\n             'rojo?': 1,\n             'no,': 5010,\n             'galio': 8,\n             'stacks': 31,\n             'magic': 313,\n             'resistance': 49,\n             'ryze': 19,\n             'deals': 95,\n             'mana': 183,\n             'damage': 597,\n             'language,': 40,\n             'cap...': 2,\n             'such': 4623,\n             'hypocrite': 24,\n             'damn,': 440,\n             'samsung': 134,\n             'made': 3285,\n             'vrms': 1,\n             'aswell': 37,\n             'juno': 6,\n             'needs': 2682,\n             'buff...': 3,\n             'sucks.': 84,\n             'man,': 2943,\n             'sounds': 3050,\n             'terrifying!': 2,\n             'president': 732,\n             'big': 2592,\n             'deal!': 63,\n             'white': 4864,\n             'fuckin': 254,\n             'male': 996,\n             'out': 11343,\n             'destroy': 362,\n             '2': 2460,\n             'strong,': 42,\n             'independent': 131,\n             'women': 4005,\n             'want': 6513,\n             'help': 1643,\n             'america.': 223,\n             'sweet,': 100,\n             'tax': 775,\n             'cuts': 124,\n             'coming': 1276,\n             'soon!': 52,\n             'know,': 1760,\n             'being': 7695,\n             'relationship': 276,\n             'means': 2326,\n             'put': 3732,\n             'their': 14064,\n             'broke': 229,\n             'ass': 776,\n             'time?': 149,\n             'yea': 2059,\n             \"isn't\": 5831,\n             'demeaning': 13,\n             'all...': 198,\n             'charge': 385,\n             'super': 1700,\n             'fast!': 22,\n             'cause': 3045,\n             'kobbe': 1,\n             'much': 6723,\n             'better': 6872,\n             'might': 2561,\n             'dropped': 2404,\n             'this:': 1202,\n             \"i'm\": 14417,\n             'going': 6039,\n             'subsist': 2,\n             'g': 70,\n             'fuel': 164,\n             'weekend.': 25,\n             'vayne': 28,\n             'yes,': 7714,\n             \"switzerland's\": 1,\n             'black': 3486,\n             'ops': 117,\n             'are': 36449,\n             'pulling': 168,\n             'off': 3932,\n             'special': 588,\n             'operations': 37,\n             'around': 2176,\n             'world': 2948,\n             'protect': 545,\n             'its': 7071,\n             'citizens': 299,\n             'high': 1597,\n             'standard': 280,\n             'living.': 24,\n             'hillary': 1002,\n             'clinton': 567,\n             'saint': 52,\n             'anyone': 2099,\n             'from': 12558,\n             'nj': 24,\n             'save': 880,\n             'our': 6467,\n             'children': 1058,\n             'dangers': 23,\n             'text': 299,\n             'screen': 325,\n             'rhythm': 12,\n             'game': 6302,\n             'sec': 227,\n             'wins': 335,\n             'count': 704,\n             'twice': 265,\n             'committee': 54,\n             'ahh,': 68,\n             'glorious': 283,\n             'american': 1502,\n             'cuisine.': 5,\n             'im': 1303,\n             'more': 12391,\n             'curious': 40,\n             'coffee': 182,\n             'burnt': 46,\n             'stops': 116,\n             'funny': 1241,\n             'guys.': 219,\n             'society': 554,\n             'tells': 257,\n             'them': 10149,\n             \"they're\": 5967,\n             'cool.': 181,\n             'damn': 2221,\n             'karma': 508,\n             'whores': 49,\n             'teams': 705,\n             'perpetually': 6,\n             'keep': 2574,\n             'us': 5844,\n             'power': 1199,\n             'play': 3871,\n             'shut': 856,\n             'time!': 322,\n             'spoiled,': 6,\n             'corrupt,': 16,\n             'tax-dodging,': 1,\n             'draft-dodging,': 1,\n             'groping,': 1,\n             'lying,': 34,\n             'alleged': 24,\n             'child': 856,\n             'rapist': 146,\n             'can': 16888,\n             'president.': 133,\n             'offer!': 11,\n             \"it's\": 28669,\n             'her': 5784,\n             'turn,': 18,\n             'plus': 328,\n             'woman': 1437,\n             'president!': 68,\n             'tables': 30,\n             'turned...,': 1,\n             'stop': 3692,\n             'trying': 2491,\n             'one': 11954,\n             'everyone': 6010,\n             'he': 27289,\n             'probably': 4094,\n             'read': 1484,\n             'illegal': 650,\n             'only': 15427,\n             'media': 863,\n             'see': 7896,\n             'them,': 677,\n             'duh.': 543,\n             'we': 24746,\n             'hanzo': 46,\n             'original': 911,\n             'clearly': 5983,\n             'first': 3301,\n             'japanese': 278,\n             'bow': 93,\n             'character': 558,\n             'this': 32613,\n             'been': 5942,\n             'prevented': 72,\n             'under': 1036,\n             '2k': 66,\n             'post': 2320,\n             'guy': 3898,\n             '*expert*': 14,\n             'deserve': 909,\n             'execution!': 4,\n             'wi-fi': 12,\n             'making': 2384,\n             'say': 3941,\n             'things': 2774,\n             'very': 3102,\n             'nice': 3088,\n             'thing': 5196,\n             'susan': 12,\n             'sarandon': 2,\n             'yeah': 15053,\n             'dude,': 1043,\n             'approach': 79,\n             'random': 634,\n             'people': 17996,\n             'your': 21900,\n             'college': 552,\n             'an': 14767,\n             'idiot,': 52,\n             'relationships': 92,\n             'formed.': 2,\n             're-signed.': 1,\n             \"he's\": 8076,\n             'bringing': 260,\n             'jobs': 759,\n             'back': 4106,\n             'america!': 110,\n             'were': 7030,\n             'pro,': 22,\n             \"i'd\": 1523,\n             'practice': 213,\n             '16': 227,\n             'hours': 719,\n             'for': 46047,\n             '5': 1437,\n             'years': 2461,\n             'straight,': 48,\n             'especially': 714,\n             'single': 1151,\n             'handedly': 29,\n             'throwing': 333,\n             'championship': 142,\n             'away': 1600,\n             'carried': 132,\n             'group': 537,\n             'stage.': 17,\n             'snowbowl': 1,\n             'opening': 139,\n             '9': 312,\n             'days!': 46,\n             \"you're\": 10963,\n             'druid': 29,\n             'master': 515,\n             'race.': 137,\n             'god': 3061,\n             'forbid': 249,\n             'jesse': 29,\n             'look': 4094,\n             'his': 12244,\n             'fans': 950,\n             'by': 10420,\n             'removing': 123,\n             'abusive': 67,\n             'asshole': 362,\n             'disturbing': 21,\n             'experience': 617,\n             'rest': 955,\n             'crowd.': 25,\n             'isnt': 415,\n             'islamistan?': 1,\n             'haha': 750,\n             'yes': 3832,\n             'least': 3034,\n             'now!': 393,\n             'rnc': 12,\n             'burned': 94,\n             'down': 3417,\n             'own': 2282,\n             'headquarters': 11,\n             'charlotte.': 3,\n             'cringelord...': 1,\n             'ooh,': 52,\n             'got': 5605,\n             'him!': 348,\n             'fun.': 275,\n             'nasa': 96,\n             'wastes': 15,\n             'taxpayer': 59,\n             'dollars': 472,\n             'lavish': 2,\n             'parties': 270,\n             'billionaires...': 1,\n             '11!': 6,\n             'anecdotes': 22,\n             'anything': 3164,\n             'gay/trans': 1,\n             'evil': 1129,\n             \"isn't,\": 30,\n             'talking': 1919,\n             'about?': 143,\n             'heathens': 37,\n             'deserved': 289,\n             'right,': 2962,\n             'filmed': 51,\n             'kissing': 42,\n             'has': 11919,\n             'liked': 259,\n             \"would've\": 444,\n             'yelled': 18,\n             'at/fired': 1,\n             'boss...': 5,\n             'some': 6510,\n             'sjw': 192,\n             'getting': 3111,\n             '#triggered...': 1,\n             'believe': 1972,\n             'insensitive': 77,\n             'distress,': 2,\n             'smh.': 21,\n             'enjoyed': 91,\n             'it!': 1223,\n             'same': 4346,\n             'few': 1463,\n             'guns': 1106,\n             'buying': 518,\n             'more.': 206,\n             'sure': 11098,\n             \"doesn't\": 6589,\n             'any': 5376,\n             'influence': 175,\n             'separating': 9,\n             'demonizing': 10,\n             'different': 1605,\n             'positive': 297,\n             'benefits': 172,\n             'past.': 56,\n             'dare': 1916,\n             'stick': 325,\n             'herself.': 27,\n             'course': 1997,\n             'lazy': 584,\n             'customers': 142,\n             'nothing': 3665,\n             'do': 13230,\n             \"wasn't\": 2156,\n             'abortion': 156,\n             'well': 12201,\n             'case...': 15,\n             'make': 9182,\n             'fun': 1909,\n             'want!': 68,\n             'most': 3083,\n             'likely': 434,\n             'will': 14295,\n             'wake': 205,\n             'tomorrow': 120,\n             '\"season': 1,\n             '4': 1436,\n             '11': 198,\n             'seconds,': 31,\n             'buckle': 7,\n             'buckaroo\"': 1,\n             'ruin': 430,\n             'day.': 335,\n             'omg,': 150,\n             'manspreading': 13,\n             'misogynist!': 31,\n             'oh': 7634,\n             'please,': 196,\n             'complete': 463,\n             'nothingburrito!': 1,\n             'metaphorical': 7,\n             '*physical*': 1,\n             'wall': 527,\n             'jfk': 22,\n             'right': 6087,\n             'when': 11943,\n             'shot.': 76,\n             'bomb': 296,\n             'king': 271,\n             'reload': 44,\n             'bombs': 133,\n             'op': 2102,\n             '*hitler': 1,\n             'bestreed': 1,\n             'den': 31,\n             'angelsaksen': 1,\n             'tenminste*': 1,\n             'pretty': 3194,\n             'malcolm': 17,\n             'already': 2361,\n             'gave': 685,\n             'solution': 430,\n             '-': 2974,\n             'move': 976,\n             'expensive': 363,\n             'suburbs': 15,\n             'brisbane': 10,\n             'fibre.': 2,\n             'lets': 1042,\n             'bring': 1087,\n             'good': 11078,\n             'ol': 68,\n             'tank': 285,\n             'meta.': 24,\n             'hey': 2111,\n             'now,': 934,\n             \"let's\": 2384,\n             'mind': 703,\n             \"what's\": 1710,\n             'important': 1389,\n             'intend': 32,\n             'it?': 1127,\n             'quite': 504,\n             'odd': 85,\n             'peanut': 49,\n             'started': 636,\n             'streaming': 79,\n             'twitch': 121,\n             'recently...': 6,\n             'picture': 775,\n             'lit': 36,\n             'fam': 83,\n             'yea,': 1369,\n             'wish': 645,\n             '1-shot': 7,\n             'musketeers': 2,\n             'well,': 4292,\n             'part': 1869,\n             \"eddie's\": 2,\n             'legacy.': 11,\n             \"they'd\": 444,\n             'voted': 382,\n             'trump.': 150,\n             'cool': 1318,\n             'looked': 355,\n             'while': 2453,\n             'loading': 77,\n             'nerfs': 46,\n             'though': 1419,\n             'maybe': 4856,\n             'whigs.': 1,\n             'maga': 27,\n             'cares!': 13,\n             'it,': 2296,\n             'now': 6500,\n             'new': 4697,\n             'name.': 132,\n             'here,': 863,\n             'chinese': 481,\n             'scamming': 19,\n             'yep,': 1051,\n             'taking': 1300,\n             'anti': 226,\n             'depressants': 1,\n             'drive.': 52,\n             'really': 8525,\n             'losing': 390,\n             'lot': 1785,\n             'respect': 482,\n             'rhony,': 1,\n             'ahem,': 17,\n             'cougars.': 1,\n             'sheree': 1,\n             'serving': 62,\n             'chicken': 146,\n             'ramen': 18,\n             'noodle': 9,\n             'soup.': 8,\n             'suburban': 22,\n             'relate': 69,\n             'trophy': 57,\n             'wife': 385,\n             'days': 867,\n             'before': 3661,\n             'election.': 71,\n             'mike': 211,\n             'huckleberry?': 1,\n             'greek': 60,\n             'my': 15852,\n             'mistake,': 52,\n             'added': 845,\n             'literally': 1996,\n             'privilege.': 201,\n             'um...,': 1,\n             'hello': 61,\n             'eide': 1,\n             'this!': 307,\n             'fix': 999,\n             'these': 4496,\n             'issues': 461,\n             'government': 2127,\n             'even': 5876,\n             'bigger!': 4,\n             'words': 535,\n             'terms': 109,\n             'up,': 470,\n             'legitimate': 211,\n             'claims.': 15,\n             'michelle': 37,\n             'drive': 660,\n             'end': 1580,\n             'childhood': 54,\n             'obesity.': 8,\n             'bitcoin': 213,\n             'dead!': 41,\n             \"aren't\": 3304,\n             'rich': 801,\n             'white,': 270,\n             'obviously': 7801,\n             'fault': 1349,\n             'lazy.': 47,\n             'knows': 2698,\n             'status': 136,\n             'sexuality,': 10,\n             'gender,': 31,\n             'race,': 99,\n             'identity': 99,\n             'regardless': 139,\n             'type': 534,\n             'duh': 641,\n             'thats': 1690,\n             'pc': 1194,\n             'online': 388,\n             'failing.': 7,\n             'sick': 579,\n             'burn,': 11,\n             'troll': 165,\n             'always': 4412,\n             'pay': 2129,\n             'tithe': 1,\n             'consider': 274,\n             'thousands': 363,\n             \"you've\": 921,\n             'given': 577,\n             'maintenance': 59,\n             'facilities.': 4,\n             'almost': 1320,\n             'parenting': 65,\n             'needed!': 9,\n             'z': 58,\n             'rank': 212,\n             'missions': 48,\n             '3': 1973,\n             'wishes': 37,\n             'dragon': 164,\n             'ball': 395,\n             'collection.': 7,\n             'missed': 804,\n             'there.': 747,\n             'proves': 294,\n             'racist': 2564,\n             'stable': 114,\n             'officer.': 17,\n             'euthanizing': 1,\n             'laptops': 21,\n             'dead': 857,\n             'pixels': 91,\n             'single,': 15,\n             'uncompressed': 16,\n             'video': 1484,\n             'file': 108,\n             'hahahahhahahahahahahahahahahahahahahahahahahahahahahahaha': 1,\n             'man': 4575,\n             'theres': 200,\n             'cheats': 76,\n             'bf1': 20,\n             'paid': 951,\n             '80%': 53,\n             'much...': 32,\n             'too': 5973,\n             'many': 2265,\n             'characters': 299,\n             'policy': 254,\n             'arms': 232,\n             'knowledge': 257,\n             'boring,': 19,\n             'right!': 230,\n             \"we're\": 2376,\n             'bots,': 9,\n             'bro.': 284,\n             'possession': 45,\n             '9/10': 17,\n             'law.': 120,\n             'buy': 2357,\n             'windows': 527,\n             'store': 351,\n             'together': 445,\n             'hopefully': 305,\n             'electric': 85,\n             'fence': 63,\n             'upgrade': 219,\n             'imagine': 684,\n             'gps': 54,\n             'spoofers': 5,\n             'valor,': 2,\n             'safer': 203,\n             'delete': 227,\n             'gyms': 19,\n             'entirely': 243,\n             'turn': 1131,\n             'mega': 89,\n             'pokestops': 10,\n             'gives': 637,\n             'coins': 87,\n             'per': 600,\n             'spin': 96,\n             'once': 1289,\n             '21': 103,\n             'hours.': 47,\n             'aside': 66,\n             'blatant': 112,\n             'misogyny,': 17,\n             'space': 631,\n             'prisons!': 7,\n             'tbf': 17,\n             'flipping': 33,\n             'water': 846,\n             'bottles': 43,\n             'does': 3511,\n             'sound': 1252,\n             'incredibly': 250,\n             'dull,': 3,\n             'unlike': 335,\n             'memes': 193,\n             'joke,': 141,\n             'tell?': 23,\n             'cannon': 57,\n             'ammo': 95,\n             'bro': 1106,\n             'learn': 789,\n             'prison,': 29,\n             'they?': 174,\n             'saying': 1889,\n             'entering': 60,\n             'gender': 558,\n             'hrc,': 1,\n             \"we've\": 530,\n             'become': 888,\n             'post-racial': 7,\n             'obama.': 125,\n             'proof': 678,\n             'ab': 29,\n             'tak': 6,\n             'chappan': 1,\n             '\"i\\'m': 122,\n             \"there's\": 3268,\n             'more\"': 6,\n             \"should've\": 663,\n             'drafted': 86,\n             'paper': 216,\n             'coworker': 10,\n             '.': 175,\n             'implying': 220,\n             'router': 20,\n             'wi-fi.': 3,\n             'god,': 409,\n             'worse': 808,\n             'acho': 3,\n             'que': 214,\n             'faltou': 6,\n             'o': 261,\n             \"'people\": 6,\n             'colored': 77,\n             \"people'\": 4,\n             'ring': 181,\n             'wood': 109,\n             'stake': 27,\n             'handy?': 1,\n             'omg': 1244,\n             'serious': 561,\n             'miss': 490,\n             'that!': 542,\n             'come': 2814,\n             'knowing': 387,\n             'feels!': 12,\n             'wow,': 2400,\n             'convinced': 173,\n             'me': 8930,\n             'bill': 412,\n             'rights': 804,\n             'british': 328,\n             'representatives': 30,\n             'elected': 238,\n             'public': 823,\n             'which': 2894,\n             'changed': 413,\n             'anytime': 55,\n             'deem': 13,\n             'necessary': 172,\n             'bad': 4405,\n             'idea': 1290,\n             'killary': 12,\n             'shillton': 1,\n             'must': 6103,\n             'controlling': 91,\n             'using': 2001,\n             'body': 736,\n             'double': 515,\n             'naive.': 2,\n             'normal': 527,\n             'equip': 15,\n             '850': 3,\n             'instead': 1652,\n             \"sephuz's\": 1,\n             'secret.': 19,\n             'difference': 529,\n             'is,': 466,\n             'android': 215,\n             'phones': 173,\n             'good.': 450,\n             'prove': 392,\n             'tbh.': 20,\n             'having': 2703,\n             'average': 430,\n             '~300+': 1,\n             'chests': 25,\n             'molten': 10,\n             'warhound': 2,\n             'makes': 4145,\n             'worthless,': 7,\n             'daily!': 6,\n             'bartenders': 6,\n             'scum': 280,\n             'it;': 16,\n             'occupational': 2,\n             'hazard!': 2,\n             'start': 1877,\n             'posting': 453,\n             'gifs': 48,\n             'quotes': 47,\n             'directly': 230,\n             'episodes': 63,\n             'humor': 123,\n             'value': 411,\n             'whatsoever!': 11,\n             \"couldn't\": 1162,\n             'win': 1617,\n             'either': 679,\n             'na': 530,\n             'kr': 26,\n             'two': 2254,\n             'actually': 3468,\n             'fought': 117,\n             'pretend': 151,\n             'exist': 574,\n             'convenient.': 14,\n             'conducting': 12,\n             'message-rape.': 1,\n             'trump': 2214,\n             'commentator': 10,\n             '2016': 243,\n             '2017,': 5,\n             'interest': 242,\n             'diablo': 44,\n             'rise': 156,\n             'necro': 13,\n             'then.': 772,\n             'six': 198,\n             'printers': 13,\n             'help?': 26,\n             'toronto': 109,\n             'putting': 577,\n             \"players'\": 19,\n             'mouths...': 2,\n             'smart!': 30,\n             'wont': 290,\n             'able': 1704,\n             'concentrate': 23,\n             'killing': 882,\n             'cleavage': 15,\n             'face.': 101,\n             'military': 580,\n             'canada?': 23,\n             'usa,': 42,\n             'probably.': 26,\n             'dismissed': 6,\n             'death': 825,\n             'threats': 93,\n             'fucking': 3311,\n             'criticism': 110,\n             'towards': 417,\n             'bs': 64,\n             'worry,': 661,\n             'inevitably': 27,\n             'topdeck': 2,\n             'nourish': 2,\n             'next': 2444,\n             'anyways': 172,\n             'comparing': 97,\n             'everything': 2569,\n             'watergate': 8,\n             'confuse': 76,\n             'muscles': 50,\n             'muscle': 88,\n             'grow': 354,\n             'places': 241,\n             'where': 3765,\n             'work': 3203,\n             'out.': 658,\n             'username': 283,\n             '\"fire-for-effect': 1,\n             'for\"': 5,\n             'fine': 981,\n             'need': 8015,\n             'service.': 59,\n             'healthy': 422,\n             'delicious.': 13,\n             '*in': 12,\n             'countries*,': 1,\n             'sets': 88,\n             'breasts': 50,\n             'revered.': 2,\n             'add': 1479,\n             'boiled': 10,\n             'honey': 52,\n             'full': 1253,\n             'effect.': 31,\n             'idk,': 79,\n             'bigger': 421,\n             'acorn?': 1,\n             '\"crazy\"': 2,\n             'anything,': 205,\n             'silence': 98,\n             'her...': 44,\n             'tim': 138,\n             'tebow': 56,\n             'reverse': 158,\n             'mile': 66,\n             '_true_': 2,\n             'race': 818,\n             'ascendants': 1,\n             'games': 2127,\n             'linux.': 22,\n             'posted': 526,\n             'before.': 477,\n             'malinis': 2,\n             'pagkakatrabaho': 1,\n             'dito': 3,\n             'kay': 14,\n             'mayor,': 4,\n             'walang': 11,\n             'kaduda': 1,\n             'dudang': 1,\n             'nanlaban': 2,\n             'hindi': 30,\n             ...})"
     },
     "execution_count": 20,
     "metadata": {},
     "output_type": "execute_result"
    }
   ],
   "source": [
    "sc\n"
   ],
   "metadata": {
    "collapsed": false,
    "pycharm": {
     "name": "#%%\n"
    }
   }
  },
  {
   "cell_type": "code",
   "execution_count": 21,
   "outputs": [
    {
     "data": {
      "text/plain": "       word  wordcount\n0       the     189639\n1        to     117654\n2         a     116423\n3       you      84806\n4       and      84762\n5        is      75109\n6        of      70748\n7         i      69999\n8      that      63402\n9        in      51832\n10       it      46099\n11      for      46047\n12      but      39736\n13  because      36794\n14      are      36449\n15       be      36430\n16       so      35261\n17     they      35028\n18     have      33627\n19     this      32613\n20     just      32492\n21       on      29968\n22      all      29217\n23     it's      28669\n24      not      28416\n25       he      27289\n26     with      27160\n27     like      25030\n28       we      24746\n29      was      23723\n30       if      23485\n31     your      21900\n32    don't      20761\n33       no      19517\n34     what      19239\n35       as      18324\n36       at      18148\n37   people      17996\n38      get      16899\n39      can      16888\n40    yeah,      16386\n41      how      15921\n42       my      15852\n43    would      15474\n44     only      15427\n45     yeah      15053\n46    about      14781\n47       an      14767\n48   that's      14657\n49      i'm      14417",
      "text/html": "<div>\n<style scoped>\n    .dataframe tbody tr th:only-of-type {\n        vertical-align: middle;\n    }\n\n    .dataframe tbody tr th {\n        vertical-align: top;\n    }\n\n    .dataframe thead th {\n        text-align: right;\n    }\n</style>\n<table border=\"1\" class=\"dataframe\">\n  <thead>\n    <tr style=\"text-align: right;\">\n      <th></th>\n      <th>word</th>\n      <th>wordcount</th>\n    </tr>\n  </thead>\n  <tbody>\n    <tr>\n      <th>0</th>\n      <td>the</td>\n      <td>189639</td>\n    </tr>\n    <tr>\n      <th>1</th>\n      <td>to</td>\n      <td>117654</td>\n    </tr>\n    <tr>\n      <th>2</th>\n      <td>a</td>\n      <td>116423</td>\n    </tr>\n    <tr>\n      <th>3</th>\n      <td>you</td>\n      <td>84806</td>\n    </tr>\n    <tr>\n      <th>4</th>\n      <td>and</td>\n      <td>84762</td>\n    </tr>\n    <tr>\n      <th>5</th>\n      <td>is</td>\n      <td>75109</td>\n    </tr>\n    <tr>\n      <th>6</th>\n      <td>of</td>\n      <td>70748</td>\n    </tr>\n    <tr>\n      <th>7</th>\n      <td>i</td>\n      <td>69999</td>\n    </tr>\n    <tr>\n      <th>8</th>\n      <td>that</td>\n      <td>63402</td>\n    </tr>\n    <tr>\n      <th>9</th>\n      <td>in</td>\n      <td>51832</td>\n    </tr>\n    <tr>\n      <th>10</th>\n      <td>it</td>\n      <td>46099</td>\n    </tr>\n    <tr>\n      <th>11</th>\n      <td>for</td>\n      <td>46047</td>\n    </tr>\n    <tr>\n      <th>12</th>\n      <td>but</td>\n      <td>39736</td>\n    </tr>\n    <tr>\n      <th>13</th>\n      <td>because</td>\n      <td>36794</td>\n    </tr>\n    <tr>\n      <th>14</th>\n      <td>are</td>\n      <td>36449</td>\n    </tr>\n    <tr>\n      <th>15</th>\n      <td>be</td>\n      <td>36430</td>\n    </tr>\n    <tr>\n      <th>16</th>\n      <td>so</td>\n      <td>35261</td>\n    </tr>\n    <tr>\n      <th>17</th>\n      <td>they</td>\n      <td>35028</td>\n    </tr>\n    <tr>\n      <th>18</th>\n      <td>have</td>\n      <td>33627</td>\n    </tr>\n    <tr>\n      <th>19</th>\n      <td>this</td>\n      <td>32613</td>\n    </tr>\n    <tr>\n      <th>20</th>\n      <td>just</td>\n      <td>32492</td>\n    </tr>\n    <tr>\n      <th>21</th>\n      <td>on</td>\n      <td>29968</td>\n    </tr>\n    <tr>\n      <th>22</th>\n      <td>all</td>\n      <td>29217</td>\n    </tr>\n    <tr>\n      <th>23</th>\n      <td>it's</td>\n      <td>28669</td>\n    </tr>\n    <tr>\n      <th>24</th>\n      <td>not</td>\n      <td>28416</td>\n    </tr>\n    <tr>\n      <th>25</th>\n      <td>he</td>\n      <td>27289</td>\n    </tr>\n    <tr>\n      <th>26</th>\n      <td>with</td>\n      <td>27160</td>\n    </tr>\n    <tr>\n      <th>27</th>\n      <td>like</td>\n      <td>25030</td>\n    </tr>\n    <tr>\n      <th>28</th>\n      <td>we</td>\n      <td>24746</td>\n    </tr>\n    <tr>\n      <th>29</th>\n      <td>was</td>\n      <td>23723</td>\n    </tr>\n    <tr>\n      <th>30</th>\n      <td>if</td>\n      <td>23485</td>\n    </tr>\n    <tr>\n      <th>31</th>\n      <td>your</td>\n      <td>21900</td>\n    </tr>\n    <tr>\n      <th>32</th>\n      <td>don't</td>\n      <td>20761</td>\n    </tr>\n    <tr>\n      <th>33</th>\n      <td>no</td>\n      <td>19517</td>\n    </tr>\n    <tr>\n      <th>34</th>\n      <td>what</td>\n      <td>19239</td>\n    </tr>\n    <tr>\n      <th>35</th>\n      <td>as</td>\n      <td>18324</td>\n    </tr>\n    <tr>\n      <th>36</th>\n      <td>at</td>\n      <td>18148</td>\n    </tr>\n    <tr>\n      <th>37</th>\n      <td>people</td>\n      <td>17996</td>\n    </tr>\n    <tr>\n      <th>38</th>\n      <td>get</td>\n      <td>16899</td>\n    </tr>\n    <tr>\n      <th>39</th>\n      <td>can</td>\n      <td>16888</td>\n    </tr>\n    <tr>\n      <th>40</th>\n      <td>yeah,</td>\n      <td>16386</td>\n    </tr>\n    <tr>\n      <th>41</th>\n      <td>how</td>\n      <td>15921</td>\n    </tr>\n    <tr>\n      <th>42</th>\n      <td>my</td>\n      <td>15852</td>\n    </tr>\n    <tr>\n      <th>43</th>\n      <td>would</td>\n      <td>15474</td>\n    </tr>\n    <tr>\n      <th>44</th>\n      <td>only</td>\n      <td>15427</td>\n    </tr>\n    <tr>\n      <th>45</th>\n      <td>yeah</td>\n      <td>15053</td>\n    </tr>\n    <tr>\n      <th>46</th>\n      <td>about</td>\n      <td>14781</td>\n    </tr>\n    <tr>\n      <th>47</th>\n      <td>an</td>\n      <td>14767</td>\n    </tr>\n    <tr>\n      <th>48</th>\n      <td>that's</td>\n      <td>14657</td>\n    </tr>\n    <tr>\n      <th>49</th>\n      <td>i'm</td>\n      <td>14417</td>\n    </tr>\n  </tbody>\n</table>\n</div>"
     },
     "execution_count": 21,
     "metadata": {},
     "output_type": "execute_result"
    }
   ],
   "source": [
    "fd_sorted = pd.DataFrame(sorted(sc.items(), key=lambda x: x[1])[::-1])\n",
    "fd_sorted.columns = [\"word\", \"wordcount\"]\n",
    "fd_sorted[:50]\n"
   ],
   "metadata": {
    "collapsed": false,
    "pycharm": {
     "name": "#%%\n"
    }
   }
  },
  {
   "cell_type": "code",
   "execution_count": null,
   "outputs": [],
   "source": [],
   "metadata": {
    "collapsed": false,
    "pycharm": {
     "name": "#%%\n"
    }
   }
  }
 ],
 "metadata": {
  "interpreter": {
   "hash": "1be9856963ee0560708bb2052661aa27357a5b7ae3c19a3b57a929c8d7be175e"
  },
  "kernelspec": {
   "name": "python3",
   "language": "python",
   "display_name": "Python 3 (ipykernel)"
  },
  "language_info": {
   "codemirror_mode": {
    "name": "ipython",
    "version": 3
   },
   "file_extension": ".py",
   "mimetype": "text/x-python",
   "name": "python",
   "nbconvert_exporter": "python",
   "pygments_lexer": "ipython3",
   "version": "3.8.11"
  }
 },
 "nbformat": 4,
 "nbformat_minor": 4
}