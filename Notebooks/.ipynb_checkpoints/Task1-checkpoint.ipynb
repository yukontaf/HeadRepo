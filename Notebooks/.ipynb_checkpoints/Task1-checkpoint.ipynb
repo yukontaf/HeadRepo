{
 "cells": [
  {
   "cell_type": "code",
   "execution_count": 67,
   "id": "developing-walker",
   "metadata": {},
   "outputs": [],
   "source": [
    "file_obj = open('sentences.txt')"
   ]
  },
  {
   "cell_type": "code",
   "execution_count": 68,
   "id": "extraordinary-spanish",
   "metadata": {},
   "outputs": [],
   "source": [
    "array = [file_obj.readline() for line in file_obj]\n",
    "   "
   ]
  },
  {
   "cell_type": "code",
   "execution_count": 70,
   "id": "solar-algebra",
   "metadata": {},
   "outputs": [],
   "source": [
    "array = [str.lower(line) for line in array]"
   ]
  },
  {
   "cell_type": "code",
   "execution_count": 73,
   "id": "hawaiian-jewel",
   "metadata": {},
   "outputs": [],
   "source": [
    "import re"
   ]
  },
  {
   "cell_type": "code",
   "execution_count": 87,
   "id": "noted-tulsa",
   "metadata": {},
   "outputs": [],
   "source": [
    "tokens = [re.split(r'[^a-z]', line) for line in array]"
   ]
  },
  {
   "cell_type": "code",
   "execution_count": null,
   "id": "incomplete-howard",
   "metadata": {},
   "outputs": [],
   "source": []
  },
  {
   "cell_type": "code",
   "execution_count": 85,
   "id": "irish-ministry",
   "metadata": {},
   "outputs": [],
   "source": [
    "tokens = [token.remove('') for token in tokens]"
   ]
  }
 ],
 "metadata": {
  "kernelspec": {
   "display_name": "Python 3",
   "language": "python",
   "name": "python3"
  },
  "language_info": {
   "codemirror_mode": {
    "name": "ipython",
    "version": 3
   },
   "file_extension": ".py",
   "mimetype": "text/x-python",
   "name": "python",
   "nbconvert_exporter": "python",
   "pygments_lexer": "ipython3",
   "version": "3.9.4"
  }
 },
 "nbformat": 4,
 "nbformat_minor": 5
}
