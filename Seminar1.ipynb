{
 "cells": [
  {
   "cell_type": "code",
   "execution_count": null,
   "metadata": {},
   "outputs": [],
   "source": [
    "#imports\n",
    "import numpy as np\n",
    "import matplotlib.pyplot as plt\n",
    "import pickle\n",
    "%matplotlib inline\n",
    "#comments are in english by obvious reasons. If someone would like to make comments, please, write in english."
   ]
  },
  {
   "cell_type": "markdown",
   "metadata": {},
   "source": [
    "# Интерполяция многочленами\n",
    "\n",
    "Пусть задана сетка интерполяции (последовательность узлов $\\{x_i\\}_{i=0}^{n-1}$ со значениями функции $f(x_i)=f_i$). Задача интерполяции(многочленами) состоит в том, чтобы найти такую функцию(многочлен) $L(x)$, что во всех узлах $L(x_i)=f(x_i)$.\n",
    "\n",
    "## Интерполяционный многочлен\n",
    "\n",
    "Есть две популярных формы записи интерполяционного многочлена: форма Лагранжа и форма Ньютона. Вторую вычислять проще, поэтому мы в этом семинаре будем пользоваться ей. Для заданной сетки интерполяции многочлен Ньютона\n",
    "$$\n",
    "L(x) = f(x_0) + f_\\Delta(x_0;x_1)(x-x_0) + ... + f_\\Delta^n(x_0;..;x_{n-1})(x-x_0)\\cdot...\\cdot(x-x_{n-2}).\n",
    "$$\n",
    "Для вычисления значения необходимо заранее вычислить коэффициенты, включающие в себя разделённые разности. Реализуем многочлен в виде класса с функцией compute(x), возвращающей значение многочлена Ньютона в точке $x$."
   ]
  },
  {
   "cell_type": "code",
   "execution_count": null,
   "metadata": {
    "collapsed": true
   },
   "outputs": [],
   "source": [
    "class NewtonPolynomial:\n",
    "    #\n",
    "    def __init__(self,xGrid,fs):\n",
    "        self.xGrid = xGrid\n",
    "        self.fs = fs\n",
    "        \n",
    "        self.ComputeCoefs(self.xGrid,self.fs)\n",
    "    \n",
    "    def ComputeDifferences(self):\n",
    "        '''\n",
    "            Computes differences f(x_0; x_1; x_2; x_3)\n",
    "        '''\n",
    "        self.diffs = [self.fs] #0th order difference\n",
    "        #self.diffs is a list of differences of varyig order\n",
    "        #self.diffs[1] is the list of differences of order 1\n",
    "\n",
    "        #higher orders\n",
    "        for i in np.arange(1,len(self.fs)):\n",
    "            \n",
    "            diff = #???\n",
    "            self.diffs = self.diffs + [diff]\n",
    "            \n",
    "        #print(self.diffs)\n",
    "        \n",
    "        \n",
    "    def ComputeCoefs(self,xs,fs):\n",
    "        '''\n",
    "            Extracts coefficients from the differences\n",
    "            Input\n",
    "            float[] xs -- argument grid (N,)\n",
    "            float[] fs -- function values (N,)\n",
    "        '''\n",
    "        self.ComputeDifferences()\n",
    "        \n",
    "        self.coefs = #??\n",
    "        \n",
    "        #print(self.coefs)\n",
    "        \n",
    "        \n",
    "    def Compute(self, x):\n",
    "        '''\n",
    "            Computes value of the interpolation at point(s) x\n",
    "            Input\n",
    "            float[] x -- (array of) points (N,) or (1,)\n",
    "        '''\n",
    "        if(x.shape[0]>1):\n",
    "            vals = np.cumprod( x[:,None] - self.xGrid[None,:], axis=-1)[:,:-1]\n",
    "        else:\n",
    "            vals = np.cumprod( x - self.xGrid[None,:], axis=-1)[:,:-1]\n",
    "            \n",
    "        #print('computing')\n",
    "        vals = #???\n",
    "        #print(vals.shape)\n",
    "        #print(self.coefs.shape)\n",
    "        #print(x)\n",
    "        \n",
    "        return vals@self.coefs #RESULT     \n",
    "            "
   ]
  },
  {
   "cell_type": "markdown",
   "metadata": {},
   "source": [
    "Протестируем."
   ]
  },
  {
   "cell_type": "code",
   "execution_count": null,
   "metadata": {
    "collapsed": true
   },
   "outputs": [],
   "source": [
    "def f(x):\n",
    "    return  np.log(5*x) - x**2 + 5*np.cos(3*x)\n",
    "\n",
    "nKnots=6\n",
    "xZero=1\n",
    "xLast=5\n",
    "xs = xZero + np.arange(nKnots)*(xLast-xZero)/(nKnots-1)\n",
    "fs = f(xs)\n",
    "\n",
    "newtPoly = NewtonPolynomial(xs,fs)"
   ]
  },
  {
   "cell_type": "code",
   "execution_count": null,
   "metadata": {},
   "outputs": [],
   "source": [
    "nKnotsDense =  600\n",
    "xDense = xZero + np.arange(nKnotsDense)*(xLast-xZero)/(nKnotsDense-1)\n",
    "interpF = newtPoly.Compute(xDense)\n",
    "print(interpF.shape, xDense.shape)\n",
    "\n",
    "fig,ax = plt.subplots(figsize=(7,7))\n",
    "\n",
    "ax.grid()\n",
    "ax.set_title('Comparison of Interpolation and Function',fontsize=16)\n",
    "ax.set_xlabel('X',fontsize=14)\n",
    "ax.tick_params(axis='both', which='major', labelsize=13)\n",
    "ax.plot(xDense,f(xDense))\n",
    "ax.scatter(xs,fs)\n",
    "\n",
    "ax.plot(xDense,interpF)\n",
    "#f(xDense)\n",
    "ax.legend(['Ground Truth','Interpolation','Knots'])"
   ]
  },
  {
   "cell_type": "markdown",
   "metadata": {},
   "source": [
    "Попробуем поменять период косинуса в выражении для функции $f$."
   ]
  },
  {
   "cell_type": "code",
   "execution_count": null,
   "metadata": {},
   "outputs": [],
   "source": [
    "def fa(x,a):\n",
    "    return  np.log(5*x) - x**2 + 5*np.cos(a*x)\n",
    "\n",
    "periods = np.array([1,3,5,10])\n",
    "\n",
    "\n",
    "\n",
    "nKnots=6\n",
    "xZero=1\n",
    "xLast=5\n",
    "xs = xZero + np.arange(nKnots)*(xLast-xZero)/(nKnots-1)\n",
    "nKnotsDense =  600\n",
    "xDense = xZero + np.arange(nKnotsDense)*(xLast-xZero)/(nKnotsDense-1)\n",
    "\n",
    "\n",
    "def runTest(periods,fa,xs,xDense):\n",
    "    \n",
    "    f,ax = plt.subplots(1,len(periods),figsize=(20,5))\n",
    "    ax=list(ax)\n",
    "    for k in np.arange(len(periods)):\n",
    "        \n",
    "        fs = fa(xs,periods[k])\n",
    "        fDense = fa(xDense,periods[k])\n",
    "        \n",
    "        newtPoly = NewtonPolynomial(xs,fs)\n",
    "        interpF = newtPoly.Compute(xDense)\n",
    "        \n",
    "        #plots\n",
    "        ax[k].grid()\n",
    "        ax[k].set_title(r'$a='\\\n",
    "                        +\"{:.2f}\".format(periods[k])+'$',fontsize=16)\n",
    "        ax[k].set_xlabel('X',fontsize=14)\n",
    "        ax[k].tick_params(axis='both', which='major', labelsize=13)\n",
    "        ax[k].plot(xDense,fa(xDense,periods[k]))\n",
    "        ax[k].scatter(xs,fs)\n",
    "\n",
    "        ax[k].plot(xDense,interpF)\n",
    "        #f(xDense)\n",
    "        ax[k].legend(['Ground Truth','Interpolation','Knots'])\n",
    "    \n",
    "    f.tight_layout(pad=1.0)\n",
    "        \n",
    "\n",
    "runTest(periods,fa,xs,xDense)"
   ]
  },
  {
   "cell_type": "markdown",
   "metadata": {},
   "source": [
    "## Интерполяция не обязательно сходится при росте числа узлов"
   ]
  },
  {
   "cell_type": "markdown",
   "metadata": {},
   "source": [
    "Рассмотрим относительно простую функцию $f(x)= |x|$, теорема об остаточном члене погрешности не работает в окрестности нуля из-за разрыва производной. Поэтому возникают проблемы."
   ]
  },
  {
   "cell_type": "code",
   "execution_count": null,
   "metadata": {},
   "outputs": [],
   "source": [
    "def f(x):\n",
    "    return np.abs(x)\n",
    "\n",
    "nKnots=7 #see what happens if it is greater  than 15!\n",
    "xZero=-2\n",
    "xLast=2\n",
    "xs = xZero + np.arange(nKnots)*(xLast-xZero)/(nKnots-1)\n",
    "fs = f(xs)\n",
    "\n",
    "newtPoly = NewtonPolynomial(xs,fs)\n",
    "\n",
    "nKnotsDense =  600\n",
    "xDense = xZero + np.arange(nKnotsDense)*(xLast-xZero)/(nKnotsDense-1)\n",
    "interpF = newtPoly.Compute(xDense)\n",
    "print(interpF.shape, xDense.shape)\n",
    "\n",
    "fig,ax = plt.subplots(figsize=(7,7))\n",
    "\n",
    "ax.grid()\n",
    "ax.set_title('Comparison of Interpolation and Function',fontsize=16)\n",
    "ax.set_xlabel('X',fontsize=14)\n",
    "ax.tick_params(axis='both', which='major', labelsize=13)\n",
    "ax.plot(xDense,f(xDense))\n",
    "ax.scatter(xs,fs)\n",
    "\n",
    "ax.plot(xDense,interpF)\n",
    "#f(xDense)\n",
    "ax.legend(['Ground Truth','Interpolation','Knots'])"
   ]
  },
  {
   "cell_type": "markdown",
   "metadata": {},
   "source": [
    "# Более практическая задача\n",
    "\n",
    "GPS считывает положение смартфона каждые 5 секунд, определяя при этом координаты (для простоты предположим, что наплоскости, а не на сфере) с точностью до 2 метров (иногда сигнал ловит лучше и получется точнее). В результате одной велопоездки были получены данные о положении велосипеда. Найдите промежуточные положения велосипедиста и вычислите приблизительно его скорость в каждой точке маршрута. Нарисуйте маршрут на плоскости с указанием скорости."
   ]
  },
  {
   "cell_type": "markdown",
   "metadata": {},
   "source": [
    "## Решение\n",
    "\n",
    "Воспользуемся уже написанными процедурами для интерполяции, чтобы уточнить маршрут. Чтобы сократить вычисления, лучше использовать кусочно-многочленную интерполяцию."
   ]
  },
  {
   "cell_type": "code",
   "execution_count": null,
   "metadata": {
    "collapsed": true
   },
   "outputs": [],
   "source": [
    "with open('./tripDataNoNoise.pkl','rb') as f:\n",
    "    dic=pickle.load(f)\n",
    "    xs=dic['xs']\n",
    "    ys=dic['ys'] \n",
    "    ts=dic['ts']\n",
    "\n",
    "f,ax = plt.subplots(figsize=(7,7))\n",
    "\n",
    "ax.grid()\n",
    "ax.plot(xs,ys)"
   ]
  },
  {
   "cell_type": "code",
   "execution_count": null,
   "metadata": {
    "collapsed": true
   },
   "outputs": [],
   "source": [
    "newtPolysX = []\n",
    "newtPolysY = []\n",
    "knots=3 #take each 5 knots\n",
    "\n",
    "\n",
    "for k in np.arange(0,len(xs),knots):\n",
    "    tGrid = np.array(ts[k:(k+knots+1)])\n",
    "    xGrid = xs[k:(k+knots+1)]\n",
    "    yGrid = ys[k:(k+knots+1)]\n",
    "    newtPolyX = NewtonPolynomial(tGrid,xGrid)\n",
    "    newtPolyY = NewtonPolynomial(tGrid,yGrid)\n",
    "    \n",
    "    newtPolysX = newtPolysX + [newtPolyX]\n",
    "    newtPolysY = newtPolysY + [newtPolyY]"
   ]
  },
  {
   "cell_type": "code",
   "execution_count": null,
   "metadata": {
    "collapsed": true
   },
   "outputs": [],
   "source": [
    "#Let's Plot!\n",
    "tDense = np.arange(0,3600)\n",
    "interpCurveX = np.zeros([len(tDense)])\n",
    "interpCurveY = np.zeros([len(tDense)])\n",
    "\n",
    "polyId=0\n",
    "for t in np.arange(len(tDense)):\n",
    "    if( tDense[t]>ts[(polyId+1)*knots]):\n",
    "        polyId=polyId+1\n",
    "        \n",
    "    #print('t',t,'polyId',polyId)\n",
    "    interpCurveX[t]= newtPolysX[polyId].Compute( np.array([tDense[t]]) )\n",
    "    interpCurveY[t]= newtPolysY[polyId].Compute( np.array([tDense[t]]) )\n",
    "        "
   ]
  },
  {
   "cell_type": "code",
   "execution_count": null,
   "metadata": {
    "collapsed": true
   },
   "outputs": [],
   "source": []
  },
  {
   "cell_type": "code",
   "execution_count": null,
   "metadata": {},
   "outputs": [],
   "source": [
    "newtPolysX[0].coefs"
   ]
  },
  {
   "cell_type": "code",
   "execution_count": null,
   "metadata": {},
   "outputs": [],
   "source": [
    "f,ax = plt.subplots(figsize=(17,17))\n",
    "\n",
    "ax.grid()\n",
    "ax.scatter(xs[:50],ys[:50])\n",
    "ax.plot(interpCurveX[:170],interpCurveY[:170])\n"
   ]
  },
  {
   "cell_type": "markdown",
   "metadata": {},
   "source": [
    "На незашумлённом интерполяция получается очень качественной. Попробуйте поэкспериментировать с уровнем шума в симуляторе."
   ]
  },
  {
   "cell_type": "code",
   "execution_count": null,
   "metadata": {
    "collapsed": true
   },
   "outputs": [],
   "source": [
    "with open('./tripData.pkl','rb') as f:\n",
    "    dic=pickle.load(f)\n",
    "    xs=dic['xs']\n",
    "    ys=dic['ys'] \n",
    "    ts=dic['ts']\n",
    "\n",
    "f,ax = plt.subplots(figsize=(7,7))\n",
    "\n",
    "ax.grid()\n",
    "ax.plot(xs,ys)"
   ]
  },
  {
   "cell_type": "code",
   "execution_count": null,
   "metadata": {
    "collapsed": true
   },
   "outputs": [],
   "source": [
    "newtPolysX = []\n",
    "newtPolysY = []\n",
    "knots=3 #take each 5 knots\n",
    "\n",
    "\n",
    "for k in np.arange(0,len(xs),knots):\n",
    "    tGrid = np.array(ts[k:(k+knots+1)])\n",
    "    xGrid = xs[k:(k+knots+1)]\n",
    "    yGrid = ys[k:(k+knots+1)]\n",
    "    newtPolyX = NewtonPolynomial(tGrid,xGrid)\n",
    "    newtPolyY = NewtonPolynomial(tGrid,yGrid)\n",
    "    \n",
    "    newtPolysX = newtPolysX + [newtPolyX]\n",
    "    newtPolysY = newtPolysY + [newtPolyY]"
   ]
  },
  {
   "cell_type": "code",
   "execution_count": null,
   "metadata": {
    "collapsed": true
   },
   "outputs": [],
   "source": [
    "#Let's Plot!\n",
    "tDense = np.arange(0,3600)\n",
    "interpCurveX = np.zeros([len(tDense)])\n",
    "interpCurveY = np.zeros([len(tDense)])\n",
    "\n",
    "polyId=0\n",
    "for t in np.arange(len(tDense)):\n",
    "    if( tDense[t]>ts[(polyId+1)*knots]):\n",
    "        polyId=polyId+1\n",
    "        \n",
    "    #print('t',t,'polyId',polyId)\n",
    "    interpCurveX[t]= newtPolysX[polyId].Compute( np.array([tDense[t]]) )\n",
    "    interpCurveY[t]= newtPolysY[polyId].Compute( np.array([tDense[t]]) )"
   ]
  },
  {
   "cell_type": "code",
   "execution_count": null,
   "metadata": {},
   "outputs": [],
   "source": [
    "f,ax = plt.subplots(figsize=(17,17))\n",
    "\n",
    "ax.grid()\n",
    "ax.scatter(xs[:50],ys[:50])\n",
    "ax.plot(interpCurveX[:170],interpCurveY[:170])\n"
   ]
  },
  {
   "cell_type": "markdown",
   "metadata": {},
   "source": [
    "## Выводы"
   ]
  },
  {
   "cell_type": "markdown",
   "metadata": {},
   "source": [
    "Интерполяция не очень хороша, когда данные зашумлены, так как шумы добавляют много в ошибку. К этой задаче мы ещё вернёмся, когда будем говорить про метод наименьших квадратов и его обобщения.\n",
    "\n",
    "Интерполяция многочленами -- самая простая и сейчас не представляет большого практического интереса, существуют и другие базисы, см. например Фурье-интерполяцию, сплайны, интерполяцию рациональными функциями."
   ]
  },
  {
   "cell_type": "code",
   "execution_count": null,
   "metadata": {
    "collapsed": true
   },
   "outputs": [],
   "source": []
  }
 ],
 "metadata": {
  "kernelspec": {
   "display_name": "Python 3",
   "language": "python",
   "name": "python3"
  },
  "language_info": {
   "codemirror_mode": {
    "name": "ipython",
    "version": 3
   },
   "file_extension": ".py",
   "mimetype": "text/x-python",
   "name": "python",
   "nbconvert_exporter": "python",
   "pygments_lexer": "ipython3",
   "version": "3.6.2"
  }
 },
 "nbformat": 4,
 "nbformat_minor": 2
}
