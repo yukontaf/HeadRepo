{
 "cells": [
  {
   "cell_type": "code",
   "execution_count": 6,
   "metadata": {},
   "outputs": [],
   "source": [
    "import os, glob, shutil\n",
    "\n",
    "# dest=os.environ['KMVAR_dest']\n",
    "dest='stats'\n",
    "search_dir = '/Users/glebsokolov/Library/Containers/com.QReader.MarginStudyMac-setapp/Data/Documents/'\n",
    "dest_stats = '/Users/glebsokolov/Library/Containers/com.QReader.MarginStudyMac-setapp/Data/Documents/1**-Data Science/Probability & Statistics/'\n",
    "\n",
    "files = list(filter(os.path.isfile, glob.glob(search_dir + \"*\")))\n",
    "\n",
    "files.sort(key=lambda x: os.path.getmtime(x))\n",
    "os.path.abspath(files[-1])\n",
    "newpath=dest_stats+os.path.basename(files[-1])\n",
    "\n",
    "if dest=='stats':\n",
    "    shutil.move(os.path.abspath(files[-1]), newpath)"
   ]
  },
  {
   "cell_type": "code",
   "execution_count": null,
   "metadata": {},
   "outputs": [],
   "source": [
    "#! /Users/glebsokolov/opt/anaconda3/bin/python\n",
    "\n",
    "import os, glob, shutil\n",
    "\n",
    "dest = os.environ[\"KMVAR_dest\"]\n",
    "search_dir = \"Users/glebsokolov/Library/Containers/com.QReader.MarginStudyMac-setapp/Data/Documents/\"\n",
    "dest_stats = \"/Users/glebsokolov/Library/Containers/com.QReader.MarginStudyMac-setapp/Data/Documents/1**-Data Science/Probability & Statistics/\"\n",
    "dest_python = \"/Users/glebsokolov/Library/Containers/com.QReader.MarginStudyMac-setapp/Data/Documents/1**-Data Science/Python\"\n",
    "dest_gen = \"/Users/glebsokolov/Library/Containers/com.QReader.MarginStudyMac-setapp/Data/Documents/1**-Data Science/\"\n",
    "files = list(filter(os.path.isfile, glob.glob(search_dir + \"*\")))\n",
    "files = [fname for fname in files if not fname.endswith(\"md5\")]\n",
    "files.sort(key=lambda x: os.path.getmtime(x))\n",
    "\n",
    "print(files[-1])\n",
    "if dest == \"stats\":\n",
    "    newpath = dest_stats + os.path.basename(files[-1])\n",
    "    shutil.move(os.path.abspath(files[-1]), newpath)\n",
    "elif dest == \"python\":\n",
    "    newpath = dest_python + os.path.basename(files[-1])\n",
    "    shutil.move(os.path.abspath(files[-1]), newpath)\n",
    "elif dest == \"main\":\n",
    "    newpath = dest_gen + os.path.basename(files[-1])\n",
    "    shutil.move(os.path.abspath(files[-1]), newpath)"
   ]
  },
  {
   "cell_type": "code",
   "execution_count": 11,
   "metadata": {},
   "outputs": [
    {
     "data": {
      "text/plain": [
       "'Data Scientist (Integrated Degree).Pdf'"
      ]
     },
     "execution_count": 11,
     "metadata": {},
     "output_type": "execute_result"
    }
   ],
   "source": [
    "fname = '/Users/glebsokolov/Library/Containers/com.QReader.MarginStudyMac-setapp/Data/Documents/DATA SCIENTIST (INTEGRATED DEGREE).pdf'\n",
    "os.path.basename(fname).lower().title()\n"
   ]
  },
  {
   "cell_type": "code",
   "execution_count": 4,
   "metadata": {},
   "outputs": [
    {
     "data": {
      "text/plain": [
       "'/Users/glebsokolov/Documents/CleanShot 2022-03-14 at 04.26.38@2x.png'"
      ]
     },
     "execution_count": 4,
     "metadata": {},
     "output_type": "execute_result"
    }
   ],
   "source": [
    "import os, glob, pytesseract\n",
    "search_dir = \"/Users/glebsokolov/Documents/\"\n",
    "files = list(filter(os.path.isfile, glob.glob(search_dir + \"*\")))\n",
    "files = [fname for fname in files if fname.endswith(\"png\")]\n",
    "files.sort(key=lambda x: os.path.getmtime(x))\n",
    "files[-1]"
   ]
  },
  {
   "cell_type": "code",
   "execution_count": 10,
   "metadata": {},
   "outputs": [
    {
     "data": {
      "text/plain": [
       "'Python Лучшие Практики И Инструменты'"
      ]
     },
     "execution_count": 10,
     "metadata": {},
     "output_type": "execute_result"
    }
   ],
   "source": [
    "from PIL import Image\n",
    "name = pytesseract.image_to_string(Image.open(files[-1]), lang=\"eng+rus\")\n",
    "name = \" \".join(name.split()).lower().title()\n",
    "name\n"
   ]
  },
  {
   "cell_type": "code",
   "execution_count": 21,
   "metadata": {},
   "outputs": [
    {
     "data": {
      "text/plain": [
       "('/Users/glebsokolov/Library/Application Support/CleanShot/media/media_SEIwOlkSqW',\n",
       " [],\n",
       " ['CleanShot 2022-03-14 at 00.14.01@2x.png'])"
      ]
     },
     "execution_count": 21,
     "metadata": {},
     "output_type": "execute_result"
    }
   ],
   "source": [
    "path=\"/Users/glebsokolov/Library/Application Support/CleanShot/media\"\n",
    "for root, dirs, files in os.walk(path):\n",
    "    f=files\n",
    "\n",
    "files = os.walk(path)\n",
    "list(files)[2]"
   ]
  },
  {
   "cell_type": "code",
   "execution_count": 13,
   "metadata": {},
   "outputs": [
    {
     "name": "stdout",
     "output_type": "stream",
     "text": [
      "Python Лучшие Практики И Инструменты.pdf\n"
     ]
    }
   ],
   "source": [
    "#! /Users/glebsokolov/opt/anaconda3/bin/python\n",
    "\n",
    "import os, sys, pytesseract, glob\n",
    "#name=os.environ[\"KMVAR_name\"]\n",
    "\n",
    "search_dir = \"/Users/glebsokolov/Documents/\"\n",
    "files = list(filter(os.path.isfile, glob.glob(search_dir + \"*\")))\n",
    "files = [fname for fname in files if fname.endswith(\"png\")]\n",
    "files.sort(key=lambda x: os.path.getmtime(x))\n",
    "\n",
    "from PIL import Image\n",
    "\n",
    "name = pytesseract.image_to_string(Image.open(files[-1]), lang=\"eng+rus\")\n",
    "\n",
    "fname = \"/Users/glebsokolov/Library/Containers/com.QReader.MarginStudyMac-setapp/Data/Documents/DB-K1NDFR/Python Luchshie praktiki i instrumenty 3 izd  2021 Mikhal Yavorski Tarek Ziade.pdf\"\n",
    "name = \" \".join(name.split()).lower().title()\n",
    "root = os.path.dirname(fname)\n",
    "ext = os.path.splitext(fname)[1]\n",
    "name += ext\n",
    "print(name)\n",
    "\n",
    "#os.rename(fname, os.path.join(root, name))"
   ]
  },
  {
   "cell_type": "code",
   "execution_count": 26,
   "metadata": {},
   "outputs": [],
   "source": [
    "import pandas as pd\n",
    "\n",
    "db = '/Users/glebsokolov/Downloads/pvInBZde05l0U70ZnkfWt-PMbU3yonwJ.xlsx'\n",
    "df = pd.read_excel(db)\n",
    "nums = df.iloc[:, 14]\n"
   ]
  },
  {
   "cell_type": "code",
   "execution_count": 27,
   "metadata": {},
   "outputs": [],
   "source": [
    "numbers = []\n",
    "\n",
    "for i in range(len(nums.to_numpy())):\n",
    "    try:\n",
    "        for number in nums.to_numpy()[i].split('\\n'):\n",
    "            numbers.append(number)\n",
    "    except:\n",
    "        pass\n",
    "\n",
    "numbers = list(set(numbers))\n"
   ]
  },
  {
   "cell_type": "code",
   "execution_count": 28,
   "metadata": {},
   "outputs": [
    {
     "data": {
      "text/plain": [
       "270"
      ]
     },
     "execution_count": 28,
     "metadata": {},
     "output_type": "execute_result"
    }
   ],
   "source": [
    "len(numbers)"
   ]
  },
  {
   "cell_type": "code",
   "execution_count": 6,
   "metadata": {},
   "outputs": [],
   "source": [
    "import pandas as pd\n",
    "import numpy as np\n",
    "import seaborn as sns\n",
    "import matplotlib.pyplot as plt\n",
    "\n",
    "import webbrowser\n",
    "from selenium import webdriver\n",
    "import urllib\n",
    "from selenium.webdriver.common.by import By\n",
    "from selenium.webdriver.common.keys import Keys\n",
    "from selenium.webdriver.support import expected_conditions as EC\n",
    "from selenium.webdriver.support.wait import WebDriverWait\n",
    "from selenium.webdriver.chrome.options import Options\n",
    "from selenium.webdriver.chrome.service import Service\n",
    "from tqdm import notebook\n",
    "import time"
   ]
  },
  {
   "cell_type": "code",
   "execution_count": 7,
   "metadata": {},
   "outputs": [],
   "source": [
    "def element_presence(by, xpath, time):\n",
    "    element_present = EC.presence_of_element_located((By.XPATH, xpath))\n",
    "    WebDriverWait(driver, time).until(element_present)"
   ]
  },
  {
   "cell_type": "code",
   "execution_count": 8,
   "metadata": {},
   "outputs": [],
   "source": [
    "def send_message(url):\n",
    "    driver.get(url)\n",
    "    time.sleep(2)\n",
    "    try:\n",
    "        element_presence(\n",
    "            By.XPATH,\n",
    "            '/html/body/div[1]/div[1]/div[1]/div[4]/div[1]/footer/div[1]/div/span[2]/div/div[2]/div[1]/div/div[2]',\n",
    "            40)\n",
    "    except:\n",
    "        pass\n",
    "    try:\n",
    "        msg_box = driver.find_element(\n",
    "            By.XPATH,\n",
    "            '/html/body/div[1]/div[1]/div[1]/div[4]/div[1]/footer/div[1]/div/span[2]/div/div[2]/div[1]/div/div[2]'\n",
    "        )\n",
    "        msg_box.send_keys(Keys.RETURN)\n",
    "    except:\n",
    "        pass\n",
    "    time.sleep(1)"
   ]
  },
  {
   "cell_type": "code",
   "execution_count": 39,
   "metadata": {},
   "outputs": [
    {
     "data": {
      "text/html": [
       "<div>\n",
       "<style scoped>\n",
       "    .dataframe tbody tr th:only-of-type {\n",
       "        vertical-align: middle;\n",
       "    }\n",
       "\n",
       "    .dataframe tbody tr th {\n",
       "        vertical-align: top;\n",
       "    }\n",
       "\n",
       "    .dataframe thead th {\n",
       "        text-align: right;\n",
       "    }\n",
       "</style>\n",
       "<table border=\"1\" class=\"dataframe\">\n",
       "  <thead>\n",
       "    <tr style=\"text-align: right;\">\n",
       "      <th></th>\n",
       "      <th>phone</th>\n",
       "    </tr>\n",
       "  </thead>\n",
       "  <tbody>\n",
       "    <tr>\n",
       "      <th>0</th>\n",
       "      <td>+7 495 939-53-59</td>\n",
       "    </tr>\n",
       "    <tr>\n",
       "      <th>1</th>\n",
       "      <td>+7 967 071-06-83</td>\n",
       "    </tr>\n",
       "    <tr>\n",
       "      <th>2</th>\n",
       "      <td>+7 985 211-01-12</td>\n",
       "    </tr>\n",
       "    <tr>\n",
       "      <th>3</th>\n",
       "      <td>+7 903 564-05-30</td>\n",
       "    </tr>\n",
       "    <tr>\n",
       "      <th>4</th>\n",
       "      <td>+7 903 575-37-36</td>\n",
       "    </tr>\n",
       "    <tr>\n",
       "      <th>...</th>\n",
       "      <td>...</td>\n",
       "    </tr>\n",
       "    <tr>\n",
       "      <th>265</th>\n",
       "      <td>+7 916 243-45-51</td>\n",
       "    </tr>\n",
       "    <tr>\n",
       "      <th>266</th>\n",
       "      <td>+7 985 915-12-00</td>\n",
       "    </tr>\n",
       "    <tr>\n",
       "      <th>267</th>\n",
       "      <td>+7 929 917-44-41</td>\n",
       "    </tr>\n",
       "    <tr>\n",
       "      <th>268</th>\n",
       "      <td>+7 926 706-14-28</td>\n",
       "    </tr>\n",
       "    <tr>\n",
       "      <th>269</th>\n",
       "      <td>+7 916 044-00-01</td>\n",
       "    </tr>\n",
       "  </tbody>\n",
       "</table>\n",
       "<p>270 rows × 1 columns</p>\n",
       "</div>"
      ],
      "text/plain": [
       "                phone\n",
       "0    +7 495 939-53-59\n",
       "1    +7 967 071-06-83\n",
       "2    +7 985 211-01-12\n",
       "3    +7 903 564-05-30\n",
       "4    +7 903 575-37-36\n",
       "..                ...\n",
       "265  +7 916 243-45-51\n",
       "266  +7 985 915-12-00\n",
       "267  +7 929 917-44-41\n",
       "268  +7 926 706-14-28\n",
       "269  +7 916 044-00-01\n",
       "\n",
       "[270 rows x 1 columns]"
      ]
     },
     "execution_count": 39,
     "metadata": {},
     "output_type": "execute_result"
    }
   ],
   "source": [
    "df=pd.DataFrame(numbers)\n",
    "df.columns = ['phone']\n",
    "df"
   ]
  },
  {
   "cell_type": "code",
   "execution_count": null,
   "metadata": {},
   "outputs": [],
   "source": [
    "import pickle\n",
    "with open('data.pickle', 'wb') as f:\n",
    "     pickle.dump(df, f)"
   ]
  },
  {
   "cell_type": "code",
   "execution_count": 10,
   "metadata": {},
   "outputs": [],
   "source": [
    "# df=pd.DataFrame(data={'name':'alan', \"phone\":\"+79697098072\"}, index=[0])\n",
    "# df\n",
    "df=pd.read_pickle('data.pickle')"
   ]
  },
  {
   "cell_type": "code",
   "execution_count": 9,
   "metadata": {},
   "outputs": [],
   "source": [
    "def prepare_msg(dataframe, phone_col):\n",
    "    file = dataframe[[phone_col]]\n",
    "    base_msg = \"\"\"\n",
    "Здравствуйте! Меня зовут Алан, я представляю ГК «ЛОД», УЦ Профи. Мы помогаем обучающим организациям и преподавателям в различных направлениях вести свою деятельность в рамках правового поля. \n",
    "В ГК \"ЛОД\" можно получить образовательную аккредитацию и обучать, выдавая своим ученикам документы государственного образца, имеющие полную юридическую силу, и вести обучение в соответствии с законом \"Об образовании\"(273 ФЗ) и поправками о просветительской деятельности.\n",
    "У нас уже более 900 аккредитованных партнеров в разных направлениях, например, Е. Блиновская, М. Солодар (маркетинг), Н. Будько (налоги), А. Спивак (коучинг), С. Артемьев (психология), Н. Соколова (фейсфитнес), Н. Шульга (нутрициология), Т. Шубина (массаж), М. Шиян (макияж), А. Мазур (продажи), М. Карева (фотография), Ю. Карпова (перманент), А. Парфенова (наращивание ресниц) и пр. При необходимости направлю список наших партнеров в Вашем направлении.\n",
    "Для Вас актуально получение аккредитации для проведения обучения?\n",
    "🌐 Сайт: https://lod24.ru/glavnayad/\n",
    "💻 Группа ВК: https://vk.com/gkprofi\n",
    "\"\"\"\n",
    "    base_url = 'https://web.whatsapp.com/send?phone={}&text={}'\n",
    "    for i, j in notebook.tqdm(file.iterrows()):\n",
    "        phone_no = j[phone_col]\n",
    "        msg = urllib.parse.quote(base_msg.format())\n",
    "        url_msg = base_url.format(phone_no, msg)\n",
    "        send_message(url_msg)"
   ]
  },
  {
   "cell_type": "code",
   "execution_count": 4,
   "metadata": {},
   "outputs": [],
   "source": [
    "from selenium.webdriver.chrome.options import Options\n",
    "\n",
    "opt = Options()\n",
    "opt.add_argument(r'/Users/glebsokolov/HeadRepo/wadata')"
   ]
  },
  {
   "cell_type": "code",
   "execution_count": 12,
   "metadata": {},
   "outputs": [
    {
     "name": "stderr",
     "output_type": "stream",
     "text": [
      "\n",
      "\n",
      "====== WebDriver manager ======\n",
      "Current google-chrome version is 99.0.4844\n",
      "Get LATEST chromedriver version for 99.0.4844 google-chrome\n",
      "Driver [/Users/glebsokolov/.wdm/drivers/chromedriver/mac64/99.0.4844.51/chromedriver] found in cache\n"
     ]
    },
    {
     "data": {
      "application/vnd.jupyter.widget-view+json": {
       "model_id": "46b5fe57e2dd432c90287b11db3ee2cf",
       "version_major": 2,
       "version_minor": 0
      },
      "text/plain": [
       "0it [00:00, ?it/s]"
      ]
     },
     "metadata": {},
     "output_type": "display_data"
    },
    {
     "ename": "NoSuchWindowException",
     "evalue": "Message: no such window: target window already closed\nfrom unknown error: web view not found\n  (Session info: chrome=99.0.4844.74)\nStacktrace:\n0   chromedriver                        0x0000000107688159 chromedriver + 5120345\n1   chromedriver                        0x0000000107615b13 chromedriver + 4651795\n2   chromedriver                        0x0000000107205e68 chromedriver + 392808\n3   chromedriver                        0x00000001071e618c chromedriver + 262540\n4   chromedriver                        0x000000010725c0cb chromedriver + 745675\n5   chromedriver                        0x000000010726ad5f chromedriver + 806239\n6   chromedriver                        0x0000000107258a33 chromedriver + 731699\n7   chromedriver                        0x000000010722e5dd chromedriver + 558557\n8   chromedriver                        0x000000010722f4f5 chromedriver + 562421\n9   chromedriver                        0x000000010764538d chromedriver + 4846477\n10  chromedriver                        0x000000010765f21c chromedriver + 4952604\n11  chromedriver                        0x0000000107664a12 chromedriver + 4975122\n12  chromedriver                        0x000000010765fb4a chromedriver + 4954954\n13  chromedriver                        0x000000010763a5b0 chromedriver + 4801968\n14  chromedriver                        0x0000000107679f78 chromedriver + 5062520\n15  chromedriver                        0x000000010767a0ff chromedriver + 5062911\n16  chromedriver                        0x000000010768f545 chromedriver + 5150021\n17  libsystem_pthread.dylib             0x00007ff81dff24e1 _pthread_start + 125\n18  libsystem_pthread.dylib             0x00007ff81dfedf6b thread_start + 15\n",
     "output_type": "error",
     "traceback": [
      "\u001b[0;31m---------------------------------------------------------------------------\u001b[0m",
      "\u001b[0;31mNoSuchWindowException\u001b[0m                     Traceback (most recent call last)",
      "\u001b[0;32m/var/folders/t0/fw3jvl196_v78v94hzhxhpgw0000gn/T/ipykernel_82793/2440388280.py\u001b[0m in \u001b[0;36m<module>\u001b[0;34m\u001b[0m\n\u001b[1;32m      7\u001b[0m \u001b[0;34m\u001b[0m\u001b[0m\n\u001b[1;32m      8\u001b[0m \u001b[0;34m\u001b[0m\u001b[0m\n\u001b[0;32m----> 9\u001b[0;31m \u001b[0mprepare_msg\u001b[0m\u001b[0;34m(\u001b[0m\u001b[0mdf\u001b[0m\u001b[0;34m.\u001b[0m\u001b[0miloc\u001b[0m\u001b[0;34m[\u001b[0m\u001b[0;36m1\u001b[0m\u001b[0;34m:\u001b[0m\u001b[0;36m3\u001b[0m\u001b[0;34m,\u001b[0m\u001b[0;34m]\u001b[0m\u001b[0;34m,\u001b[0m \u001b[0;34m'phone'\u001b[0m\u001b[0;34m)\u001b[0m\u001b[0;34m\u001b[0m\u001b[0;34m\u001b[0m\u001b[0m\n\u001b[0m",
      "\u001b[0;32m/var/folders/t0/fw3jvl196_v78v94hzhxhpgw0000gn/T/ipykernel_82793/2786265678.py\u001b[0m in \u001b[0;36mprepare_msg\u001b[0;34m(dataframe, phone_col)\u001b[0m\n\u001b[1;32m     14\u001b[0m         \u001b[0mmsg\u001b[0m \u001b[0;34m=\u001b[0m \u001b[0murllib\u001b[0m\u001b[0;34m.\u001b[0m\u001b[0mparse\u001b[0m\u001b[0;34m.\u001b[0m\u001b[0mquote\u001b[0m\u001b[0;34m(\u001b[0m\u001b[0mbase_msg\u001b[0m\u001b[0;34m.\u001b[0m\u001b[0mformat\u001b[0m\u001b[0;34m(\u001b[0m\u001b[0;34m)\u001b[0m\u001b[0;34m)\u001b[0m\u001b[0;34m\u001b[0m\u001b[0;34m\u001b[0m\u001b[0m\n\u001b[1;32m     15\u001b[0m         \u001b[0murl_msg\u001b[0m \u001b[0;34m=\u001b[0m \u001b[0mbase_url\u001b[0m\u001b[0;34m.\u001b[0m\u001b[0mformat\u001b[0m\u001b[0;34m(\u001b[0m\u001b[0mphone_no\u001b[0m\u001b[0;34m,\u001b[0m \u001b[0mmsg\u001b[0m\u001b[0;34m)\u001b[0m\u001b[0;34m\u001b[0m\u001b[0;34m\u001b[0m\u001b[0m\n\u001b[0;32m---> 16\u001b[0;31m         \u001b[0msend_message\u001b[0m\u001b[0;34m(\u001b[0m\u001b[0murl_msg\u001b[0m\u001b[0;34m)\u001b[0m\u001b[0;34m\u001b[0m\u001b[0;34m\u001b[0m\u001b[0m\n\u001b[0m",
      "\u001b[0;32m/var/folders/t0/fw3jvl196_v78v94hzhxhpgw0000gn/T/ipykernel_82793/960049183.py\u001b[0m in \u001b[0;36msend_message\u001b[0;34m(url)\u001b[0m\n\u001b[1;32m      1\u001b[0m \u001b[0;32mdef\u001b[0m \u001b[0msend_message\u001b[0m\u001b[0;34m(\u001b[0m\u001b[0murl\u001b[0m\u001b[0;34m)\u001b[0m\u001b[0;34m:\u001b[0m\u001b[0;34m\u001b[0m\u001b[0;34m\u001b[0m\u001b[0m\n\u001b[0;32m----> 2\u001b[0;31m     \u001b[0mdriver\u001b[0m\u001b[0;34m.\u001b[0m\u001b[0mget\u001b[0m\u001b[0;34m(\u001b[0m\u001b[0murl\u001b[0m\u001b[0;34m)\u001b[0m\u001b[0;34m\u001b[0m\u001b[0;34m\u001b[0m\u001b[0m\n\u001b[0m\u001b[1;32m      3\u001b[0m     \u001b[0mtime\u001b[0m\u001b[0;34m.\u001b[0m\u001b[0msleep\u001b[0m\u001b[0;34m(\u001b[0m\u001b[0;36m2\u001b[0m\u001b[0;34m)\u001b[0m\u001b[0;34m\u001b[0m\u001b[0;34m\u001b[0m\u001b[0m\n\u001b[1;32m      4\u001b[0m     \u001b[0;32mtry\u001b[0m\u001b[0;34m:\u001b[0m\u001b[0;34m\u001b[0m\u001b[0;34m\u001b[0m\u001b[0m\n\u001b[1;32m      5\u001b[0m         element_presence(\n",
      "\u001b[0;32m~/opt/anaconda3/lib/python3.9/site-packages/selenium/webdriver/remote/webdriver.py\u001b[0m in \u001b[0;36mget\u001b[0;34m(self, url)\u001b[0m\n\u001b[1;32m    435\u001b[0m         \u001b[0mLoads\u001b[0m \u001b[0ma\u001b[0m \u001b[0mweb\u001b[0m \u001b[0mpage\u001b[0m \u001b[0;32min\u001b[0m \u001b[0mthe\u001b[0m \u001b[0mcurrent\u001b[0m \u001b[0mbrowser\u001b[0m \u001b[0msession\u001b[0m\u001b[0;34m.\u001b[0m\u001b[0;34m\u001b[0m\u001b[0;34m\u001b[0m\u001b[0m\n\u001b[1;32m    436\u001b[0m         \"\"\"\n\u001b[0;32m--> 437\u001b[0;31m         \u001b[0mself\u001b[0m\u001b[0;34m.\u001b[0m\u001b[0mexecute\u001b[0m\u001b[0;34m(\u001b[0m\u001b[0mCommand\u001b[0m\u001b[0;34m.\u001b[0m\u001b[0mGET\u001b[0m\u001b[0;34m,\u001b[0m \u001b[0;34m{\u001b[0m\u001b[0;34m'url'\u001b[0m\u001b[0;34m:\u001b[0m \u001b[0murl\u001b[0m\u001b[0;34m}\u001b[0m\u001b[0;34m)\u001b[0m\u001b[0;34m\u001b[0m\u001b[0;34m\u001b[0m\u001b[0m\n\u001b[0m\u001b[1;32m    438\u001b[0m \u001b[0;34m\u001b[0m\u001b[0m\n\u001b[1;32m    439\u001b[0m     \u001b[0;34m@\u001b[0m\u001b[0mproperty\u001b[0m\u001b[0;34m\u001b[0m\u001b[0;34m\u001b[0m\u001b[0m\n",
      "\u001b[0;32m~/opt/anaconda3/lib/python3.9/site-packages/selenium/webdriver/remote/webdriver.py\u001b[0m in \u001b[0;36mexecute\u001b[0;34m(self, driver_command, params)\u001b[0m\n\u001b[1;32m    423\u001b[0m         \u001b[0mresponse\u001b[0m \u001b[0;34m=\u001b[0m \u001b[0mself\u001b[0m\u001b[0;34m.\u001b[0m\u001b[0mcommand_executor\u001b[0m\u001b[0;34m.\u001b[0m\u001b[0mexecute\u001b[0m\u001b[0;34m(\u001b[0m\u001b[0mdriver_command\u001b[0m\u001b[0;34m,\u001b[0m \u001b[0mparams\u001b[0m\u001b[0;34m)\u001b[0m\u001b[0;34m\u001b[0m\u001b[0;34m\u001b[0m\u001b[0m\n\u001b[1;32m    424\u001b[0m         \u001b[0;32mif\u001b[0m \u001b[0mresponse\u001b[0m\u001b[0;34m:\u001b[0m\u001b[0;34m\u001b[0m\u001b[0;34m\u001b[0m\u001b[0m\n\u001b[0;32m--> 425\u001b[0;31m             \u001b[0mself\u001b[0m\u001b[0;34m.\u001b[0m\u001b[0merror_handler\u001b[0m\u001b[0;34m.\u001b[0m\u001b[0mcheck_response\u001b[0m\u001b[0;34m(\u001b[0m\u001b[0mresponse\u001b[0m\u001b[0;34m)\u001b[0m\u001b[0;34m\u001b[0m\u001b[0;34m\u001b[0m\u001b[0m\n\u001b[0m\u001b[1;32m    426\u001b[0m             response['value'] = self._unwrap_value(\n\u001b[1;32m    427\u001b[0m                 response.get('value', None))\n",
      "\u001b[0;32m~/opt/anaconda3/lib/python3.9/site-packages/selenium/webdriver/remote/errorhandler.py\u001b[0m in \u001b[0;36mcheck_response\u001b[0;34m(self, response)\u001b[0m\n\u001b[1;32m    245\u001b[0m                 \u001b[0malert_text\u001b[0m \u001b[0;34m=\u001b[0m \u001b[0mvalue\u001b[0m\u001b[0;34m[\u001b[0m\u001b[0;34m'alert'\u001b[0m\u001b[0;34m]\u001b[0m\u001b[0;34m.\u001b[0m\u001b[0mget\u001b[0m\u001b[0;34m(\u001b[0m\u001b[0;34m'text'\u001b[0m\u001b[0;34m)\u001b[0m\u001b[0;34m\u001b[0m\u001b[0;34m\u001b[0m\u001b[0m\n\u001b[1;32m    246\u001b[0m             \u001b[0;32mraise\u001b[0m \u001b[0mexception_class\u001b[0m\u001b[0;34m(\u001b[0m\u001b[0mmessage\u001b[0m\u001b[0;34m,\u001b[0m \u001b[0mscreen\u001b[0m\u001b[0;34m,\u001b[0m \u001b[0mstacktrace\u001b[0m\u001b[0;34m,\u001b[0m \u001b[0malert_text\u001b[0m\u001b[0;34m)\u001b[0m  \u001b[0;31m# type: ignore[call-arg]  # mypy is not smart enough here\u001b[0m\u001b[0;34m\u001b[0m\u001b[0;34m\u001b[0m\u001b[0m\n\u001b[0;32m--> 247\u001b[0;31m         \u001b[0;32mraise\u001b[0m \u001b[0mexception_class\u001b[0m\u001b[0;34m(\u001b[0m\u001b[0mmessage\u001b[0m\u001b[0;34m,\u001b[0m \u001b[0mscreen\u001b[0m\u001b[0;34m,\u001b[0m \u001b[0mstacktrace\u001b[0m\u001b[0;34m)\u001b[0m\u001b[0;34m\u001b[0m\u001b[0;34m\u001b[0m\u001b[0m\n\u001b[0m\u001b[1;32m    248\u001b[0m \u001b[0;34m\u001b[0m\u001b[0m\n\u001b[1;32m    249\u001b[0m     \u001b[0;32mdef\u001b[0m \u001b[0m_value_or_default\u001b[0m\u001b[0;34m(\u001b[0m\u001b[0mself\u001b[0m\u001b[0;34m,\u001b[0m \u001b[0mobj\u001b[0m\u001b[0;34m:\u001b[0m \u001b[0mMapping\u001b[0m\u001b[0;34m[\u001b[0m\u001b[0m_KT\u001b[0m\u001b[0;34m,\u001b[0m \u001b[0m_VT\u001b[0m\u001b[0;34m]\u001b[0m\u001b[0;34m,\u001b[0m \u001b[0mkey\u001b[0m\u001b[0;34m:\u001b[0m \u001b[0m_KT\u001b[0m\u001b[0;34m,\u001b[0m \u001b[0mdefault\u001b[0m\u001b[0;34m:\u001b[0m \u001b[0m_VT\u001b[0m\u001b[0;34m)\u001b[0m \u001b[0;34m->\u001b[0m \u001b[0m_VT\u001b[0m\u001b[0;34m:\u001b[0m\u001b[0;34m\u001b[0m\u001b[0;34m\u001b[0m\u001b[0m\n",
      "\u001b[0;31mNoSuchWindowException\u001b[0m: Message: no such window: target window already closed\nfrom unknown error: web view not found\n  (Session info: chrome=99.0.4844.74)\nStacktrace:\n0   chromedriver                        0x0000000107688159 chromedriver + 5120345\n1   chromedriver                        0x0000000107615b13 chromedriver + 4651795\n2   chromedriver                        0x0000000107205e68 chromedriver + 392808\n3   chromedriver                        0x00000001071e618c chromedriver + 262540\n4   chromedriver                        0x000000010725c0cb chromedriver + 745675\n5   chromedriver                        0x000000010726ad5f chromedriver + 806239\n6   chromedriver                        0x0000000107258a33 chromedriver + 731699\n7   chromedriver                        0x000000010722e5dd chromedriver + 558557\n8   chromedriver                        0x000000010722f4f5 chromedriver + 562421\n9   chromedriver                        0x000000010764538d chromedriver + 4846477\n10  chromedriver                        0x000000010765f21c chromedriver + 4952604\n11  chromedriver                        0x0000000107664a12 chromedriver + 4975122\n12  chromedriver                        0x000000010765fb4a chromedriver + 4954954\n13  chromedriver                        0x000000010763a5b0 chromedriver + 4801968\n14  chromedriver                        0x0000000107679f78 chromedriver + 5062520\n15  chromedriver                        0x000000010767a0ff chromedriver + 5062911\n16  chromedriver                        0x000000010768f545 chromedriver + 5150021\n17  libsystem_pthread.dylib             0x00007ff81dff24e1 _pthread_start + 125\n18  libsystem_pthread.dylib             0x00007ff81dfedf6b thread_start + 15\n"
     ]
    }
   ],
   "source": [
    "from webdriver_manager.chrome import ChromeDriverManager\n",
    "from selenium import webdriver\n",
    "from selenium.webdriver.chrome.service import Service\n",
    "\n",
    "service = Service(executable_path=ChromeDriverManager().install())\n",
    "driver = webdriver.Chrome(service=service, options=opt)\n",
    "\n",
    "\n",
    "prepare_msg(df.iloc[1:3,], 'phone')"
   ]
  },
  {
   "cell_type": "code",
   "execution_count": 2,
   "metadata": {},
   "outputs": [
    {
     "ename": "KeyboardInterrupt",
     "evalue": "",
     "output_type": "error",
     "traceback": [
      "\u001b[0;31m---------------------------------------------------------------------------\u001b[0m",
      "\u001b[0;31mKeyboardInterrupt\u001b[0m                         Traceback (most recent call last)",
      "\u001b[0;32m/var/folders/t0/fw3jvl196_v78v94hzhxhpgw0000gn/T/ipykernel_66613/2452632708.py\u001b[0m in \u001b[0;36m<module>\u001b[0;34m\u001b[0m\n\u001b[1;32m      5\u001b[0m \u001b[0;31m# time.sleep(20)\u001b[0m\u001b[0;34m\u001b[0m\u001b[0;34m\u001b[0m\u001b[0m\n\u001b[1;32m      6\u001b[0m \u001b[0mx_arg\u001b[0m \u001b[0;34m=\u001b[0m \u001b[0;34m'//span[contains(@title,'\u001b[0m \u001b[0;34m+\u001b[0m \u001b[0;34m'\"+79313581309\"'\u001b[0m \u001b[0;34m+\u001b[0m \u001b[0;34m')]'\u001b[0m\u001b[0;34m\u001b[0m\u001b[0;34m\u001b[0m\u001b[0m\n\u001b[0;32m----> 7\u001b[0;31m \u001b[0mgroup_title\u001b[0m \u001b[0;34m=\u001b[0m \u001b[0mwait\u001b[0m\u001b[0;34m.\u001b[0m\u001b[0muntil\u001b[0m\u001b[0;34m(\u001b[0m\u001b[0mEC\u001b[0m\u001b[0;34m.\u001b[0m\u001b[0mpresence_of_element_located\u001b[0m\u001b[0;34m(\u001b[0m\u001b[0;34m(\u001b[0m\u001b[0mBy\u001b[0m\u001b[0;34m.\u001b[0m\u001b[0mXPATH\u001b[0m\u001b[0;34m,\u001b[0m \u001b[0mx_arg\u001b[0m\u001b[0;34m)\u001b[0m\u001b[0;34m)\u001b[0m\u001b[0;34m)\u001b[0m\u001b[0;34m\u001b[0m\u001b[0;34m\u001b[0m\u001b[0m\n\u001b[0m\u001b[1;32m      8\u001b[0m \u001b[0mgroup_title\u001b[0m\u001b[0;34m.\u001b[0m\u001b[0mclick\u001b[0m\u001b[0;34m(\u001b[0m\u001b[0;34m)\u001b[0m\u001b[0;34m\u001b[0m\u001b[0;34m\u001b[0m\u001b[0m\n\u001b[1;32m      9\u001b[0m \u001b[0minp_xpath\u001b[0m \u001b[0;34m=\u001b[0m \u001b[0;34m'//*[@id=\"main\"]/footer/div[1]/div/span[2]/div/div[2]/div[1]/div/div[2]'\u001b[0m\u001b[0;34m\u001b[0m\u001b[0;34m\u001b[0m\u001b[0m\n",
      "\u001b[0;32m~/opt/anaconda3/lib/python3.9/site-packages/selenium/webdriver/support/wait.py\u001b[0m in \u001b[0;36muntil\u001b[0;34m(self, method, message)\u001b[0m\n\u001b[1;32m     84\u001b[0m                 \u001b[0mscreen\u001b[0m \u001b[0;34m=\u001b[0m \u001b[0mgetattr\u001b[0m\u001b[0;34m(\u001b[0m\u001b[0mexc\u001b[0m\u001b[0;34m,\u001b[0m \u001b[0;34m'screen'\u001b[0m\u001b[0;34m,\u001b[0m \u001b[0;32mNone\u001b[0m\u001b[0;34m)\u001b[0m\u001b[0;34m\u001b[0m\u001b[0;34m\u001b[0m\u001b[0m\n\u001b[1;32m     85\u001b[0m                 \u001b[0mstacktrace\u001b[0m \u001b[0;34m=\u001b[0m \u001b[0mgetattr\u001b[0m\u001b[0;34m(\u001b[0m\u001b[0mexc\u001b[0m\u001b[0;34m,\u001b[0m \u001b[0;34m'stacktrace'\u001b[0m\u001b[0;34m,\u001b[0m \u001b[0;32mNone\u001b[0m\u001b[0;34m)\u001b[0m\u001b[0;34m\u001b[0m\u001b[0;34m\u001b[0m\u001b[0m\n\u001b[0;32m---> 86\u001b[0;31m             \u001b[0mtime\u001b[0m\u001b[0;34m.\u001b[0m\u001b[0msleep\u001b[0m\u001b[0;34m(\u001b[0m\u001b[0mself\u001b[0m\u001b[0;34m.\u001b[0m\u001b[0m_poll\u001b[0m\u001b[0;34m)\u001b[0m\u001b[0;34m\u001b[0m\u001b[0;34m\u001b[0m\u001b[0m\n\u001b[0m\u001b[1;32m     87\u001b[0m             \u001b[0;32mif\u001b[0m \u001b[0mtime\u001b[0m\u001b[0;34m.\u001b[0m\u001b[0mtime\u001b[0m\u001b[0;34m(\u001b[0m\u001b[0;34m)\u001b[0m \u001b[0;34m>\u001b[0m \u001b[0mend_time\u001b[0m\u001b[0;34m:\u001b[0m\u001b[0;34m\u001b[0m\u001b[0;34m\u001b[0m\u001b[0m\n\u001b[1;32m     88\u001b[0m                 \u001b[0;32mbreak\u001b[0m\u001b[0;34m\u001b[0m\u001b[0;34m\u001b[0m\u001b[0m\n",
      "\u001b[0;31mKeyboardInterrupt\u001b[0m: "
     ]
    }
   ],
   "source": [
    "\n",
    "driver.get(wassup_url)\n",
    "\n",
    "from selenium.webdriver.common.keys import Keys\n",
    "\n",
    "# time.sleep(20)\n",
    "x_arg = '//span[contains(@title,' + '\"+79313581309\"' + ')]'\n",
    "group_title = wait.until(EC.presence_of_element_located((By.XPATH, x_arg)))\n",
    "group_title.click()\n",
    "inp_xpath = '//*[@id=\"main\"]/footer/div[1]/div/span[2]/div/div[2]/div[1]/div/div[2]'\n",
    "input_box = wait.until(EC.presence_of_element_located((By.XPATH, inp_xpath)))\n",
    "\n",
    "\n",
    "input_box.send_keys('hello from python')\n",
    "time.sleep(0.1)\n",
    "input_box.send_keys(Keys.RETURN)\n"
   ]
  },
  {
   "cell_type": "code",
   "execution_count": null,
   "metadata": {},
   "outputs": [],
   "source": []
  }
 ],
 "metadata": {
  "interpreter": {
   "hash": "1be9856963ee0560708bb2052661aa27357a5b7ae3c19a3b57a929c8d7be175e"
  },
  "kernelspec": {
   "display_name": "local-venv",
   "language": "python",
   "name": "python3"
  },
  "language_info": {
   "codemirror_mode": {
    "name": "ipython",
    "version": 3
   },
   "file_extension": ".py",
   "mimetype": "text/x-python",
   "name": "python",
   "nbconvert_exporter": "python",
   "pygments_lexer": "ipython3",
   "version": "3.9.7"
  },
  "orig_nbformat": 4
 },
 "nbformat": 4,
 "nbformat_minor": 2
}
