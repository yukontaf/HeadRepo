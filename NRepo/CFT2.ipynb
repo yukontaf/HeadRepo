{
 "cells": [
  {
   "cell_type": "code",
   "execution_count": 76,
   "metadata": {},
   "outputs": [
    {
     "name": "stderr",
     "output_type": "stream",
     "text": [
      "UsageError: Line magic function `%` not found.\n"
     ]
    }
   ],
   "source": [
    "import pandas as pd, numpy as np, seaborn as sns, matplotlib.pyplot as plt, snoop, matplotlib\n",
    "from pprint import pprint as print\n",
    "\n",
    "matplotlib.style.use(\"seaborn-whitegrid\")\n",
    "pd.set_option(\"display.width\", 5000)\n",
    "pd.set_option(\"display.max_columns\", 60)\n",
    "plt.rcParams[\"figure.figsize\"] = (15, 10)\n",
    "\n",
    "% load_ext snoop\n",
    "% config InlineBackend.figure_format = 'retina'\n",
    "# %config InlineBackend.figure_format = 'svg' \n",
    "# show all output not only the last result\n",
    "from IPython.core.interactiveshell import InteractiveShell\n",
    "from sklearn.linear_model import LinearRegression\n",
    "\n",
    "InteractiveShell.ast_node_interactivity = \"all\"\n",
    "import warnings\n",
    "\n",
    "warnings.filterwarnings('ignore')"
   ]
  },
  {
   "cell_type": "code",
   "execution_count": 81,
   "outputs": [],
   "source": [
    "from scipy.stats import chi2_contingency\n",
    "from sklearn.feature_selection import chi2"
   ],
   "metadata": {
    "collapsed": false,
    "pycharm": {
     "name": "#%%\n"
    }
   }
  },
  {
   "cell_type": "markdown",
   "source": [
    "Все данные вымышленные. Может быть так, что займу не предшествует заявка.\n",
    "\n",
    "В датасете содержится информация о заявках и займах.\n",
    "Описание колонок:\n",
    "time - время подачи заявки или время оформления займа\n",
    "type - тип записи в таблице (заявка или займ)\n",
    "amount - сумма заявки/займа\n",
    "target - целевая перенная\n",
    "feature1 - какой-то признак\n",
    "feature2 - какой-то признак\n",
    "\n",
    "Задача:\n",
    "Нужно проверить гипотезы о значимости признаков feature1 и feature2 (понять дают ли эти признаки какую-либо информацию для целевой переменной).\n",
    "Нужно написать код для генерации следующих колонок:\n",
    "events_ordinal_number - порядковый номер события\n",
    "second_event_time - время второго события\n",
    "loan_ordinal_number - порядковый номер займа. Считается как для займов так и для заявок. Заявка всегда имеет номер займа, на который она подается. Если перед получением первого займа было 5 заявок, то все они будут иметь значение признака 1\n",
    "events_time_diff - разница во времени между событиями\n",
    "previous_loans_max_amount - максимальная сумма предыдущего займа.\n",
    "\n",
    "Все признаки считаются для уникальных user_id. Если возникнут вопросы, то можно посмотреть значение признаков в таблице для одного user_id."
   ],
   "metadata": {
    "collapsed": false
   }
  },
  {
   "cell_type": "code",
   "execution_count": 71,
   "metadata": {},
   "outputs": [
    {
     "data": {
      "text/plain": "                     time  user_id         type  amount  target  feature1  feature2  events_ordinal_number    second_event_time  loan_ordinal_number  events_time_diff  previous_loans_max_amount\n0     2001-01-01 00:00:00      443  loanRequest   17017     NaN         1         1                      1  2001-11-22 23:00:00                    1               NaN                        NaN\n1     2001-01-01 01:00:00      920  loanRequest   13304     NaN         1         0                      1  2002-02-16 08:00:00                    1               NaN                        NaN\n2     2001-01-01 02:00:00      416  loanRequest   13047     NaN         1         0                      1  2002-02-18 10:00:00                    1               NaN                        NaN\n3     2001-01-01 03:00:00      382  loanRequest   14201     NaN         0         1                      1  2002-02-17 08:00:00                    1               NaN                        NaN\n4     2001-01-01 04:00:00      258         loan   14621     0.0         0         1                      1  2001-12-03 11:00:00                    1               NaN                        NaN\n...                   ...      ...          ...     ...     ...       ...       ...                    ...                  ...                  ...               ...                        ...\n9995  2002-02-21 11:00:00      738  loanRequest   14195     NaN         0         0                      8  2002-02-21 11:00:00                    1   2 days 02:00:00                        NaN\n9996  2002-02-21 12:00:00      881         loan   13940     0.0         0         1                     14  2002-02-21 12:00:00                    2  52 days 15:00:00                    14265.0\n9997  2002-02-21 13:00:00       72         loan   14325     1.0         1         1                     11  2002-02-21 13:00:00                    3  27 days 12:00:00                    16306.0\n9998  2002-02-21 14:00:00      563         loan   15718     0.0         1         0                     12  2002-02-21 14:00:00                    5   3 days 15:00:00                    17170.0\n9999  2002-02-21 15:00:00      481  loanRequest   16725     NaN         0         1                     13  2002-02-21 15:00:00                    6  85 days 13:00:00                    15924.0\n\n[10000 rows x 12 columns]",
      "text/html": "<div>\n<style scoped>\n    .dataframe tbody tr th:only-of-type {\n        vertical-align: middle;\n    }\n\n    .dataframe tbody tr th {\n        vertical-align: top;\n    }\n\n    .dataframe thead th {\n        text-align: right;\n    }\n</style>\n<table border=\"1\" class=\"dataframe\">\n  <thead>\n    <tr style=\"text-align: right;\">\n      <th></th>\n      <th>time</th>\n      <th>user_id</th>\n      <th>type</th>\n      <th>amount</th>\n      <th>target</th>\n      <th>feature1</th>\n      <th>feature2</th>\n      <th>events_ordinal_number</th>\n      <th>second_event_time</th>\n      <th>loan_ordinal_number</th>\n      <th>events_time_diff</th>\n      <th>previous_loans_max_amount</th>\n    </tr>\n  </thead>\n  <tbody>\n    <tr>\n      <th>0</th>\n      <td>2001-01-01 00:00:00</td>\n      <td>443</td>\n      <td>loanRequest</td>\n      <td>17017</td>\n      <td>NaN</td>\n      <td>1</td>\n      <td>1</td>\n      <td>1</td>\n      <td>2001-11-22 23:00:00</td>\n      <td>1</td>\n      <td>NaN</td>\n      <td>NaN</td>\n    </tr>\n    <tr>\n      <th>1</th>\n      <td>2001-01-01 01:00:00</td>\n      <td>920</td>\n      <td>loanRequest</td>\n      <td>13304</td>\n      <td>NaN</td>\n      <td>1</td>\n      <td>0</td>\n      <td>1</td>\n      <td>2002-02-16 08:00:00</td>\n      <td>1</td>\n      <td>NaN</td>\n      <td>NaN</td>\n    </tr>\n    <tr>\n      <th>2</th>\n      <td>2001-01-01 02:00:00</td>\n      <td>416</td>\n      <td>loanRequest</td>\n      <td>13047</td>\n      <td>NaN</td>\n      <td>1</td>\n      <td>0</td>\n      <td>1</td>\n      <td>2002-02-18 10:00:00</td>\n      <td>1</td>\n      <td>NaN</td>\n      <td>NaN</td>\n    </tr>\n    <tr>\n      <th>3</th>\n      <td>2001-01-01 03:00:00</td>\n      <td>382</td>\n      <td>loanRequest</td>\n      <td>14201</td>\n      <td>NaN</td>\n      <td>0</td>\n      <td>1</td>\n      <td>1</td>\n      <td>2002-02-17 08:00:00</td>\n      <td>1</td>\n      <td>NaN</td>\n      <td>NaN</td>\n    </tr>\n    <tr>\n      <th>4</th>\n      <td>2001-01-01 04:00:00</td>\n      <td>258</td>\n      <td>loan</td>\n      <td>14621</td>\n      <td>0.0</td>\n      <td>0</td>\n      <td>1</td>\n      <td>1</td>\n      <td>2001-12-03 11:00:00</td>\n      <td>1</td>\n      <td>NaN</td>\n      <td>NaN</td>\n    </tr>\n    <tr>\n      <th>...</th>\n      <td>...</td>\n      <td>...</td>\n      <td>...</td>\n      <td>...</td>\n      <td>...</td>\n      <td>...</td>\n      <td>...</td>\n      <td>...</td>\n      <td>...</td>\n      <td>...</td>\n      <td>...</td>\n      <td>...</td>\n    </tr>\n    <tr>\n      <th>9995</th>\n      <td>2002-02-21 11:00:00</td>\n      <td>738</td>\n      <td>loanRequest</td>\n      <td>14195</td>\n      <td>NaN</td>\n      <td>0</td>\n      <td>0</td>\n      <td>8</td>\n      <td>2002-02-21 11:00:00</td>\n      <td>1</td>\n      <td>2 days 02:00:00</td>\n      <td>NaN</td>\n    </tr>\n    <tr>\n      <th>9996</th>\n      <td>2002-02-21 12:00:00</td>\n      <td>881</td>\n      <td>loan</td>\n      <td>13940</td>\n      <td>0.0</td>\n      <td>0</td>\n      <td>1</td>\n      <td>14</td>\n      <td>2002-02-21 12:00:00</td>\n      <td>2</td>\n      <td>52 days 15:00:00</td>\n      <td>14265.0</td>\n    </tr>\n    <tr>\n      <th>9997</th>\n      <td>2002-02-21 13:00:00</td>\n      <td>72</td>\n      <td>loan</td>\n      <td>14325</td>\n      <td>1.0</td>\n      <td>1</td>\n      <td>1</td>\n      <td>11</td>\n      <td>2002-02-21 13:00:00</td>\n      <td>3</td>\n      <td>27 days 12:00:00</td>\n      <td>16306.0</td>\n    </tr>\n    <tr>\n      <th>9998</th>\n      <td>2002-02-21 14:00:00</td>\n      <td>563</td>\n      <td>loan</td>\n      <td>15718</td>\n      <td>0.0</td>\n      <td>1</td>\n      <td>0</td>\n      <td>12</td>\n      <td>2002-02-21 14:00:00</td>\n      <td>5</td>\n      <td>3 days 15:00:00</td>\n      <td>17170.0</td>\n    </tr>\n    <tr>\n      <th>9999</th>\n      <td>2002-02-21 15:00:00</td>\n      <td>481</td>\n      <td>loanRequest</td>\n      <td>16725</td>\n      <td>NaN</td>\n      <td>0</td>\n      <td>1</td>\n      <td>13</td>\n      <td>2002-02-21 15:00:00</td>\n      <td>6</td>\n      <td>85 days 13:00:00</td>\n      <td>15924.0</td>\n    </tr>\n  </tbody>\n</table>\n<p>10000 rows × 12 columns</p>\n</div>"
     },
     "execution_count": 71,
     "metadata": {},
     "output_type": "execute_result"
    }
   ],
   "source": [
    "df=pd.read_csv(\"/Users/glebsokolov/Downloads/test.csv\")\n",
    "df"
   ]
  },
  {
   "cell_type": "code",
   "execution_count": 84,
   "outputs": [
    {
     "data": {
      "text/plain": "(array([143.02860867,   0.61853828]), array([8.744445e-32, 7.339832e-01]))"
     },
     "execution_count": 84,
     "metadata": {},
     "output_type": "execute_result"
    }
   ],
   "source": [
    "chi2(df[['feature1', 'feature2']], df['target'].fillna(3)\n",
    "     )"
   ],
   "metadata": {
    "collapsed": false,
    "pycharm": {
     "name": "#%%\n"
    }
   }
  },
  {
   "cell_type": "code",
   "execution_count": 85,
   "outputs": [
    {
     "data": {
      "text/plain": "(359.03172021970863,\n 1.7409362560969894e-69,\n 12,\n array([[  216.935 ,   198.9748,  1602.0902,  2018.    ],\n        [  213.065 ,   195.4252,  1573.5098,  1982.    ],\n        [  320.565 ,   294.0252,  2367.4098,  2982.    ],\n        [  324.435 ,   297.5748,  2395.9902,  3018.    ],\n        [ 1075.    ,   986.    ,  7939.    , 10000.    ]]))"
     },
     "execution_count": 85,
     "metadata": {},
     "output_type": "execute_result"
    }
   ],
   "source": [
    "# df=df.dropna()\n",
    "tab = pd.crosstab([df.feature1, df.feature2], df['target'].fillna(3), margins=True)\n",
    "chi2_contingency(tab)"
   ],
   "metadata": {
    "collapsed": false,
    "pycharm": {
     "name": "#%%\n"
    }
   }
  },
  {
   "cell_type": "code",
   "execution_count": 73,
   "outputs": [
    {
     "data": {
      "text/plain": "target              0.0  1.0   All\nfeature1 feature2                 \n0        0          329   95   424\n         1          322  100   422\n1        0          203  383   586\n         1          221  408   629\nAll                1075  986  2061",
      "text/html": "<div>\n<style scoped>\n    .dataframe tbody tr th:only-of-type {\n        vertical-align: middle;\n    }\n\n    .dataframe tbody tr th {\n        vertical-align: top;\n    }\n\n    .dataframe thead th {\n        text-align: right;\n    }\n</style>\n<table border=\"1\" class=\"dataframe\">\n  <thead>\n    <tr style=\"text-align: right;\">\n      <th></th>\n      <th>target</th>\n      <th>0.0</th>\n      <th>1.0</th>\n      <th>All</th>\n    </tr>\n    <tr>\n      <th>feature1</th>\n      <th>feature2</th>\n      <th></th>\n      <th></th>\n      <th></th>\n    </tr>\n  </thead>\n  <tbody>\n    <tr>\n      <th rowspan=\"2\" valign=\"top\">0</th>\n      <th>0</th>\n      <td>329</td>\n      <td>95</td>\n      <td>424</td>\n    </tr>\n    <tr>\n      <th>1</th>\n      <td>322</td>\n      <td>100</td>\n      <td>422</td>\n    </tr>\n    <tr>\n      <th rowspan=\"2\" valign=\"top\">1</th>\n      <th>0</th>\n      <td>203</td>\n      <td>383</td>\n      <td>586</td>\n    </tr>\n    <tr>\n      <th>1</th>\n      <td>221</td>\n      <td>408</td>\n      <td>629</td>\n    </tr>\n    <tr>\n      <th>All</th>\n      <th></th>\n      <td>1075</td>\n      <td>986</td>\n      <td>2061</td>\n    </tr>\n  </tbody>\n</table>\n</div>"
     },
     "execution_count": 73,
     "metadata": {},
     "output_type": "execute_result"
    }
   ],
   "source": [
    "tab"
   ],
   "metadata": {
    "collapsed": false,
    "pycharm": {
     "name": "#%%\n"
    }
   }
  },
  {
   "cell_type": "code",
   "execution_count": 79,
   "outputs": [
    {
     "data": {
      "text/plain": "                     time  user_id         type  amount  target  feature1  feature2  events_ordinal_number    second_event_time  loan_ordinal_number  events_time_diff  previous_loans_max_amount\n144   2001-01-07 00:00:00      481         loan   15501     0.0         0         1                      1  2002-02-21 15:00:00                    1               NaN                        NaN\n183   2001-01-08 15:00:00      481         loan   13862     1.0         1         0                      2  2002-02-21 15:00:00                    2   1 days 15:00:00                    15501.0\n1978  2001-03-24 10:00:00      481  loanRequest   15593     NaN         1         1                      3  2002-02-21 15:00:00                    3  74 days 19:00:00                    15501.0\n2497  2001-04-15 01:00:00      481  loanRequest   15061     NaN         0         0                      4  2002-02-21 15:00:00                    3  21 days 15:00:00                    15501.0\n3034  2001-05-07 10:00:00      481         loan   15924     1.0         1         0                      5  2002-02-21 15:00:00                    3  22 days 09:00:00                    15501.0\n4378  2001-07-02 10:00:00      481  loanRequest   14485     NaN         0         0                      6  2002-02-21 15:00:00                    4  56 days 00:00:00                    15501.0\n4518  2001-07-08 06:00:00      481         loan   14727     0.0         0         0                      7  2002-02-21 15:00:00                    4   5 days 20:00:00                    15924.0\n4745  2001-07-17 17:00:00      481  loanRequest   16143     NaN         1         0                      8  2002-02-21 15:00:00                    5   9 days 11:00:00                    15924.0\n6100  2001-09-12 04:00:00      481  loanRequest   13933     NaN         0         1                      9  2002-02-21 15:00:00                    5  56 days 11:00:00                    15924.0\n6208  2001-09-16 16:00:00      481         loan   14650     1.0         0         0                     10  2002-02-21 15:00:00                    5   4 days 12:00:00                    15924.0\n7759  2001-11-20 07:00:00      481  loanRequest   15344     NaN         1         1                     11  2002-02-21 15:00:00                    6  64 days 15:00:00                    15924.0\n7946  2001-11-28 02:00:00      481  loanRequest   14547     NaN         0         0                     12  2002-02-21 15:00:00                    6   7 days 19:00:00                    15924.0\n9999  2002-02-21 15:00:00      481  loanRequest   16725     NaN         0         1                     13  2002-02-21 15:00:00                    6  85 days 13:00:00                    15924.0",
      "text/html": "<div>\n<style scoped>\n    .dataframe tbody tr th:only-of-type {\n        vertical-align: middle;\n    }\n\n    .dataframe tbody tr th {\n        vertical-align: top;\n    }\n\n    .dataframe thead th {\n        text-align: right;\n    }\n</style>\n<table border=\"1\" class=\"dataframe\">\n  <thead>\n    <tr style=\"text-align: right;\">\n      <th></th>\n      <th>time</th>\n      <th>user_id</th>\n      <th>type</th>\n      <th>amount</th>\n      <th>target</th>\n      <th>feature1</th>\n      <th>feature2</th>\n      <th>events_ordinal_number</th>\n      <th>second_event_time</th>\n      <th>loan_ordinal_number</th>\n      <th>events_time_diff</th>\n      <th>previous_loans_max_amount</th>\n    </tr>\n  </thead>\n  <tbody>\n    <tr>\n      <th>144</th>\n      <td>2001-01-07 00:00:00</td>\n      <td>481</td>\n      <td>loan</td>\n      <td>15501</td>\n      <td>0.0</td>\n      <td>0</td>\n      <td>1</td>\n      <td>1</td>\n      <td>2002-02-21 15:00:00</td>\n      <td>1</td>\n      <td>NaN</td>\n      <td>NaN</td>\n    </tr>\n    <tr>\n      <th>183</th>\n      <td>2001-01-08 15:00:00</td>\n      <td>481</td>\n      <td>loan</td>\n      <td>13862</td>\n      <td>1.0</td>\n      <td>1</td>\n      <td>0</td>\n      <td>2</td>\n      <td>2002-02-21 15:00:00</td>\n      <td>2</td>\n      <td>1 days 15:00:00</td>\n      <td>15501.0</td>\n    </tr>\n    <tr>\n      <th>1978</th>\n      <td>2001-03-24 10:00:00</td>\n      <td>481</td>\n      <td>loanRequest</td>\n      <td>15593</td>\n      <td>NaN</td>\n      <td>1</td>\n      <td>1</td>\n      <td>3</td>\n      <td>2002-02-21 15:00:00</td>\n      <td>3</td>\n      <td>74 days 19:00:00</td>\n      <td>15501.0</td>\n    </tr>\n    <tr>\n      <th>2497</th>\n      <td>2001-04-15 01:00:00</td>\n      <td>481</td>\n      <td>loanRequest</td>\n      <td>15061</td>\n      <td>NaN</td>\n      <td>0</td>\n      <td>0</td>\n      <td>4</td>\n      <td>2002-02-21 15:00:00</td>\n      <td>3</td>\n      <td>21 days 15:00:00</td>\n      <td>15501.0</td>\n    </tr>\n    <tr>\n      <th>3034</th>\n      <td>2001-05-07 10:00:00</td>\n      <td>481</td>\n      <td>loan</td>\n      <td>15924</td>\n      <td>1.0</td>\n      <td>1</td>\n      <td>0</td>\n      <td>5</td>\n      <td>2002-02-21 15:00:00</td>\n      <td>3</td>\n      <td>22 days 09:00:00</td>\n      <td>15501.0</td>\n    </tr>\n    <tr>\n      <th>4378</th>\n      <td>2001-07-02 10:00:00</td>\n      <td>481</td>\n      <td>loanRequest</td>\n      <td>14485</td>\n      <td>NaN</td>\n      <td>0</td>\n      <td>0</td>\n      <td>6</td>\n      <td>2002-02-21 15:00:00</td>\n      <td>4</td>\n      <td>56 days 00:00:00</td>\n      <td>15501.0</td>\n    </tr>\n    <tr>\n      <th>4518</th>\n      <td>2001-07-08 06:00:00</td>\n      <td>481</td>\n      <td>loan</td>\n      <td>14727</td>\n      <td>0.0</td>\n      <td>0</td>\n      <td>0</td>\n      <td>7</td>\n      <td>2002-02-21 15:00:00</td>\n      <td>4</td>\n      <td>5 days 20:00:00</td>\n      <td>15924.0</td>\n    </tr>\n    <tr>\n      <th>4745</th>\n      <td>2001-07-17 17:00:00</td>\n      <td>481</td>\n      <td>loanRequest</td>\n      <td>16143</td>\n      <td>NaN</td>\n      <td>1</td>\n      <td>0</td>\n      <td>8</td>\n      <td>2002-02-21 15:00:00</td>\n      <td>5</td>\n      <td>9 days 11:00:00</td>\n      <td>15924.0</td>\n    </tr>\n    <tr>\n      <th>6100</th>\n      <td>2001-09-12 04:00:00</td>\n      <td>481</td>\n      <td>loanRequest</td>\n      <td>13933</td>\n      <td>NaN</td>\n      <td>0</td>\n      <td>1</td>\n      <td>9</td>\n      <td>2002-02-21 15:00:00</td>\n      <td>5</td>\n      <td>56 days 11:00:00</td>\n      <td>15924.0</td>\n    </tr>\n    <tr>\n      <th>6208</th>\n      <td>2001-09-16 16:00:00</td>\n      <td>481</td>\n      <td>loan</td>\n      <td>14650</td>\n      <td>1.0</td>\n      <td>0</td>\n      <td>0</td>\n      <td>10</td>\n      <td>2002-02-21 15:00:00</td>\n      <td>5</td>\n      <td>4 days 12:00:00</td>\n      <td>15924.0</td>\n    </tr>\n    <tr>\n      <th>7759</th>\n      <td>2001-11-20 07:00:00</td>\n      <td>481</td>\n      <td>loanRequest</td>\n      <td>15344</td>\n      <td>NaN</td>\n      <td>1</td>\n      <td>1</td>\n      <td>11</td>\n      <td>2002-02-21 15:00:00</td>\n      <td>6</td>\n      <td>64 days 15:00:00</td>\n      <td>15924.0</td>\n    </tr>\n    <tr>\n      <th>7946</th>\n      <td>2001-11-28 02:00:00</td>\n      <td>481</td>\n      <td>loanRequest</td>\n      <td>14547</td>\n      <td>NaN</td>\n      <td>0</td>\n      <td>0</td>\n      <td>12</td>\n      <td>2002-02-21 15:00:00</td>\n      <td>6</td>\n      <td>7 days 19:00:00</td>\n      <td>15924.0</td>\n    </tr>\n    <tr>\n      <th>9999</th>\n      <td>2002-02-21 15:00:00</td>\n      <td>481</td>\n      <td>loanRequest</td>\n      <td>16725</td>\n      <td>NaN</td>\n      <td>0</td>\n      <td>1</td>\n      <td>13</td>\n      <td>2002-02-21 15:00:00</td>\n      <td>6</td>\n      <td>85 days 13:00:00</td>\n      <td>15924.0</td>\n    </tr>\n  </tbody>\n</table>\n</div>"
     },
     "execution_count": 79,
     "metadata": {},
     "output_type": "execute_result"
    }
   ],
   "source": [
    "df[df['user_id'] == 481]"
   ],
   "metadata": {
    "collapsed": false,
    "pycharm": {
     "name": "#%%\n"
    }
   }
  },
  {
   "cell_type": "code",
   "execution_count": 80,
   "outputs": [],
   "source": [
    "df.insert(loc=df.shape[1], column='eon', value=np.zeros(df.shape[0]))"
   ],
   "metadata": {
    "collapsed": false,
    "pycharm": {
     "name": "#%%\n"
    }
   }
  },
  {
   "cell_type": "code",
   "execution_count": null,
   "outputs": [],
   "source": [
    "df['eon']"
   ],
   "metadata": {
    "collapsed": false,
    "pycharm": {
     "name": "#%%\n"
    }
   }
  }
 ],
 "metadata": {
  "interpreter": {
   "hash": "68743ecd4817b06d131c0128d13b5b480f111b6a03451c704455a0b9672af217"
  },
  "kernelspec": {
   "name": "local-venv",
   "language": "python",
   "display_name": "local-venv"
  },
  "language_info": {
   "codemirror_mode": {
    "name": "ipython",
    "version": 3
   },
   "file_extension": ".py",
   "mimetype": "text/x-python",
   "name": "python",
   "nbconvert_exporter": "python",
   "pygments_lexer": "ipython3",
   "version": "3.9.2"
  },
  "orig_nbformat": 4
 },
 "nbformat": 4,
 "nbformat_minor": 2
}