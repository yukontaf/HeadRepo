{
 "cells": [
  {
   "cell_type": "code",
   "execution_count": 23,
   "metadata": {
    "collapsed": true
   },
   "outputs": [],
   "source": [
    "import pandas as pd, numpy as np\n",
    "from IPython.core.interactiveshell import InteractiveShell\n",
    "\n",
    "InteractiveShell.ast_node_interactivity = \"all\""
   ]
  },
  {
   "cell_type": "code",
   "execution_count": 58,
   "outputs": [],
   "source": [
    "sales, forecast = pd.read_excel('/Users/glebsokolov/Downloads/Тестовое задание.xlsx',\n",
    "                                sheet_name='продажи'), pd.read_excel(\n",
    "    '/Users/glebsokolov/Downloads/Тестовое задание.xlsx', sheet_name='прогноз')\n",
    "sales = sales.rename({sales.columns[-1]: 'sales', sales.columns[2]: 'week', 'ТК': 'tc', 'Товар': 'item'}, axis=1)\n",
    "forecast = forecast.rename({forecast.columns[-1]: 'forecast'}, axis=1)\n",
    "sales = sales.join(forecast.forecast, how='left')\n",
    "sales['error'] = np.abs(sales.sales - forecast.forecast)"
   ],
   "metadata": {
    "collapsed": false,
    "pycharm": {
     "name": "#%%\n"
    }
   }
  },
  {
   "cell_type": "code",
   "execution_count": 59,
   "outputs": [
    {
     "data": {
      "text/plain": "Index(['item', 'tc', 'week', 'sales', 'forecast', 'error'], dtype='object')"
     },
     "execution_count": 59,
     "metadata": {},
     "output_type": "execute_result"
    }
   ],
   "source": [
    "sales.columns"
   ],
   "metadata": {
    "collapsed": false,
    "pycharm": {
     "name": "#%%\n"
    }
   }
  },
  {
   "cell_type": "code",
   "execution_count": 60,
   "outputs": [
    {
     "data": {
      "text/plain": "         item  sales  forecast  error\ntc week                              \nS1 14    4452    158       123     35\n   14    7346    110       195     85\n   14    7852    199       199      0\n   14    1056    113       174     61\n   14    5011    132       135      3\n...       ...    ...       ...    ...\nS3 17    2339    193       146     47\n   17    1219    161       139     22\n   17    7925    169       176      7\n   17    3659    121       154     33\n   17    3729    164       101     63\n\n[1188 rows x 4 columns]",
      "text/html": "<div>\n<style scoped>\n    .dataframe tbody tr th:only-of-type {\n        vertical-align: middle;\n    }\n\n    .dataframe tbody tr th {\n        vertical-align: top;\n    }\n\n    .dataframe thead th {\n        text-align: right;\n    }\n</style>\n<table border=\"1\" class=\"dataframe\">\n  <thead>\n    <tr style=\"text-align: right;\">\n      <th></th>\n      <th></th>\n      <th>item</th>\n      <th>sales</th>\n      <th>forecast</th>\n      <th>error</th>\n    </tr>\n    <tr>\n      <th>tc</th>\n      <th>week</th>\n      <th></th>\n      <th></th>\n      <th></th>\n      <th></th>\n    </tr>\n  </thead>\n  <tbody>\n    <tr>\n      <th rowspan=\"5\" valign=\"top\">S1</th>\n      <th>14</th>\n      <td>4452</td>\n      <td>158</td>\n      <td>123</td>\n      <td>35</td>\n    </tr>\n    <tr>\n      <th>14</th>\n      <td>7346</td>\n      <td>110</td>\n      <td>195</td>\n      <td>85</td>\n    </tr>\n    <tr>\n      <th>14</th>\n      <td>7852</td>\n      <td>199</td>\n      <td>199</td>\n      <td>0</td>\n    </tr>\n    <tr>\n      <th>14</th>\n      <td>1056</td>\n      <td>113</td>\n      <td>174</td>\n      <td>61</td>\n    </tr>\n    <tr>\n      <th>14</th>\n      <td>5011</td>\n      <td>132</td>\n      <td>135</td>\n      <td>3</td>\n    </tr>\n    <tr>\n      <th>...</th>\n      <th>...</th>\n      <td>...</td>\n      <td>...</td>\n      <td>...</td>\n      <td>...</td>\n    </tr>\n    <tr>\n      <th rowspan=\"5\" valign=\"top\">S3</th>\n      <th>17</th>\n      <td>2339</td>\n      <td>193</td>\n      <td>146</td>\n      <td>47</td>\n    </tr>\n    <tr>\n      <th>17</th>\n      <td>1219</td>\n      <td>161</td>\n      <td>139</td>\n      <td>22</td>\n    </tr>\n    <tr>\n      <th>17</th>\n      <td>7925</td>\n      <td>169</td>\n      <td>176</td>\n      <td>7</td>\n    </tr>\n    <tr>\n      <th>17</th>\n      <td>3659</td>\n      <td>121</td>\n      <td>154</td>\n      <td>33</td>\n    </tr>\n    <tr>\n      <th>17</th>\n      <td>3729</td>\n      <td>164</td>\n      <td>101</td>\n      <td>63</td>\n    </tr>\n  </tbody>\n</table>\n<p>1188 rows × 4 columns</p>\n</div>"
     },
     "execution_count": 60,
     "metadata": {},
     "output_type": "execute_result"
    }
   ],
   "source": [
    "sales.set_index(['tc', 'week'])\n"
   ],
   "metadata": {
    "collapsed": false,
    "pycharm": {
     "name": "#%%\n"
    }
   }
  },
  {
   "cell_type": "code",
   "execution_count": 110,
   "outputs": [
    {
     "data": {
      "text/plain": "{'S2': {14: 0.22464573492636844,\n  15: 0.2293145776657156,\n  16: 0.2213215258855586,\n  17: 0.21420889904557064},\n 'S1': {14: 0.20360489328474754,\n  15: 0.23930508823731375,\n  16: 0.19571844725967075,\n  17: 0.23810176930462212},\n 'S3': {14: 0.2366107654855288,\n  15: 0.20784574468085107,\n  16: 0.22069341325522784,\n  17: 0.23442387904066736}}"
     },
     "execution_count": 110,
     "metadata": {},
     "output_type": "execute_result"
    }
   ],
   "source": [
    "wape = {}\n",
    "wape_max = {}\n",
    "for category in set(sales['tc'].to_numpy()):\n",
    "    cat = sales[sales['tc'] == category].set_index('week').sort_index(ascending=True)\n",
    "    wv, wvm = {}, {}\n",
    "    for week in sorted(set(cat.index.to_numpy())):\n",
    "        week_data = cat[cat.index.isin([week])]\n",
    "        max_sales = max(week_data.sales)\n",
    "        wv[week] = sum(week_data.error.to_numpy()) / sum(week_data.sales.to_numpy())\n",
    "        wvm[week] = 2*0.99 * sum(\n",
    "            week_data[week_data['forecast'] >= max_sales]['forecast'].to_numpy() - max_sales) + 0.01 * sum(\n",
    "            max_sales - week_data[week_data['forecast'] < max_sales]['forecast'].to_numpy()) / sum(\n",
    "            week_data.sales.to_numpy())\n",
    "    wape[category] = wv\n",
    "    wape_max[category] = wvm\n",
    "wape\n"
   ],
   "metadata": {
    "collapsed": false,
    "pycharm": {
     "name": "#%%\n"
    }
   }
  },
  {
   "cell_type": "code",
   "execution_count": 111,
   "outputs": [
    {
     "data": {
      "text/plain": "{'S2': {14: 7.923139761044735,\n  15: 0.003181607059916396,\n  16: 0.003166893732970027,\n  17: 0.0034030111574136312},\n 'S1': {14: 0.003178682977615825,\n  15: 0.0034690654398132257,\n  16: 1.9833696904003795,\n  17: 15.843173090111096},\n 'S3': {14: 0.0033912631863673246,\n  15: 0.003339095744680851,\n  16: 5.9432797493358756,\n  17: 0.0029412148070907195}}"
     },
     "execution_count": 111,
     "metadata": {},
     "output_type": "execute_result"
    }
   ],
   "source": [
    "wape_max"
   ],
   "metadata": {
    "collapsed": false,
    "pycharm": {
     "name": "#%%\n"
    }
   }
  },
  {
   "cell_type": "code",
   "execution_count": null,
   "outputs": [],
   "source": [],
   "metadata": {
    "collapsed": false,
    "pycharm": {
     "name": "#%%\n"
    }
   }
  }
 ],
 "metadata": {
  "kernelspec": {
   "name": "local-venv",
   "language": "python",
   "display_name": "local-venv"
  },
  "language_info": {
   "codemirror_mode": {
    "name": "ipython",
    "version": 2
   },
   "file_extension": ".py",
   "mimetype": "text/x-python",
   "name": "python",
   "nbconvert_exporter": "python",
   "pygments_lexer": "ipython2",
   "version": "2.7.6"
  }
 },
 "nbformat": 4,
 "nbformat_minor": 0
}