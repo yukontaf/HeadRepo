{
 "cells": [
  {
   "cell_type": "code",
   "execution_count": 1,
   "metadata": {
    "collapsed": true
   },
   "outputs": [],
   "source": [
    "import pandas as pd, numpy as np, math, operator\n",
    "from IPython.core.interactiveshell import InteractiveShell\n",
    "InteractiveShell.ast_node_interactivity = \"all\""
   ]
  },
  {
   "cell_type": "markdown",
   "source": [
    "Направления - это пары городов, где каждый город представлен в виде трехбуквенного кода. Поле L2B рассчитывается как Поиски разделить на Сегменты. Округление вверх до целого.\n",
    "При этом если Сегменты равны 0, то L2B = Поиски.\n",
    "\n",
    "Найти показатель L2B для всех направлений, в которых встречается код MOW. При расчете игнорировать направления без Сегментов.\n",
    "Определить топ-3 городов с наибольшим суммарным значением L2B по всем направлениям, где они представлены."
   ],
   "metadata": {
    "collapsed": false
   }
  },
  {
   "cell_type": "code",
   "execution_count": 2,
   "outputs": [],
   "source": [
    "df1 = pd.read_excel('/Users/glebsokolov/HeadRepo/Тестовое задание для младшего аналитика.xlsx', sheet_name=1)\n",
    "df1"
   ],
   "metadata": {
    "collapsed": false,
    "pycharm": {
     "name": "#%%\n"
    }
   }
  },
  {
   "cell_type": "code",
   "execution_count": 32,
   "outputs": [],
   "source": [
    "ind = df1['Направление'].apply(lambda x: True if 'MOW' in x else False).values\n",
    "mow = df1.iloc[ind]\n",
    "mow = mow[mow['Сегменты'] != 0]\n",
    "mow, l2b = mow.iloc[:, :3], mow.iloc[:, 3]\n",
    "mow['L2B'] = (mow['Поиски'] / mow['Сегменты']).apply(lambda x: math.floor(x))"
   ],
   "metadata": {
    "collapsed": false,
    "pycharm": {
     "name": "#%%\n"
    }
   }
  },
  {
   "cell_type": "code",
   "execution_count": 34,
   "outputs": [
    {
     "data": {
      "text/plain": "True"
     },
     "execution_count": 34,
     "metadata": {},
     "output_type": "execute_result"
    }
   ],
   "source": [
    "mow['L2B'].equals(l2b)"
   ],
   "metadata": {
    "collapsed": false,
    "pycharm": {
     "name": "#%%\n"
    }
   }
  },
  {
   "cell_type": "code",
   "execution_count": 89,
   "outputs": [],
   "source": [
    "def make_top(df1):\n",
    "    t = df1[df1.columns[0]].apply(lambda x: x.split('-')).values\n",
    "    cities = []\n",
    "    for i in t:\n",
    "        if i[0] not in cities:\n",
    "            cities.append(i[0])\n",
    "        if i[1] not in cities:\n",
    "            cities.append(i[1])\n",
    "    cities = set(cities[:-3])\n",
    "    rating = {}\n",
    "    for city in cities:\n",
    "        rating[city] = sum(df1[df1['Направление'].str.contains(city)\n",
    "                           ]['L2B'].values)\n",
    "    return sorted(rating.items(), key=operator.itemgetter(1), reverse=True)[:3]"
   ],
   "metadata": {
    "collapsed": false,
    "pycharm": {
     "name": "#%%\n"
    }
   }
  },
  {
   "cell_type": "code",
   "execution_count": 90,
   "outputs": [
    {
     "data": {
      "text/plain": "[('MOW', 16724331), ('LED', 7399457), ('KRR', 4679392)]"
     },
     "execution_count": 90,
     "metadata": {},
     "output_type": "execute_result"
    }
   ],
   "source": [
    "make_top(df1)\n"
   ],
   "metadata": {
    "collapsed": false,
    "pycharm": {
     "name": "#%%\n"
    }
   }
  },
  {
   "cell_type": "markdown",
   "source": [
    "Откуда и Куда представлено 3-х буквенными кодами.\n",
    "День - это день недели, от 1 до 7.\n",
    "\n",
    "Для каждой уникальной связки Откуда-Куда нужно выбрать одного наиболее выгодного поставщика. Выгодный поставщик - это такой поставщик, который больше всего дней недели оказывался дешевле (то есть имел меньшую Стоимость) других поставщиков."
   ],
   "metadata": {
    "collapsed": false
   }
  },
  {
   "cell_type": "code",
   "execution_count": 3,
   "outputs": [],
   "source": [
    "df2 = pd.read_excel('/Users/glebsokolov/HeadRepo/Тестовое задание для младшего аналитика.xlsx', sheet_name=2)\n",
    "df2['route'] = df2[['Откуда', 'Куда']].agg('-'.join, axis=1)\n",
    "routes = df2.route.unique()"
   ],
   "metadata": {
    "collapsed": false,
    "pycharm": {
     "name": "#%%\n"
    }
   }
  },
  {
   "cell_type": "code",
   "execution_count": 12,
   "outputs": [
    {
     "data": {
      "text/plain": "{'OSS-UUS': 47,\n 'BGW-MOW': 11,\n 'KRR-KHV': 30,\n 'KRR-LPA': 3,\n 'CAG-ROM': 3,\n 'HEL-CAS': 3,\n 'KUL-TAS': 3,\n 'BEL-SAO': 3,\n 'MAD-MIA': 3,\n 'FRA-MLA': 3,\n 'ROV-DUS': 47,\n 'KZN-RHO': 3,\n 'BRU-MSQ': 3,\n 'MQF-SIP': 47,\n 'NYC-DFW': 3,\n 'MAA-MOW': 3,\n 'GRX-BCN': 3,\n 'LIS-CAS': 3,\n 'MOW-YYJ': 3,\n 'LON-YTO': 3,\n 'TBS-KEJ': 3,\n 'IEV-PAR': 3,\n 'RIX-HAM': 3,\n 'VOG-TCI': 3,\n 'VOZ-REN': 47,\n 'OVB-FRU': 47,\n 'PKV-AER': 30,\n 'MMK-SCW': 47,\n 'PRG-ROM': 3,\n 'NER-YKS': 3,\n 'OSS-HTA': 45,\n 'NNM-SIP': 30,\n 'MOW-ALC': 3,\n 'ALC-AMS': 11,\n 'OVB-DXB': 3,\n 'SIP-NOZ': 36,\n 'BUS-HRK': 3,\n 'ALA-CAI': 11,\n 'BUD-AMS': 3,\n 'SGN-BKK': 3,\n 'PAR-MRS': 3,\n 'FLR-LED': 3,\n 'TJM-BER': 3,\n 'KZN-TOF': 36,\n 'BKK-OVB': 3,\n 'MSQ-STO': 3,\n 'SCW-PEE': 47,\n 'MOW-ACC': 3,\n 'BQS-GDZ': 36,\n 'UFA-BRU': 47,\n 'FLR-PMO': 3,\n 'SVX-SEA': 3,\n 'MMK-SKX': 47,\n 'SAO-BOS': 3,\n 'IEV-CHQ': 3,\n 'KJA-KGD': 36,\n 'KUF-THR': 3,\n 'CEK-MCX': 36,\n 'MSQ-MRS': 3,\n 'REN-AAQ': 47,\n 'OVB-NCE': 3,\n 'SGC-OVB': 36,\n 'CAI-DYU': 3,\n 'GRO-LED': 30,\n 'WRO-WAW': 3,\n 'CEK-KHV': 36,\n 'PKC-EVN': 36,\n 'PQC-SGN': 3,\n 'MOW-NCP': 3,\n 'KLF-LED': 36,\n 'MRV-RGK': 45,\n 'MOW-CEE': 30,\n 'CMB-LED': 3,\n 'VNO-STO': 3,\n 'KRR-NBC': 47,\n 'KHV-VOG': 47,\n 'BCN-GOJ': 47,\n 'TPE-NYC': 3,\n 'LED-SJJ': 3,\n 'MAD-IBZ': 3,\n 'KRO-LED': 46,\n 'AER-ASF': 36,\n 'SLY-SGC': 30,\n 'KIV-NYC': 3,\n 'VCE-HRK': 3,\n 'NUX-VOG': 47,\n 'KJA-AER': 36,\n 'SIA-MOW': 3,\n 'SIP-NYM': 36,\n 'ULN-SEL': 3,\n 'WAW-GOA': 3,\n 'LON-OPO': 3,\n 'IGU-RIO': 3,\n 'TJM-HRG': 3,\n 'BCN-EVN': 47,\n 'UKK-IST': 3,\n 'BOM-MOW': 3,\n 'BEG-BCN': 3,\n 'SCW-MRV': 30,\n 'MCX-KUF': 36,\n 'KUF-MLA': 3,\n 'SGC-IEV': 3,\n 'NCE-BCN': 3,\n 'RIX-BUH': 3,\n 'SHA-TYO': 3,\n 'AGP-MSQ': 3,\n 'PEE-SHA': 3,\n 'MLA-PMO': 3,\n 'OVB-GRO': 30,\n 'MOW-GIB': 3,\n 'MMK-PAR': 3,\n 'KIV-TIV': 3,\n 'MOW-BON': 3,\n 'ALC-BUD': 3,\n 'ALA-MLA': 3,\n 'ROV-PEE': 47,\n 'NYC-FMY': 3,\n 'MIA-BCN': 3,\n 'KHV-UUD': 30,\n 'FAO-LED': 3,\n 'OVB-LON': 47,\n 'KGD-FRU': 36,\n 'MSQ-RIX': 3,\n 'TLV-MLA': 3,\n 'KGD-TLL': 3,\n 'BEG-AER': 3,\n 'IBZ-BCN': 11,\n 'KUF-ODS': 3,\n 'LED-CUZ': 3,\n 'DUS-PMI': 3,\n 'AKX-CIT': 3,\n 'NYC-YMQ': 3,\n 'MMK-SGC': 47,\n 'DUS-HAM': 11,\n 'KUF-ROM': 3,\n 'FRA-SZG': 3,\n 'ALA-CIT': 3,\n 'RGK-LED': 36,\n 'SAO-LAX': 3,\n 'ROV-SKX': 47,\n 'SIP-UUS': 36,\n 'OSS-KJA': 36,\n 'MMK-ARH': 47,\n 'FRU-STO': 11,\n 'WAW-ZAG': 3,\n 'MAD-WAW': 3,\n 'OVS-KRR': 46,\n 'HTA-CEK': 36,\n 'BIO-MOW': 3,\n 'BER-NCE': 3,\n 'KRR-LEJ': 30,\n 'MOW-BIQ': 3,\n 'AGP-DXB': 3,\n 'HMA-OVB': 47,\n 'SEL-ULN': 3,\n 'TOF-LIS': 3,\n 'LIS-BCN': 3,\n 'ABA-KJA': 36,\n 'AMS-BCN': 11,\n 'BUD-KUF': 3,\n 'KJA-VOZ': 47,\n 'IEV-BIO': 3,\n 'KUF-AKL': 3,\n 'BRI-MOW': 3,\n 'CEK-GDX': 47,\n 'MMK-HKT': 3,\n 'NUX-KZN': 30,\n 'LAX-TYO': 3,\n 'DPS-IST': 3,\n 'SEL-USM': 3,\n 'THR-MSQ': 3,\n 'KIV-NJC': 3,\n 'MUC-CPH': 3,\n 'MOW-LIS': 3,\n 'TBS-MIL': 11,\n 'MOW-BRQ': 3,\n 'MOW-NUE': 3,\n 'MAD-RIO': 3,\n 'ARH-KJA': 47,\n 'NYC-TBS': 3,\n 'LED-ATH': 47,\n 'BLQ-BER': 3,\n 'OPO-AMS': 11,\n 'MLA-TLL': 3,\n 'MIL-LIS': 3,\n 'KGD-ASF': 36,\n 'ALC-TLL': 3,\n 'MJZ-UFA': 30,\n 'UTP-MOW': 3,\n 'CPH-BUD': 3,\n 'KZN-UKK': 3,\n 'MRV-AMS': 11,\n 'NBC-NAL': 47,\n 'STW-AER': 47,\n 'MOW-ASU': 3,\n 'IKT-RMI': 45,\n 'TAS-HKT': 3,\n 'TJM-PEE': 47,\n 'LON-STO': 3,\n 'MAD-HRK': 30,\n 'AYT-MSQ': 3,\n 'SGC-NJC': 47,\n 'BKK-LAX': 3,\n 'LCA-RIX': 3,\n 'TAS-MUC': 3,\n 'NBC-VVO': 36,\n 'SVG-MOW': 3,\n 'AMS-MSQ': 3,\n 'DXB-BAH': 3,\n 'ALC-CEK': 3,\n 'SVX-LAX': 3,\n 'AMS-SVX': 47,\n 'OMS-STR': 3,\n 'LED-BNX': 3,\n 'PRG-VNO': 3,\n 'MOW-NOI': 30,\n 'TOF-AER': 30,\n 'VNO-HAJ': 3,\n 'KZN-NMA': 3,\n 'KUF-SYD': 3,\n 'ROV-UUS': 47,\n 'MCX-DXB': 3,\n 'MOW-RVN': 3,\n 'RTW-FRU': 3,\n 'HAM-EVN': 3,\n 'PRG-FRA': 3,\n 'ARH-MCX': 47,\n 'VNO-ALC': 3,\n 'PFO-BUD': 3,\n 'CEK-LAX': 3,\n 'BER-LED': 47,\n 'KJA-PNH': 3,\n 'MLA-CTA': 3,\n 'UKX-OVB': 30,\n 'GDX-MQF': 36,\n 'AYT-PAR': 11,\n 'SVX-CAI': 47,\n 'OSL-GRV': 3,\n 'GDN-RIX': 3,\n 'DFW-LAX': 3,\n 'CEK-SIN': 3,\n 'KJA-BCN': 47,\n 'LED-FLL': 47,\n 'ARH-LED': 30,\n 'BKK-SIP': 3,\n 'SVX-AUH': 3,\n 'FNC-LIS': 3,\n 'RIO-NAT': 3,\n 'SKG-BUD': 3,\n 'GOJ-KGD': 47,\n 'IAR-SIP': 30,\n 'EVN-STW': 47,\n 'YKS-SVX': 30,\n 'BJS-BAK': 3,\n 'HRG-LED': 3,\n 'NER-CEK': 36,\n 'KZN-ASR': 3,\n 'GRV-PEE': 47,\n 'ROV-MIA': 3,\n 'KJA-TIV': 3,\n 'CPH-BKK': 3,\n 'BKK-ROM': 3,\n 'GOI-SIN': 3,\n 'IEV-TLS': 3,\n 'AER-ODS': 3,\n 'KIV-TYO': 3,\n 'AER-NOJ': 36,\n 'IZM-OZH': 3,\n 'IEV-HER': 3,\n 'KZN-ZAG': 3,\n 'ATH-CAI': 3,\n 'LED-KJA': 47,\n 'MUC-ATH': 3,\n 'WAW-BEG': 3,\n 'KZN-AGP': 3,\n 'NUX-PEZ': 47,\n 'PKC-DYR': 36,\n 'AMS-TBS': 11,\n 'MRV-PRG': 3,\n 'MOW-TCI': 3,\n 'TLL-HER': 3,\n 'PMO-MOW': 3,\n 'SVX-SEL': 36,\n 'PRG-AYT': 47,\n 'AER-ULY': 30,\n 'KRR-HAV': 30,\n 'MOW-KYA': 3,\n 'KRR-TGD': 3,\n 'UUD-MRV': 36,\n 'CSY-CEK': 30,\n 'ASB-MRV': 3,\n 'DNK-BAK': 3,\n 'MSQ-NJC': 47,\n 'LIS-RAI': 3,\n 'MOW-SMI': 3,\n 'UFA-HMA': 30,\n 'NYC-WAS': 3,\n 'PEE-TGD': 3,\n 'AYT-FRU': 11,\n 'PAR-BES': 3,\n 'NBC-NOJ': 30,\n 'HEL-PMI': 3,\n 'HEL-TLS': 3,\n 'ODS-MLE': 3,\n 'DTM-RIX': 3,\n 'EVN-KEJ': 3,\n 'SIP-FEG': 3,\n 'NYA-TJM': 46,\n 'KZN-NCE': 47,\n 'HRK-NYC': 3,\n 'GRV-SGC': 30,\n 'TOF-BAK': 3,\n 'LED-OKA': 3,\n 'MSQ-MNL': 3,\n 'LED-GRO': 30,\n 'DOH-DPS': 3,\n 'ODS-NYC': 3,\n 'REN-LED': 47,\n 'PEE-SGN': 3,\n 'VOZ-SVX': 30,\n 'AYT-KZN': 47,\n 'GDZ-NOZ': 36,\n 'LAX-CHI': 3,\n 'LED-JOK': 46,\n 'MRV-CEK': 36,\n 'CHQ-VNO': 3,\n 'LED-BRE': 3,\n 'BER-HKT': 3,\n 'PEE-CAI': 47,\n 'SIP-GDX': 47,\n 'CGN-FAO': 3,\n 'NSK-MCX': 36,\n 'JOG-DPS': 11,\n 'OVB-LAX': 36,\n 'SVX-UCT': 46,\n 'KEJ-PAR': 47,\n 'OVB-REN': 36,\n 'SVG-OSL': 11,\n 'MIA-IEV': 3,\n 'MSQ-LIS': 3,\n 'NCE-MAD': 3,\n 'RJK-MOW': 3,\n 'OMS-IKT': 36,\n 'BEG-KRR': 11,\n 'UUA-SIP': 30,\n 'BAX-LCA': 3,\n 'BFS-LON': 3,\n 'GOJ-TLV': 36,\n 'GDX-HTA': 36,\n 'NOJ-SIP': 3,\n 'ODS-PRG': 3,\n 'RIX-CFU': 3,\n 'TBS-TJM': 3,\n 'ROV-FRA': 3,\n 'AAQ-DEL': 3,\n 'ABA-KUF': 36,\n 'VRN-NAP': 3,\n 'MNL-SEL': 11,\n 'KGD-VOZ': 30,\n 'MOW-BKI': 3,\n 'LPK-KRR': 36,\n 'YMQ-MOW': 3,\n 'YTO-DEL': 3,\n 'ROV-HRG': 3,\n 'NUX-AYT': 36,\n 'IEV-HAN': 3,\n 'MOW-EYK': 46,\n 'DNK-MIL': 3,\n 'BER-BAK': 3,\n 'NUE-BER': 3,\n 'IEV-LIM': 3,\n 'KJA-AAQ': 47,\n 'RIX-BEG': 3,\n 'PEE-VRN': 3,\n 'UFA-MRS': 3,\n 'HKG-SFO': 3,\n 'SVX-VOZ': 36,\n 'NYC-BKK': 3,\n 'MIL-LPA': 3,\n 'HAV-MBJ': 3,\n 'LED-PYJ': 36,\n 'LED-LON': 47,\n 'IEV-GVA': 3,\n 'KJA-NBC': 47,\n 'OVB-LIM': 3,\n 'OMS-SGC': 47,\n 'KUF-SKD': 3,\n 'UFA-TLV': 3,\n 'TLV-GZP': 11,\n 'SIP-MIL': 47,\n 'LCA-DXB': 3,\n 'NYC-NAS': 3,\n 'SCW-GOJ': 47,\n 'DRS-BUD': 3,\n 'MOW-TER': 3,\n 'ZRH-NAP': 3,\n 'AYT-VNO': 3,\n 'MOW-SPK': 3,\n 'IEV-NAP': 3,\n 'CEK-VNO': 3,\n 'KRR-VNO': 3,\n 'SVX-DYU': 3,\n 'NBC-SGC': 47,\n 'STW-SKG': 3,\n 'BKK-HEL': 3,\n 'DEL-CCU': 11,\n 'MUC-MLA': 3,\n 'SVX-OVB': 36,\n 'MSQ-NAP': 3,\n 'GOJ-TBS': 3,\n 'MOW-JRO': 3,\n 'CHI-KIV': 3,\n 'MOW-TIJ': 3,\n 'PAR-RIO': 3,\n 'WAW-LWO': 3,\n 'ROV-BAK': 3,\n 'AER-LCA': 30,\n 'MAD-CPH': 3,\n 'STR-MIL': 3,\n 'AMM-MSQ': 3,\n 'PKC-PUS': 3,\n 'WAW-TIV': 3,\n 'SVX-LED': 45,\n 'MIL-FRA': 3,\n 'RGK-CEK': 45,\n 'OZH-IST': 11,\n 'BAK-SOF': 3,\n 'KEJ-LED': 36,\n 'MCX-BKK': 3,\n 'TLL-GDN': 3,\n 'MIA-TLV': 3,\n 'CGN-NCE': 3,\n 'EIN-IEV': 3,\n 'STO-TGD': 3,\n 'SIP-SKD': 3,\n 'BKK-LPQ': 3,\n 'LED-MRV': 45,\n 'KJA-VAR': 3,\n 'TJM-BKK': 3,\n 'BGY-PMO': 3,\n 'BCN-LIS': 3,\n 'KJA-MMK': 47,\n 'TAS-DXB': 3,\n 'LCA-CPH': 3,\n 'MOW-ASR': 3,\n 'BER-KTW': 3,\n 'IST-GRV': 3,\n 'BQS-EVN': 3,\n 'VNO-IEV': 3,\n 'SAO-BUE': 3,\n 'KRR-ALC': 3,\n 'MOW-ODS': 3,\n 'HAJ-MSQ': 3,\n 'WAW-HKT': 3,\n 'LIS-RIX': 3,\n 'ALA-REK': 3,\n 'EGO-MSQ': 47,\n 'BRU-TBS': 11,\n 'VVO-UUD': 36,\n 'LED-BLR': 3,\n 'ASF-AAQ': 36,\n 'MSQ-MUC': 3,\n 'CEK-BTS': 30,\n 'VNO-ATH': 3,\n 'SZZ-WAW': 3,\n 'WAW-TCI': 3,\n 'RIX-AUH': 3,\n 'ALA-GOI': 3,\n 'KUF-LWO': 3,\n 'UFA-BJS': 3,\n 'LPA-WAW': 3,\n 'MOW-SKB': 3,\n 'LON-LBA': 3,\n 'MRV-TJM': 47,\n 'ASF-MIL': 3,\n 'BKK-LGK': 3,\n 'LED-OSW': 47,\n 'TJM-OMS': 30,\n 'MOW-BOM': 3,\n 'MSQ-SCW': 47,\n 'HEL-KUL': 3,\n 'BER-MUC': 3,\n 'VOZ-UFA': 47,\n 'STO-SVX': 47,\n 'FRU-GRV': 3,\n 'HRK-WRO': 3,\n 'MAD-UIO': 3,\n 'WAW-SKG': 3,\n 'OVB-ROM': 3,\n 'BUD-VIE': 3,\n 'SVX-KGP': 46,\n 'RIX-DPS': 3,\n 'AYT-BER': 11,\n 'IEV-YTO': 3,\n 'SCO-AER': 3,\n 'TOF-IKT': 45,\n 'IZM-AYT': 11,\n 'HEL-PUJ': 3,\n 'NBC-ROV': 47,\n 'YKS-GRV': 3,\n 'TAO-MOW': 3,\n 'SPU-HEL': 3,\n 'IKT-UTP': 3,\n 'BJS-KUL': 3,\n 'OVB-KIN': 3,\n 'KUF-DRS': 3,\n 'BGY-PAR': 3,\n 'ASF-TBS': 3,\n 'NCE-MIL': 3,\n 'CEK-VRN': 3,\n 'IEV-MRS': 3,\n 'OVB-KRK': 3,\n 'AER-BLQ': 3,\n 'VIE-MRV': 11,\n 'WRO-ROM': 3,\n 'SCO-DXB': 3,\n 'SKP-MOW': 3,\n 'NSK-KUF': 36,\n 'BAK-DUS': 3,\n 'RTW-ROV': 47,\n 'DUB-MSQ': 3,\n 'VOG-UUD': 36,\n 'TYO-DXB': 3,\n 'LAX-LAS': 3,\n 'WAW-BGO': 3,\n 'BUD-TIV': 3,\n 'SVX-GOJ': 30,\n 'STR-AMS': 3,\n 'ROV-BUH': 3,\n 'CAN-KRT': 3,\n 'CHI-LWO': 3,\n 'TBS-AMS': 11,\n 'KTM-PKR': 11,\n 'MOW-GDZ': 36,\n 'ARH-MRV': 30,\n 'CPH-VNO': 3,\n 'TJM-AGP': 3,\n 'BAK-NJC': 3,\n 'NUE-MAD': 3,\n 'ULY-OGZ': 36,\n 'DTM-LED': 3,\n 'PER-DPS': 3,\n 'BLQ-KRR': 3,\n 'MOW-VRN': 36,\n 'MSQ-CUN': 3,\n 'TLL-LJU': 3,\n 'UUD-ROV': 36,\n 'TYO-SEL': 30,\n 'KRR-SKP': 11,\n 'LCA-AYT': 3,\n 'MRV-NUX': 47,\n 'PAR-FNC': 11,\n 'UFA-GRV': 47,\n 'IST-TYO': 3,\n 'GDZ-TJM': 36,\n 'LED-BOS': 3,\n 'MOW-KLX': 3,\n 'MOW-NOS': 3,\n 'BCN-WAW': 3,\n 'VLC-MOW': 3,\n 'IEV-BUH': 3,\n 'NUX-TBS': 3,\n 'MIL-HAM': 3,\n 'TOF-TAS': 3,\n 'PKC-OSS': 36,\n 'ROM-MLA': 3,\n 'CEK-NAP': 3,\n 'SHA-MUC': 3,\n 'VAR-ROM': 3,\n 'USK-KZN': 46,\n 'CPT-JNB': 11,\n 'KUF-ASB': 3,\n 'SYD-AKL': 3,\n 'UFA-LYS': 3,\n 'KBV-SIN': 3,\n 'MNL-HKT': 3,\n 'MOW-CSX': 3,\n 'MOW-SGN': 3,\n 'AGP-TCI': 11,\n 'KGD-KJA': 47,\n 'YKS-ALA': 3,\n 'PEE-PRG': 3,\n 'GOJ-FRU': 3,\n 'LWO-POZ': 3,\n 'BAX-TLV': 47,\n 'BER-RHO': 3,\n 'AYT-KRR': 11,\n 'GOJ-NYC': 3,\n 'AAQ-NUX': 47,\n 'KUF-VCE': 3,\n 'MLA-MOW': 3,\n 'TJM-RIX': 3,\n 'MJZ-OSS': 36,\n 'LAX-DEN': 3,\n 'BKK-SYD': 3,\n 'TJM-ATH': 3,\n 'MOW-ALF': 3,\n 'BAK-FRU': 3,\n 'UFA-LCA': 47,\n 'HRK-ANK': 11,\n 'GOJ-ZRH': 3,\n 'TLL-HRG': 3,\n 'MOW-KGS': 3,\n 'MOW-RHO': 3,\n 'KRR-MQF': 47,\n 'LED-YYC': 3,\n 'MOW-MZR': 3,\n 'IGR-BUE': 3,\n 'NBC-GDZ': 30,\n 'KUF-AMS': 3,\n 'GDN-VLC': 3,\n 'TLV-YMQ': 3,\n 'ATH-JTR': 3,\n 'SLY-VOZ': 30,\n 'MOW-SFG': 3,\n 'BUH-PMI': 3,\n 'LED-PES': 3,\n 'SGC-NOJ': 46,\n 'KWI-CAI': 11,\n 'MSQ-PMI': 3,\n 'TLV-SHA': 3,\n 'WAW-MLE': 3,\n 'BRU-OPO': 3,\n 'STW-AMS': 47,\n 'EVN-ROM': 47,\n 'WAW-SIN': 3,\n 'BER-OSL': 3,\n 'BQS-VVO': 3,\n 'SEL-PAR': 3,\n 'TLL-VAR': 3,\n 'ALA-AUH': 3,\n 'MCX-IST': 47,\n 'TLL-TGD': 3,\n 'MOW-USH': 3,\n 'HKT-BJS': 3,\n 'TLL-BRU': 3,\n 'VOZ-TAS': 36,\n 'LYS-PRG': 3,\n 'BER-SVX': 47,\n 'DYU-MSQ': 3,\n 'BJS-EVN': 3,\n 'AMS-DUB': 3,\n 'HKT-IST': 3,\n 'AMS-LED': 3,\n 'SIP-ROV': 47,\n 'PEE-OSL': 3,\n 'KZN-SFO': 3,\n 'PMI-TCI': 3,\n 'HKT-CNX': 11,\n 'MOW-EAP': 3,\n 'YTO-SFO': 3,\n 'PAR-CAG': 3,\n 'BRU-TLV': 3,\n 'VFA-JNB': 3,\n 'MCX-TBS': 3,\n 'NYC-MBJ': 3,\n 'SVX-VAR': 3,\n 'ALA-GUW': 3,\n 'DEL-TBS': 11,\n 'KLF-AAQ': 30,\n 'IEV-RTM': 3,\n 'IEV-RHO': 3,\n 'FRU-SEL': 3,\n 'MSQ-MRU': 30,\n 'ODS-VCE': 3,\n 'MIL-KUF': 47,\n 'OGZ-DXB': 3,\n 'SPU-ROM': 3,\n 'SIP-NBC': 47,\n 'MUC-EVN': 3,\n 'CEK-NUX': 36,\n 'LAX-DPS': 3,\n 'DUS-SIP': 3,\n 'SHA-CJU': 3,\n 'TLV-LWO': 3,\n 'KEJ-KGD': 47,\n 'KZN-SIP': 36,\n 'LYS-IEV': 3,\n 'BCN-GVA': 3,\n 'CEK-MSQ': 36,\n 'RIX-SIP': 3,\n 'BUD-PRG': 3,\n 'IEV-MSQ': 3,\n 'IKT-AGP': 3,\n 'KRR-BUD': 3,\n 'LIS-MAD': 3,\n 'PKC-BKK': 3,\n 'PES-EVN': 3,\n 'IEV-SEL': 3,\n 'MOW-DUS': 36,\n 'BOS-CUN': 3,\n 'LED-TAS': 3,\n 'SKG-MSQ': 3,\n 'SIP-OVB': 45,\n 'DXB-HKT': 11,\n 'BEG-WAW': 3,\n 'BGY-BCN': 3,\n 'KRR-KZN': 30,\n 'GUW-ALA': 3,\n 'MRV-SEL': 3,\n 'PAR-BOD': 3,\n 'HMA-MSQ': 47,\n 'MCX-SIP': 30,\n 'YNT-MOW': 3,\n 'LIS-KRK': 3,\n 'SIP-MQF': 47,\n 'PMO-VRN': 3,\n 'ABA-OVB': 36,\n 'PEE-MOW': 47,\n 'MRV-NOJ': 46,\n 'YTO-IEV': 3,\n 'URA-DXB': 3,\n 'GOA-ROM': 3,\n 'DXB-BER': 11,\n 'MIL-HRK': 3,\n 'FUE-BCN': 11,\n 'LED-FMO': 3,\n 'DOH-SGN': 3,\n 'MIL-SUF': 3,\n 'POZ-AMS': 3,\n 'UFA-BUS': 3,\n 'SKD-MOW': 3,\n 'NUX-EGO': 47,\n 'MSQ-SPU': 3,\n 'HAN-SEL': 3,\n 'BJS-KRR': 3,\n 'SVX-BUH': 3,\n 'VVO-SCL': 3,\n 'MAD-BCN': 11,\n 'VIE-LWO': 3,\n 'ULY-STW': 47,\n 'IST-MIL': 11,\n 'VRN-PAR': 3,\n 'BKK-AKL': 3,\n 'MSQ-ROV': 47,\n 'MMK-KHV': 36,\n 'KUF-GDZ': 36,\n 'BEG-SKP': 3,\n 'RIX-SFO': 3,\n 'VIE-SOF': 3,\n 'STW-LCA': 3,\n 'OSL-LYR': 11,\n 'BKK-AYT': 3,\n 'PRG-IST': 11,\n 'YKS-UUD': 30,\n 'CGN-BLQ': 3,\n 'TOF-ROM': 47,\n 'KJA-MRV': 45,\n 'SCO-LAX': 3,\n 'VVO-KRR': 47,\n 'VCE-BRU': 11,\n 'SCW-PRG': 3,\n 'TBS-JED': 3,\n 'MQF-SGC': 36,\n 'TCI-HEL': 3,\n 'OSL-NYC': 3,\n 'NYC-WAW': 3,\n 'SHA-KRR': 3,\n 'VOZ-AGP': 3,\n 'NBC-LWN': 30,\n 'AYT-PEE': 47,\n 'MUC-KUF': 3,\n 'KJA-YKS': 36,\n 'PKC-MRV': 47,\n 'MMK-AAQ': 36,\n 'TOF-VCE': 3,\n 'OGZ-OVB': 36,\n 'ATH-HEL': 3,\n 'UFA-KGD': 36,\n 'MOW-YXU': 3,\n 'AYT-DXB': 47,\n 'KIV-VOG': 3,\n 'VGD-MOW': 30,\n 'IST-DUS': 11,\n 'ALA-MIA': 3,\n 'MUC-VCE': 3,\n 'BCN-BGY': 3,\n 'UKK-TAS': 3,\n 'CEK-KJA': 36,\n 'MOW-CEB': 3,\n 'LAX-BCN': 3,\n 'TLV-BUH': 11,\n 'PEE-IGT': 46,\n 'BER-REK': 3,\n 'IZM-IST': 11,\n 'BUD-CTA': 3,\n 'ROV-DLM': 3,\n 'VIE-DBV': 3,\n 'RGK-KRR': 36,\n 'ROV-MRS': 3,\n 'AAQ-KHV': 47,\n 'BKK-AER': 3,\n 'KUF-YVR': 3,\n 'LED-AGP': 3,\n 'ALA-VLC': 3,\n 'PEE-BUD': 47,\n 'KZN-BEY': 3,\n 'IKT-RTW': 47,\n 'ASF-IKT': 36,\n 'KGD-FRA': 36,\n 'TLL-REK': 3,\n 'ARH-PEE': 47,\n 'PEE-MCX': 36,\n 'KUL-CEB': 3,\n 'ASF-PAR': 3,\n 'LIS-HEL': 3,\n 'TLV-AMM': 3,\n 'PAR-BUE': 3,\n 'GZP-KRR': 11,\n 'RTM-PAR': 3,\n 'IEV-GOT': 3,\n 'KJA-OSW': 47,\n 'IKT-BOM': 3,\n 'LED-TZX': 3,\n 'KTW-ODS': 3,\n 'MUC-GOJ': 3,\n 'AYT-MCX': 47,\n 'LON-ATH': 3,\n 'RMI-SVX': 45,\n 'TZX-IST': 3,\n 'TLV-CLJ': 3,\n 'NUX-KVX': 46,\n 'MOW-PPT': 3,\n 'MNL-KUL': 11,\n 'GDX-DYR': 30,\n 'SGN-IKT': 36,\n 'TLV-SKD': 30,\n 'EVN-MMK': 36,\n 'CEK-TCI': 3,\n 'PRG-BUH': 3,\n 'IEV-AYT': 11,\n 'MMK-UGC': 3,\n 'NJC-UUA': 30,\n 'MOW-KSY': 3,\n 'CAG-LED': 3,\n 'SAO-JPA': 3,\n 'ROM-MRV': 3,\n 'ALA-PAR': 3,\n 'WAW-SVX': 47,\n 'WRO-LED': 3,\n 'BRU-BER': 3,\n 'OMS-MMK': 47,\n 'RIO-FOR': 3,\n 'SIP-WAW': 3,\n 'KRR-CIT': 3,\n 'HAM-BER': 11,\n 'KRR-BGY': 3,\n 'EYK-UFA': 46,\n 'NUX-IKT': 36,\n 'ROV-SVX': 36,\n 'IGT-LED': 46,\n 'LED-BPN': 3,\n 'PEE-VIE': 47,\n 'CGN-KJA': 3,\n 'TIV-ROM': 3,\n 'PAR-CEK': 3,\n 'OGZ-CEK': 36,\n 'IAR-AER': 30,\n 'TBS-CEK': 3,\n 'PMI-ROM': 3,\n 'MRV-LCA': 45,\n 'MAD-OVB': 3,\n 'KHV-KUF': 47,\n 'SFO-ALA': 3,\n 'HKG-CEB': 11,\n 'SVX-GOA': 3,\n 'PRG-HER': 3,\n 'AER-UUD': 36,\n 'TAS-TMJ': 3,\n 'VVO-BAK': 3,\n 'HTA-GDX': 36,\n 'AGA-MOW': 3,\n 'AAQ-KVK': 36,\n 'WAW-BUD': 3,\n 'ROV-IBZ': 3,\n 'KZN-MAA': 3,\n 'HEL-KRR': 3,\n 'PRG-AGP': 3,\n 'RIX-EIN': 3,\n 'GOJ-DUS': 3,\n 'BUD-CGN': 11,\n 'KIV-MUC': 3,\n 'PRG-VAR': 3,\n 'MOW-TLC': 3,\n 'KIV-KRR': 3,\n 'LED-MHG': 3,\n 'KUF-RIX': 3,\n 'MOW-EOH': 3,\n 'CGN-IEV': 3,\n 'GOI-DXB': 3,\n 'KZN-IEV': 3,\n 'ROV-MQF': 36,\n 'CAI-KZN': 47,\n 'MIL-GDN': 3,\n 'CGN-TLV': 3,\n 'KTW-TCI': 3,\n 'MIA-HAV': 3,\n 'MCT-MOW': 3,\n 'HEL-BUS': 3,\n 'IST-UIO': 3,\n 'MOW-SXB': 3,\n 'DPS-SEL': 3,\n 'AER-TBS': 3,\n 'BCN-VAR': 3,\n 'SVX-NCE': 3,\n 'KRR-MEX': 3,\n 'CEK-LEJ': 30,\n 'GDZ-KZN': 36,\n 'KQT-MOW': 30,\n 'BJS-MNL': 3,\n 'ALC-MUC': 3,\n 'TLL-BCN': 3,\n 'CSY-VOG': 30,\n 'LIS-VIE': 3,\n 'VCE-HEL': 3,\n 'BJS-MLE': 3,\n 'FRU-RTW': 3,\n 'PRG-MQF': 3,\n 'CUN-MOW': 3,\n 'ROV-URS': 46,\n 'ROM-DXB': 11,\n 'BLQ-NAP': 3,\n 'TIV-MOW': 3,\n 'AER-BEG': 3,\n 'PLQ-BCN': 3,\n 'VOG-KIV': 3,\n 'REN-PAR': 3,\n 'MOW-KCH': 3,\n 'HKG-DXB': 11,\n 'GOI-DEL': 11,\n 'IEV-KBV': 3,\n 'BUD-SJJ': 3,\n 'MIL-AMS': 3,\n 'PRG-NBC': 47,\n 'VRN-DXB': 3,\n 'FRA-MAD': 3,\n 'KHV-NLI': 47,\n 'STR-KUF': 3,\n 'MCX-SCW': 47,\n 'BAK-KHV': 3,\n 'AGP-ROM': 11,\n 'ROV-ADA': 3,\n 'GDX-STW': 47,\n 'VTE-BKK': 3,\n 'UTP-CNX': 11,\n 'HEL-STO': 3,\n 'LEJ-ROM': 3,\n 'LED-BHX': 3,\n 'KUF-LED': 47,\n 'GOJ-MCX': 47,\n 'AER-RTW': 36,\n 'KUF-AYT': 36,\n 'UUD-KGD': 36,\n 'BAX-MMK': 47,\n 'SCW-TAS': 3,\n 'LED-NAL': 47,\n 'LED-PUS': 3,\n 'SAO-FLN': 3,\n 'VOZ-ATH': 47,\n 'NSK-BAK': 3,\n 'DBV-ZAG': 3,\n 'SVX-SJJ': 30,\n 'AER-ARH': 30,\n 'DPS-DOH': 3,\n 'HEL-NAP': 3,\n 'HEL-SPU': 3,\n 'MOW-GZP': 30,\n 'KZN-USM': 3,\n 'AER-TYO': 3,\n 'OGZ-KGD': 47,\n 'IST-HEL': 3,\n 'IEV-SEA': 3,\n 'ROM-PMO': 3,\n 'VNO-FAO': 3,\n 'MOW-SIN': 3,\n 'UFA-PKV': 30,\n 'HRK-ECN': 3,\n 'AMS-STO': 3,\n 'LED-BTK': 36,\n 'TBS-GOJ': 3,\n 'PAR-ROV': 47,\n 'KZN-SIN': 3,\n 'LON-LIM': 3,\n 'UFA-MLA': 3,\n 'VIE-DUS': 3,\n 'KVX-KZN': 30,\n 'MIL-STR': 3,\n 'SFO-MUC': 3,\n 'USK-PEE': 30,\n 'IST-STW': 47,\n 'TLV-AYT': 3,\n 'UUS-FEG': 3,\n 'MOW-BIO': 3,\n 'IEV-AGA': 3,\n 'BUD-OPO': 3,\n 'MOW-IND': 3,\n 'GOJ-VOG': 47,\n 'AUH-LED': 3,\n 'MSQ-DYU': 30,\n 'TCI-TLL': 3,\n ...}"
     },
     "execution_count": 12,
     "metadata": {},
     "output_type": "execute_result"
    }
   ],
   "source": [
    "d = df2.set_index(['День', 'Поставщик'])[['Стоимость', 'route']].sort_values(by='Стоимость', ascending=True)\n",
    "winners_by_route = {}\n",
    "for route in routes:\n",
    "    dd = d[d['route'] == route]\n",
    "    dd = dd.reset_index()\n",
    "    winners_by_day, winners_by_week = {}, {}\n",
    "    for day in dd['День'].unique():\n",
    "        winners_by_day[day] = dd[dd['День'] == day]['Поставщик'].values[0]\n",
    "    for value in set(winners_by_day.values()):\n",
    "        winners_by_week[value] = sum(1 for v in winners.values() if v == value)\n",
    "    winners_by_week = {k: v for k, v in sorted(w.items(), key=lambda item: item[1])}\n",
    "    winners_by_route[route] = list(winners_by_week.keys())[0]\n",
    "winners_by_route"
   ],
   "metadata": {
    "collapsed": false,
    "pycharm": {
     "name": "#%%\n"
    }
   }
  },
  {
   "cell_type": "code",
   "execution_count": 1,
   "outputs": [],
   "source": [
    "a=int(input('Введите число: '))"
   ],
   "metadata": {
    "collapsed": false,
    "pycharm": {
     "name": "#%%\n"
    }
   }
  },
  {
   "cell_type": "code",
   "execution_count": null,
   "outputs": [],
   "source": [],
   "metadata": {
    "collapsed": false,
    "pycharm": {
     "name": "#%%\n"
    }
   }
  }
 ],
 "metadata": {
  "kernelspec": {
   "name": "local-venv",
   "language": "python",
   "display_name": "local-venv"
  },
  "language_info": {
   "codemirror_mode": {
    "name": "ipython",
    "version": 2
   },
   "file_extension": ".py",
   "mimetype": "text/x-python",
   "name": "python",
   "nbconvert_exporter": "python",
   "pygments_lexer": "ipython2",
   "version": "2.7.6"
  }
 },
 "nbformat": 4,
 "nbformat_minor": 0
}