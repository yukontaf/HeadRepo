{
 "cells": [
  {
   "cell_type": "code",
   "execution_count": 1,
   "metadata": {
    "collapsed": true
   },
   "outputs": [],
   "source": [
    "import pandas as pd\n"
   ]
  },
  {
   "cell_type": "code",
   "execution_count": 2,
   "outputs": [],
   "source": [
    "cred = {\"host\": 'localhost', 'dbname': 'yukontaf', 'user': 'glebsokolov', 'password': ''}\n",
    "from sqlalchemy import create_engine\n",
    "import zipfile, os\n",
    "\n",
    "con = create_engine(\n",
    "    f'postgresql://{cred[\"user\"]}:{cred[\"password\"]}@{cred[\"host\"]}/{cred[\"dbname\"]}'\n",
    ")\n",
    "\n",
    "\n",
    "def select(sql, con):\n",
    "    with open(sql) as f:\n",
    "        return pd.read_sql(f.read(), con)\n",
    "\n",
    "\n",
    "def send(name=None, table=None, path=None, sheetn=None, con=con):\n",
    "    if table is not None and name:\n",
    "        return table.to_sql(name, if_exists='replace', con=con)\n",
    "    elif path and name:\n",
    "        if os.path.basename(path).endswith('.zip'):\n",
    "            with zipfile.ZipFile(path, 'r') as zip_ref:\n",
    "                folder = os.path.dirname(path) + '/' + name\n",
    "                zip_ref.extractall(folder)\n",
    "                os.remove(path)\n",
    "            for root, dirs, files in os.walk(folder):\n",
    "                for file in files:\n",
    "                    if file.endswith('.csv') or file.endswith('.txt'):\n",
    "                        if file.endswith('.txt'): sep = ' '\n",
    "                        if name != 'zip':\n",
    "                            pd.read_csv(os.path.join(root, file)).to_sql(name + '.' + file[:-4], if_exists='replace',\n",
    "                                                                         con=con)\n",
    "                        else:\n",
    "                            pd.read_csv(os.path.join(root, file), sep=sep).to_sql(file[:-4], if_exists='replace',\n",
    "                                                                                  con=con)\n",
    "                    elif file.endswith('.json'):\n",
    "                        pd.read_json(os.path.join(root, file)).to_sql(file[:-5], if_exists='replace',\n",
    "                                                                      con=con)\n",
    "                    os.remove(os.path.join(root, file))\n",
    "                return os.rmdir(folder)\n",
    "        elif os.path.basename(path).endswith('.csv'):\n",
    "            return pd.read_csv(path, encoding='utf-8', encoding_errors='ignore').to_sql(name, if_exists='replace',\n",
    "                                                                                        con=con)\n",
    "        elif os.path.basename(path).endswith('.xlsx'):\n",
    "            if sheetn:\n",
    "                return pd.read_excel(path, sheet_name=sheetn).to_sql(name, if_exists='replace', con=con)\n",
    "            else:\n",
    "                sheetn = input(f'Choose Sheet:{pd.ExcelFile(path).sheet_names}')\n",
    "                return pd.read_excel(path, sheet_name=sheetn).to_sql(name, if_exists='replace', con=con)\n",
    "    elif path:\n",
    "        if os.path.basename(path).endswith('.csv') or os.path.basename(path).endswith('.zip'):\n",
    "            return pd.read_csv(path).to_sql(os.path.basename(path)[:-4], if_exists='replace', con=con)\n",
    "        elif os.path.basename(path).endswith('.xlsx'):\n",
    "            if sheetn:\n",
    "                return pd.read_excel(path, sheet_name=sheetn).to_sql(os.path.basename(path)[:-5], if_exists='replace',\n",
    "                                                                     con=con)\n",
    "            else:\n",
    "                sheetn = input(f'Choose Sheet:{pd.ExcelFile(path).sheet_names}')\n",
    "                return pd.read_excel(path, sheet_name=sheetn).to_sql(os.path.basename(path)[:-5], if_exists='replace',\n",
    "                                                                     con=con)\n",
    "\n"
   ],
   "metadata": {
    "collapsed": false,
    "pycharm": {
     "name": "#%%\n"
    }
   }
  },
  {
   "cell_type": "code",
   "execution_count": 4,
   "outputs": [
    {
     "data": {
      "text/plain": "          D\n0       NaN\n1       NaN\n2       NaN\n3       NaN\n4       NaN\n...      ..\n1823215 NaN\n1823216 NaN\n1823217 NaN\n1823218 NaN\n1823219 NaN\n\n[1823220 rows x 1 columns]",
      "text/html": "<div>\n<style scoped>\n    .dataframe tbody tr th:only-of-type {\n        vertical-align: middle;\n    }\n\n    .dataframe tbody tr th {\n        vertical-align: top;\n    }\n\n    .dataframe thead th {\n        text-align: right;\n    }\n</style>\n<table border=\"1\" class=\"dataframe\">\n  <thead>\n    <tr style=\"text-align: right;\">\n      <th></th>\n      <th>D</th>\n    </tr>\n  </thead>\n  <tbody>\n    <tr>\n      <th>0</th>\n      <td>NaN</td>\n    </tr>\n    <tr>\n      <th>1</th>\n      <td>NaN</td>\n    </tr>\n    <tr>\n      <th>2</th>\n      <td>NaN</td>\n    </tr>\n    <tr>\n      <th>3</th>\n      <td>NaN</td>\n    </tr>\n    <tr>\n      <th>4</th>\n      <td>NaN</td>\n    </tr>\n    <tr>\n      <th>...</th>\n      <td>...</td>\n    </tr>\n    <tr>\n      <th>1823215</th>\n      <td>NaN</td>\n    </tr>\n    <tr>\n      <th>1823216</th>\n      <td>NaN</td>\n    </tr>\n    <tr>\n      <th>1823217</th>\n      <td>NaN</td>\n    </tr>\n    <tr>\n      <th>1823218</th>\n      <td>NaN</td>\n    </tr>\n    <tr>\n      <th>1823219</th>\n      <td>NaN</td>\n    </tr>\n  </tbody>\n</table>\n<p>1823220 rows × 1 columns</p>\n</div>"
     },
     "execution_count": 4,
     "metadata": {},
     "output_type": "execute_result"
    }
   ],
   "source": [
    "pd.read_csv('/Users/glebsokolov/Downloads/sales_train+.csv', sep=',', encoding_errors='ignore', on_bad_lines='skip')"
   ],
   "metadata": {
    "collapsed": false,
    "pycharm": {
     "name": "#%%\n"
    }
   }
  },
  {
   "cell_type": "code",
   "execution_count": 3,
   "outputs": [
    {
     "name": "stderr",
     "output_type": "stream",
     "text": [
      "/Users/glebsokolov/.local/share/virtualenvs/glebsokolov-qQcMW7DI/lib/python3.9/site-packages/openpyxl/reader/workbook.py:88: UserWarning: File contains an invalid specification for sales_train+. This will be removed\n",
      "  warn(msg)\n"
     ]
    },
    {
     "ename": "ValueError",
     "evalue": "Worksheet index 0 is invalid, 0 worksheets found",
     "output_type": "error",
     "traceback": [
      "\u001B[0;31m---------------------------------------------------------------------------\u001B[0m",
      "\u001B[0;31mValueError\u001B[0m                                Traceback (most recent call last)",
      "Input \u001B[0;32mIn [3]\u001B[0m, in \u001B[0;36m<module>\u001B[0;34m\u001B[0m\n\u001B[0;32m----> 1\u001B[0m \u001B[43mpd\u001B[49m\u001B[38;5;241;43m.\u001B[39;49m\u001B[43mread_excel\u001B[49m\u001B[43m(\u001B[49m\u001B[38;5;124;43m'\u001B[39;49m\u001B[38;5;124;43m/Users/glebsokolov/Downloads/sales_train+.xlsx\u001B[39;49m\u001B[38;5;124;43m'\u001B[39;49m\u001B[43m,\u001B[49m\u001B[43m \u001B[49m\u001B[43msheet_name\u001B[49m\u001B[38;5;241;43m=\u001B[39;49m\u001B[38;5;241;43m0\u001B[39;49m\u001B[43m)\u001B[49m\n",
      "File \u001B[0;32m~/.local/share/virtualenvs/glebsokolov-qQcMW7DI/lib/python3.9/site-packages/pandas/util/_decorators.py:311\u001B[0m, in \u001B[0;36mdeprecate_nonkeyword_arguments.<locals>.decorate.<locals>.wrapper\u001B[0;34m(*args, **kwargs)\u001B[0m\n\u001B[1;32m    305\u001B[0m \u001B[38;5;28;01mif\u001B[39;00m \u001B[38;5;28mlen\u001B[39m(args) \u001B[38;5;241m>\u001B[39m num_allow_args:\n\u001B[1;32m    306\u001B[0m     warnings\u001B[38;5;241m.\u001B[39mwarn(\n\u001B[1;32m    307\u001B[0m         msg\u001B[38;5;241m.\u001B[39mformat(arguments\u001B[38;5;241m=\u001B[39marguments),\n\u001B[1;32m    308\u001B[0m         \u001B[38;5;167;01mFutureWarning\u001B[39;00m,\n\u001B[1;32m    309\u001B[0m         stacklevel\u001B[38;5;241m=\u001B[39mstacklevel,\n\u001B[1;32m    310\u001B[0m     )\n\u001B[0;32m--> 311\u001B[0m \u001B[38;5;28;01mreturn\u001B[39;00m \u001B[43mfunc\u001B[49m\u001B[43m(\u001B[49m\u001B[38;5;241;43m*\u001B[39;49m\u001B[43margs\u001B[49m\u001B[43m,\u001B[49m\u001B[43m \u001B[49m\u001B[38;5;241;43m*\u001B[39;49m\u001B[38;5;241;43m*\u001B[39;49m\u001B[43mkwargs\u001B[49m\u001B[43m)\u001B[49m\n",
      "File \u001B[0;32m~/.local/share/virtualenvs/glebsokolov-qQcMW7DI/lib/python3.9/site-packages/pandas/io/excel/_base.py:465\u001B[0m, in \u001B[0;36mread_excel\u001B[0;34m(io, sheet_name, header, names, index_col, usecols, squeeze, dtype, engine, converters, true_values, false_values, skiprows, nrows, na_values, keep_default_na, na_filter, verbose, parse_dates, date_parser, thousands, decimal, comment, skipfooter, convert_float, mangle_dupe_cols, storage_options)\u001B[0m\n\u001B[1;32m    459\u001B[0m     \u001B[38;5;28;01mraise\u001B[39;00m \u001B[38;5;167;01mValueError\u001B[39;00m(\n\u001B[1;32m    460\u001B[0m         \u001B[38;5;124m\"\u001B[39m\u001B[38;5;124mEngine should not be specified when passing \u001B[39m\u001B[38;5;124m\"\u001B[39m\n\u001B[1;32m    461\u001B[0m         \u001B[38;5;124m\"\u001B[39m\u001B[38;5;124man ExcelFile - ExcelFile already has the engine set\u001B[39m\u001B[38;5;124m\"\u001B[39m\n\u001B[1;32m    462\u001B[0m     )\n\u001B[1;32m    464\u001B[0m \u001B[38;5;28;01mtry\u001B[39;00m:\n\u001B[0;32m--> 465\u001B[0m     data \u001B[38;5;241m=\u001B[39m \u001B[43mio\u001B[49m\u001B[38;5;241;43m.\u001B[39;49m\u001B[43mparse\u001B[49m\u001B[43m(\u001B[49m\n\u001B[1;32m    466\u001B[0m \u001B[43m        \u001B[49m\u001B[43msheet_name\u001B[49m\u001B[38;5;241;43m=\u001B[39;49m\u001B[43msheet_name\u001B[49m\u001B[43m,\u001B[49m\n\u001B[1;32m    467\u001B[0m \u001B[43m        \u001B[49m\u001B[43mheader\u001B[49m\u001B[38;5;241;43m=\u001B[39;49m\u001B[43mheader\u001B[49m\u001B[43m,\u001B[49m\n\u001B[1;32m    468\u001B[0m \u001B[43m        \u001B[49m\u001B[43mnames\u001B[49m\u001B[38;5;241;43m=\u001B[39;49m\u001B[43mnames\u001B[49m\u001B[43m,\u001B[49m\n\u001B[1;32m    469\u001B[0m \u001B[43m        \u001B[49m\u001B[43mindex_col\u001B[49m\u001B[38;5;241;43m=\u001B[39;49m\u001B[43mindex_col\u001B[49m\u001B[43m,\u001B[49m\n\u001B[1;32m    470\u001B[0m \u001B[43m        \u001B[49m\u001B[43musecols\u001B[49m\u001B[38;5;241;43m=\u001B[39;49m\u001B[43musecols\u001B[49m\u001B[43m,\u001B[49m\n\u001B[1;32m    471\u001B[0m \u001B[43m        \u001B[49m\u001B[43msqueeze\u001B[49m\u001B[38;5;241;43m=\u001B[39;49m\u001B[43msqueeze\u001B[49m\u001B[43m,\u001B[49m\n\u001B[1;32m    472\u001B[0m \u001B[43m        \u001B[49m\u001B[43mdtype\u001B[49m\u001B[38;5;241;43m=\u001B[39;49m\u001B[43mdtype\u001B[49m\u001B[43m,\u001B[49m\n\u001B[1;32m    473\u001B[0m \u001B[43m        \u001B[49m\u001B[43mconverters\u001B[49m\u001B[38;5;241;43m=\u001B[39;49m\u001B[43mconverters\u001B[49m\u001B[43m,\u001B[49m\n\u001B[1;32m    474\u001B[0m \u001B[43m        \u001B[49m\u001B[43mtrue_values\u001B[49m\u001B[38;5;241;43m=\u001B[39;49m\u001B[43mtrue_values\u001B[49m\u001B[43m,\u001B[49m\n\u001B[1;32m    475\u001B[0m \u001B[43m        \u001B[49m\u001B[43mfalse_values\u001B[49m\u001B[38;5;241;43m=\u001B[39;49m\u001B[43mfalse_values\u001B[49m\u001B[43m,\u001B[49m\n\u001B[1;32m    476\u001B[0m \u001B[43m        \u001B[49m\u001B[43mskiprows\u001B[49m\u001B[38;5;241;43m=\u001B[39;49m\u001B[43mskiprows\u001B[49m\u001B[43m,\u001B[49m\n\u001B[1;32m    477\u001B[0m \u001B[43m        \u001B[49m\u001B[43mnrows\u001B[49m\u001B[38;5;241;43m=\u001B[39;49m\u001B[43mnrows\u001B[49m\u001B[43m,\u001B[49m\n\u001B[1;32m    478\u001B[0m \u001B[43m        \u001B[49m\u001B[43mna_values\u001B[49m\u001B[38;5;241;43m=\u001B[39;49m\u001B[43mna_values\u001B[49m\u001B[43m,\u001B[49m\n\u001B[1;32m    479\u001B[0m \u001B[43m        \u001B[49m\u001B[43mkeep_default_na\u001B[49m\u001B[38;5;241;43m=\u001B[39;49m\u001B[43mkeep_default_na\u001B[49m\u001B[43m,\u001B[49m\n\u001B[1;32m    480\u001B[0m \u001B[43m        \u001B[49m\u001B[43mna_filter\u001B[49m\u001B[38;5;241;43m=\u001B[39;49m\u001B[43mna_filter\u001B[49m\u001B[43m,\u001B[49m\n\u001B[1;32m    481\u001B[0m \u001B[43m        \u001B[49m\u001B[43mverbose\u001B[49m\u001B[38;5;241;43m=\u001B[39;49m\u001B[43mverbose\u001B[49m\u001B[43m,\u001B[49m\n\u001B[1;32m    482\u001B[0m \u001B[43m        \u001B[49m\u001B[43mparse_dates\u001B[49m\u001B[38;5;241;43m=\u001B[39;49m\u001B[43mparse_dates\u001B[49m\u001B[43m,\u001B[49m\n\u001B[1;32m    483\u001B[0m \u001B[43m        \u001B[49m\u001B[43mdate_parser\u001B[49m\u001B[38;5;241;43m=\u001B[39;49m\u001B[43mdate_parser\u001B[49m\u001B[43m,\u001B[49m\n\u001B[1;32m    484\u001B[0m \u001B[43m        \u001B[49m\u001B[43mthousands\u001B[49m\u001B[38;5;241;43m=\u001B[39;49m\u001B[43mthousands\u001B[49m\u001B[43m,\u001B[49m\n\u001B[1;32m    485\u001B[0m \u001B[43m        \u001B[49m\u001B[43mdecimal\u001B[49m\u001B[38;5;241;43m=\u001B[39;49m\u001B[43mdecimal\u001B[49m\u001B[43m,\u001B[49m\n\u001B[1;32m    486\u001B[0m \u001B[43m        \u001B[49m\u001B[43mcomment\u001B[49m\u001B[38;5;241;43m=\u001B[39;49m\u001B[43mcomment\u001B[49m\u001B[43m,\u001B[49m\n\u001B[1;32m    487\u001B[0m \u001B[43m        \u001B[49m\u001B[43mskipfooter\u001B[49m\u001B[38;5;241;43m=\u001B[39;49m\u001B[43mskipfooter\u001B[49m\u001B[43m,\u001B[49m\n\u001B[1;32m    488\u001B[0m \u001B[43m        \u001B[49m\u001B[43mconvert_float\u001B[49m\u001B[38;5;241;43m=\u001B[39;49m\u001B[43mconvert_float\u001B[49m\u001B[43m,\u001B[49m\n\u001B[1;32m    489\u001B[0m \u001B[43m        \u001B[49m\u001B[43mmangle_dupe_cols\u001B[49m\u001B[38;5;241;43m=\u001B[39;49m\u001B[43mmangle_dupe_cols\u001B[49m\u001B[43m,\u001B[49m\n\u001B[1;32m    490\u001B[0m \u001B[43m    \u001B[49m\u001B[43m)\u001B[49m\n\u001B[1;32m    491\u001B[0m \u001B[38;5;28;01mfinally\u001B[39;00m:\n\u001B[1;32m    492\u001B[0m     \u001B[38;5;66;03m# make sure to close opened file handles\u001B[39;00m\n\u001B[1;32m    493\u001B[0m     \u001B[38;5;28;01mif\u001B[39;00m should_close:\n",
      "File \u001B[0;32m~/.local/share/virtualenvs/glebsokolov-qQcMW7DI/lib/python3.9/site-packages/pandas/io/excel/_base.py:1458\u001B[0m, in \u001B[0;36mExcelFile.parse\u001B[0;34m(self, sheet_name, header, names, index_col, usecols, squeeze, converters, true_values, false_values, skiprows, nrows, na_values, parse_dates, date_parser, thousands, comment, skipfooter, convert_float, mangle_dupe_cols, **kwds)\u001B[0m\n\u001B[1;32m   1424\u001B[0m \u001B[38;5;28;01mdef\u001B[39;00m \u001B[38;5;21mparse\u001B[39m(\n\u001B[1;32m   1425\u001B[0m     \u001B[38;5;28mself\u001B[39m,\n\u001B[1;32m   1426\u001B[0m     sheet_name: \u001B[38;5;28mstr\u001B[39m \u001B[38;5;241m|\u001B[39m \u001B[38;5;28mint\u001B[39m \u001B[38;5;241m|\u001B[39m \u001B[38;5;28mlist\u001B[39m[\u001B[38;5;28mint\u001B[39m] \u001B[38;5;241m|\u001B[39m \u001B[38;5;28mlist\u001B[39m[\u001B[38;5;28mstr\u001B[39m] \u001B[38;5;241m|\u001B[39m \u001B[38;5;28;01mNone\u001B[39;00m \u001B[38;5;241m=\u001B[39m \u001B[38;5;241m0\u001B[39m,\n\u001B[0;32m   (...)\u001B[0m\n\u001B[1;32m   1445\u001B[0m     \u001B[38;5;241m*\u001B[39m\u001B[38;5;241m*\u001B[39mkwds,\n\u001B[1;32m   1446\u001B[0m ) \u001B[38;5;241m-\u001B[39m\u001B[38;5;241m>\u001B[39m DataFrame \u001B[38;5;241m|\u001B[39m \u001B[38;5;28mdict\u001B[39m[\u001B[38;5;28mstr\u001B[39m, DataFrame] \u001B[38;5;241m|\u001B[39m \u001B[38;5;28mdict\u001B[39m[\u001B[38;5;28mint\u001B[39m, DataFrame]:\n\u001B[1;32m   1447\u001B[0m     \u001B[38;5;124;03m\"\"\"\u001B[39;00m\n\u001B[1;32m   1448\u001B[0m \u001B[38;5;124;03m    Parse specified sheet(s) into a DataFrame.\u001B[39;00m\n\u001B[1;32m   1449\u001B[0m \n\u001B[0;32m   (...)\u001B[0m\n\u001B[1;32m   1456\u001B[0m \u001B[38;5;124;03m        DataFrame from the passed in Excel file.\u001B[39;00m\n\u001B[1;32m   1457\u001B[0m \u001B[38;5;124;03m    \"\"\"\u001B[39;00m\n\u001B[0;32m-> 1458\u001B[0m     \u001B[38;5;28;01mreturn\u001B[39;00m \u001B[38;5;28;43mself\u001B[39;49m\u001B[38;5;241;43m.\u001B[39;49m\u001B[43m_reader\u001B[49m\u001B[38;5;241;43m.\u001B[39;49m\u001B[43mparse\u001B[49m\u001B[43m(\u001B[49m\n\u001B[1;32m   1459\u001B[0m \u001B[43m        \u001B[49m\u001B[43msheet_name\u001B[49m\u001B[38;5;241;43m=\u001B[39;49m\u001B[43msheet_name\u001B[49m\u001B[43m,\u001B[49m\n\u001B[1;32m   1460\u001B[0m \u001B[43m        \u001B[49m\u001B[43mheader\u001B[49m\u001B[38;5;241;43m=\u001B[39;49m\u001B[43mheader\u001B[49m\u001B[43m,\u001B[49m\n\u001B[1;32m   1461\u001B[0m \u001B[43m        \u001B[49m\u001B[43mnames\u001B[49m\u001B[38;5;241;43m=\u001B[39;49m\u001B[43mnames\u001B[49m\u001B[43m,\u001B[49m\n\u001B[1;32m   1462\u001B[0m \u001B[43m        \u001B[49m\u001B[43mindex_col\u001B[49m\u001B[38;5;241;43m=\u001B[39;49m\u001B[43mindex_col\u001B[49m\u001B[43m,\u001B[49m\n\u001B[1;32m   1463\u001B[0m \u001B[43m        \u001B[49m\u001B[43musecols\u001B[49m\u001B[38;5;241;43m=\u001B[39;49m\u001B[43musecols\u001B[49m\u001B[43m,\u001B[49m\n\u001B[1;32m   1464\u001B[0m \u001B[43m        \u001B[49m\u001B[43msqueeze\u001B[49m\u001B[38;5;241;43m=\u001B[39;49m\u001B[43msqueeze\u001B[49m\u001B[43m,\u001B[49m\n\u001B[1;32m   1465\u001B[0m \u001B[43m        \u001B[49m\u001B[43mconverters\u001B[49m\u001B[38;5;241;43m=\u001B[39;49m\u001B[43mconverters\u001B[49m\u001B[43m,\u001B[49m\n\u001B[1;32m   1466\u001B[0m \u001B[43m        \u001B[49m\u001B[43mtrue_values\u001B[49m\u001B[38;5;241;43m=\u001B[39;49m\u001B[43mtrue_values\u001B[49m\u001B[43m,\u001B[49m\n\u001B[1;32m   1467\u001B[0m \u001B[43m        \u001B[49m\u001B[43mfalse_values\u001B[49m\u001B[38;5;241;43m=\u001B[39;49m\u001B[43mfalse_values\u001B[49m\u001B[43m,\u001B[49m\n\u001B[1;32m   1468\u001B[0m \u001B[43m        \u001B[49m\u001B[43mskiprows\u001B[49m\u001B[38;5;241;43m=\u001B[39;49m\u001B[43mskiprows\u001B[49m\u001B[43m,\u001B[49m\n\u001B[1;32m   1469\u001B[0m \u001B[43m        \u001B[49m\u001B[43mnrows\u001B[49m\u001B[38;5;241;43m=\u001B[39;49m\u001B[43mnrows\u001B[49m\u001B[43m,\u001B[49m\n\u001B[1;32m   1470\u001B[0m \u001B[43m        \u001B[49m\u001B[43mna_values\u001B[49m\u001B[38;5;241;43m=\u001B[39;49m\u001B[43mna_values\u001B[49m\u001B[43m,\u001B[49m\n\u001B[1;32m   1471\u001B[0m \u001B[43m        \u001B[49m\u001B[43mparse_dates\u001B[49m\u001B[38;5;241;43m=\u001B[39;49m\u001B[43mparse_dates\u001B[49m\u001B[43m,\u001B[49m\n\u001B[1;32m   1472\u001B[0m \u001B[43m        \u001B[49m\u001B[43mdate_parser\u001B[49m\u001B[38;5;241;43m=\u001B[39;49m\u001B[43mdate_parser\u001B[49m\u001B[43m,\u001B[49m\n\u001B[1;32m   1473\u001B[0m \u001B[43m        \u001B[49m\u001B[43mthousands\u001B[49m\u001B[38;5;241;43m=\u001B[39;49m\u001B[43mthousands\u001B[49m\u001B[43m,\u001B[49m\n\u001B[1;32m   1474\u001B[0m \u001B[43m        \u001B[49m\u001B[43mcomment\u001B[49m\u001B[38;5;241;43m=\u001B[39;49m\u001B[43mcomment\u001B[49m\u001B[43m,\u001B[49m\n\u001B[1;32m   1475\u001B[0m \u001B[43m        \u001B[49m\u001B[43mskipfooter\u001B[49m\u001B[38;5;241;43m=\u001B[39;49m\u001B[43mskipfooter\u001B[49m\u001B[43m,\u001B[49m\n\u001B[1;32m   1476\u001B[0m \u001B[43m        \u001B[49m\u001B[43mconvert_float\u001B[49m\u001B[38;5;241;43m=\u001B[39;49m\u001B[43mconvert_float\u001B[49m\u001B[43m,\u001B[49m\n\u001B[1;32m   1477\u001B[0m \u001B[43m        \u001B[49m\u001B[43mmangle_dupe_cols\u001B[49m\u001B[38;5;241;43m=\u001B[39;49m\u001B[43mmangle_dupe_cols\u001B[49m\u001B[43m,\u001B[49m\n\u001B[1;32m   1478\u001B[0m \u001B[43m        \u001B[49m\u001B[38;5;241;43m*\u001B[39;49m\u001B[38;5;241;43m*\u001B[39;49m\u001B[43mkwds\u001B[49m\u001B[43m,\u001B[49m\n\u001B[1;32m   1479\u001B[0m \u001B[43m    \u001B[49m\u001B[43m)\u001B[49m\n",
      "File \u001B[0;32m~/.local/share/virtualenvs/glebsokolov-qQcMW7DI/lib/python3.9/site-packages/pandas/io/excel/_base.py:636\u001B[0m, in \u001B[0;36mBaseExcelReader.parse\u001B[0;34m(self, sheet_name, header, names, index_col, usecols, squeeze, dtype, true_values, false_values, skiprows, nrows, na_values, verbose, parse_dates, date_parser, thousands, decimal, comment, skipfooter, convert_float, mangle_dupe_cols, **kwds)\u001B[0m\n\u001B[1;32m    634\u001B[0m     sheet \u001B[38;5;241m=\u001B[39m \u001B[38;5;28mself\u001B[39m\u001B[38;5;241m.\u001B[39mget_sheet_by_name(asheetname)\n\u001B[1;32m    635\u001B[0m \u001B[38;5;28;01melse\u001B[39;00m:  \u001B[38;5;66;03m# assume an integer if not a string\u001B[39;00m\n\u001B[0;32m--> 636\u001B[0m     sheet \u001B[38;5;241m=\u001B[39m \u001B[38;5;28;43mself\u001B[39;49m\u001B[38;5;241;43m.\u001B[39;49m\u001B[43mget_sheet_by_index\u001B[49m\u001B[43m(\u001B[49m\u001B[43masheetname\u001B[49m\u001B[43m)\u001B[49m\n\u001B[1;32m    638\u001B[0m data \u001B[38;5;241m=\u001B[39m \u001B[38;5;28mself\u001B[39m\u001B[38;5;241m.\u001B[39mget_sheet_data(sheet, convert_float)\n\u001B[1;32m    639\u001B[0m \u001B[38;5;28;01mif\u001B[39;00m \u001B[38;5;28mhasattr\u001B[39m(sheet, \u001B[38;5;124m\"\u001B[39m\u001B[38;5;124mclose\u001B[39m\u001B[38;5;124m\"\u001B[39m):\n\u001B[1;32m    640\u001B[0m     \u001B[38;5;66;03m# pyxlsb opens two TemporaryFiles\u001B[39;00m\n",
      "File \u001B[0;32m~/.local/share/virtualenvs/glebsokolov-qQcMW7DI/lib/python3.9/site-packages/pandas/io/excel/_openpyxl.py:549\u001B[0m, in \u001B[0;36mOpenpyxlReader.get_sheet_by_index\u001B[0;34m(self, index)\u001B[0m\n\u001B[1;32m    548\u001B[0m \u001B[38;5;28;01mdef\u001B[39;00m \u001B[38;5;21mget_sheet_by_index\u001B[39m(\u001B[38;5;28mself\u001B[39m, index: \u001B[38;5;28mint\u001B[39m):\n\u001B[0;32m--> 549\u001B[0m     \u001B[38;5;28;43mself\u001B[39;49m\u001B[38;5;241;43m.\u001B[39;49m\u001B[43mraise_if_bad_sheet_by_index\u001B[49m\u001B[43m(\u001B[49m\u001B[43mindex\u001B[49m\u001B[43m)\u001B[49m\n\u001B[1;32m    550\u001B[0m     \u001B[38;5;28;01mreturn\u001B[39;00m \u001B[38;5;28mself\u001B[39m\u001B[38;5;241m.\u001B[39mbook\u001B[38;5;241m.\u001B[39mworksheets[index]\n",
      "File \u001B[0;32m~/.local/share/virtualenvs/glebsokolov-qQcMW7DI/lib/python3.9/site-packages/pandas/io/excel/_base.py:564\u001B[0m, in \u001B[0;36mBaseExcelReader.raise_if_bad_sheet_by_index\u001B[0;34m(self, index)\u001B[0m\n\u001B[1;32m    562\u001B[0m n_sheets \u001B[38;5;241m=\u001B[39m \u001B[38;5;28mlen\u001B[39m(\u001B[38;5;28mself\u001B[39m\u001B[38;5;241m.\u001B[39msheet_names)\n\u001B[1;32m    563\u001B[0m \u001B[38;5;28;01mif\u001B[39;00m index \u001B[38;5;241m>\u001B[39m\u001B[38;5;241m=\u001B[39m n_sheets:\n\u001B[0;32m--> 564\u001B[0m     \u001B[38;5;28;01mraise\u001B[39;00m \u001B[38;5;167;01mValueError\u001B[39;00m(\n\u001B[1;32m    565\u001B[0m         \u001B[38;5;124mf\u001B[39m\u001B[38;5;124m\"\u001B[39m\u001B[38;5;124mWorksheet index \u001B[39m\u001B[38;5;132;01m{\u001B[39;00mindex\u001B[38;5;132;01m}\u001B[39;00m\u001B[38;5;124m is invalid, \u001B[39m\u001B[38;5;132;01m{\u001B[39;00mn_sheets\u001B[38;5;132;01m}\u001B[39;00m\u001B[38;5;124m worksheets found\u001B[39m\u001B[38;5;124m\"\u001B[39m\n\u001B[1;32m    566\u001B[0m     )\n",
      "\u001B[0;31mValueError\u001B[0m: Worksheet index 0 is invalid, 0 worksheets found"
     ]
    }
   ],
   "source": [
    "pd.read_excel('/Users/glebsokolov/Downloads/sales_train+.xlsx', sheet_name=0)"
   ],
   "metadata": {
    "collapsed": false,
    "pycharm": {
     "name": "#%%\n"
    }
   }
  },
  {
   "cell_type": "code",
   "execution_count": 5,
   "outputs": [
    {
     "data": {
      "text/plain": "1000"
     },
     "execution_count": 5,
     "metadata": {},
     "output_type": "execute_result"
    }
   ],
   "source": [
    "path = '/Users/glebsokolov/Downloads/supermarket_sales - Sheet1.csv'\n",
    "name = 'supermarket_sales'\n",
    "send(path=path, name=name)"
   ],
   "metadata": {
    "collapsed": false,
    "pycharm": {
     "name": "#%%\n"
    }
   }
  },
  {
   "cell_type": "code",
   "execution_count": 2,
   "outputs": [],
   "source": [
    "import wget"
   ],
   "metadata": {
    "collapsed": false,
    "pycharm": {
     "name": "#%%\n"
    }
   }
  },
  {
   "cell_type": "code",
   "execution_count": 3,
   "outputs": [
    {
     "data": {
      "text/plain": "'/Users/glebsokolov/Downloads/Data Science from Scratch: First Principles with Python.epub'"
     },
     "execution_count": 3,
     "metadata": {},
     "output_type": "execute_result"
    }
   ],
   "source": [
    "import requests\n",
    "from bs4 import BeautifulSoup\n",
    "from IPython.core.interactiveshell import InteractiveShell\n",
    "\n",
    "InteractiveShell.ast_node_interactivity = \"all\"\n",
    "\n",
    "url = 'http://library.lol/main/6393A6CD6994DA538EADEBFE61C1F907'\n",
    "\n",
    "bs = BeautifulSoup(requests.Session().get(url).text, 'html.parser')\n",
    "link = bs.find_all(lambda tag: tag.name == 'a' and 'Cloudflare' in tag.text)[0]['href']\n",
    "ext = '.pdf' if 'pdf' in link else '.epub'\n",
    "name = bs.find('h1').get_text()\n",
    "wget.download(link, out='/Users/glebsokolov/Downloads/' + name + ext)"
   ],
   "metadata": {
    "collapsed": false,
    "pycharm": {
     "name": "#%%\n"
    }
   }
  },
  {
   "cell_type": "code",
   "execution_count": 2,
   "outputs": [],
   "source": [
    "df = pd.read_csv('/Users/glebsokolov/Downloads/P12-Bank-Customers-Demo (1).csv')"
   ],
   "metadata": {
    "collapsed": false,
    "pycharm": {
     "name": "#%%\n"
    }
   }
  },
  {
   "cell_type": "code",
   "execution_count": 4,
   "outputs": [],
   "source": [
    "df['Date Joined'] = df['Date Joined'].apply(lambda x: pd.to_datetime(x))"
   ],
   "metadata": {
    "collapsed": false,
    "pycharm": {
     "name": "#%%\n"
    }
   }
  },
  {
   "cell_type": "code",
   "execution_count": 13,
   "outputs": [],
   "source": [
    "df.to_csv('/Users/glebsokolov/Downloads/P12-Bank-Customers-Demo (1).csv')"
   ],
   "metadata": {
    "collapsed": false,
    "pycharm": {
     "name": "#%%\n"
    }
   }
  },
  {
   "cell_type": "code",
   "execution_count": 11,
   "outputs": [],
   "source": [
    "df['Balance'] = df['Balance'].apply(lambda x: float(x.replace('$', '').replace(',', '')))"
   ],
   "metadata": {
    "collapsed": false,
    "pycharm": {
     "name": "#%%\n"
    }
   }
  },
  {
   "cell_type": "code",
   "execution_count": 12,
   "outputs": [
    {
     "data": {
      "text/plain": "    Customer ID       Name    Surname  Gender  Age Date Joined    Balance\n0     100000001      Simon      Walsh    Male   21  2015-01-05  113810.15\n1     400000002    Jasmine     Miller  Female   34  2015-01-06   36919.73\n2     100000003       Liam      Brown    Male   46  2015-01-07  101536.83\n3     300000004     Trevor       Parr    Male   32  2015-01-08    1421.52\n4     100000005    Deirdre    Pullman  Female   38  2015-01-09   35639.79\n5     300000006        Ava    Coleman  Female   30  2015-01-09  122443.77\n6     100000007    Dorothy    Thomson  Female   34  2015-01-11   42879.84\n7     200000008       Lisa       Knox  Female   48  2015-01-11   36680.17\n8     300000009       Ruth   Campbell  Female   33  2015-01-11   74284.35\n9     100000010    Dominic       Parr    Male   42  2015-01-12   10912.45\n10    100000011    Dominic      Lewis    Male   40  2015-01-12   39667.83\n11    100000012   Benjamin      Grant    Male   39  2015-01-12   32281.62\n12    100000013       Ryan  MacDonald    Male   24  2015-01-12   40781.63\n13    200000014     Thomas   Lawrence    Male   46  2015-01-12   48791.46\n14    300000015  Madeleine   Marshall  Female   36  2015-01-12    2846.03\n15    100000016   Nicholas     Newman    Male   42  2015-01-14    2116.85\n16    200000017      Grace       Hill  Female   31  2015-01-14   10356.31\n17    200000018   Samantha    Coleman  Female   42  2015-01-14    3801.69\n18    100000019    William       Ince    Male   40  2015-01-15   65534.69\n19    100000020     Audrey      Jones  Female   46  2015-01-15   11462.64",
      "text/html": "<div>\n<style scoped>\n    .dataframe tbody tr th:only-of-type {\n        vertical-align: middle;\n    }\n\n    .dataframe tbody tr th {\n        vertical-align: top;\n    }\n\n    .dataframe thead th {\n        text-align: right;\n    }\n</style>\n<table border=\"1\" class=\"dataframe\">\n  <thead>\n    <tr style=\"text-align: right;\">\n      <th></th>\n      <th>Customer ID</th>\n      <th>Name</th>\n      <th>Surname</th>\n      <th>Gender</th>\n      <th>Age</th>\n      <th>Date Joined</th>\n      <th>Balance</th>\n    </tr>\n  </thead>\n  <tbody>\n    <tr>\n      <th>0</th>\n      <td>100000001</td>\n      <td>Simon</td>\n      <td>Walsh</td>\n      <td>Male</td>\n      <td>21</td>\n      <td>2015-01-05</td>\n      <td>113810.15</td>\n    </tr>\n    <tr>\n      <th>1</th>\n      <td>400000002</td>\n      <td>Jasmine</td>\n      <td>Miller</td>\n      <td>Female</td>\n      <td>34</td>\n      <td>2015-01-06</td>\n      <td>36919.73</td>\n    </tr>\n    <tr>\n      <th>2</th>\n      <td>100000003</td>\n      <td>Liam</td>\n      <td>Brown</td>\n      <td>Male</td>\n      <td>46</td>\n      <td>2015-01-07</td>\n      <td>101536.83</td>\n    </tr>\n    <tr>\n      <th>3</th>\n      <td>300000004</td>\n      <td>Trevor</td>\n      <td>Parr</td>\n      <td>Male</td>\n      <td>32</td>\n      <td>2015-01-08</td>\n      <td>1421.52</td>\n    </tr>\n    <tr>\n      <th>4</th>\n      <td>100000005</td>\n      <td>Deirdre</td>\n      <td>Pullman</td>\n      <td>Female</td>\n      <td>38</td>\n      <td>2015-01-09</td>\n      <td>35639.79</td>\n    </tr>\n    <tr>\n      <th>5</th>\n      <td>300000006</td>\n      <td>Ava</td>\n      <td>Coleman</td>\n      <td>Female</td>\n      <td>30</td>\n      <td>2015-01-09</td>\n      <td>122443.77</td>\n    </tr>\n    <tr>\n      <th>6</th>\n      <td>100000007</td>\n      <td>Dorothy</td>\n      <td>Thomson</td>\n      <td>Female</td>\n      <td>34</td>\n      <td>2015-01-11</td>\n      <td>42879.84</td>\n    </tr>\n    <tr>\n      <th>7</th>\n      <td>200000008</td>\n      <td>Lisa</td>\n      <td>Knox</td>\n      <td>Female</td>\n      <td>48</td>\n      <td>2015-01-11</td>\n      <td>36680.17</td>\n    </tr>\n    <tr>\n      <th>8</th>\n      <td>300000009</td>\n      <td>Ruth</td>\n      <td>Campbell</td>\n      <td>Female</td>\n      <td>33</td>\n      <td>2015-01-11</td>\n      <td>74284.35</td>\n    </tr>\n    <tr>\n      <th>9</th>\n      <td>100000010</td>\n      <td>Dominic</td>\n      <td>Parr</td>\n      <td>Male</td>\n      <td>42</td>\n      <td>2015-01-12</td>\n      <td>10912.45</td>\n    </tr>\n    <tr>\n      <th>10</th>\n      <td>100000011</td>\n      <td>Dominic</td>\n      <td>Lewis</td>\n      <td>Male</td>\n      <td>40</td>\n      <td>2015-01-12</td>\n      <td>39667.83</td>\n    </tr>\n    <tr>\n      <th>11</th>\n      <td>100000012</td>\n      <td>Benjamin</td>\n      <td>Grant</td>\n      <td>Male</td>\n      <td>39</td>\n      <td>2015-01-12</td>\n      <td>32281.62</td>\n    </tr>\n    <tr>\n      <th>12</th>\n      <td>100000013</td>\n      <td>Ryan</td>\n      <td>MacDonald</td>\n      <td>Male</td>\n      <td>24</td>\n      <td>2015-01-12</td>\n      <td>40781.63</td>\n    </tr>\n    <tr>\n      <th>13</th>\n      <td>200000014</td>\n      <td>Thomas</td>\n      <td>Lawrence</td>\n      <td>Male</td>\n      <td>46</td>\n      <td>2015-01-12</td>\n      <td>48791.46</td>\n    </tr>\n    <tr>\n      <th>14</th>\n      <td>300000015</td>\n      <td>Madeleine</td>\n      <td>Marshall</td>\n      <td>Female</td>\n      <td>36</td>\n      <td>2015-01-12</td>\n      <td>2846.03</td>\n    </tr>\n    <tr>\n      <th>15</th>\n      <td>100000016</td>\n      <td>Nicholas</td>\n      <td>Newman</td>\n      <td>Male</td>\n      <td>42</td>\n      <td>2015-01-14</td>\n      <td>2116.85</td>\n    </tr>\n    <tr>\n      <th>16</th>\n      <td>200000017</td>\n      <td>Grace</td>\n      <td>Hill</td>\n      <td>Female</td>\n      <td>31</td>\n      <td>2015-01-14</td>\n      <td>10356.31</td>\n    </tr>\n    <tr>\n      <th>17</th>\n      <td>200000018</td>\n      <td>Samantha</td>\n      <td>Coleman</td>\n      <td>Female</td>\n      <td>42</td>\n      <td>2015-01-14</td>\n      <td>3801.69</td>\n    </tr>\n    <tr>\n      <th>18</th>\n      <td>100000019</td>\n      <td>William</td>\n      <td>Ince</td>\n      <td>Male</td>\n      <td>40</td>\n      <td>2015-01-15</td>\n      <td>65534.69</td>\n    </tr>\n    <tr>\n      <th>19</th>\n      <td>100000020</td>\n      <td>Audrey</td>\n      <td>Jones</td>\n      <td>Female</td>\n      <td>46</td>\n      <td>2015-01-15</td>\n      <td>11462.64</td>\n    </tr>\n  </tbody>\n</table>\n</div>"
     },
     "execution_count": 12,
     "metadata": {},
     "output_type": "execute_result"
    }
   ],
   "source": [
    "df"
   ],
   "metadata": {
    "collapsed": false,
    "pycharm": {
     "name": "#%%\n"
    }
   }
  },
  {
   "cell_type": "code",
   "execution_count": null,
   "outputs": [],
   "source": [],
   "metadata": {
    "collapsed": false,
    "pycharm": {
     "name": "#%%\n"
    }
   }
  }
 ],
 "metadata": {
  "kernelspec": {
   "name": "python3",
   "language": "python",
   "display_name": "Python 3 (ipykernel)"
  },
  "language_info": {
   "codemirror_mode": {
    "name": "ipython",
    "version": 2
   },
   "file_extension": ".py",
   "mimetype": "text/x-python",
   "name": "python",
   "nbconvert_exporter": "python",
   "pygments_lexer": "ipython2",
   "version": "2.7.6"
  }
 },
 "nbformat": 4,
 "nbformat_minor": 0
}