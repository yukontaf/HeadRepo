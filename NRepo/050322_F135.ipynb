{
 "cells": [
  {
   "cell_type": "code",
   "execution_count": 3,
   "metadata": {
    "collapsed": true
   },
   "outputs": [],
   "source": [
    "import pandas as pd\n",
    "from bs4 import BeautifulSoup\n",
    "import requests"
   ]
  },
  {
   "cell_type": "code",
   "execution_count": 1,
   "outputs": [],
   "source": [
    "import os\n",
    "root='/Users/glebsokolov/Dropbox/Lib'\n",
    "for root, subdirs, files in os.walk(root):\n",
    "    for file in files:\n",
    "        if file.endswith('.md5'):\n",
    "            os.remove(os.path.join(root, file))"
   ],
   "metadata": {
    "collapsed": false,
    "pycharm": {
     "name": "#%%\n"
    }
   }
  },
  {
   "cell_type": "code",
   "execution_count": 17,
   "outputs": [],
   "source": [
    "root = 'https://www.drugs.com/monograph/'\n",
    "site = 'https://www.drugs.com'\n",
    "s = requests.Session()\n",
    "get_bs = lambda x: BeautifulSoup(s.get(x).text, 'html.parser')\n",
    "bs = get_bs(root)\n",
    "child = bs.find(id='a-to-z').findAll('a')\n",
    "links = []\n",
    "for i in child:\n",
    "    links.append(site + i['href'])\n"
   ],
   "metadata": {
    "collapsed": false,
    "pycharm": {
     "name": "#%%\n"
    }
   }
  },
  {
   "cell_type": "code",
   "execution_count": 20,
   "outputs": [],
   "source": [
    "links_list = []\n",
    "for link in links:\n",
    "    l = get_bs(link).find(class_='ddc-list-column-2').findAll('a')\n",
    "    for path in l:\n",
    "        links_list.append(site + path['href'])"
   ],
   "metadata": {
    "collapsed": false,
    "pycharm": {
     "name": "#%%\n"
    }
   }
  },
  {
   "cell_type": "code",
   "execution_count": 42,
   "outputs": [
    {
     "name": "stdout",
     "output_type": "stream",
     "text": [
      "Hypersensitivity reactions, GI effects (nausea, vomiting, diarrhea, anorexia), insomnia, fever and/or chills, headache, malaise, fatigue.\n"
     ]
    }
   ],
   "source": [
    "for i in get_bs(links_list[1]).find_all('h3'):\n",
    "    if 'Common Adverse Effects' in i.contents:\n",
    "        print(i.findNext().get_text())"
   ],
   "metadata": {
    "collapsed": false,
    "pycharm": {
     "name": "#%%\n"
    }
   }
  },
  {
   "cell_type": "code",
   "execution_count": 39,
   "outputs": [
    {
     "data": {
      "text/plain": "['Warning']"
     },
     "execution_count": 39,
     "metadata": {},
     "output_type": "execute_result"
    }
   ],
   "source": [
    "get_bs(links_list[1]).find_all('h3')[0].contents"
   ],
   "metadata": {
    "collapsed": false,
    "pycharm": {
     "name": "#%%\n"
    }
   }
  },
  {
   "cell_type": "code",
   "execution_count": null,
   "outputs": [],
   "source": [],
   "metadata": {
    "collapsed": false,
    "pycharm": {
     "name": "#%%\n"
    }
   }
  }
 ],
 "metadata": {
  "kernelspec": {
   "display_name": "Python 3",
   "language": "python",
   "name": "python3"
  },
  "language_info": {
   "codemirror_mode": {
    "name": "ipython",
    "version": 2
   },
   "file_extension": ".py",
   "mimetype": "text/x-python",
   "name": "python",
   "nbconvert_exporter": "python",
   "pygments_lexer": "ipython2",
   "version": "2.7.6"
  }
 },
 "nbformat": 4,
 "nbformat_minor": 0
}