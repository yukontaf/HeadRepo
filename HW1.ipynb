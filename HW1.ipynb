{
 "cells": [
  {
   "cell_type": "code",
   "execution_count": null,
   "metadata": {},
   "outputs": [],
   "source": [
    "import numpy as np\n",
    "import matplotlib.pyplot as plt\n",
    "%matplotlib inline"
   ]
  },
  {
   "cell_type": "markdown",
   "metadata": {},
   "source": [
    "# Домашнее задание 1\n",
    "\n",
    "ДЕДЛАЙН: 28 февраля 2021, 21:00\n",
    "Присылать на maxkaledin@gmail.com с темой  \"Численные методы ДЗ 1 Илья Иванов\"\n",
    "\n",
    "\n",
    "\n",
    "В этой работе мы проведём ещё одно экспериментальное исследование методов интерполяции."
   ]
  },
  {
   "cell_type": "markdown",
   "metadata": {},
   "source": [
    "## Кубические сплайны\n",
    "\n",
    "Сплайны -- один из самых используемых на практике базисов интерполяции, который отличает устойчивость к шумам и простота вычислений. Пусть $In_A( x)=1$, если $x \\in A$, и $0$ иначе. В общем случае сплайном степени $n$ дефекта $k$ называют кусочно заданную функцию \n",
    "$$\n",
    "S(x) = \\sum_{j=0}^K S_j(x) In(x \\in I_j),\n",
    "$$\n",
    "определённую для $x \\in [a,b]$, где $S_j$ являются многочленами степени $n$, объеденение отрезков $I_j$, среди которых пересекаются только соседние и в одной точке, равно $[a,b]$ и выполнены условия \n",
    "\n",
    "1. Непрерывности $S(x)$ на стыках интервалов: если $I_j=[t_0,t_1],~I_{j+1}=[t_1,t_2]$, то $S_j(t_1)=S_{j+1}(t_1);$\n",
    "2. Непрерывности производной на стыках интервалов: для всех натуральных $k_0 \\leq n-k ~~~ S_j^{(k_0)}(t_1)=S_{j+1}^{(k_0)}(t_1).$\n",
    "\n",
    "\n",
    "Нам требуется найти сплайн, интерполирующий функцию $f(x)$ между узлами интерполяции $t_j$ на отрезке $[a,b]$; из определения очевидно, что вопрос существования интерполирующего сплайна с заданными степенью и дефектом не такой простой. В этом курсе мы рассматриваем для простоты кубический сплайн дефекта 1, который используется на практике чаще всех остальных и единственен для любого набора узлов интерполяции. Для построения такого сплайна существует простая процедура(см. лекции), основанная на методе прогонке и имеющая сложность $O(N)$. Для единственности сплайна необходимо задать граничные условия, используйте $S''(b)=S''(a)=0$, но в коде предполагайте, что пользователь сам задаёт $S''(a)$ и $S''(b)$ в качестве входных параметров.\n",
    "\n",
    "### Задание 1 (50 баллов)\n",
    "\n",
    "Реализуйте процедуру для интерполяции кубическим сплайном, взяв за основу код, приведённый ниже. Коэффициенты ищите с помощью метода прогонки, который позволяет решить задачу за $O(N)$. Наивный метод составления системы линейных уравнений для условий $1$ и $2$ оказывается гораздо более трудозатратным."
   ]
  },
  {
   "cell_type": "code",
   "execution_count": null,
   "metadata": {},
   "outputs": [],
   "source": [
    "class CubicSplineInterpolator:\n",
    "    \n",
    "    def __init__(self,xGrid,fGrid,sppa=0,sppb=0):\n",
    "        #Computes spline coefficients\n",
    "        #xGrid float64 [N]\n",
    "        #fGrid float64 [N]\n",
    "        #sppa float64  -- boundary condition(left)\n",
    "        #sppb float64  -- boundary condition(right)\n",
    "\n",
    "        self.sppa=sppa\n",
    "        self.sppb=sppb\n",
    "        self.xGrid = xGrid #you will need it\n",
    "        self.coeffs = self.ComputeCoefficients(xGrid,fGrid)\n",
    "\n",
    "        #I would recommended to use list(or numpy array [N-1,3]) for coefficients\n",
    "        \n",
    "    def ComputeCoefficients(self,xGrid,fGrid):\n",
    "        #returns coefficients for cubic spline based on interpolation Grid\n",
    "        #input\n",
    "        #    xGrid float64 [N]\n",
    "        #    fGrid float64 [N]\n",
    "        #output\n",
    "        #    coeffs\n",
    "        \n",
    "        #Your code here\n",
    "        return 0\n",
    "        \n",
    "    def Compute(self,x):\n",
    "        #computes spline value at point x\n",
    "        #input\n",
    "        #    x float64 [batch]\n",
    "        #output\n",
    "        #    S(x) float64 [batch]\n",
    "        \n",
    "        #Your code here\n",
    "        #1.Check to which interval x belongs\n",
    "        #2.Use corresponding coefficients from self.coeffs to compute S(x)\n",
    "        return x*0"
   ]
  },
  {
   "cell_type": "markdown",
   "metadata": {},
   "source": [
    "Проверьте, как работает интерполяция для функции $f(x)$ без шума и в случае $\\tilde{f}(x) = f(x) + \\sigma \\mathcal{N}(0,1)$. Нарисуйте графики $S(x),f(x)$ и узлы интерполяции (используйте scatter). Попробуйте несколько разных $\\sigma$.\n",
    "\n",
    "Сравните результат с интерполяцией многочленами Ньютона (см. семинары)."
   ]
  },
  {
   "cell_type": "code",
   "execution_count": null,
   "metadata": {},
   "outputs": [],
   "source": [
    "def fTest(x):\n",
    "    #maps R -> R\n",
    "    #input x [batch]\n",
    "    #output [batch]\n",
    "    \n",
    "    return np.exp(-0.1*x) + 1/x * np.sin(1*np.pi * x)+ np.exp(0.07*x)\n",
    "\n",
    "x0=1\n",
    "x1=15\n",
    "N= 2000#number of knots\n",
    "h= (x1-x0)/(N-1)\n",
    "xs = np.arange(x0,x1+h/2,h)\n",
    "\n",
    "\n",
    "f,ax = plt.subplots(figsize=(7,7))\n",
    "\n",
    "ax.grid()\n",
    "ax.set_title('SomePlot')\n",
    "ax.set_xlabel('X')\n",
    "ax.plot(xs,fTest(xs))"
   ]
  },
  {
   "cell_type": "code",
   "execution_count": null,
   "metadata": {},
   "outputs": [],
   "source": [
    "class NewtonPolyInterpolator:\n",
    "    #recall the code from seminars, beware of possible errors there\n",
    "    def __init__(self,xGrid,fGrid):\n",
    "        #Computes spline coefficients\n",
    "        #xGrid float64 [N]\n",
    "        #fGrid float64 [N]     \n",
    "    \n",
    "        \n",
    "    def Compute(self,x):\n",
    "        #computes spline value at point x\n",
    "        #input\n",
    "        #    x float64 [batch]\n",
    "        #output\n",
    "        #    S(x) float64 [batch]\n",
    "        \n",
    "        #Your code here\n",
    "        #1.Check to which interval x belongs\n",
    "        #2.Use corresponding coefficients from self.coeffs to compute S(x)\n",
    "        return x*0"
   ]
  },
  {
   "cell_type": "markdown",
   "metadata": {},
   "source": [
    "Нарисуйте график ошибки $S(x)-f(x)$ для интерполяции многочленом Ньютона и интерполяции сплайном для числа узлов $N=15$ в зашумлённом и незашумлённом случае."
   ]
  },
  {
   "cell_type": "code",
   "execution_count": null,
   "metadata": {},
   "outputs": [],
   "source": [
    "#YOUR PLOTS HERE"
   ]
  },
  {
   "cell_type": "markdown",
   "metadata": {},
   "source": [
    "## Оценка констант Лебега\n",
    "\n",
    "Константа Лебега -- это число, определяющее усточивость интерполяции по отношению к шумам в значениях функции $f(x)$; её можно определить как\n",
    "$$\n",
    "L := \\sup_{t \\in [a,b]} \\sum_{j=0}^{K-1} \\vert \\phi_j(t) \\vert,\n",
    "$$\n",
    "где $\\phi_j$ -- базис интерполяции, зависящий как от метода (тригонометрический/многочлены/сплайны), так и от сетки (коэффициенты интерполяции, очевидно, зависят от неё).\n",
    "\n",
    "Если не оговорено иного, то рассматривается равномерная сетка на $[-1,1]$. Для интерполяционного многочлена и тригонометрической интерполяции можно получить аналитически оценки на константу Лебега. В семинаре мы оценивали константу Лебега более грубо, давайте попробуем действовать аккуратнее.\n",
    "\n",
    "### Задание 2 (15 баллов)\n",
    "\n",
    "Докажите, что если $N \\geq 2$, то константа Лебега для интерполяционного многочлена ограничена снизу как \n",
    "$$\n",
    "L_N \\geq K \\frac{2^N}{N^{3/2}}\n",
    "$$\n",
    "с константой $K$, не зависящей от $N$.\n",
    "\n",
    "### Задание 3 (15 баллов)\n",
    "\n",
    "Докажите, что если $N \\geq 2$, то константа Лебега для интерполяционного многочлена ограничена сверху как $L_N \\leq K_0 2^N$ с константой $K_0$, не зависящей от $N$.\n",
    "\n",
    "Подсказка к 2 и 3: докажите и используйте\n",
    "$$\n",
    "\\prod_{j=0, ~j \\neq i}^{n-1} \\vert i-j\\vert = i!(n-1-i)!\n",
    "$$\n",
    "и\n",
    "$$\n",
    "\\prod_{j=0}^{n-1} (j+1/2) \\geq \\frac{(n-1)!}{2 \\sqrt{n-1}}\n",
    "$$\n",
    "для $n \\geq 2$."
   ]
  },
  {
   "cell_type": "markdown",
   "metadata": {},
   "source": [
    "#### ВАШЕ РЕШЕНИЕ ЗДЕСЬ"
   ]
  },
  {
   "cell_type": "markdown",
   "metadata": {},
   "source": []
  },
  {
   "cell_type": "markdown",
   "metadata": {},
   "source": [
    "Оценим константы Лебега для многочлена Ньютона и кубического сплайна эмпирически для равномерной сетки и Чебышёвской сетки (построенной из корней многочлена Чебышёва). Пусть нас интересует отрезок $[0,1]$ и на нём берётся $N$ узлов для интерполяции. Можете приблизительно вычислять максимум в выражении для константы Лебега как удобно, не забудьте выписать, что является базисными функциями для каждого из методов.\n",
    "\n",
    "### Задание 5 (15 баллов)\n",
    "\n",
    "Нарисуйте зависимость $L_N$ от $N$ для двух алгоритмов интерполяции (рассмотрите $N \\in [5,1000]$ ) для равномерной и чебышёвской сеток. Опишите увиденный результат, сравните его с теоретическими оценками. Если графики нечитаемы, попробуйте их нарисовать в логарифмических осях."
   ]
  },
  {
   "cell_type": "code",
   "execution_count": null,
   "metadata": {},
   "outputs": [],
   "source": []
  },
  {
   "cell_type": "code",
   "execution_count": null,
   "metadata": {},
   "outputs": [],
   "source": [
    "# YOUR PLOTS HERE"
   ]
  },
  {
   "cell_type": "markdown",
   "metadata": {},
   "source": [
    "### Задание 6 (5 баллов)\n",
    "\n",
    "Нарисуйте графики интерполяционных функций на равномерной и чебышёвской сетке в сравнении с тестовой функцией приведённой ниже. Рассмотрите число узлов $N=5,15,30$ и посмотрите, как будет меняться качество интерполяции. Сделайте вывод на основе всех экспериментов, какой метод более надёжный для большего числа узлов и как оба метода реагируют на шум в узлах."
   ]
  },
  {
   "cell_type": "code",
   "execution_count": null,
   "metadata": {},
   "outputs": [],
   "source": [
    "def fTest(x):\n",
    "    #maps R -> R\n",
    "    #input x [batch]\n",
    "    #output [batch]\n",
    "    \n",
    "    return np.exp(-0.1*x) + 1/x * np.sin(1*np.pi * x)+ np.exp(0.07*x)"
   ]
  }
 ],
 "metadata": {
  "kernelspec": {
   "display_name": "Python 3",
   "language": "python",
   "name": "python3"
  },
  "language_info": {
   "codemirror_mode": {
    "name": "ipython",
    "version": 3
   },
   "file_extension": ".py",
   "mimetype": "text/x-python",
   "name": "python",
   "nbconvert_exporter": "python",
   "pygments_lexer": "ipython3",
   "version": "3.5.4"
  }
 },
 "nbformat": 4,
 "nbformat_minor": 2
}
