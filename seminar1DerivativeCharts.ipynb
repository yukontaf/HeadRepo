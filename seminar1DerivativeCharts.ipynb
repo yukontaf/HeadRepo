{
 "cells": [
  {
   "cell_type": "markdown",
   "metadata": {},
   "source": [
    "# Схемы дифференцирования\n",
    "\n",
    "Схемы дифференцирования используются для решения дифференциальных уравнений и численного вычисления производных. "
   ]
  },
  {
   "cell_type": "code",
   "execution_count": null,
   "metadata": {},
   "outputs": [],
   "source": [
    "import numpy as np \n",
    "import matplotlib.pyplot as plt\n",
    "%matplotlib inline"
   ]
  },
  {
   "cell_type": "markdown",
   "metadata": {},
   "source": [
    "## Вид схемы дифференцирования\n",
    "\n",
    "Общий вид схемы дифференцирования может быть записан, как\n",
    "$$\n",
    "f^{(k)}(x) \\approx a_1 f(x_1) + a_2 f(x_2) +..+ a_n f(x_n)\n",
    "$$\n",
    "где коэффициенты $a_1,..,a_n$ вычисляются в зависимости от того, как расположены друг относительно друга точки $x,x_1,..,x_n$. Подробно мы это разбирали на семинаре и на лекциях.\n",
    "\n",
    "Предположим, мы построили на бумаге некую схему дифференцирования, остаётся её удобно реализовать в программе."
   ]
  },
  {
   "cell_type": "code",
   "execution_count": null,
   "metadata": {},
   "outputs": [],
   "source": [
    "class FinDifferenceDerivative:\n",
    "    def __init__(self, coefs, xs, order=1):\n",
    "        '''\n",
    "        coefs  [n] float32 -- массив коэффициентов схемы\n",
    "        xs [n] float32 -- массив точек x_k, в которых даются значения функции (относительно x)\n",
    "        order int -- порядок производной, которую схема приближённо вычисляет\n",
    "        '''\n",
    "        self.coefs = coefs\n",
    "        self.xs = xs\n",
    "        self.order = order\n",
    "\n",
    "    def giveInfo(self):\n",
    "        '''\n",
    "        Печатает общую информацию о схеме\n",
    "        '''\n",
    "        print(\"Схема вычисляет производную порядка \"+str(self.order))\n",
    "        print(\"Коэффициенты: \"+str(self.coefs))\n",
    "        print(\"Точки(относительно x): \"+str(self.xs))\n",
    "\n",
    "    def compute(self, fs):\n",
    "        '''\n",
    "        Вычисляет значение производной в точке  x, используя значения функции\n",
    "        fs [...,n] float32 -- тензор значений функции, последняя размерность\n",
    "            должна быть равна числу требуемых значений\n",
    "        РЕЗУЛЬТАТ: тензор [...,1] вычисленных производных\n",
    "        '''\n",
    "        pass"
   ]
  },
  {
   "cell_type": "code",
   "execution_count": null,
   "metadata": {},
   "outputs": [],
   "source": [
    "#ТЕСТЫ\n",
    "def ftest(x):\n",
    "    return np.exp(x**2)\n",
    "\n",
    "h=0.0001\n",
    "rightDiff = FinDifferenceDerivative(coefs=np.array([-1,1])/h,xs=np.array([0,1])*h)\n",
    "\n",
    "inp=ftest(np.array([1,1+h]))\n",
    "assert np.abs(rightDiff.compute(inp) - 2*np.exp(1) )<1e-3 \n",
    "\n",
    "tensorInp = np.concatenate([ftest(np.array([1,1+h])[np.newaxis,:]),\\\n",
    "                         ftest(np.array([1,1+h])[np.newaxis,:]) ], axis=0)\n",
    "assert np.all(np.abs(rightDiff.compute(tensorInp) - 2*np.exp(1)*np.ones([2]))<1e-3 )\n",
    "rightDiff.giveInfo()"
   ]
  },
  {
   "cell_type": "markdown",
   "metadata": {},
   "source": [
    "## Проверка качества аппроксимации\n",
    "\n"
   ]
  },
  {
   "cell_type": "code",
   "execution_count": null,
   "metadata": {},
   "outputs": [],
   "source": [
    "hs = np.arange(3e-5,0.7,5e-3)\n",
    "x=0.1\n",
    "\n",
    "\n",
    "def ftest(x):\n",
    "    return np.exp(-x**2)\n",
    "def ftestPrime(x):\n",
    "    return -2*x*np.exp(-x**2)\n",
    "\n",
    "#YOUR CODE, write a routine to compute derivative for different values of h\n",
    "diffOutputsRight = np.zeros([len(hs)])\n",
    "for k in np.arange(len(hs)):\n",
    "    #give an argument list\n",
    "    xs = #?\n",
    "    differentiator = #create Differentiator\n",
    "    diffOutputsRight[k] = #compute the derivative\n"
   ]
  },
  {
   "cell_type": "code",
   "execution_count": null,
   "metadata": {},
   "outputs": [],
   "source": [
    "f,ax = plt.subplots(figsize=(8,5))\n",
    "\n",
    "ax.set_title(\"Погрешности вычисления, формула правых разностей\")\n",
    "ax.set_xlabel(\"h\")\n",
    "ax.set_ylabel(\"Err\")\n",
    "ax.grid()\n",
    "ax.plot(hs,np.abs(diffOutputsRight-ftestPrime(x)))"
   ]
  },
  {
   "cell_type": "markdown",
   "metadata": {},
   "source": [
    "Давайте используем более точную формулу центральных разностей."
   ]
  },
  {
   "cell_type": "code",
   "execution_count": null,
   "metadata": {},
   "outputs": [],
   "source": [
    "diffOutputsCent = np.zeros([len(hs)])\n",
    "\n",
    "#YOUR CODE\n",
    "for k in np.arange(len(hs)):\n",
    "    xs = np.array([x-hs[k],x+hs[k]])#!!!!   f'(x) ~~ ( f(x+h)-f(x-h) ) /2h  Central Difference\n",
    "\n",
    "    differentiator = #??? create a central-difference Differentiator\n",
    "\n",
    "    diffOutputsCent[k] = #"
   ]
  },
  {
   "cell_type": "markdown",
   "metadata": {},
   "source": [
    "\n"
   ]
  },
  {
   "cell_type": "code",
   "execution_count": null,
   "metadata": {},
   "outputs": [],
   "source": [
    "f,ax = plt.subplots(figsize=(8,5))\n",
    "\n",
    "ax.set_title(\"Погрешности вычислений, формула центральных разностей\")\n",
    "ax.set_xlabel(\"h\")\n",
    "ax.set_ylabel(\"Ошибка\")\n",
    "ax.grid()\n",
    "ax.plot(hs,np.abs(diffOutputsCent-ftestPrime(x)))"
   ]
  },
  {
   "cell_type": "markdown",
   "metadata": {},
   "source": [
    "Можно заметить, что характер погрешности изменился, так как ошибка имеет старший член порядка $h^2$. Давайте проверим экспериментально, с какой скоростью убывает ошибка и сравним два метода."
   ]
  },
  {
   "cell_type": "code",
   "execution_count": null,
   "metadata": {},
   "outputs": [],
   "source": [
    "f,ax = plt.subplots(figsize=(8,5))\n",
    "\n",
    "ax.set_title(\"Погрешности\")\n",
    "ax.set_xlabel(\"log h\")\n",
    "ax.set_ylabel(\"Ошибка(Лог)\")\n",
    "ax.grid()\n",
    "ax.plot(  np.log(hs)/np.log(10),np.log( np.abs(diffOutputsRight-ftestPrime(x)) )/np.log(10)  )\n",
    "ax.plot(  np.log(hs)/np.log(10),np.log( np.abs(diffOutputsCent-ftestPrime(x)) )/np.log(10)  )\n",
    "ax.legend([\"правые\", \"центральные\"])"
   ]
  },
  {
   "cell_type": "markdown",
   "metadata": {},
   "source": [
    "Из этого графика видно, что по мере уменьшения h, ошибка начинает убывать примерно как старший член погрешности $Ch^k$ и мы можем примерно вычислить $k$ и $C$ для двух приведённых методов."
   ]
  },
  {
   "cell_type": "markdown",
   "metadata": {},
   "source": [
    "## Что если функция оценена неточно?\n",
    "\n",
    "На практике такое происходит очень часто:\n",
    "\n",
    "1. GPS-показания со смартфона обычно очень неточные;\n",
    "2. Экспонометр, использующийся для фотокамеры может выдавать неточный замер;\n",
    "3. Различные датчики (температуры, освещенности...) в устройствах умного дома тоже обычно неточные;\n",
    "4. ..."
   ]
  },
  {
   "cell_type": "markdown",
   "metadata": {},
   "source": [
    "Один из способов моделировать подобные ошибки -- предположить, что они случайные и имеют какое-то распределение с компактным носителем. Пусть $\\tilde{f}_i$ будут зашумлёнными оценками функции $f$ в точках $x_i$. Предположим, что шум $\\epsilon_i = f_i - \\tilde{f}_i$ имеет нулевое среднее и почти наверное лежит в отрезке $[-\\delta,\\delta]$.  \n",
    "\n",
    "Это даёт, что для всех $i$ модуль шума $\\vert f_i - \\tilde{f}_i\\vert \\leq \\delta$.\n",
    "\n",
    "Теория говорит, что погрешность формул дифференцирования в этом случае будет вести себя совсем плохо. Проверим на эксперименте, предположив, что шум равномерно распределён в отрезке $[-\\delta,\\delta]$."
   ]
  },
  {
   "cell_type": "code",
   "execution_count": null,
   "metadata": {},
   "outputs": [],
   "source": [
    "delta=1e-8\n",
    "\n",
    "hs = np.arange(1e-6,0.7,1e-4)\n",
    "x=0.1\n",
    "np.random.seed(10540)#для воспроизводимости\n",
    "noises = np.random.uniform(size=(2,len(hs)))*2*delta-delta\n",
    "\n",
    "\n",
    "def ftest(x):\n",
    "    return np.exp(-x**2)\n",
    "def ftestPrime(x):\n",
    "    return -2*x*np.exp(-x**2)\n",
    "\n",
    "diffOutputsRight = np.zeros([len(hs)])\n",
    "diffOutputsCent = np.zeros([len(hs)])\n",
    "for k in np.arange(len(hs)):\n",
    "    #Right\n",
    "    xs=np.array([x,x+hs[k]])\n",
    "    differentiator = FinDifferenceDerivative(coefs=np.array([-1,1])/hs[k],xs=np.array([0,1])*hs[k] )\n",
    "    diffOutputsRight[k] = differentiator.compute(ftest(xs)+noises[:,k])\n",
    "\n",
    "    #Central\n",
    "    xs=np.array([x-hs[k],x+hs[k]])\n",
    "    differentiator = FinDifferenceDerivative(coefs=np.array([-1,1])/(2*hs[k]),\\\n",
    "                                             xs=np.array([-1,1])*hs[k] )                         \n",
    "    diffOutputsCent[k] = differentiator.compute(ftest(xs)+noises[:,k])"
   ]
  },
  {
   "cell_type": "code",
   "execution_count": null,
   "metadata": {},
   "outputs": [],
   "source": [
    "f,ax = plt.subplots(figsize=(8,5))\n",
    "\n",
    "ax.set_title(\"Погрешности\")\n",
    "ax.set_xlabel(\"log h\")\n",
    "ax.set_ylabel(\"Ошибка(Лог)\")\n",
    "ax.grid()\n",
    "ax.plot(  np.log(hs)/np.log(10),np.log( np.abs(diffOutputsRight-ftestPrime(x)) )/np.log(10)  )\n",
    "ax.plot(  np.log(hs)/np.log(10),np.log( np.abs(diffOutputsCent-ftestPrime(x)) )/np.log(10)  )"
   ]
  },
  {
   "cell_type": "markdown",
   "metadata": {},
   "source": [
    "Видно, что даже совсем малые шумы(сравнимые с погрешностью округления) существенно меняют картину. Если же мы меняем шум до более практических значений, то схемы практически разваливаются.\n",
    "\n",
    "Чуть позже мы посмотрим, как можно вычислять производные другими методами, включающими в себя интерполяцию и аппроксимацию, тем самым попытавшись в конкретном приложении сгладить эффект неустойчивости."
   ]
  },
  {
   "cell_type": "code",
   "execution_count": null,
   "metadata": {},
   "outputs": [],
   "source": []
  }
 ],
 "metadata": {
  "kernelspec": {
   "display_name": "Python 3.5.4 64-bit ('py35': conda)",
   "metadata": {
    "interpreter": {
     "hash": "69a5119457412f5ef5a7153c9e02fe4a4ea56ef4539f91a0a9cd52cfb957915e"
    }
   },
   "name": "python3"
  },
  "language_info": {
   "codemirror_mode": {
    "name": "ipython",
    "version": 3
   },
   "file_extension": ".py",
   "mimetype": "text/x-python",
   "name": "python",
   "nbconvert_exporter": "python",
   "pygments_lexer": "ipython3",
   "version": "3.6.2"
  },
  "orig_nbformat": 2
 },
 "nbformat": 4,
 "nbformat_minor": 2
}
