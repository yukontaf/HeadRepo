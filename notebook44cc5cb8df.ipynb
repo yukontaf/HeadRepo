{
  "metadata": {
    "accelerator": "GPU",
    "colab": {
      "collapsed_sections": [],
      "provenance": [],
      "include_colab_link": true
    },
    "kernelspec": {
      "name": "python3",
      "display_name": "Python 3",
      "language": "python"
    },
    "language_info": {
      "name": "python",
      "version": "3.7.12",
      "mimetype": "text/x-python",
      "codemirror_mode": {
        "name": "ipython",
        "version": 3
      },
      "pygments_lexer": "ipython3",
      "nbconvert_exporter": "python",
      "file_extension": ".py"
    },
    "vscode": {
      "interpreter": {
        "hash": "c1d7054af77ba560f87b9c7884b1cfb54f44503b6d572a00787a3ee06861aa5a"
      }
    }
  },
  "nbformat_minor": 0,
  "nbformat": 4,
  "cells": [
    {
      "cell_type": "markdown",
      "metadata": {
        "id": "view-in-github",
        "colab_type": "text"
      },
      "source": [
        "<a href=\"https://colab.research.google.com/github/yukontaf/HeadRepo/blob/main/notebook44cc5cb8df.ipynb\" target=\"_parent\"><img src=\"https://colab.research.google.com/assets/colab-badge.svg\" alt=\"Open In Colab\"/></a>"
      ]
    },
    {
      "cell_type": "code",
      "source": [
        "import pandas as pd, numpy as np, matplotlib.pyplot as plt, matplotlib\n",
        "import tensorflow as tf\n",
        "from sklearn.model_selection import train_test_split\n",
        "from sklearn.preprocessing import StandardScaler, LabelEncoder, OneHotEncoder\n",
        "\n",
        "import os\n",
        "# os.environ['TF_CPP_MIN_LOG_LEVEL'] = '3'\n",
        "# os.environ['TF_ENABLE_ONEDNN_OPTS'] = '1'\n",
        "from tensorflow import keras\n",
        "tf.config.run_functions_eagerly(True)\n",
        "from tensorflow.keras.preprocessing.text import Tokenizer\n",
        "from tensorflow.keras.models import Model\n",
        "from tensorflow.keras.preprocessing.sequence import pad_sequences\n",
        "from tensorflow.keras.losses import MeanAbsoluteError, MeanSquaredError, SparseCategoricalCrossentropy, CategoricalCrossentropy\n",
        "from tensorflow.keras.optimizers import Adagrad, Adadelta, Adam, Adamax, Ftrl, Nadam, SGD, RMSprop \n",
        "from tensorflow.keras.layers import Bidirectional, Dense, LSTM, GRU, Conv1D, GlobalAveragePooling1D, Lambda, Flatten, Dropout, Embedding, Input, Normalization,\\\n",
        "Concatenate\n",
        "from tensorflow.keras.callbacks import EarlyStopping, ModelCheckpoint, LearningRateScheduler, TensorBoard\n",
        "from tensorflow.keras.metrics import SparseCategoricalAccuracy\n",
        "from tensorflow.keras.utils import plot_model\n",
        "from tqdm import tqdm\n",
        "matplotlib.style.use(\"seaborn-whitegrid\")\n",
        "pd.set_option(\"display.width\", 5000)\n",
        "pd.set_option(\"display.max_columns\", 60)\n",
        "plt.rcParams[\"figure.figsize\"] = (15, 10)\n",
        "import datetime\n",
        "%config InlineBackend.figure_format = 'retina'\n",
        "\n",
        "from IPython.core.interactiveshell import InteractiveShell\n",
        "InteractiveShell.ast_node_interactivity = \"all\"\n",
        "\n",
        "import warnings\n",
        "warnings.simplefilter('ignore')\n",
        "pd.set_option('display.float_format', lambda x: '%.3f' % x)\n",
        "# AUTO = tf.data.experimental.AUTOTUNE"
      ],
      "metadata": {
        "id": "DqvAfHXqxUYC",
        "execution": {
          "iopub.status.busy": "2022-10-02T12:10:54.580675Z",
          "iopub.execute_input": "2022-10-02T12:10:54.581037Z",
          "iopub.status.idle": "2022-10-02T12:10:54.602450Z",
          "shell.execute_reply.started": "2022-10-02T12:10:54.581008Z",
          "shell.execute_reply": "2022-10-02T12:10:54.601435Z"
        },
        "trusted": true
      },
      "execution_count": 85,
      "outputs": []
    },
    {
      "cell_type": "code",
      "source": [
        "%%capture\n",
        "!pip install ipdb\n",
        "# !pip install gdown \n",
        "!pip install optuna\n",
        "!apt install --assume-yes --allow-change-held-packages libcudnn8=8.4.1.50-1+cuda11.6"
      ],
      "metadata": {
        "id": "Xu6m1iQkcdRa",
        "execution": {
          "iopub.status.busy": "2022-10-02T10:44:01.504521Z",
          "iopub.execute_input": "2022-10-02T10:44:01.504911Z",
          "iopub.status.idle": "2022-10-02T10:44:12.821269Z",
          "shell.execute_reply.started": "2022-10-02T10:44:01.504870Z",
          "shell.execute_reply": "2022-10-02T10:44:12.819845Z"
        },
        "trusted": true
      },
      "execution_count": 21,
      "outputs": []
    },
    {
      "cell_type": "code",
      "source": [
        "import optuna\n",
        "import pdb\n",
        "from optuna.trial import TrialState"
      ],
      "metadata": {
        "id": "LCwoZ9JT4sk8",
        "execution": {
          "iopub.status.busy": "2022-10-02T10:44:38.395723Z",
          "iopub.execute_input": "2022-10-02T10:44:38.396115Z",
          "iopub.status.idle": "2022-10-02T10:44:38.666311Z",
          "shell.execute_reply.started": "2022-10-02T10:44:38.396081Z",
          "shell.execute_reply": "2022-10-02T10:44:38.665393Z"
        },
        "trusted": true
      },
      "execution_count": 22,
      "outputs": []
    },
    {
      "cell_type": "code",
      "source": [
        "!gdown 12ceraaz41xJ503VhZlU-WnBB5pR8QWWf\n",
        "!gdown 1mocZNvYWzWL9U-kygm9QU4ejuJoO0jyo"
      ],
      "metadata": {
        "colab": {
          "base_uri": "https://localhost:8080/"
        },
        "id": "mUvW033axX0I",
        "outputId": "e9cf18f2-a603-48f4-d68b-88a1913d21d9",
        "execution": {
          "iopub.status.busy": "2022-10-02T10:44:40.360369Z",
          "iopub.execute_input": "2022-10-02T10:44:40.361072Z",
          "iopub.status.idle": "2022-10-02T10:44:54.813108Z",
          "shell.execute_reply.started": "2022-10-02T10:44:40.361036Z",
          "shell.execute_reply": "2022-10-02T10:44:54.811970Z"
        },
        "trusted": true
      },
      "execution_count": 23,
      "outputs": [
        {
          "output_type": "stream",
          "name": "stdout",
          "text": [
            "Downloading...\n",
            "From: https://drive.google.com/uc?id=12ceraaz41xJ503VhZlU-WnBB5pR8QWWf\n",
            "To: /content/train.feather\n",
            "100% 12.2M/12.2M [00:00<00:00, 278MB/s]\n",
            "Downloading...\n",
            "From: https://drive.google.com/uc?id=1mocZNvYWzWL9U-kygm9QU4ejuJoO0jyo\n",
            "To: /content/test.feather\n",
            "100% 45.8k/45.8k [00:00<00:00, 57.9MB/s]\n"
          ]
        }
      ]
    },
    {
      "cell_type": "code",
      "source": [
        "norm = lambda x: (x-x.mean())/x.std()\n",
        "df = pd.read_feather('/content/train.feather').drop('data_source', axis=1).dropna()\n",
        "tm, ph = df['tm'], df['pH']\n",
        "bins_tm, bins_ph = list(range(0,110,10)), np.arange(start=0,stop=10,step=0.5)\n",
        "tm_cut, ph_cut = pd.cut(tm, bins_tm), pd.cut(ph, bins_ph)\n",
        "df['tm_bin'], df['ph_bin'] = tm_cut, ph_cut\n",
        "train = df.sample(frac = 0.8)\n",
        "val = df.drop(train.index, axis=0)\n",
        "test = pd.read_feather('/content/test.feather').drop('data_source', axis=1).dropna()"
      ],
      "metadata": {
        "id": "OdJ_ise1qMPY",
        "execution": {
          "iopub.status.busy": "2022-10-02T12:29:52.962834Z",
          "iopub.execute_input": "2022-10-02T12:29:52.963197Z",
          "iopub.status.idle": "2022-10-02T12:29:53.024345Z",
          "shell.execute_reply.started": "2022-10-02T12:29:52.963167Z",
          "shell.execute_reply": "2022-10-02T12:29:53.023358Z"
        },
        "trusted": true
      },
      "execution_count": 24,
      "outputs": []
    },
    {
      "cell_type": "code",
      "source": [
        "def split_seq(df):\n",
        "    sentences = np.array([\n",
        "    df[['protein_sequence']].to_numpy()[:, 0],\n",
        "])\n",
        "    splitted= []\n",
        "    for i in sentences[0, :]:\n",
        "        splitted.append(list(i))\n",
        "\n",
        "    return np.array(splitted)\n",
        "\n",
        "train_seq, val_seq, test_seq = split_seq(train), split_seq(val), split_seq(test)\n",
        "le = LabelEncoder()\n",
        "le.fit(df[['tm_bin']])\n",
        "\n",
        "train_ph, val_ph, test_ph = train['pH'].to_numpy().reshape((len(train), 1)), val['pH'].to_numpy().reshape((len(val), 1)), test['pH'].to_numpy().reshape((len(test), 1))\n",
        "train_tm, val_tm = train['tm'].to_numpy().reshape((len(train), 1)), val['tm'].to_numpy().reshape((len(val), 1))\n",
        "train_labels, val_labels = le.fit_transform(train[['tm_bin']].to_numpy()), le.fit_transform(val[['tm_bin']].to_numpy())\n",
        "le.fit(df[['ph_bin']])\n",
        "train_ph_labels, val_ph_labels = le.fit_transform(train['ph_bin']), le.fit_transform(val['ph_bin'])\n",
        "# train_labels, val_labels = keras.utils.to_categorical(train_labels), keras.utils.to_categorical(val_labels)"
      ],
      "metadata": {
        "id": "VjpEHcvlxUYI",
        "execution": {
          "iopub.status.busy": "2022-10-02T12:31:39.854444Z",
          "iopub.execute_input": "2022-10-02T12:31:39.855103Z"
        },
        "trusted": true,
        "colab": {
          "base_uri": "https://localhost:8080/"
        },
        "outputId": "cb4b3652-7819-4edf-d5b9-564eb002f14f"
      },
      "execution_count": 25,
      "outputs": [
        {
          "output_type": "execute_result",
          "data": {
            "text/plain": [
              "LabelEncoder()"
            ]
          },
          "metadata": {},
          "execution_count": 25
        },
        {
          "output_type": "execute_result",
          "data": {
            "text/plain": [
              "LabelEncoder()"
            ]
          },
          "metadata": {},
          "execution_count": 25
        }
      ]
    },
    {
      "cell_type": "code",
      "source": [
        "df['protein_sequence'].apply(lambda x: len(x)).quantile(0.90)"
      ],
      "metadata": {
        "colab": {
          "base_uri": "https://localhost:8080/"
        },
        "id": "7ro80MZB2ZMm",
        "outputId": "e8f2df49-6f0e-44b6-f546-4c9043ff05ac",
        "execution": {
          "iopub.status.busy": "2022-10-02T10:58:02.992084Z",
          "iopub.execute_input": "2022-10-02T10:58:02.992450Z",
          "iopub.status.idle": "2022-10-02T10:58:03.018236Z",
          "shell.execute_reply.started": "2022-10-02T10:58:02.992399Z",
          "shell.execute_reply": "2022-10-02T10:58:03.017309Z"
        },
        "trusted": true
      },
      "execution_count": 9,
      "outputs": [
        {
          "output_type": "execute_result",
          "data": {
            "text/plain": [
              "842.0"
            ]
          },
          "metadata": {},
          "execution_count": 9
        }
      ]
    },
    {
      "cell_type": "code",
      "source": [
        "max_length = 1024\n",
        "trunc_type='post'\n",
        "embedding_dim = 64"
      ],
      "metadata": {
        "id": "Q4Bd-xxfxUYJ",
        "execution": {
          "iopub.status.busy": "2022-10-02T12:00:14.458239Z",
          "iopub.execute_input": "2022-10-02T12:00:14.458599Z",
          "iopub.status.idle": "2022-10-02T12:00:14.463670Z",
          "shell.execute_reply.started": "2022-10-02T12:00:14.458569Z",
          "shell.execute_reply": "2022-10-02T12:00:14.462477Z"
        },
        "trusted": true
      },
      "execution_count": 26,
      "outputs": []
    },
    {
      "cell_type": "code",
      "source": [
        "tokenizer = Tokenizer()\n",
        "tokenizer.fit_on_texts(train_seq)\n",
        "sequences = tokenizer.texts_to_sequences(train_seq)\n",
        "train_seq = pad_sequences(sequences, maxlen=max_length, truncating=trunc_type)\n",
        "vocab_size = len(tokenizer.word_index)\n",
        "# train = Concatenate(axis=1)([tf.cast(train_seq.reshape(24883, 1024, 1), 'float32'), train_ph.reshape(24883, 1, 1), tf.cast(train_labels.reshape((24883, 1, 1)), 'float32')])\n",
        "\n",
        "\n",
        "val_seq = tokenizer.texts_to_sequences(val_seq)\n",
        "val_seq = pad_sequences(val_seq,maxlen=max_length)\n",
        "# val = Concatenate(axis=1)([tf.cast(val_seq.reshape(len(val_seq), 1024, 1), 'float32'), val_ph.reshape(len(val_seq), 1, 1), tf.cast(val_labels.reshape((len(val_seq), 1, 1)), 'float32')])\n",
        "\n",
        "\n",
        "tokenizer.fit_on_texts(test_seq)\n",
        "test_seq = tokenizer.texts_to_sequences(test_seq)\n",
        "test_seq = pad_sequences(test_seq, maxlen=max_length)\n",
        "# test = np.append(test_seq, test_ph, 1)"
      ],
      "metadata": {
        "id": "tdNq9IJfxUYJ",
        "execution": {
          "iopub.status.busy": "2022-10-02T12:14:04.072883Z",
          "iopub.execute_input": "2022-10-02T12:14:04.073240Z",
          "iopub.status.idle": "2022-10-02T12:14:14.916347Z",
          "shell.execute_reply.started": "2022-10-02T12:14:04.073209Z",
          "shell.execute_reply": "2022-10-02T12:14:14.915336Z"
        },
        "trusted": true
      },
      "execution_count": 27,
      "outputs": []
    },
    {
      "cell_type": "code",
      "source": [
        "# %pdb\n",
        "import random, ipdb\n",
        "def create_pairs(x, digit_indices):\n",
        "    '''Positive and negative pair creation.\n",
        "    Alternates between positive and negative pairs.\n",
        "    '''\n",
        "    pairs = []\n",
        "    labels = []\n",
        "    n = min([len(digit_indices[d]) for d in range(11)]) - 1\n",
        "    \n",
        "    for d in range(11):\n",
        "        for i in range(n):\n",
        "            z1, z2 = digit_indices[d][i], digit_indices[d][i + 1]\n",
        "            # pdb.set_trace()\n",
        "            pairs += [[x[z1], x[z2]]]\n",
        "            inc = random.randrange(1, 10)\n",
        "            dn = (d + inc) % 10\n",
        "            z1, z2 = digit_indices[d][i], digit_indices[dn][i]\n",
        "            pairs += [[x[z1], x[z2]]]\n",
        "            labels += [1, 0]\n",
        "            \n",
        "    return np.array(pairs), np.array(labels)\n",
        "\n",
        "\n",
        "def create_pairs_on_set(sequences, labels):\n",
        "    \n",
        "    digit_indices = [np.where(labels == i)[0] for i in range(11)]\n",
        "    # pdb.set_trace()\n",
        "    pairs, y = create_pairs(sequences, digit_indices)\n",
        "    y = y.astype('float32')\n",
        "    \n",
        "    return pairs, y\n",
        "\n",
        "\n",
        "train_pairs, train_y = create_pairs_on_set(train_seq, train_labels)\n",
        "val_pairs, val_y = create_pairs_on_set(val_seq, val_labels)\n"
      ],
      "metadata": {
        "id": "tocXZV4KYf78"
      },
      "execution_count": 28,
      "outputs": []
    },
    {
      "cell_type": "code",
      "source": [
        "def contrastive_loss_with_margin(margin):\n",
        "    def contrastive_loss(y_true, y_pred):\n",
        "        square_pred = K.square(y_pred)\n",
        "        margin_square = K.square(K.maximum(margin - y_pred, 0))\n",
        "        return (y_true * square_pred + (1 - y_true) * margin_square)\n",
        "    return contrastive_loss\n",
        "\n",
        "from tensorflow.keras.losses import Loss\n",
        "\n",
        "class ContrastiveLoss(Loss):\n",
        "  def __init__(self, margin=1):\n",
        "    super().__init__()\n",
        "    self.margin = margin\n",
        "\n",
        "  def __call__(self, y_true, y_pred):\n",
        "    square_pred = K.square(y_pred)\n",
        "    margin_square = K.square(K.maximum(self.margin - y_pred, 0))\n",
        "    return (1-y_true)*square_pred + y_true*margin_square"
      ],
      "metadata": {
        "id": "xtj0o410bD7h"
      },
      "execution_count": 29,
      "outputs": []
    },
    {
      "cell_type": "code",
      "source": [
        "#@title\n",
        "BATCH_SIZE = 1024\n",
        "def preprocess(data):\n",
        "    sequence = data[:-1]\n",
        "    ph = tf.reshape(data[-2], (-1, ))\n",
        "    tm =  data[-1]\n",
        "    return sequence, ph, tm\n",
        "def get_training_dataset(dataset):\n",
        "    dataset = dataset.map(preprocess).shuffle(len(sequences)).batch(BATCH_SIZE).prefetch(64)\n",
        "    return dataset\n",
        "def get_validation_dataset(valid):\n",
        "  valid = valid.map(preprocess).shuffle(len(sequences)).batch(BATCH_SIZE).prefetch(64)\n",
        "  return valid\n",
        "def concat(input):\n",
        "    return tf.keras.layers.concatenate([input[0], input[1]], axis=1)"
      ],
      "metadata": {
        "id": "lo0y5tvepgqc",
        "execution": {
          "iopub.status.busy": "2022-10-02T12:26:37.494037Z",
          "iopub.execute_input": "2022-10-02T12:26:37.494408Z",
          "iopub.status.idle": "2022-10-02T12:26:37.504147Z",
          "shell.execute_reply.started": "2022-10-02T12:26:37.494377Z",
          "shell.execute_reply": "2022-10-02T12:26:37.503085Z"
        },
        "trusted": true
      },
      "execution_count": 30,
      "outputs": []
    },
    {
      "cell_type": "code",
      "source": [
        "#@title\n",
        "# %pdb\n",
        "class MyModel(tf.keras.Model):\n",
        "  def __init__(self, lstm_layers, emb_dim, lstm_units, dropout_rate):\n",
        "    super(MyModel, self).__init__()\n",
        "    self.lstm_layers, self.emb_dim, self.lstm_units, self.dropout_rate = lstm_layers, emb_dim, lstm_units, dropout_rate\n",
        "    self.input_ph = tf.keras.layers.Input((1,))\n",
        "    self.input_seq = tf.keras.layers.Input((500, ))\n",
        "    self.seq_layers =  [] \n",
        "    self.seq_layers.extend([tf.keras.layers.Embedding(21, emb_dim, name='embedding'),\n",
        "                        tf.keras.layers.Conv1D(filters=128, kernel_size=5, activation='relu'),\n",
        "                        tf.keras.layers.Dropout(dropout_rate),  \n",
        "                        tf.keras.layers.Conv1D(filters=64, kernel_size=3, activation='relu'),\n",
        "                        tf.keras.layers.Dropout(dropout_rate),\n",
        "                        *[tf.keras.layers.Bidirectional(tf.keras.layers.LSTM(i, return_sequences=True, name=f'LSTM_{i}')) for j in range(lstm_layers-1) for i in lstm_units],\n",
        "                        ])\n",
        "    for i in range(len(self.seq_layers)):\n",
        "      vars(self)[f'SEQ_LAYER_{i}'] = self.seq_layers[i]\n",
        "\n",
        "    self.ph_layers = [\n",
        "                      tf.keras.layers.Dense(512, name='dense1_ph', activation='relu'),\n",
        "                      tf.keras.layers.Dropout(dropout_rate), \n",
        "                      tf.keras.layers.Dense(256, name='dense2_ph', activation='relu'),\n",
        "                      tf.keras.layers.Dropout(dropout_rate), \n",
        "                      tf.keras.layers.Dense(128, name='dense3_ph', activation='relu'),\n",
        "                      # tf.keras.layers.Dropout(dropout_rate),  \n",
        "                      # tf.keras.layers.Dense(1, name='output_ph')\n",
        "                      ]\n",
        "\n",
        "    self.lambda_layer = tf.keras.layers.Lambda(function=concat, name='lambda_layer')\n",
        "    self.flatten = tf.keras.layers.Flatten(name='flatten')\n",
        "    self.dense_combined = tf.keras.layers.Dense(64, activation='relu', name='dense_combined')\n",
        "    self.lambda_helper = tf.keras.layers.Lambda(lambda x: tf.reshape(x, (-1, 64, 1)))\n",
        "    self.lstm_dense = tf.keras.layers.Bidirectional(tf.keras.layers.LSTM(512))\n",
        "    self.last_dense = tf.keras.layers.Dense(1, name='output')\n",
        "\n",
        "  def call(self, inputs):\n",
        "    seq, ph = inputs\n",
        "    SEQ_LAYER_0 = vars(self)['SEQ_LAYER_0']\n",
        "    x = SEQ_LAYER_0(seq)\n",
        "    for i in range(1, self.lstm_layers):\n",
        "        SEQ_LAYER_i = vars(self)[f'SEQ_LAYER_{i}']\n",
        "        x = SEQ_LAYER_i(x)\n",
        "\n",
        "    # for layer in self.seq_layers:\n",
        "    #   seq = layer(seq)\n",
        "\n",
        "    for layer in self.ph_layers:\n",
        "      ph = layer(ph)\n",
        "\n",
        "    x = self.lambda_layer([x, tf.tile(tf.reshape(ph, (-1, 128, 1)), (1, 1, x.shape[-1]))])\n",
        "    x = self.flatten(x)\n",
        "    x = self.dense_combined(x)\n",
        "    x = self.lambda_helper(x)\n",
        "    # x = self.lstm_dense(x)\n",
        "    x = self.last_dense(x)\n",
        "    return x\n",
        "    "
      ],
      "metadata": {
        "id": "w3JlzGcFePL-",
        "jupyter": {
          "source_hidden": true
        },
        "cellView": "form"
      },
      "execution_count": null,
      "outputs": []
    },
    {
      "cell_type": "code",
      "source": [
        "#@title\n",
        "TRAIN_STEPS = 15\n",
        "PRUNING_INTERVAL_STEPS = 50\n",
        "def objective(trial):    \n",
        "  lstm_layers = trial.suggest_int('lstm_layers', 1, 7)\n",
        "  emb_dim = trial.suggest_int('emb_dim', 256, 1024)\n",
        "  lstm_units = []\n",
        "  learning_rate = trial.suggest_loguniform('learning_rate', 1e-7, 1)\n",
        "  for i in range(lstm_layers):\n",
        "    lstm_units.append(trial.suggest_int(f'lstm_units_l{i}', 16, 512))\n",
        "  dropout_rate = trial.suggest_uniform('dropout_rate', 0, 1)\n",
        "  optimizer = trial.suggest_categorical('optimizer', [Adagrad, Adadelta, Adam, Adamax, Ftrl, Nadam, SGD, RMSprop])\n",
        "  regressor = MyModel(lstm_layers, emb_dim, lstm_units, dropout_rate)\n",
        "  loss_obj = tf.keras.metrics.MeanAbsoluteError(name='loss_obj')\n",
        "  regressor.compile(loss=loss_obj, optimizer=optimizer(learning_rate=learning_rate))\n",
        "  losses, n_train_iter, step = [], len(get_training_dataset(train)), 0\n",
        "  for epoch in range(1):\n",
        "    print(f'Epoch # {epoch} started')\n",
        "    for batch in tqdm(get_training_dataset(train)):\n",
        "      predictions = regressor([batch[0], batch[1]], training=True)\n",
        "      loss = loss_obj(batch[2], predictions)\n",
        "      losses.append(loss)\n",
        "      if step > n_train_iter//2:\n",
        "        intermediate_value = loss\n",
        "        if intermediate_value < best_loss:\n",
        "            raise optuna.TrialPruned()\n",
        "      step += 1\n",
        "      best_loss = min(losses)\n",
        "    print(f'Training Loss {loss:.2f}, Best Loss: {best_loss:.2f}')\n",
        "    for val_batch in tqdm(get_validation_dataset(val)):\n",
        "      predictions = regressor([val_batch[0], val_batch[1]], training=False)\n",
        "      val_loss = loss_obj(val_batch[2], predictions)\n",
        "    print(f'Validation Loss {val_loss:.2f}')\n",
        "  return val_loss"
      ],
      "metadata": {
        "id": "CM324baOeGHf",
        "execution": {
          "iopub.status.busy": "2022-10-02T10:45:16.174182Z",
          "iopub.execute_input": "2022-10-02T10:45:16.174568Z",
          "iopub.status.idle": "2022-10-02T10:45:16.207998Z",
          "shell.execute_reply.started": "2022-10-02T10:45:16.174537Z",
          "shell.execute_reply": "2022-10-02T10:45:16.206978Z"
        },
        "jupyter": {
          "source_hidden": true
        },
        "trusted": true,
        "cellView": "form"
      },
      "execution_count": null,
      "outputs": []
    },
    {
      "cell_type": "code",
      "source": [
        "#@title\n",
        "# study = optuna.create_study(direction=\"minimize\")\n",
        "# study.optimize(objective, n_trials=100)\n",
        "# pruned_trials = study.get_trials(deepcopy=False, states=[TrialState.PRUNED])\n",
        "# complete_trials = study.get_trials(deepcopy=False, states=[TrialState.COMPLETE])"
      ],
      "metadata": {
        "id": "ELrn1aBzLs2P",
        "jupyter": {
          "source_hidden": true
        },
        "cellView": "form"
      },
      "execution_count": null,
      "outputs": []
    },
    {
      "cell_type": "code",
      "source": [
        "#@title\n",
        "# print(\"Best trial:\")\n",
        "# trial = study.best_trial\n",
        "\n",
        "# trial"
      ],
      "metadata": {
        "id": "989AAezAxUYK",
        "jupyter": {
          "source_hidden": true
        },
        "cellView": "form"
      },
      "execution_count": null,
      "outputs": []
    },
    {
      "cell_type": "code",
      "source": [
        "#@title\n",
        "def model2(inputs):\n",
        "    training = tf.estimator.ModeKeys.TRAIN\n",
        "    seq, ph = inputs[0], inputs[1]\n",
        "    concat = Concatenate(axis=1)([tf.cast(seq, dtype='int64'), tf.cast(ph, 'int64')])\n",
        "    concat = Embedding(1026, 256)(concat)\n",
        "    concat = GRU(64, activation='tanh', return_sequences=True)(concat)\n",
        "    concat = GRU(8, activation='tanh')(concat)\n",
        "    if training:\n",
        "      concat = Dropout(0.2)(concat)\n",
        "    concat = Dense(11, activation='softmax')(concat)\n",
        "    model = Model(inputs=inputs, outputs=concat)\n",
        "    return model"
      ],
      "metadata": {
        "id": "t6JB2_gWxUZW",
        "execution": {
          "iopub.status.busy": "2022-10-02T12:24:27.673495Z",
          "iopub.execute_input": "2022-10-02T12:24:27.673856Z",
          "iopub.status.idle": "2022-10-02T12:24:27.681234Z",
          "shell.execute_reply.started": "2022-10-02T12:24:27.673827Z",
          "shell.execute_reply": "2022-10-02T12:24:27.680184Z"
        },
        "trusted": true
      },
      "execution_count": 67,
      "outputs": []
    },
    {
      "cell_type": "code",
      "source": [
        "#@title\n",
        "inputs_seq, inputs_ph = Input((1024,)), Input((1,))\n",
        "model = model2([inputs_seq, inputs_ph])\n",
        "adam, sgd, rms = Adam(1e-5), SGD(1e-4), RMSprop(1e-4)\n",
        "loss_fn = SparseCategoricalCrossentropy(from_logits=True)\n",
        "model.compile(optimizer=adam, loss=loss_fn, metrics=['accuracy'])"
      ],
      "metadata": {
        "id": "-SIehsNSO7cr",
        "execution": {
          "iopub.status.busy": "2022-10-02T12:24:29.942100Z",
          "iopub.execute_input": "2022-10-02T12:24:29.942622Z",
          "iopub.status.idle": "2022-10-02T12:24:29.959404Z",
          "shell.execute_reply.started": "2022-10-02T12:24:29.942587Z",
          "shell.execute_reply": "2022-10-02T12:24:29.958265Z"
        },
        "trusted": true
      },
      "execution_count": 76,
      "outputs": []
    },
    {
      "cell_type": "code",
      "source": [
        "def scheduler(epoch, lr):\n",
        "  if epoch < 2:\n",
        "    return lr\n",
        "  else:\n",
        "    return lr * tf.math.exp(-0.1)\n",
        "logdir = os.path.join(\"logs\", datetime.datetime.now().strftime(\"%Y%m%d-%H%M%S\"))\n",
        "scheduler = LearningRateScheduler(scheduler)\n",
        "checkpoint = ModelCheckpoint(f'/content/model/weights.h5', verbose=1, save_weights_only=True, monitor='val_accuracy', mode='max', save_best_only=True)\n",
        "early_stopping = EarlyStopping(patience=3, min_delta=0.05, baseline=0.4, mode='max', monitor='val_accuracy', restore_best_weights=True, verbose=1)\n",
        "tensorboard = tf.keras.callbacks.TensorBoard(logdir)"
      ],
      "metadata": {
        "id": "6SCtyWVXUSKE"
      },
      "execution_count": 86,
      "outputs": []
    },
    {
      "cell_type": "code",
      "source": [
        "model.summary()\n",
        "plot_model(model, to_file='model.png', show_shapes=True)"
      ],
      "metadata": {
        "colab": {
          "base_uri": "https://localhost:8080/",
          "height": 1000
        },
        "id": "wc9MZ8ZGAeZ_",
        "outputId": "7364b578-daf7-405f-ceca-6d520ba86a23"
      },
      "execution_count": 72,
      "outputs": [
        {
          "output_type": "stream",
          "name": "stdout",
          "text": [
            "Model: \"model_5\"\n",
            "__________________________________________________________________________________________________\n",
            " Layer (type)                   Output Shape         Param #     Connected to                     \n",
            "==================================================================================================\n",
            " input_15 (InputLayer)          [(None, 1024)]       0           []                               \n",
            "                                                                                                  \n",
            " input_16 (InputLayer)          [(None, 1)]          0           []                               \n",
            "                                                                                                  \n",
            " tf.cast_10 (TFOpLambda)        (None, 1024)         0           ['input_15[0][0]']               \n",
            "                                                                                                  \n",
            " tf.cast_11 (TFOpLambda)        (None, 1)            0           ['input_16[0][0]']               \n",
            "                                                                                                  \n",
            " concatenate_10 (Concatenate)   (None, 1025)         0           ['tf.cast_10[0][0]',             \n",
            "                                                                  'tf.cast_11[0][0]']             \n",
            "                                                                                                  \n",
            " embedding_5 (Embedding)        (None, 1025, 256)    262656      ['concatenate_10[0][0]']         \n",
            "                                                                                                  \n",
            " gru_12 (GRU)                   (None, 1025, 64)     61824       ['embedding_5[0][0]']            \n",
            "                                                                                                  \n",
            " gru_13 (GRU)                   (None, 8)            1776        ['gru_12[0][0]']                 \n",
            "                                                                                                  \n",
            " dropout_1 (Dropout)            (None, 8)            0           ['gru_13[0][0]']                 \n",
            "                                                                                                  \n",
            " dense_5 (Dense)                (None, 11)           99          ['dropout_1[0][0]']              \n",
            "                                                                                                  \n",
            "==================================================================================================\n",
            "Total params: 326,355\n",
            "Trainable params: 326,355\n",
            "Non-trainable params: 0\n",
            "__________________________________________________________________________________________________\n"
          ]
        },
        {
          "output_type": "execute_result",
          "data": {
            "image/png": "[encoded data removed]",
            "text/plain": [
              "<IPython.core.display.Image object>"
            ]
          },
          "metadata": {},
          "execution_count": 72
        }
      ]
    },
    {
      "cell_type": "code",
      "source": [
        "batch_size = 2\n",
        "model.fit(x=[train_seq, train_ph_labels], y=train_labels, epochs=10, batch_size=batch_size, validation_data=([val_seq, val_ph_labels], (val_labels)), \n",
        "          verbose=1, validation_batch_size=batch_size, callbacks=[early_stopping, checkpoint, scheduler])"
      ],
      "metadata": {
        "colab": {
          "base_uri": "https://localhost:8080/"
        },
        "id": "XLOKlVSf4UIX",
        "outputId": "9c7289c4-851f-4d24-f401-0d80920fd7ea"
      },
      "execution_count": null,
      "outputs": [
        {
          "output_type": "stream",
          "name": "stdout",
          "text": [
            "Epoch 1/10\n",
            " 7158/12442 [================>.............] - ETA: 7:01 - loss: 1.8379 - accuracy: 0.3809"
          ]
        }
      ]
    },
    {
      "cell_type": "code",
      "source": [
        "#@title\n",
        "seq, ph, tm = train[:,:-2], train[:,-2].reshape(-1,1), train[:,-1].reshape(-1,1)\n",
        "scaler_ph, scaler_tm = StandardScaler(), StandardScaler()\n",
        "train_ph, train_tm  = np.array(scaler_ph.fit_transform(ph)), np.array(scaler_tm.fit_transform(tm))\n",
        "scaler_ph.fit(val[:,-2].reshape(-1,1)), scaler_tm.fit(val[:,-1].reshape(-1,1))\n",
        "val_seq, val_ph, val_tm = val[:,:-2], scaler_ph.inverse_transform(val[:,-2].reshape(-1,1)), scaler_tm.inverse_transform(val[:,-1].reshape(-1,1))"
      ],
      "metadata": {
        "execution": {
          "iopub.status.busy": "2022-10-02T12:24:32.205993Z",
          "iopub.execute_input": "2022-10-02T12:24:32.206354Z",
          "iopub.status.idle": "2022-10-02T12:24:32.216488Z",
          "shell.execute_reply.started": "2022-10-02T12:24:32.206325Z",
          "shell.execute_reply": "2022-10-02T12:24:32.215345Z"
        },
        "trusted": true,
        "id": "UrlCkiytr1n0"
      },
      "execution_count": null,
      "outputs": []
    },
    {
      "cell_type": "code",
      "source": [
        "#@title\n",
        "class G:\n",
        "    TIME, SERIES = list(range(max_length)), sequences\n",
        "    SPLIT_TIME = int(max_length*0.2)\n",
        "    WINDOW_SIZE = 20\n",
        "    BATCH_SIZE = 32\n",
        "    SHUFFLE_BUFFER_SIZE = train_seq.shape[0]\n",
        "    LR = 2e-6"
      ],
      "metadata": {
        "cellView": "form",
        "id": "hU-LgnVF6wK9"
      },
      "execution_count": null,
      "outputs": []
    },
    {
      "cell_type": "code",
      "source": [
        "#@title\n",
        "def windowed_seq(ind, series=G.SERIES, window_size=G.WINDOW_SIZE, batch_size=G.BATCH_SIZE,\n",
        "                     shuffle_buffer=G.SHUFFLE_BUFFER_SIZE):\n",
        "    seq = tf.data.Dataset.from_tensor_slices(series[ind])\n",
        "    seq = seq.window(window_size + 1, shift=1, drop_remainder=True)\n",
        "    seq = seq.flat_map(lambda window: window.batch(window_size + 1))\n",
        "    # seq = seq.shuffle(shuffle_buffer)\n",
        "    seq = seq.map(lambda window: (window[:-1], window[-1]))\n",
        "    seq = seq.batch(batch_size).prefetch(1)\n",
        "    return seq"
      ],
      "metadata": {
        "cellView": "form",
        "id": "DyZ6zGdPr1n1"
      },
      "execution_count": null,
      "outputs": []
    },
    {
      "cell_type": "code",
      "source": [
        "from __future__ import absolute_import\n",
        "from __future__ import division\n",
        "from __future__ import print_function\n",
        "\n",
        "from tensorflow.keras.layers import Reshape, Conv1DTranspose, Conv1D\n",
        "from tensorflow.keras.utils import plot_model\n",
        "from tensorflow.keras import backend as K\n",
        "from tensorflow.keras.callbacks import TensorBoard, EarlyStopping, LearningRateScheduler, ModelCheckpoint, CSVLogger, ReduceLROnPlateau\n"
      ],
      "metadata": {
        "id": "3JOIS_Yq8AOQ"
      },
      "execution_count": null,
      "outputs": []
    },
    {
      "cell_type": "code",
      "source": [
        "input_shape = (1024, 1)\n",
        "batch_size = 16\n",
        "kernel_size = 5\n",
        "latent_dim = 2\n",
        "# encoder/decoder number of CNN layers and filters per layer\n",
        "layer_filters = [32, 32]"
      ],
      "metadata": {
        "id": "8n1aTBM8Jbxp"
      },
      "execution_count": null,
      "outputs": []
    },
    {
      "cell_type": "code",
      "source": [
        "inputs = Input(shape=input_shape, name='encoder_input')\n",
        "x = inputs\n",
        "for filters in layer_filters:\n",
        "    x = Conv1D(filters=filters,\n",
        "               kernel_size=kernel_size,\n",
        "               activation='relu',\n",
        "               strides=2,\n",
        "               padding='same')(x)\n",
        "shape = K.int_shape(x)"
      ],
      "metadata": {
        "id": "zQc0OXA5JoE-"
      },
      "execution_count": null,
      "outputs": []
    },
    {
      "cell_type": "code",
      "source": [
        "x = Flatten()(x)\n",
        "latent = Dense(latent_dim, name='latent_vector')(x)"
      ],
      "metadata": {
        "id": "csO1vijOJwF9"
      },
      "execution_count": null,
      "outputs": []
    },
    {
      "cell_type": "code",
      "source": [
        "encoder = Model(inputs, latent, name='encoder')\n",
        "# encoder.load_weights('/contents/encoder')\n",
        "encoder.summary()\n",
        "plot_model(encoder, to_file='encoder.png', show_shapes=True);"
      ],
      "metadata": {
        "colab": {
          "base_uri": "https://localhost:8080/"
        },
        "id": "9-jggncnJ1CD",
        "outputId": "360415c6-e9a4-40ec-f4ee-038e95c2b2cd"
      },
      "execution_count": null,
      "outputs": [
        {
          "output_type": "stream",
          "name": "stdout",
          "text": [
            "Model: \"encoder\"\n",
            "_________________________________________________________________\n",
            " Layer (type)                Output Shape              Param #   \n",
            "=================================================================\n",
            " encoder_input (InputLayer)  [(None, 1024, 1)]         0         \n",
            "                                                                 \n",
            " conv1d_50 (Conv1D)          (None, 512, 32)           192       \n",
            "                                                                 \n",
            " conv1d_51 (Conv1D)          (None, 256, 32)           5152      \n",
            "                                                                 \n",
            " flatten_11 (Flatten)        (None, 8192)              0         \n",
            "                                                                 \n",
            " latent_vector (Dense)       (None, 2)                 16386     \n",
            "                                                                 \n",
            "=================================================================\n",
            "Total params: 21,730\n",
            "Trainable params: 21,730\n",
            "Non-trainable params: 0\n",
            "_________________________________________________________________\n"
          ]
        }
      ]
    },
    {
      "cell_type": "code",
      "source": [
        "latent_inputs = Input(shape=(latent_dim,), name='decoder_input')\n",
        "x = Dense(shape[1] * shape[2] )(latent_inputs)\n",
        "x = Reshape((shape[1], shape[2]))(x)"
      ],
      "metadata": {
        "id": "knp5wi5CJ3ir"
      },
      "execution_count": null,
      "outputs": []
    },
    {
      "cell_type": "code",
      "source": [
        "for filters in layer_filters[::-1]:\n",
        "    x = Conv1DTranspose(filters=filters,\n",
        "                        kernel_size=kernel_size,\n",
        "                        activation='relu',\n",
        "                        strides=2,\n",
        "                        padding='same')(x)"
      ],
      "metadata": {
        "id": "ou24IScWKtb-"
      },
      "execution_count": null,
      "outputs": []
    },
    {
      "cell_type": "code",
      "source": [
        "outputs = Conv1DTranspose(filters=1,\n",
        "                          kernel_size=kernel_size,\n",
        "                          activation='sigmoid',\n",
        "                          padding='same',\n",
        "                          name='decoder_output')(x)"
      ],
      "metadata": {
        "id": "JdYIsCj3K8Pl"
      },
      "execution_count": null,
      "outputs": []
    },
    {
      "cell_type": "code",
      "source": [
        "decoder = Model(latent_inputs, outputs, name='decoder')\n",
        "decoder.summary()\n",
        "plot_model(decoder, to_file='decoder.png', show_shapes=True)"
      ],
      "metadata": {
        "colab": {
          "base_uri": "https://localhost:8080/",
          "height": 1000
        },
        "id": "PjlmtG6pLB2Z",
        "outputId": "92613c54-6f8f-4036-bd30-84a0c871369b"
      },
      "execution_count": null,
      "outputs": [
        {
          "output_type": "stream",
          "name": "stdout",
          "text": [
            "Model: \"decoder\"\n",
            "_________________________________________________________________\n",
            " Layer (type)                Output Shape              Param #   \n",
            "=================================================================\n",
            " decoder_input (InputLayer)  [(None, 2)]               0         \n",
            "                                                                 \n",
            " dense_25 (Dense)            (None, 8192)              24576     \n",
            "                                                                 \n",
            " reshape_6 (Reshape)         (None, 256, 32)           0         \n",
            "                                                                 \n",
            " conv1d_transpose_30 (Conv1D  (None, 512, 32)          5152      \n",
            " Transpose)                                                      \n",
            "                                                                 \n",
            " conv1d_transpose_31 (Conv1D  (None, 1024, 32)         5152      \n",
            " Transpose)                                                      \n",
            "                                                                 \n",
            " decoder_output (Conv1DTrans  (None, 1024, 1)          161       \n",
            " pose)                                                           \n",
            "                                                                 \n",
            "=================================================================\n",
            "Total params: 35,041\n",
            "Trainable params: 35,041\n",
            "Non-trainable params: 0\n",
            "_________________________________________________________________\n"
          ]
        },
        {
          "output_type": "execute_result",
          "data": {
            "image/png": "[encoded data removed]",
            "text/plain": [
              "<IPython.core.display.Image object>"
            ]
          },
          "metadata": {},
          "execution_count": 462
        }
      ]
    },
    {
      "cell_type": "code",
      "source": [
        "autoencoder = Model(inputs, decoder(encoder(inputs)), name='autoencoder')\n",
        "autoencoder.summary()\n",
        "plot_model(autoencoder, to_file='autoencoder.png', show_shapes=True)"
      ],
      "metadata": {
        "colab": {
          "base_uri": "https://localhost:8080/",
          "height": 580
        },
        "id": "ECXBFJVTtZrf",
        "outputId": "2f1caf92-d985-4cd4-b238-88ad2df1da79"
      },
      "execution_count": null,
      "outputs": [
        {
          "output_type": "stream",
          "name": "stdout",
          "text": [
            "Model: \"autoencoder\"\n",
            "_________________________________________________________________\n",
            " Layer (type)                Output Shape              Param #   \n",
            "=================================================================\n",
            " encoder_input (InputLayer)  [(None, 1024, 1)]         0         \n",
            "                                                                 \n",
            " encoder (Functional)        (None, 2)                 21730     \n",
            "                                                                 \n",
            " decoder (Functional)        (None, 1024, 1)           35041     \n",
            "                                                                 \n",
            "=================================================================\n",
            "Total params: 56,771\n",
            "Trainable params: 56,771\n",
            "Non-trainable params: 0\n",
            "_________________________________________________________________\n"
          ]
        },
        {
          "output_type": "execute_result",
          "data": {
            "image/png": "[encoded data removed]",
            "text/plain": [
              "<IPython.core.display.Image object>"
            ]
          },
          "metadata": {},
          "execution_count": 463
        }
      ]
    },
    {
      "cell_type": "code",
      "source": [
        "autoencoder.compile(loss=MeanAbsoluteError(), optimizer=Adam(lr=0.001))"
      ],
      "metadata": {
        "id": "bHtcuWppLU67"
      },
      "execution_count": null,
      "outputs": []
    },
    {
      "cell_type": "code",
      "source": [
        "autoencoder.fit(train_seq,\n",
        "                train_seq,\n",
        "                validation_data=(test_seq, test_seq),\n",
        "                epochs=10,\n",
        "              callbacks=[EarlyStopping(\n",
        "              patience=5,\n",
        "              min_delta=0.05,\n",
        "              baseline=1.6,\n",
        "              mode='min',\n",
        "              monitor='val_loss',\n",
        "              restore_best_weights=True,\n",
        "              verbose=1)]\n",
        ")"
      ],
      "metadata": {
        "colab": {
          "base_uri": "https://localhost:8080/"
        },
        "id": "8qgG_kVeLacy",
        "outputId": "5f292c80-a00b-43bd-9f5b-af54d0568bc3"
      },
      "execution_count": null,
      "outputs": [
        {
          "output_type": "stream",
          "name": "stdout",
          "text": [
            "Epoch 1/10\n",
            "778/778 [==============================] - 21s 27ms/step - loss: 2.7728 - val_loss: 1.5887\n",
            "Epoch 2/10\n",
            "778/778 [==============================] - 21s 27ms/step - loss: 2.7723 - val_loss: 1.5892\n",
            "Epoch 3/10\n",
            "778/778 [==============================] - 22s 28ms/step - loss: 2.7724 - val_loss: 1.5871\n",
            "Epoch 4/10\n",
            "778/778 [==============================] - 21s 26ms/step - loss: 2.7721 - val_loss: 1.5817\n",
            "Epoch 5/10\n",
            "778/778 [==============================] - ETA: 0s - loss: 2.7722Restoring model weights from the end of the best epoch: 1.\n",
            "778/778 [==============================] - 22s 28ms/step - loss: 2.7722 - val_loss: 1.5828\n",
            "Epoch 5: early stopping\n"
          ]
        },
        {
          "output_type": "execute_result",
          "data": {
            "text/plain": [
              "<keras.callbacks.History at 0x7f302d825450>"
            ]
          },
          "metadata": {},
          "execution_count": 468
        }
      ]
    },
    {
      "cell_type": "code",
      "source": [
        "predictions = autoencoder.predict(test_seq)"
      ],
      "metadata": {
        "id": "rZDgOfc4xCbG"
      },
      "execution_count": null,
      "outputs": []
    },
    {
      "cell_type": "markdown",
      "source": [
        "# Новый раздел"
      ],
      "metadata": {
        "id": "1piGBUBVxJXo"
      }
    },
    {
      "cell_type": "code",
      "source": [
        "def euclidean_distance(vects):\n",
        "    x, y = vects\n",
        "    sum_square = K.sum(K.square(x - y), axis=1, keepdims=True)\n",
        "    return K.sqrt(K.maximum(sum_square, K.epsilon()))\n",
        "def eucl_dist_output_shape(shapes):\n",
        "    shape1, shape2 = shapes\n",
        "    return (shape1[0], 1)"
      ],
      "metadata": {
        "id": "q_P_8e1PorEe"
      },
      "execution_count": null,
      "outputs": []
    },
    {
      "cell_type": "code",
      "source": [
        "input_a = Input(shape=((1024, 1)), name=\"left_input\")\n",
        "vect_output_a = encoder(input_a)\n",
        "input_b = Input(shape=(1024,1 ), name=\"right_input\")\n",
        "vect_output_b = encoder(input_b)"
      ],
      "metadata": {
        "id": "lxNL4OFoM1_T"
      },
      "execution_count": null,
      "outputs": []
    },
    {
      "cell_type": "code",
      "source": [
        "output = Lambda(euclidean_distance, name=\"output_layer\", output_shape=eucl_dist_output_shape)([vect_output_a, vect_output_b])\n",
        "model = Model([input_a, input_b], output)\n",
        "model.summary()\n",
        "plot_model(model, show_shapes=True, show_layer_names=True, to_file='outer-model.png')\n"
      ],
      "metadata": {
        "colab": {
          "base_uri": "https://localhost:8080/",
          "height": 603
        },
        "id": "Ac17hgsDoOhc",
        "outputId": "98f8df4a-5dca-428d-e231-fd94296092c1"
      },
      "execution_count": null,
      "outputs": [
        {
          "output_type": "stream",
          "name": "stdout",
          "text": [
            "Model: \"model_7\"\n",
            "__________________________________________________________________________________________________\n",
            " Layer (type)                   Output Shape         Param #     Connected to                     \n",
            "==================================================================================================\n",
            " left_input (InputLayer)        [(None, 1024, 1)]    0           []                               \n",
            "                                                                                                  \n",
            " right_input (InputLayer)       [(None, 1024, 1)]    0           []                               \n",
            "                                                                                                  \n",
            " encoder (Functional)           (None, 64)           7782        ['left_input[0][0]',             \n",
            "                                                                  'right_input[0][0]']            \n",
            "                                                                                                  \n",
            " output_layer (Lambda)          (None, 1)            0           ['encoder[2][0]',                \n",
            "                                                                  'encoder[3][0]']                \n",
            "                                                                                                  \n",
            "==================================================================================================\n",
            "Total params: 7,782\n",
            "Trainable params: 7,782\n",
            "Non-trainable params: 0\n",
            "__________________________________________________________________________________________________\n"
          ]
        },
        {
          "output_type": "execute_result",
          "data": {
            "image/png": "[encoded data removed]",
            "text/plain": [
              "<IPython.core.display.Image object>"
            ]
          },
          "metadata": {},
          "execution_count": 415
        }
      ]
    },
    {
      "cell_type": "code",
      "source": [
        "rms = RMSprop()\n",
        "model.compile(loss=contrastive_loss_with_margin(margin=1), optimizer=rms)\n",
        "history = model.fit([train_pairs[:,0], train_pairs[:,1]], train_labels, epochs=100, batch_size=128, validation_data=([val_pairs[:,0], val_pairs[:,1]], val_labels), callbacks=[EarlyStopping(\n",
        "              patience=5,\n",
        "              min_delta=0.05,\n",
        "              baseline=0.32,\n",
        "              mode='min',\n",
        "              monitor='val_loss',\n",
        "              restore_best_weights=True,\n",
        "              verbose=1),\n",
        "              ])"
      ],
      "metadata": {
        "colab": {
          "base_uri": "https://localhost:8080/"
        },
        "id": "j5H7y1kYowHn",
        "outputId": "b184baed-53cb-4e5d-8aea-a9dc2c4a7d8b"
      },
      "execution_count": null,
      "outputs": [
        {
          "output_type": "stream",
          "name": "stdout",
          "text": [
            "Epoch 1/100\n",
            "3/3 [==============================] - 0s 78ms/step - loss: 0.1880 - val_loss: 0.2497\n",
            "Epoch 2/100\n",
            "3/3 [==============================] - 0s 55ms/step - loss: 0.1803 - val_loss: 0.2467\n",
            "Epoch 3/100\n",
            "3/3 [==============================] - 0s 55ms/step - loss: 0.1793 - val_loss: 0.2453\n",
            "Epoch 4/100\n",
            "3/3 [==============================] - 0s 57ms/step - loss: 0.1740 - val_loss: 0.2469\n",
            "Epoch 5/100\n",
            "3/3 [==============================] - 0s 60ms/step - loss: 0.1731 - val_loss: 0.2526\n",
            "Epoch 6/100\n",
            "3/3 [==============================] - ETA: 0s - loss: 0.1757Restoring model weights from the end of the best epoch: 1.\n",
            "3/3 [==============================] - 0s 63ms/step - loss: 0.1757 - val_loss: 0.2458\n",
            "Epoch 6: early stopping\n"
          ]
        }
      ]
    },
    {
      "cell_type": "code",
      "source": [
        "model.save('/contents/encoder')"
      ],
      "metadata": {
        "id": "YRW9cbxTpdPS"
      },
      "execution_count": null,
      "outputs": []
    },
    {
      "cell_type": "code",
      "source": [],
      "metadata": {
        "id": "_hejCscjs9OG"
      },
      "execution_count": null,
      "outputs": []
    }
  ]
}